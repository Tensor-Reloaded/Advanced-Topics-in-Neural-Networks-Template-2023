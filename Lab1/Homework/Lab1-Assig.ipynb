{
 "cells": [
  {
   "cell_type": "code",
   "execution_count": 1,
   "id": "ba383803-7aa9-4485-8922-746d16eff70e",
   "metadata": {
    "tags": []
   },
   "outputs": [],
   "source": [
    "import numpy as np\n",
    "from typing import Tuple\n",
    "from numpy import ndarray\n",
    "\n",
    "from sklearn.metrics import accuracy_score"
   ]
  },
  {
   "cell_type": "code",
   "execution_count": 2,
   "id": "f0fa060a-5067-41e5-8396-411983f9a573",
   "metadata": {
    "tags": []
   },
   "outputs": [],
   "source": [
    "def softmax(x):\n",
    "    return np.exp(x)/sum(np.exp(x))"
   ]
  },
  {
   "cell_type": "code",
   "execution_count": 3,
   "id": "25c52d26-0704-4bf4-b08a-9ee45eac9216",
   "metadata": {
    "tags": []
   },
   "outputs": [],
   "source": [
    "x=np.array([1,3,0])\n",
    "w=np.array([[0.3,0.1,-2],\n",
    "           [-0.6,-0.5,2],\n",
    "           [-1,-0.5,0.1]])\n",
    "b=np.array([0.1,0.1,0.1])\n",
    "y=np.array([0,1,0])\n",
    "lr=0.1"
   ]
  },
  {
   "cell_type": "code",
   "execution_count": 4,
   "id": "4c4674e4-7c2a-4678-95f3-e85d4d136ee4",
   "metadata": {
    "tags": []
   },
   "outputs": [],
   "source": [
    "z=w.T@x+b\n",
    "y_pred=softmax(z)\n",
    "grad=y_pred-y\n",
    "grad_w=grad@x.T\n",
    "grad_b=grad"
   ]
  },
  {
   "cell_type": "code",
   "execution_count": 5,
   "id": "42734d58-6ed3-4239-9bed-21378c75342d",
   "metadata": {
    "tags": []
   },
   "outputs": [
    {
     "name": "stdout",
     "output_type": "stream",
     "text": [
      "[[ 0.59825139  0.39825139 -1.70174861]\n",
      " [-0.30174861 -0.20174861  2.29825139]\n",
      " [-0.70174861 -0.20174861  0.39825139]]\n",
      "[0.09959481 0.19955219 0.000853  ]\n"
     ]
    }
   ],
   "source": [
    "w=w-lr*grad_w\n",
    "b=b-lr*grad_b\n",
    "print(w)\n",
    "print(b)"
   ]
  },
  {
   "cell_type": "code",
   "execution_count": null,
   "id": "e2e14efa-16bc-4b0f-a1f6-754d28ca1e3c",
   "metadata": {},
   "outputs": [],
   "source": []
  }
 ],
 "metadata": {
  "kernelspec": {
   "display_name": "Python 3 (ipykernel)",
   "language": "python",
   "name": "python3"
  },
  "language_info": {
   "codemirror_mode": {
    "name": "ipython",
    "version": 3
   },
   "file_extension": ".py",
   "mimetype": "text/x-python",
   "name": "python",
   "nbconvert_exporter": "python",
   "pygments_lexer": "ipython3",
   "version": "3.10.9"
  }
 },
 "nbformat": 4,
 "nbformat_minor": 5
}
