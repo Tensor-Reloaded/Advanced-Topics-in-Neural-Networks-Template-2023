{
 "cells": [
  {
   "cell_type": "code",
   "execution_count": 1,
   "id": "971f5070-7155-4b47-9c77-9839f2c6dc7a",
   "metadata": {
    "tags": []
   },
   "outputs": [],
   "source": [
    "import csv\n",
    "import numpy as np\n",
    "from typing import Tuple\n",
    "from numpy import ndarray\n",
    "import random\n",
    "from tqdm import tqdm"
   ]
  },
  {
   "cell_type": "code",
   "execution_count": 2,
   "id": "605f0cd7-2005-49af-9a44-7128cca35b4f",
   "metadata": {
    "tags": []
   },
   "outputs": [],
   "source": [
    "csv_file=open('WineQT.csv', 'r')\n",
    "csv_reader = csv.reader(csv_file)\n",
    "data=[]\n",
    "for row in csv_reader:\n",
    "    row.pop(len(row)-1)\n",
    "    data.append(row)\n",
    "att=data[0]\n",
    "val_size=(len(data)-1)//10\n",
    "test_size=val_size"
   ]
  },
  {
   "cell_type": "code",
   "execution_count": 3,
   "id": "8d27315a-5fa5-45f4-b530-f1fadeb4dcc8",
   "metadata": {
    "tags": []
   },
   "outputs": [],
   "source": [
    "val_set=[]\n",
    "test_set=[]\n",
    "while len(val_set)<val_size:\n",
    "    inst=random.randint(1,len(data)-1)\n",
    "    if inst not in val_set:\n",
    "        val_set.append(inst)\n",
    "        \n",
    "while len(test_set)<val_size:\n",
    "    inst=random.randint(1,len(data)-1)\n",
    "    if inst not in val_set and inst not in test_set:\n",
    "        test_set.append(inst)\n"
   ]
  },
  {
   "cell_type": "code",
   "execution_count": 4,
   "id": "2c42ca06-dc94-4523-816d-ae7958175d63",
   "metadata": {
    "tags": []
   },
   "outputs": [
    {
     "name": "stdout",
     "output_type": "stream",
     "text": [
      "915\n",
      "114\n",
      "114\n"
     ]
    }
   ],
   "source": [
    "train_data=[]\n",
    "val_data=[]\n",
    "test_data=[]\n",
    "\n",
    "for i in range(1,len(data)):\n",
    "    if i in val_set:\n",
    "        val_data.append(data[i])\n",
    "    elif i in test_set:\n",
    "        test_data.append(data[i])\n",
    "    else:\n",
    "        train_data.append(data[i])\n",
    "\n",
    "print(len(train_data))\n",
    "print(len(val_data))\n",
    "print(len(test_data))"
   ]
  },
  {
   "cell_type": "code",
   "execution_count": 5,
   "id": "66835e8d-70bd-4117-9ade-8849fb2cc38e",
   "metadata": {
    "tags": []
   },
   "outputs": [],
   "source": [
    "def create_dataset(data):\n",
    "    dataset={}\n",
    "    dataset['input']=[]\n",
    "    dataset['label']=[]\n",
    "    for x in data:\n",
    "        y=np.zeros(11)\n",
    "        y[int(x[-1])]=1\n",
    "        dataset['label'].append(y)\n",
    "        inp=[]\n",
    "        \n",
    "        for val in x[:-1]:\n",
    "           \n",
    "            inp.append(float(val))\n",
    "        dataset['input'].append(np.array(inp))\n",
    "    return dataset"
   ]
  },
  {
   "cell_type": "code",
   "execution_count": 6,
   "id": "a4d97b65-1eb3-4554-a9e0-d225ca1a0087",
   "metadata": {
    "tags": []
   },
   "outputs": [
    {
     "name": "stdout",
     "output_type": "stream",
     "text": [
      "[ 7.8     0.88    0.      2.6     0.098  25.     67.      0.9968  3.2\n",
      "  0.68    9.8   ]\n",
      "[0. 0. 0. 0. 0. 1. 0. 0. 0. 0. 0.]\n"
     ]
    }
   ],
   "source": [
    "train_dataset=create_dataset(train_data)\n",
    "print(train_dataset['input'][0])\n",
    "print(train_dataset['label'][0])\n",
    "val_dataset=create_dataset(val_data)\n",
    "test_dataset=create_dataset(test_data)"
   ]
  },
  {
   "cell_type": "code",
   "execution_count": 7,
   "id": "d9ed57c9-eb2e-4794-aea2-e8558e7698a4",
   "metadata": {
    "tags": []
   },
   "outputs": [],
   "source": [
    "def softmax(x):\n",
    "    e_x = np.exp(x - np.max(x))\n",
    "    return e_x / e_x.sum(axis=0)"
   ]
  },
  {
   "cell_type": "code",
   "execution_count": 8,
   "id": "240d1c01-7387-480e-aa28-e8f3f10270e6",
   "metadata": {
    "tags": []
   },
   "outputs": [],
   "source": [
    "epochs=10000\n",
    "lr=0.1\n",
    "w=np.random.rand(11,11)\n",
    "b=np.random.rand(11)\n",
    "val_res=[]\n",
    "max_val=0\n",
    "noupdate=0"
   ]
  },
  {
   "cell_type": "code",
   "execution_count": 9,
   "id": "52681e6b-b42c-4fac-927f-d7177d38e54e",
   "metadata": {
    "tags": []
   },
   "outputs": [
    {
     "name": "stderr",
     "output_type": "stream",
     "text": [
      "100%|█████████████████████████████████████████████████████████████████████████████████████████████████| 10000/10000 [02:25<00:00, 68.94it/s]\n"
     ]
    }
   ],
   "source": [
    "varia=tqdm(range(epochs))\n",
    "for epoch in varia:\n",
    "    for index in range(len(train_dataset['input'])):\n",
    "        x=train_dataset['input'][index]\n",
    "        y=train_dataset['label'][index]\n",
    "        #print(x)\n",
    "        z=w.T@x+b\n",
    "        #print(w)\n",
    "        y_pred=softmax(z)\n",
    "        grad=y_pred-y\n",
    "        grad_w=grad@x.T\n",
    "        grad_b=grad\n",
    "        w=w-lr*grad_w\n",
    "        b=b-lr*grad_b\n",
    "    good=0\n",
    "    for index in range(len(val_dataset['input'])):\n",
    "        x=val_dataset['input'][index]\n",
    "        y=val_dataset['label'][index]\n",
    "        z=w.T@x+b\n",
    "        y_pred=softmax(z)\n",
    "        y_pred=np.argmax(y_pred)\n",
    "        y=np.argmax(y)\n",
    "        if y_pred==y:\n",
    "            good+=1\n",
    "    #print(good)\n",
    "    val_res.append(good/len(val_dataset['input']))\n",
    "    if max_val< good/len(val_dataset['input']):\n",
    "        max_val=good/len(val_dataset['input'])\n",
    "        noupdate=0\n",
    "    else:\n",
    "        noupdate+=1\n",
    "    if noupdate==100:\n",
    "        lr=lr*0.8\n",
    "        noupdate=0\n",
    "    \n",
    "    \n",
    "        \n",
    "        \n",
    "    "
   ]
  },
  {
   "cell_type": "code",
   "execution_count": 10,
   "id": "7b2b9158-5c12-47ee-ab65-539c0318a3aa",
   "metadata": {
    "tags": []
   },
   "outputs": [
    {
     "name": "stdout",
     "output_type": "stream",
     "text": [
      "0.4824561403508772\n"
     ]
    }
   ],
   "source": [
    "print(max_val)"
   ]
  },
  {
   "cell_type": "code",
   "execution_count": 11,
   "id": "6af43ac5-b8a2-43a3-a3b7-3bcb14991b2d",
   "metadata": {
    "tags": []
   },
   "outputs": [
    {
     "name": "stdout",
     "output_type": "stream",
     "text": [
      "0.45614035087719296\n"
     ]
    }
   ],
   "source": [
    "good=0\n",
    "for index in range(len(test_dataset['input'])):\n",
    "    x=test_dataset['input'][index]\n",
    "    y=test_dataset['label'][index]\n",
    "    z=w.T@x+b\n",
    "    y_pred=softmax(z)\n",
    "    y_pred=np.argmax(y_pred)\n",
    "    y=np.argmax(y)\n",
    "    if y_pred==y:\n",
    "        good+=1\n",
    "print(good/len(val_dataset['input']))"
   ]
  },
  {
   "cell_type": "code",
   "execution_count": null,
   "id": "63b7d787-a130-4197-962f-cf802defceaf",
   "metadata": {},
   "outputs": [],
   "source": []
  }
 ],
 "metadata": {
  "kernelspec": {
   "display_name": "Python 3 (ipykernel)",
   "language": "python",
   "name": "python3"
  },
  "language_info": {
   "codemirror_mode": {
    "name": "ipython",
    "version": 3
   },
   "file_extension": ".py",
   "mimetype": "text/x-python",
   "name": "python",
   "nbconvert_exporter": "python",
   "pygments_lexer": "ipython3",
   "version": "3.10.9"
  }
 },
 "nbformat": 4,
 "nbformat_minor": 5
}
