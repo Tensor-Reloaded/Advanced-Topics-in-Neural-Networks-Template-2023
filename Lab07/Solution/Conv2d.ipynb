{
 "cells": [
  {
   "cell_type": "code",
   "execution_count": 1,
   "metadata": {},
   "outputs": [],
   "source": [
    "import torch\n",
    "import numpy as np"
   ]
  },
  {
   "cell_type": "code",
   "execution_count": 13,
   "metadata": {},
   "outputs": [],
   "source": [
    "class Handmade_conv2d_implementation:\n",
    "    def __init__(self, weights):\n",
    "        self.weights = weights\n",
    "\n",
    "    def __call__(self, x):\n",
    "        batch_size, in_channels, in_height, in_width = x.shape\n",
    "        out_channels, in_channels, kernel_height, kernel_width = self.weights.shape\n",
    "\n",
    "        out_height = in_height - kernel_height + 1\n",
    "        out_width = in_width - kernel_width + 1\n",
    "        output = torch.zeros((batch_size, out_channels, out_height, out_width))\n",
    "\n",
    "        # convolution\n",
    "        for b in range(batch_size):\n",
    "            for c_out in range(out_channels):\n",
    "                for h in range(out_height):\n",
    "                    for w in range(out_width):\n",
    "                        region = x[b, :, h:h+kernel_height, w:w+kernel_width]\n",
    "                        output[b, c_out, h, w] = (region * self.weights[c_out]).sum()\n",
    "\n",
    "        return output"
   ]
  },
  {
   "cell_type": "code",
   "execution_count": 14,
   "metadata": {},
   "outputs": [
    {
     "name": "stdout",
     "output_type": "stream",
     "text": [
      "tensor(3.8147e-06)\n"
     ]
    }
   ],
   "source": [
    "inp = torch.randn(1, 3, 10, 12) # Input image\n",
    "\n",
    "# kernel of size 4x5 , with 3 input channels and 2 output channels\n",
    "w = torch.randn(2, 3, 4, 5) # Conv weights\n",
    "\n",
    "# Your implementation. Can be made differently , like only passing the kernel size for example\n",
    "custom_conv2d_layer = Handmade_conv2d_implementation(weights=w)\n",
    "out = custom_conv2d_layer(inp)\n",
    "\n",
    "print((torch.nn.functional.conv2d(inp , w) - out).abs().max())"
   ]
  }
 ],
 "metadata": {
  "kernelspec": {
   "display_name": "ATNN",
   "language": "python",
   "name": "python3"
  },
  "language_info": {
   "codemirror_mode": {
    "name": "ipython",
    "version": 3
   },
   "file_extension": ".py",
   "mimetype": "text/x-python",
   "name": "python",
   "nbconvert_exporter": "python",
   "pygments_lexer": "ipython3",
   "version": "3.10.12"
  }
 },
 "nbformat": 4,
 "nbformat_minor": 2
}
