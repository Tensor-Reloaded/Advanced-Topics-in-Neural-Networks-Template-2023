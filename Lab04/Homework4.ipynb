{
 "cells": [
  {
   "cell_type": "code",
   "execution_count": 46,
   "metadata": {},
   "outputs": [],
   "source": [
    "import os\n",
    "import random\n",
    "import torch\n",
    "from PIL import Image\n",
    "from torch.utils.data import Dataset, DataLoader\n",
    "import torchvision.transforms as transform"
   ]
  },
  {
   "cell_type": "code",
   "execution_count": 50,
   "metadata": {},
   "outputs": [],
   "source": [
    "class CustomImageDataset(Dataset):\n",
    "    def __init__(self, path, transform=None, target_transform=None, data=None):\n",
    "        if target_transform is None:\n",
    "            target_transform = lambda x : x\n",
    "\n",
    "        if data is not None:\n",
    "            self.path=path\n",
    "            self.transform=transform\n",
    "            self.target_transform=target_transform\n",
    "            self.final_dataset=data\n",
    "            self.final_dataset_size=len(data)\n",
    "            return\n",
    "\n",
    "        self.path = path\n",
    "        self.transform = transform\n",
    "        self.target_transform = target_transform\n",
    "\n",
    "        time_skips = list(range(1,13))\n",
    "\n",
    "        self.final_dataset = []\n",
    "        self.final_dataset_size = 0\n",
    "\n",
    "        for skip in time_skips:\n",
    "            result, dataset_size = self.read_dataset(time_skip = skip)\n",
    "            self.final_dataset.extend(\n",
    "                [(target_transform(start),\n",
    "                target_transform(end),\n",
    "                time_skip)\n",
    "                for start, end, time_skip in result])\n",
    "            self.final_dataset_size += dataset_size\n",
    "        \n",
    "        self.final_dataset\n",
    "\n",
    "    def __len__(self):\n",
    "        return self.final_dataset_size\n",
    "\n",
    "    def __getitem__(self, idx):\n",
    "        if isinstance(idx, slice):\n",
    "            return CustomImageDataset(\n",
    "                path=self.path, \n",
    "                transform=self.transform, \n",
    "                target_transform=self.target_transform, \n",
    "                data=self.final_dataset[idx.start:idx.stop:idx.step])\n",
    "        \n",
    "        elif isinstance(idx, int):\n",
    "            return self.final_dataset[idx]\n",
    "        else:\n",
    "            raise TypeError(\"Invalid argument type.\")\n",
    "    \n",
    "    def read_dataset(self, time_skip = 1):\n",
    "        tuples = []\n",
    "        for root, dirs, files in os.walk(self.path):\n",
    "            for folder in dirs:\n",
    "                img_folder = os.path.join(root, folder, 'images')\n",
    "                if(os.path.exists(img_folder)):\n",
    "                    img_files = os.listdir(img_folder)\n",
    "                    img_files.sort()\n",
    "                    if len(img_files) >= time_skip + 1:\n",
    "                        for i in range(0, len(img_files) - time_skip, time_skip):\n",
    "                            start_img_name = img_files[i]\n",
    "                            end_img_name = img_files[i + time_skip]\n",
    "                            start_img_path = os.path.join(img_folder, start_img_name)\n",
    "                            end_img_path = os.path.join(img_folder, end_img_name)\n",
    "\n",
    "                            start_img_parts = start_img_name.split(\"_\")\n",
    "                            end_img_parts = end_img_name.split(\"_\")\n",
    "\n",
    "                            start_year = start_img_parts[2]\n",
    "                            start_month = start_img_parts[3]\n",
    "                            end_year = end_img_parts[2]\n",
    "                            end_month = end_img_parts[3]    \n",
    "\n",
    "                            #rotation\n",
    "                            if self.transform is not None:\n",
    "                                start_img = Image.open(start_img_path)\n",
    "                                end_img = Image.open(end_img_path)\n",
    "                                start_img = self.transform(start_img)\n",
    "                                end_img = self.transform(end_img)\n",
    "\n",
    "                            tuple_time_skip = (int(end_year) - int(start_year)) * 12 + int(end_month) - int(start_month)\n",
    "                            tuples.append((start_img, end_img, tuple_time_skip))\n",
    "        dataset_size = len(tuples)\n",
    "        return tuples, dataset_size"
   ]
  },
  {
   "cell_type": "code",
   "execution_count": null,
   "metadata": {},
   "outputs": [],
   "source": [
    "class Layer:\n",
    "    def __init__(self, weights, biases):\n",
    "        self.weights = weights\n",
    "        self.biases = biases"
   ]
  },
  {
   "cell_type": "code",
   "execution_count": 49,
   "metadata": {},
   "outputs": [],
   "source": [
    "def rotation_transform(image):\n",
    "    angle = random.randint(-90, 90)\n",
    "    return image.rotate(angle)"
   ]
  },
  {
   "cell_type": "code",
   "execution_count": 51,
   "metadata": {},
   "outputs": [],
   "source": [
    "dataset = CustomImageDataset(path=\"Homework Dataset\", transform=rotation_transform, target_transform=transform.ToTensor())"
   ]
  },
  {
   "cell_type": "code",
   "execution_count": 44,
   "metadata": {},
   "outputs": [],
   "source": [
    "dataloader : DataLoader = DataLoader(dataset, batch_size=32, shuffle=True)"
   ]
  },
  {
   "cell_type": "code",
   "execution_count": 45,
   "metadata": {},
   "outputs": [
    {
     "name": "stdout",
     "output_type": "stream",
     "text": [
      "tensor([ 5,  5,  1,  6,  5,  8,  4,  3,  3,  3,  3,  1,  1,  2,  2,  3,  2,  3,\n",
      "         1,  3,  1,  1,  4,  9,  4,  2,  2,  2,  9,  1, 10, 12])\n"
     ]
    }
   ],
   "source": [
    "for starts, ends, time_skips in dataloader:\n",
    "    print(time_skips)\n",
    "    break"
   ]
  },
  {
   "cell_type": "code",
   "execution_count": 55,
   "metadata": {},
   "outputs": [
    {
     "name": "stdout",
     "output_type": "stream",
     "text": [
      "2776\n",
      "595\n",
      "595\n"
     ]
    }
   ],
   "source": [
    "train_ratio = 0.7\n",
    "validate_ratio = 0.15\n",
    "test_ratio = 0.15\n",
    "\n",
    "train_split_index = int(len(dataset) * train_ratio)\n",
    "val_split_index = int(len(dataset) * (train_ratio + validate_ratio))\n",
    "\n",
    "train_dataset = dataset[:train_split_index]\n",
    "val_dataset = dataset[train_split_index:val_split_index]\n",
    "test_dataset = dataset[val_split_index:]\n",
    "\n",
    "train_dataloader : DataLoader = DataLoader(train_dataset, batch_size=32, shuffle=True)\n",
    "val_dataloader : DataLoader = DataLoader(val_dataset, batch_size=32, shuffle=True)\n",
    "test_dataloader : DataLoader = DataLoader(test_dataset, batch_size=32, shuffle=True)\n",
    "\n",
    "print(len(train_dataset))\n",
    "print(len(val_dataset))\n",
    "print(len(test_dataset))"
   ]
  },
  {
   "cell_type": "code",
   "execution_count": 56,
   "metadata": {},
   "outputs": [],
   "source": [
    "def run(epochs):\n",
    "    for epoch in range(epochs):\n",
    "        for starts, ends, time_skips in train_dataloader:\n",
    "            print(time_skips)\n",
    "            break"
   ]
  },
  {
   "cell_type": "code",
   "execution_count": null,
   "metadata": {},
   "outputs": [],
   "source": [
    "net = [\n",
    "    Layer(torch.randn(16384, 200), torch.randn(200)),\n",
    "]"
   ]
  }
 ],
 "metadata": {
  "kernelspec": {
   "display_name": "Python 3",
   "language": "python",
   "name": "python3"
  },
  "language_info": {
   "codemirror_mode": {
    "name": "ipython",
    "version": 3
   },
   "file_extension": ".py",
   "mimetype": "text/x-python",
   "name": "python",
   "nbconvert_exporter": "python",
   "pygments_lexer": "ipython3",
   "version": "3.11.4"
  }
 },
 "nbformat": 4,
 "nbformat_minor": 2
}
