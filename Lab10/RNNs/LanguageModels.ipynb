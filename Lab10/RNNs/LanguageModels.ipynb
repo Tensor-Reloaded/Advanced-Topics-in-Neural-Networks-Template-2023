{
 "cells": [
  {
   "cell_type": "code",
   "execution_count": null,
   "outputs": [],
   "source": [
    "import os\n",
    "\n",
    "import torch \n",
    "import torch.nn as nn\n",
    "from torch import Tensor"
   ],
   "metadata": {
    "collapsed": false
   },
   "id": "da08767dfbeb7e0e"
  },
  {
   "cell_type": "code",
   "execution_count": null,
   "outputs": [],
   "source": [
    "from typing import Tuple\n",
    "\n",
    "\n",
    "class RNN(nn.Module):\n",
    "    def __init__(self, input_size: int, hidden_size: int, output_size: int):\n",
    "        super(RNN, self).__init__()\n",
    "\n",
    "        self.hidden_size = hidden_size\n",
    "\n",
    "        self.i2h = nn.Linear(input_size + hidden_size, hidden_size)\n",
    "        self.h2o = nn.Linear(hidden_size, output_size)\n",
    "        self.softmax = nn.LogSoftmax(dim=1)\n",
    "\n",
    "    def forward(self, input: Tensor, hidden: Tensor) -> Tuple[Tensor, Tensor]:\n",
    "        combined = torch.cat((input, hidden), 1)\n",
    "        hidden = self.i2h(combined)\n",
    "        output = self.h2o(hidden)\n",
    "        output = self.softmax(output)\n",
    "        return output, hidden\n",
    "\n",
    "    def initHidden(self) -> Tensor:\n",
    "        return torch.zeros(1, self.hidden_size)\n"
   ],
   "metadata": {
    "collapsed": false
   },
   "id": "62b8ffb1ac9aba6f"
  },
  {
   "cell_type": "code",
   "execution_count": null,
   "outputs": [],
   "source": [
    "class Dictionary(object):\n",
    "    def __init__(self):\n",
    "        self.word2idx = {}\n",
    "        self.idx2word = []\n",
    "\n",
    "    def add_word(self, word):\n",
    "        if word not in self.word2idx:\n",
    "            self.word2idx[word] = len(self.idx2word)\n",
    "            self.idx2word.append(word)\n",
    "\n",
    "    def __len__(self):\n",
    "        return len(self.word2idx)\n",
    "\n",
    "\n",
    "class Corpus(object):\n",
    "    def __init__(self, data_path):\n",
    "        self.dictionary = Dictionary()\n",
    "        self.train = self.get_data(os.path.join(data_path, \"train.txt\"))\n",
    "        self.test = self.get_data(os.path.join(data_path, \"test.txt\"))\n",
    "        self.val = self.get_data(os.path.join(data_path, \"valid.txt\"))\n",
    "\n",
    "    def get_data(self, path):\n",
    "        # Add words to the dictionary\n",
    "        all_words = []\n",
    "        with open(path, 'r') as f:\n",
    "            tokens = 0\n",
    "            for line in f:\n",
    "                words = line.split() + ['<eos>']\n",
    "                all_words.append(words)\n",
    "                tokens += len(words)\n",
    "                for word in words:\n",
    "                    self.dictionary.add_word(word)\n",
    "\n",
    "        # Tokenize the file content\n",
    "        ids = torch.LongTensor(tokens)\n",
    "        token = 0\n",
    "        for words in all_words:\n",
    "            for word in words:\n",
    "                ids[token] = self.dictionary.word2idx[word]\n",
    "                token += 1\n",
    "        return ids\n",
    "\n",
    "\n",
    "def batchify(data: torch.Tensor, batch_size: int) -> torch.Tensor:\n",
    "    num_batches = data.size(0) // batch_size\n",
    "    data = data.clone().narrow(0, 0, num_batches * batch_size)\n",
    "    data = data.view(batch_size, -1).transpose(0, 1).contiguous()\n",
    "    return data"
   ],
   "metadata": {
    "collapsed": false
   },
   "id": "16940f66a54fe589"
  },
  {
   "cell_type": "code",
   "execution_count": null,
   "outputs": [],
   "source": [
    "class RNNLM(nn.Module):\n",
    "    def __init__(self, vocab_size, embed_size, hidden_size, num_layers, dropout, dropout_lstm, bidirectional):\n",
    "        super(RNNLM, self).__init__()\n",
    "        self.dropout = nn.Dropout(dropout, inplace=False)\n",
    "        self.encoder = nn.Embedding(vocab_size, embed_size)\n",
    "        self.lstm = nn.LSTM(\n",
    "            embed_size, hidden_size, num_layers, dropout=dropout_lstm, bidirectional=bidirectional)\n",
    "\n",
    "        self.num_layers = num_layers\n",
    "        self.hidden_size = hidden_size\n",
    "        self.bidirectional = 2 if bidirectional else 1\n",
    "        self.vocab_size = vocab_size\n",
    "\n",
    "        self.fc = nn.Linear(hidden_size * self.bidirectional, vocab_size)\n",
    "\n",
    "    def init_weights(self, initrange=0.05):\n",
    "        self.encoder.weight.data.uniform_(-initrange, initrange)\n",
    "        self.fc.bias.data.fill_(0)\n",
    "        self.fc.weight.data.uniform_(-initrange, initrange)\n",
    "\n",
    "    def forward(self, x: Tensor, hidden: Tensor) -> (Tensor, Tensor):\n",
    "        batch_size = x.size(1)\n",
    "        embedding = self.dropout(self.encoder(x))\n",
    "        output, hidden = self.lstm(embedding, hidden)\n",
    "        output = self.dropout(output)\n",
    "        output = output.swapaxes(0, 1)\n",
    "        decoded = self.fc(output.reshape(-1, self.hidden_size))\n",
    "        return decoded.reshape(batch_size, -1, self.vocab_size), hidden\n",
    "\n",
    "    def init_hidden(self, batch_size, device):\n",
    "        # LSTM h and c\n",
    "        hidden = torch.zeros(self.num_layers * self.bidirectional, batch_size, self.hidden_size, device=device)\n",
    "        return hidden, hidden.clone()"
   ],
   "metadata": {
    "collapsed": false
   },
   "id": "cfaebead3bbff91d"
  }
 ],
 "metadata": {
  "kernelspec": {
   "display_name": "Python 3",
   "language": "python",
   "name": "python3"
  },
  "language_info": {
   "codemirror_mode": {
    "name": "ipython",
    "version": 2
   },
   "file_extension": ".py",
   "mimetype": "text/x-python",
   "name": "python",
   "nbconvert_exporter": "python",
   "pygments_lexer": "ipython2",
   "version": "2.7.6"
  }
 },
 "nbformat": 4,
 "nbformat_minor": 5
}
