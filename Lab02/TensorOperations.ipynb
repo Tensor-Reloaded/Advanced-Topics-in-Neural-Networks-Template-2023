{
  "cells": [
    {
      "cell_type": "markdown",
      "metadata": {
        "colab_type": "text",
        "id": "view-in-github"
      },
      "source": [
        "<a href=\"https://colab.research.google.com/github/Tensor-Reloaded/Advanced-Topics-in-Neural-Networks-Template-2023/blob/main/Lab2/TensorOperations.ipynb\" target=\"_parent\"><img src=\"https://colab.research.google.com/assets/colab-badge.svg\" alt=\"Open In Colab\"/></a>"
      ]
    },
    {
      "cell_type": "code",
      "execution_count": null,
      "metadata": {
        "id": "_SM-7cV9__S5"
      },
      "outputs": [],
      "source": [
        "import torch\n",
        "import numpy as np\n",
        "import pandas as pd\n",
        "import matplotlib.pyplot as plt\n",
        "import tensorboard"
      ]
    },
    {
      "cell_type": "markdown",
      "metadata": {
        "id": "BLDUBAZeMbeb"
      },
      "source": [
        "# Tensor"
      ]
    },
    {
      "cell_type": "markdown",
      "metadata": {
        "id": "tVj3bduLMkQD"
      },
      "source": [
        "## Tensor Creation"
      ]
    },
    {
      "cell_type": "code",
      "execution_count": null,
      "metadata": {
        "colab": {
          "base_uri": "https://localhost:8080/"
        },
        "id": "MzVqBA9AMifS",
        "outputId": "4fdacec7-a2df-4428-8131-6e7ff8251db8"
      },
      "outputs": [],
      "source": [
        "# From Python lists:\n",
        "torch.tensor([1, 2, 3])"
      ]
    },
    {
      "cell_type": "code",
      "execution_count": null,
      "metadata": {
        "colab": {
          "base_uri": "https://localhost:8080/"
        },
        "id": "zOyNVUxQMLVk",
        "outputId": "a3c7a0a9-50fd-495b-8df5-41336f9de6be"
      },
      "outputs": [],
      "source": [
        "# Random tensor with a given size\n",
        "torch.rand((4, 8))"
      ]
    },
    {
      "cell_type": "code",
      "execution_count": null,
      "metadata": {
        "colab": {
          "base_uri": "https://localhost:8080/"
        },
        "id": "IWizITNUNGVs",
        "outputId": "e61ae86f-947f-40cc-ff08-b7e0ee2474f1"
      },
      "outputs": [],
      "source": [
        "# Zero tensor\n",
        "torch.zeros((3, 3, 3))"
      ]
    },
    {
      "cell_type": "code",
      "execution_count": null,
      "metadata": {
        "colab": {
          "base_uri": "https://localhost:8080/"
        },
        "id": "BSIUao6aNTaM",
        "outputId": "eca5c68b-f189-4b7f-ea18-71b04f3dbc5e"
      },
      "outputs": [],
      "source": [
        "torch.arange(5, 15, 2)"
      ]
    },
    {
      "cell_type": "code",
      "execution_count": null,
      "metadata": {
        "colab": {
          "base_uri": "https://localhost:8080/"
        },
        "id": "esd-4w_ENgO-",
        "outputId": "0732bd6c-b4fc-4dee-ced6-8103d5aa1f97"
      },
      "outputs": [],
      "source": [
        "torch.full((2, 10), 5)"
      ]
    },
    {
      "cell_type": "code",
      "execution_count": null,
      "metadata": {
        "colab": {
          "base_uri": "https://localhost:8080/"
        },
        "id": "F_8Ke2LYNmPU",
        "outputId": "db1e8ae9-99b6-445f-9278-3861c6deae21"
      },
      "outputs": [],
      "source": [
        "torch.eye(4)"
      ]
    },
    {
      "cell_type": "markdown",
      "metadata": {
        "id": "TJJT6uaCRfeW"
      },
      "source": [
        "## Operations with Tensors"
      ]
    },
    {
      "cell_type": "code",
      "execution_count": null,
      "metadata": {
        "colab": {
          "base_uri": "https://localhost:8080/"
        },
        "id": "b-eYho2hRh5c",
        "outputId": "06b30fdf-0ea4-423f-f241-ad139cfd615c"
      },
      "outputs": [],
      "source": [
        "t1 = torch.rand((100, 20, 30))\n",
        "t2 = torch.rand((100, 20, 30))\n",
        "print(t1.shape, t2.shape)"
      ]
    },
    {
      "cell_type": "code",
      "execution_count": null,
      "metadata": {
        "colab": {
          "base_uri": "https://localhost:8080/"
        },
        "id": "RzNXZ58URuKL",
        "outputId": "4d8416ed-f80d-4550-ebfd-89de64a36805"
      },
      "outputs": [],
      "source": [
        "print((t1 * t2).shape)\n",
        "torch.equal(t1 * t2, torch.mul(t1, t2))"
      ]
    },
    {
      "cell_type": "code",
      "execution_count": null,
      "metadata": {
        "colab": {
          "base_uri": "https://localhost:8080/"
        },
        "id": "Vo531IDaR0wN",
        "outputId": "112ef26c-534d-4f9f-a403-9b6f73bce7e1"
      },
      "outputs": [],
      "source": [
        "t2t = t2.transpose(1, 2)\n",
        "print(t2t.shape)\n",
        "print((t1 @ t2t).shape)"
      ]
    },
    {
      "cell_type": "code",
      "execution_count": null,
      "metadata": {
        "colab": {
          "base_uri": "https://localhost:8080/"
        },
        "id": "bVAAgFSp9SkQ",
        "outputId": "82cbf2fa-daeb-4f7f-9b22-bc6fef50f9a0"
      },
      "outputs": [],
      "source": [
        "torch.equal(t1 @ t2t, torch.bmm(t1, t2t))"
      ]
    },
    {
      "cell_type": "code",
      "execution_count": null,
      "metadata": {
        "colab": {
          "base_uri": "https://localhost:8080/"
        },
        "id": "97nXwiJ29PVB",
        "outputId": "ee1eb1e5-1371-474e-90f7-bc441c1f9803"
      },
      "outputs": [],
      "source": [
        "torch.equal(t1 @ t2t, torch.matmul(t1, t2t))"
      ]
    },
    {
      "cell_type": "markdown",
      "metadata": {
        "id": "4DSDA1tkODmb"
      },
      "source": [
        "## Casting tensors to device"
      ]
    },
    {
      "cell_type": "code",
      "execution_count": null,
      "metadata": {
        "id": "X3zsAshPOJqT"
      },
      "outputs": [],
      "source": [
        "# Tensors are by default on CPU\n",
        "# Please ensure that you have access to a GPU first (in Google Colab, change Runtime type to T4 GPU).\n",
        "x = torch.arange(5, 15, 2)\n",
        "x_cuda = x.to('cuda')"
      ]
    },
    {
      "cell_type": "code",
      "execution_count": null,
      "metadata": {
        "colab": {
          "base_uri": "https://localhost:8080/"
        },
        "id": "S6D-Tg7DOa8b",
        "outputId": "44a384b6-acfa-45aa-ccaf-7c3981f2b267"
      },
      "outputs": [],
      "source": [
        "x_cuda"
      ]
    },
    {
      "cell_type": "code",
      "execution_count": null,
      "metadata": {
        "colab": {
          "base_uri": "https://localhost:8080/",
          "height": 175
        },
        "id": "N5-uIsRGOzzH",
        "outputId": "52ad1c54-5a98-48d7-dc25-359c75ed90e6"
      },
      "outputs": [],
      "source": [
        "# Tensors should be on the same device\n",
        "x_cuda + x"
      ]
    },
    {
      "cell_type": "code",
      "execution_count": null,
      "metadata": {
        "colab": {
          "base_uri": "https://localhost:8080/"
        },
        "id": "FtjPSIVqO5Ja",
        "outputId": "d764ad79-87fb-4bb9-8db3-c59f36912b9a"
      },
      "outputs": [],
      "source": [
        "torch.manual_seed(10)\n",
        "a = torch.rand((10000, 200, 300))\n",
        "b = torch.rand((10000, 200, 300))\n",
        "print(\"a\", a.shape)\n",
        "print(\"b\", b.shape)\n",
        "print(\"b transposed\", b.transpose(1, 2).shape)"
      ]
    },
    {
      "cell_type": "code",
      "execution_count": null,
      "metadata": {
        "colab": {
          "base_uri": "https://localhost:8080/"
        },
        "id": "SSwwuUVMPKQy",
        "outputId": "d18872f1-61f2-489c-90d5-ae4df9a267ea"
      },
      "outputs": [],
      "source": [
        "%%timeit\n",
        "c = (a * b) @ b.transpose(1, 2)\n",
        "c.mean(axis=1)"
      ]
    },
    {
      "cell_type": "code",
      "execution_count": null,
      "metadata": {
        "id": "jz5fOa31PjBl"
      },
      "outputs": [],
      "source": [
        "a_cuda = a.to('cuda')\n",
        "b_cuda = b.to('cuda')"
      ]
    },
    {
      "cell_type": "code",
      "execution_count": null,
      "metadata": {
        "colab": {
          "base_uri": "https://localhost:8080/"
        },
        "id": "cIhyqVGrQ2ud",
        "outputId": "19023c84-cd02-4739-f828-9dd8857f7d14"
      },
      "outputs": [],
      "source": [
        "%%timeit\n",
        "# Now it is much faster\n",
        "c_cuda = (a_cuda * b_cuda) @ b_cuda.transpose(1, 2)\n",
        "c_cuda.mean(axis=1)"
      ]
    },
    {
      "cell_type": "markdown",
      "metadata": {
        "id": "-pc4vRLKROPc"
      },
      "source": [
        "## Tensor reshaping"
      ]
    },
    {
      "cell_type": "code",
      "execution_count": null,
      "metadata": {
        "colab": {
          "base_uri": "https://localhost:8080/"
        },
        "id": "BPyZ4A8rBCNp",
        "outputId": "b0721e50-5a1e-438c-8bee-cfa30c3b2368"
      },
      "outputs": [],
      "source": [
        "a = torch.rand((100, 20, 25))\n",
        "print(\"a\", a.shape, sep=\"\\t\\t\\t\")\n",
        "print(\"a.flatten()\", a.flatten().shape, sep=\"\\t\\t\")\n",
        "print(\"a.reshape(-1)\", a.reshape(-1).shape, sep=\"\\t\\t\")\n",
        "print(\"a.reshape(100, -1)\", a.reshape(100, -1).shape, sep=\"\\t\")\n",
        "print(\"a.reshape(100, 25, 20)\", a.reshape(100, 25, 20).shape, sep=\"\\t\")\n",
        "print(\"a.view(-1, 5, 5)\", a.view(-1, 5, 5).shape, sep=\"\\t\")\n",
        "print(\"a.unsqueeze(0)\", a.unsqueeze(0).shape, sep=\"\\t\\t\")\n",
        "print(\"a.unsqueeze(-1)\", a.unsqueeze(-1).shape, sep=\"\\t\\t\")\n",
        "\n",
        "b = torch.tensor([[[1, 2]]])\n",
        "print(\"b\", b.shape, sep=\"\\t\\t\\t\")\n",
        "print(\"b.squeeze()\", b.squeeze().shape, sep=\"\\t\\t\")"
      ]
    },
    {
      "cell_type": "markdown",
      "metadata": {
        "id": "RVVcdpMHCkXr"
      },
      "source": [
        "## Tensor concatenation and stacking"
      ]
    },
    {
      "cell_type": "code",
      "execution_count": null,
      "metadata": {
        "id": "uidLyYmRCjNA"
      },
      "outputs": [],
      "source": [
        "x = torch.ones((2, 4))\n",
        "y = torch.zeros((2, 4))"
      ]
    },
    {
      "cell_type": "code",
      "execution_count": null,
      "metadata": {
        "colab": {
          "base_uri": "https://localhost:8080/"
        },
        "id": "kb3S6FP9CwBA",
        "outputId": "3c72112c-da83-49ed-fc1a-65529e4e7d4d"
      },
      "outputs": [],
      "source": [
        "torch.cat((x, y))"
      ]
    },
    {
      "cell_type": "code",
      "execution_count": null,
      "metadata": {
        "colab": {
          "base_uri": "https://localhost:8080/"
        },
        "id": "EiZdXLUsC0Vq",
        "outputId": "81a83e94-de9d-4e56-806c-2a2b3309aaa8"
      },
      "outputs": [],
      "source": [
        "aux = torch.stack((x, y))\n",
        "aux"
      ]
    },
    {
      "cell_type": "code",
      "execution_count": null,
      "metadata": {
        "colab": {
          "base_uri": "https://localhost:8080/"
        },
        "id": "mkGHUmphC_OI",
        "outputId": "c0616b85-d993-446a-b742-01e5a9fdffde"
      },
      "outputs": [],
      "source": [
        "aux.shape"
      ]
    },
    {
      "cell_type": "markdown",
      "metadata": {
        "id": "iwljfoF9Dc0L"
      },
      "source": [
        "## More Tensor operations"
      ]
    },
    {
      "cell_type": "code",
      "execution_count": null,
      "metadata": {
        "colab": {
          "base_uri": "https://localhost:8080/"
        },
        "id": "R0wIrgCgDD0h",
        "outputId": "3878789d-79ff-47be-bcc2-3f1bf89be09e"
      },
      "outputs": [],
      "source": [
        "a = torch.rand((5, 20))\n",
        "a.mean()"
      ]
    },
    {
      "cell_type": "code",
      "execution_count": null,
      "metadata": {
        "colab": {
          "base_uri": "https://localhost:8080/"
        },
        "id": "51O0Rm5yD9P6",
        "outputId": "0f83264f-0262-4f10-d0b2-4d21f8a5b9b6"
      },
      "outputs": [],
      "source": [
        "a.mean(axis=1)"
      ]
    },
    {
      "cell_type": "code",
      "execution_count": null,
      "metadata": {
        "colab": {
          "base_uri": "https://localhost:8080/"
        },
        "id": "8ukcJkJPD43h",
        "outputId": "9f10afe8-dfb0-4884-9891-3e31300d471e"
      },
      "outputs": [],
      "source": [
        "a.mean(axis=0)"
      ]
    },
    {
      "cell_type": "code",
      "execution_count": null,
      "metadata": {
        "colab": {
          "base_uri": "https://localhost:8080/"
        },
        "id": "8_-_MKeqD_Y7",
        "outputId": "676f57d5-741e-4766-94be-b6713351228c"
      },
      "outputs": [],
      "source": [
        "a.mean(axis=0).clip(min=0.45, max=0.55)"
      ]
    },
    {
      "cell_type": "code",
      "execution_count": null,
      "metadata": {
        "colab": {
          "base_uri": "https://localhost:8080/"
        },
        "id": "r0mqqVR3ELwi",
        "outputId": "6a7205cc-7403-490b-bb4b-dda78efd4453"
      },
      "outputs": [],
      "source": [
        "a.norm()"
      ]
    },
    {
      "cell_type": "code",
      "execution_count": null,
      "metadata": {
        "colab": {
          "base_uri": "https://localhost:8080/"
        },
        "id": "ecESvnFcEPeZ",
        "outputId": "f2198a1a-8516-4287-bf22-233f981e3722"
      },
      "outputs": [],
      "source": [
        "a[0]"
      ]
    },
    {
      "cell_type": "code",
      "execution_count": null,
      "metadata": {
        "colab": {
          "base_uri": "https://localhost:8080/"
        },
        "id": "2tdgl5k8EUxi",
        "outputId": "0dc16c26-91a6-44bd-9479-f54099cdef46"
      },
      "outputs": [],
      "source": [
        "a[0, 2]"
      ]
    },
    {
      "cell_type": "code",
      "execution_count": null,
      "metadata": {
        "colab": {
          "base_uri": "https://localhost:8080/"
        },
        "id": "TfU22J4PEV_7",
        "outputId": "8e2d7b62-baec-46fe-d17b-78bf597eaa3b"
      },
      "outputs": [],
      "source": [
        "a[[0, 2]]"
      ]
    },
    {
      "cell_type": "code",
      "execution_count": null,
      "metadata": {
        "colab": {
          "base_uri": "https://localhost:8080/"
        },
        "id": "oKEqGJAtEYmL",
        "outputId": "f1af98d6-903c-4b39-e433-ff7a268ad9b5"
      },
      "outputs": [],
      "source": [
        "a[[True, False, True, False, False]]"
      ]
    },
    {
      "cell_type": "code",
      "execution_count": null,
      "metadata": {
        "colab": {
          "base_uri": "https://localhost:8080/"
        },
        "id": "aeoBZvzREcmS",
        "outputId": "e4d53b81-9349-441c-d8a2-76647892ac7b"
      },
      "outputs": [],
      "source": [
        "mask = a > 0.5\n",
        "mask"
      ]
    },
    {
      "cell_type": "code",
      "execution_count": null,
      "metadata": {
        "colab": {
          "base_uri": "https://localhost:8080/"
        },
        "id": "7QGDgH7LEe2Z",
        "outputId": "1798cc10-fe55-473d-cfc5-b6341be3b914"
      },
      "outputs": [],
      "source": [
        "mask[0]"
      ]
    },
    {
      "cell_type": "code",
      "execution_count": null,
      "metadata": {
        "colab": {
          "base_uri": "https://localhost:8080/"
        },
        "id": "23gQQLSqEwBD",
        "outputId": "a5f032f7-c285-43ee-a49f-dbf6eaa93daf"
      },
      "outputs": [],
      "source": [
        "indices = mask[0].nonzero()\n",
        "indices"
      ]
    },
    {
      "cell_type": "code",
      "execution_count": null,
      "metadata": {
        "colab": {
          "base_uri": "https://localhost:8080/"
        },
        "id": "l-ZCLt_TE49E",
        "outputId": "616b4612-cac6-451b-d0da-249129681038"
      },
      "outputs": [],
      "source": [
        "mask[0][indices]"
      ]
    },
    {
      "cell_type": "code",
      "execution_count": null,
      "metadata": {
        "colab": {
          "base_uri": "https://localhost:8080/"
        },
        "id": "oSknRJHYFHF5",
        "outputId": "a4a9a081-f2d4-4916-a488-6cec1568f252"
      },
      "outputs": [],
      "source": [
        "mask.all(axis=0)"
      ]
    },
    {
      "cell_type": "code",
      "execution_count": null,
      "metadata": {
        "colab": {
          "base_uri": "https://localhost:8080/"
        },
        "id": "oBBb2palFMLK",
        "outputId": "80275e7d-a93c-4d07-a2e5-8c9d493ccfc1"
      },
      "outputs": [],
      "source": [
        "mask.any(axis=1)"
      ]
    },
    {
      "cell_type": "code",
      "execution_count": null,
      "metadata": {
        "colab": {
          "base_uri": "https://localhost:8080/"
        },
        "id": "ihKOFmX7FY7T",
        "outputId": "36495907-d5ae-4e45-9823-8e50e8804a1b"
      },
      "outputs": [],
      "source": [
        "b = a[mask]\n",
        "b"
      ]
    },
    {
      "cell_type": "code",
      "execution_count": null,
      "metadata": {
        "colab": {
          "base_uri": "https://localhost:8080/"
        },
        "id": "_J2l31t5FenC",
        "outputId": "8d2b0c7d-3b28-49d1-8d85-8d9819e9e6f7"
      },
      "outputs": [],
      "source": [
        "b[b < 0.7] = 0\n",
        "b"
      ]
    },
    {
      "cell_type": "markdown",
      "metadata": {
        "id": "UPZvpdtQtNpq"
      },
      "source": [
        "# Excercises\n",
        "\n",
        "1. Write a function that receives a batch of gradients (Tensor of shape [B, N, M]) and returns all gradients whose norm are within 1.5 standard deviations from mean. If no gradient has the norm within 1.5 standard deviations from the mean, return None.\n"
      ]
    },
    {
      "cell_type": "code",
      "execution_count": null,
      "metadata": {
        "id": "Xz3cuV3utSMp"
      },
      "outputs": [],
      "source": [
        "from typing import Union\n",
        "from torch import Tensor\n",
        "import torch\n",
        "\n",
        "\n",
        "def get_normal_tensors(x: Tensor) -> Union[Tensor, None]:\n",
        "    pass\n",
        "\n",
        "\n",
        "get_normal_tensors(torch.rand((100, 10, 256)))"
      ]
    },
    {
      "cell_type": "markdown",
      "metadata": {
        "id": "rYlfqf3gDLGA"
      },
      "source": [
        "References:\n",
        "* [https://pytorch.org/docs/stable/torch.html#creation-ops](https://pytorch.org/docs/stable/torch.html#creation-ops)\n",
        "* [https://pytorch.org/docs/stable/tensors.html#data-types](https://pytorch.org/docs/stable/tensors.html#data-types)\n",
        "* [https://pytorch.org/docs/stable/torch.html#math-operations](https://pytorch.org/docs/stable/torch.html#math-operations)"
      ]
    }
  ],
  "metadata": {
    "colab": {
      "gpuType": "T4",
      "include_colab_link": true,
      "provenance": []
    },
    "kernelspec": {
      "display_name": "Python 3",
      "name": "python3"
    },
    "language_info": {
      "name": "python",
      "version": "3.10.5"
    }
  },
  "nbformat": 4,
  "nbformat_minor": 0
}
