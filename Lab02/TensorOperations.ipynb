{
  "nbformat": 4,
  "nbformat_minor": 0,
  "metadata": {
    "colab": {
      "provenance": [],
      "gpuType": "T4",
      "include_colab_link": true
    },
    "kernelspec": {
      "name": "python3",
      "display_name": "Python 3"
    },
    "language_info": {
      "name": "python"
    }
  },
  "cells": [
    {
      "cell_type": "markdown",
      "metadata": {
        "id": "view-in-github",
        "colab_type": "text"
      },
      "source": [
        "<a href=\"https://colab.research.google.com/github/Tensor-Reloaded/Advanced-Topics-in-Neural-Networks-Template-2023/blob/main/Lab2/TensorOperations.ipynb\" target=\"_parent\"><img src=\"https://colab.research.google.com/assets/colab-badge.svg\" alt=\"Open In Colab\"/></a>"
      ]
    },
    {
      "cell_type": "code",
      "execution_count": null,
      "metadata": {
        "id": "_SM-7cV9__S5"
      },
      "outputs": [],
      "source": [
        "import torch\n",
        "import numpy as np\n",
        "import pandas as pd\n",
        "import matplotlib.pyplot as plt\n",
        "import tensorboard"
      ]
    },
    {
      "cell_type": "markdown",
      "source": [
        "# Tensor"
      ],
      "metadata": {
        "id": "BLDUBAZeMbeb"
      }
    },
    {
      "cell_type": "markdown",
      "source": [
        "## Tensor Creation"
      ],
      "metadata": {
        "id": "tVj3bduLMkQD"
      }
    },
    {
      "cell_type": "code",
      "source": [
        "# From Python lists:\n",
        "torch.tensor([1, 2, 3])"
      ],
      "metadata": {
        "colab": {
          "base_uri": "https://localhost:8080/"
        },
        "id": "MzVqBA9AMifS",
        "outputId": "4fdacec7-a2df-4428-8131-6e7ff8251db8"
      },
      "execution_count": null,
      "outputs": [
        {
          "output_type": "execute_result",
          "data": {
            "text/plain": [
              "tensor([1, 2, 3])"
            ]
          },
          "metadata": {},
          "execution_count": 8
        }
      ]
    },
    {
      "cell_type": "code",
      "source": [
        "# Random tensor with a given size\n",
        "torch.rand((4, 8))"
      ],
      "metadata": {
        "colab": {
          "base_uri": "https://localhost:8080/"
        },
        "id": "zOyNVUxQMLVk",
        "outputId": "a3c7a0a9-50fd-495b-8df5-41336f9de6be"
      },
      "execution_count": null,
      "outputs": [
        {
          "output_type": "execute_result",
          "data": {
            "text/plain": [
              "tensor([[0.7334, 0.5990, 0.5604, 0.0939, 0.1298, 0.3652, 0.7000, 0.2137],\n",
              "        [0.6621, 0.9500, 0.1914, 0.8693, 0.6357, 0.3245, 0.7121, 0.6523],\n",
              "        [0.2313, 0.7098, 0.7683, 0.3794, 0.7030, 0.0241, 0.7564, 0.2906],\n",
              "        [0.7373, 0.9153, 0.2873, 0.3964, 0.2253, 0.2775, 0.1097, 0.0178]])"
            ]
          },
          "metadata": {},
          "execution_count": 11
        }
      ]
    },
    {
      "cell_type": "code",
      "source": [
        "# Zero tensor\n",
        "torch.zeros((3, 3, 3))"
      ],
      "metadata": {
        "colab": {
          "base_uri": "https://localhost:8080/"
        },
        "id": "IWizITNUNGVs",
        "outputId": "e61ae86f-947f-40cc-ff08-b7e0ee2474f1"
      },
      "execution_count": null,
      "outputs": [
        {
          "output_type": "execute_result",
          "data": {
            "text/plain": [
              "tensor([[[0., 0., 0.],\n",
              "         [0., 0., 0.],\n",
              "         [0., 0., 0.]],\n",
              "\n",
              "        [[0., 0., 0.],\n",
              "         [0., 0., 0.],\n",
              "         [0., 0., 0.]],\n",
              "\n",
              "        [[0., 0., 0.],\n",
              "         [0., 0., 0.],\n",
              "         [0., 0., 0.]]])"
            ]
          },
          "metadata": {},
          "execution_count": 13
        }
      ]
    },
    {
      "cell_type": "code",
      "source": [
        "torch.arange(5, 15, 2)"
      ],
      "metadata": {
        "colab": {
          "base_uri": "https://localhost:8080/"
        },
        "id": "BSIUao6aNTaM",
        "outputId": "eca5c68b-f189-4b7f-ea18-71b04f3dbc5e"
      },
      "execution_count": null,
      "outputs": [
        {
          "output_type": "execute_result",
          "data": {
            "text/plain": [
              "tensor([ 5,  7,  9, 11, 13])"
            ]
          },
          "metadata": {},
          "execution_count": 14
        }
      ]
    },
    {
      "cell_type": "code",
      "source": [
        "torch.full((2, 10), 5)"
      ],
      "metadata": {
        "colab": {
          "base_uri": "https://localhost:8080/"
        },
        "id": "esd-4w_ENgO-",
        "outputId": "0732bd6c-b4fc-4dee-ced6-8103d5aa1f97"
      },
      "execution_count": null,
      "outputs": [
        {
          "output_type": "execute_result",
          "data": {
            "text/plain": [
              "tensor([[5, 5, 5, 5, 5, 5, 5, 5, 5, 5],\n",
              "        [5, 5, 5, 5, 5, 5, 5, 5, 5, 5]])"
            ]
          },
          "metadata": {},
          "execution_count": 15
        }
      ]
    },
    {
      "cell_type": "code",
      "source": [
        "torch.eye(4)"
      ],
      "metadata": {
        "colab": {
          "base_uri": "https://localhost:8080/"
        },
        "id": "F_8Ke2LYNmPU",
        "outputId": "db1e8ae9-99b6-445f-9278-3861c6deae21"
      },
      "execution_count": null,
      "outputs": [
        {
          "output_type": "execute_result",
          "data": {
            "text/plain": [
              "tensor([[1., 0., 0., 0.],\n",
              "        [0., 1., 0., 0.],\n",
              "        [0., 0., 1., 0.],\n",
              "        [0., 0., 0., 1.]])"
            ]
          },
          "metadata": {},
          "execution_count": 16
        }
      ]
    },
    {
      "cell_type": "markdown",
      "source": [
        "## Operations with Tensors"
      ],
      "metadata": {
        "id": "TJJT6uaCRfeW"
      }
    },
    {
      "cell_type": "code",
      "source": [
        "t1 = torch.rand((100, 20, 30))\n",
        "t2 = torch.rand((100, 20, 30))\n",
        "print(t1.shape, t2.shape)"
      ],
      "metadata": {
        "id": "b-eYho2hRh5c",
        "outputId": "06b30fdf-0ea4-423f-f241-ad139cfd615c",
        "colab": {
          "base_uri": "https://localhost:8080/"
        }
      },
      "execution_count": null,
      "outputs": [
        {
          "output_type": "stream",
          "name": "stdout",
          "text": [
            "torch.Size([100, 20, 30]) torch.Size([100, 20, 30])\n"
          ]
        }
      ]
    },
    {
      "cell_type": "code",
      "source": [
        "print((t1 * t2).shape)\n",
        "torch.equal(t1 * t2, torch.mul(t1, t2))"
      ],
      "metadata": {
        "id": "RzNXZ58URuKL",
        "outputId": "4d8416ed-f80d-4550-ebfd-89de64a36805",
        "colab": {
          "base_uri": "https://localhost:8080/"
        }
      },
      "execution_count": null,
      "outputs": [
        {
          "output_type": "stream",
          "name": "stdout",
          "text": [
            "torch.Size([100, 20, 30])\n"
          ]
        },
        {
          "output_type": "execute_result",
          "data": {
            "text/plain": [
              "True"
            ]
          },
          "metadata": {},
          "execution_count": 4
        }
      ]
    },
    {
      "cell_type": "code",
      "source": [
        "t2t = t2.transpose(1, 2)\n",
        "print(t2t.shape)\n",
        "print((t1 @ t2t).shape)"
      ],
      "metadata": {
        "id": "Vo531IDaR0wN",
        "outputId": "112ef26c-534d-4f9f-a403-9b6f73bce7e1",
        "colab": {
          "base_uri": "https://localhost:8080/"
        }
      },
      "execution_count": null,
      "outputs": [
        {
          "output_type": "stream",
          "name": "stdout",
          "text": [
            "torch.Size([100, 30, 20])\n",
            "torch.Size([100, 20, 20])\n"
          ]
        },
        {
          "output_type": "execute_result",
          "data": {
            "text/plain": [
              "(True, True)"
            ]
          },
          "metadata": {},
          "execution_count": 5
        }
      ]
    },
    {
      "cell_type": "code",
      "source": [
        "torch.equal(t1 @ t2t, torch.bmm(t1, t2t))"
      ],
      "metadata": {
        "id": "bVAAgFSp9SkQ",
        "outputId": "82cbf2fa-daeb-4f7f-9b22-bc6fef50f9a0",
        "colab": {
          "base_uri": "https://localhost:8080/"
        }
      },
      "execution_count": null,
      "outputs": [
        {
          "output_type": "execute_result",
          "data": {
            "text/plain": [
              "True"
            ]
          },
          "metadata": {},
          "execution_count": 6
        }
      ]
    },
    {
      "cell_type": "code",
      "source": [
        "torch.equal(t1 @ t2t, torch.matmul(t1, t2t))"
      ],
      "metadata": {
        "id": "97nXwiJ29PVB",
        "outputId": "ee1eb1e5-1371-474e-90f7-bc441c1f9803",
        "colab": {
          "base_uri": "https://localhost:8080/"
        }
      },
      "execution_count": null,
      "outputs": [
        {
          "output_type": "execute_result",
          "data": {
            "text/plain": [
              "True"
            ]
          },
          "metadata": {},
          "execution_count": 7
        }
      ]
    },
    {
      "cell_type": "markdown",
      "source": [
        "## Casting tensors to device"
      ],
      "metadata": {
        "id": "4DSDA1tkODmb"
      }
    },
    {
      "cell_type": "code",
      "source": [
        "# Tensors are by default on CPU\n",
        "# Please ensure that you have access to a GPU first (in Google Colab, change Runtime type to T4 GPU).\n",
        "x = torch.arange(5, 15, 2)\n",
        "x_cuda = x.to('cuda')"
      ],
      "metadata": {
        "id": "X3zsAshPOJqT"
      },
      "execution_count": null,
      "outputs": []
    },
    {
      "cell_type": "code",
      "source": [
        "x_cuda"
      ],
      "metadata": {
        "id": "S6D-Tg7DOa8b",
        "outputId": "44a384b6-acfa-45aa-ccaf-7c3981f2b267",
        "colab": {
          "base_uri": "https://localhost:8080/"
        }
      },
      "execution_count": null,
      "outputs": [
        {
          "output_type": "execute_result",
          "data": {
            "text/plain": [
              "tensor([ 5,  7,  9, 11, 13], device='cuda:0')"
            ]
          },
          "metadata": {},
          "execution_count": 4
        }
      ]
    },
    {
      "cell_type": "code",
      "source": [
        "# Tensors should be on the same device\n",
        "x_cuda + x"
      ],
      "metadata": {
        "id": "N5-uIsRGOzzH",
        "outputId": "52ad1c54-5a98-48d7-dc25-359c75ed90e6",
        "colab": {
          "base_uri": "https://localhost:8080/",
          "height": 175
        }
      },
      "execution_count": null,
      "outputs": [
        {
          "output_type": "error",
          "ename": "RuntimeError",
          "evalue": "ignored",
          "traceback": [
            "\u001b[0;31m---------------------------------------------------------------------------\u001b[0m",
            "\u001b[0;31mRuntimeError\u001b[0m                              Traceback (most recent call last)",
            "\u001b[0;32m<ipython-input-5-acdb681772d0>\u001b[0m in \u001b[0;36m<cell line: 1>\u001b[0;34m()\u001b[0m\n\u001b[0;32m----> 1\u001b[0;31m \u001b[0mx_cuda\u001b[0m \u001b[0;34m+\u001b[0m \u001b[0mx\u001b[0m\u001b[0;34m\u001b[0m\u001b[0;34m\u001b[0m\u001b[0m\n\u001b[0m",
            "\u001b[0;31mRuntimeError\u001b[0m: Expected all tensors to be on the same device, but found at least two devices, cuda:0 and cpu!"
          ]
        }
      ]
    },
    {
      "cell_type": "code",
      "source": [
        "torch.manual_seed(10)\n",
        "a = torch.rand((10000, 200, 300))\n",
        "b = torch.rand((10000, 200, 300))\n",
        "print(\"a\", a.shape)\n",
        "print(\"b\", b.shape)\n",
        "print(\"b transposed\", b.transpose(1, 2).shape)"
      ],
      "metadata": {
        "id": "FtjPSIVqO5Ja",
        "outputId": "d764ad79-87fb-4bb9-8db3-c59f36912b9a",
        "colab": {
          "base_uri": "https://localhost:8080/"
        }
      },
      "execution_count": null,
      "outputs": [
        {
          "output_type": "stream",
          "name": "stdout",
          "text": [
            "a torch.Size([10000, 200, 300])\n",
            "b torch.Size([10000, 200, 300])\n",
            "b transposed torch.Size([10000, 300, 200])\n"
          ]
        }
      ]
    },
    {
      "cell_type": "code",
      "source": [
        "%%timeit\n",
        "c = (a * b) @ b.transpose(1, 2)\n",
        "c.mean(axis=1)"
      ],
      "metadata": {
        "id": "SSwwuUVMPKQy",
        "outputId": "d18872f1-61f2-489c-90d5-ae4df9a267ea",
        "colab": {
          "base_uri": "https://localhost:8080/"
        }
      },
      "execution_count": null,
      "outputs": [
        {
          "output_type": "stream",
          "name": "stdout",
          "text": [
            "5.63 s ± 788 ms per loop (mean ± std. dev. of 7 runs, 1 loop each)\n"
          ]
        }
      ]
    },
    {
      "cell_type": "code",
      "source": [
        "a_cuda = a.to('cuda')\n",
        "b_cuda = b.to('cuda')"
      ],
      "metadata": {
        "id": "jz5fOa31PjBl"
      },
      "execution_count": null,
      "outputs": []
    },
    {
      "cell_type": "code",
      "source": [
        "%%timeit\n",
        "# Now it is much faster\n",
        "c_cuda = (a_cuda * b_cuda) @ b_cuda.transpose(1, 2)\n",
        "c_cuda.mean(axis=1)"
      ],
      "metadata": {
        "id": "cIhyqVGrQ2ud",
        "outputId": "19023c84-cd02-4739-f828-9dd8857f7d14",
        "colab": {
          "base_uri": "https://localhost:8080/"
        }
      },
      "execution_count": null,
      "outputs": [
        {
          "output_type": "stream",
          "name": "stdout",
          "text": [
            "The slowest run took 4.75 times longer than the fastest. This could mean that an intermediate result is being cached.\n",
            "76 µs ± 59.3 µs per loop (mean ± std. dev. of 7 runs, 1 loop each)\n"
          ]
        }
      ]
    },
    {
      "cell_type": "markdown",
      "source": [
        "## Tensor reshaping"
      ],
      "metadata": {
        "id": "-pc4vRLKROPc"
      }
    },
    {
      "cell_type": "code",
      "source": [
        "a = torch.rand((100, 20, 25))\n",
        "print(\"a\", a.shape, sep=\"\\t\\t\\t\")\n",
        "print(\"a.flatten()\", a.flatten().shape, sep=\"\\t\\t\")\n",
        "print(\"a.reshape(-1)\", a.reshape(-1).shape, sep=\"\\t\\t\")\n",
        "print(\"a.reshape(100, -1)\", a.reshape(100, -1).shape, sep=\"\\t\")\n",
        "print(\"a.reshape(100, 25, 20)\", a.reshape(100, 25, 20).shape, sep=\"\\t\")\n",
        "print(\"a.view(-1, 5, 5)\", a.view(-1, 5, 5).shape, sep=\"\\t\")\n",
        "print(\"a.unsqueeze(0)\", a.unsqueeze(0).shape, sep=\"\\t\\t\")\n",
        "print(\"a.unsqueeze(-1)\", a.unsqueeze(-1).shape, sep=\"\\t\\t\")\n",
        "\n",
        "b = torch.tensor([[[1, 2]]])\n",
        "print(\"b\", b.shape, sep=\"\\t\\t\\t\")\n",
        "print(\"b.squeeze()\", b.squeeze().shape, sep=\"\\t\\t\")"
      ],
      "metadata": {
        "id": "BPyZ4A8rBCNp",
        "outputId": "b0721e50-5a1e-438c-8bee-cfa30c3b2368",
        "colab": {
          "base_uri": "https://localhost:8080/"
        }
      },
      "execution_count": null,
      "outputs": [
        {
          "output_type": "stream",
          "name": "stdout",
          "text": [
            "a\t\t\ttorch.Size([100, 20, 25])\n",
            "a.flatten()\t\ttorch.Size([50000])\n",
            "a.reshape(-1)\t\ttorch.Size([50000])\n",
            "a.reshape(100, -1)\ttorch.Size([100, 500])\n",
            "a.reshape(100, 25, 20)\ttorch.Size([100, 25, 20])\n",
            "a.view(-1, 5, 5)\ttorch.Size([2000, 5, 5])\n",
            "a.unsqueeze(0)\t\ttorch.Size([1, 100, 20, 25])\n",
            "a.unsqueeze(-1)\t\ttorch.Size([100, 20, 25, 1])\n",
            "b\t\t\ttorch.Size([1, 1, 2])\n",
            "b.squeeze()\t\ttorch.Size([2])\n"
          ]
        }
      ]
    },
    {
      "cell_type": "markdown",
      "source": [
        "## Tensor concatenation and stacking"
      ],
      "metadata": {
        "id": "RVVcdpMHCkXr"
      }
    },
    {
      "cell_type": "code",
      "source": [
        "x = torch.ones((2, 4))\n",
        "y = torch.zeros((2, 4))"
      ],
      "metadata": {
        "id": "uidLyYmRCjNA"
      },
      "execution_count": null,
      "outputs": []
    },
    {
      "cell_type": "code",
      "source": [
        "torch.cat((x, y))"
      ],
      "metadata": {
        "id": "kb3S6FP9CwBA",
        "outputId": "3c72112c-da83-49ed-fc1a-65529e4e7d4d",
        "colab": {
          "base_uri": "https://localhost:8080/"
        }
      },
      "execution_count": null,
      "outputs": [
        {
          "output_type": "execute_result",
          "data": {
            "text/plain": [
              "tensor([[1., 1., 1., 1.],\n",
              "        [1., 1., 1., 1.],\n",
              "        [0., 0., 0., 0.],\n",
              "        [0., 0., 0., 0.]])"
            ]
          },
          "metadata": {},
          "execution_count": 20
        }
      ]
    },
    {
      "cell_type": "code",
      "source": [
        "aux = torch.stack((x, y))\n",
        "aux"
      ],
      "metadata": {
        "id": "EiZdXLUsC0Vq",
        "outputId": "81a83e94-de9d-4e56-806c-2a2b3309aaa8",
        "colab": {
          "base_uri": "https://localhost:8080/"
        }
      },
      "execution_count": null,
      "outputs": [
        {
          "output_type": "execute_result",
          "data": {
            "text/plain": [
              "tensor([[[1., 1., 1., 1.],\n",
              "         [1., 1., 1., 1.]],\n",
              "\n",
              "        [[0., 0., 0., 0.],\n",
              "         [0., 0., 0., 0.]]])"
            ]
          },
          "metadata": {},
          "execution_count": 24
        }
      ]
    },
    {
      "cell_type": "code",
      "source": [
        "aux.shape"
      ],
      "metadata": {
        "id": "mkGHUmphC_OI",
        "outputId": "c0616b85-d993-446a-b742-01e5a9fdffde",
        "colab": {
          "base_uri": "https://localhost:8080/"
        }
      },
      "execution_count": null,
      "outputs": [
        {
          "output_type": "execute_result",
          "data": {
            "text/plain": [
              "torch.Size([2, 2, 4])"
            ]
          },
          "metadata": {},
          "execution_count": 23
        }
      ]
    },
    {
      "cell_type": "markdown",
      "source": [
        "## More Tensor operations"
      ],
      "metadata": {
        "id": "iwljfoF9Dc0L"
      }
    },
    {
      "cell_type": "code",
      "source": [
        "a = torch.rand((5, 20))\n",
        "a.mean()"
      ],
      "metadata": {
        "id": "R0wIrgCgDD0h",
        "outputId": "3878789d-79ff-47be-bcc2-3f1bf89be09e",
        "colab": {
          "base_uri": "https://localhost:8080/"
        }
      },
      "execution_count": null,
      "outputs": [
        {
          "output_type": "execute_result",
          "data": {
            "text/plain": [
              "tensor(0.4964)"
            ]
          },
          "metadata": {},
          "execution_count": 31
        }
      ]
    },
    {
      "cell_type": "code",
      "source": [
        "a.mean(axis=1)"
      ],
      "metadata": {
        "id": "51O0Rm5yD9P6",
        "outputId": "0f83264f-0262-4f10-d0b2-4d21f8a5b9b6",
        "colab": {
          "base_uri": "https://localhost:8080/"
        }
      },
      "execution_count": null,
      "outputs": [
        {
          "output_type": "execute_result",
          "data": {
            "text/plain": [
              "tensor([0.4728, 0.4986, 0.4916, 0.5373, 0.4817])"
            ]
          },
          "metadata": {},
          "execution_count": 33
        }
      ]
    },
    {
      "cell_type": "code",
      "source": [
        "a.mean(axis=0)"
      ],
      "metadata": {
        "id": "8ukcJkJPD43h",
        "outputId": "9f10afe8-dfb0-4884-9891-3e31300d471e",
        "colab": {
          "base_uri": "https://localhost:8080/"
        }
      },
      "execution_count": null,
      "outputs": [
        {
          "output_type": "execute_result",
          "data": {
            "text/plain": [
              "tensor([0.5597, 0.3429, 0.4982, 0.3765, 0.5175, 0.5259, 0.5448, 0.5924, 0.3048,\n",
              "        0.3993, 0.5347, 0.3125, 0.5278, 0.5737, 0.6224, 0.7941, 0.4389, 0.6098,\n",
              "        0.3985, 0.4537])"
            ]
          },
          "metadata": {},
          "execution_count": 32
        }
      ]
    },
    {
      "cell_type": "code",
      "source": [
        "a.mean(axis=0).clip(min=0.45, max=0.55)"
      ],
      "metadata": {
        "id": "8_-_MKeqD_Y7",
        "outputId": "676f57d5-741e-4766-94be-b6713351228c",
        "colab": {
          "base_uri": "https://localhost:8080/"
        }
      },
      "execution_count": null,
      "outputs": [
        {
          "output_type": "execute_result",
          "data": {
            "text/plain": [
              "tensor([0.5500, 0.4500, 0.4982, 0.4500, 0.5175, 0.5259, 0.5448, 0.5500, 0.4500,\n",
              "        0.4500, 0.5347, 0.4500, 0.5278, 0.5500, 0.5500, 0.5500, 0.4500, 0.5500,\n",
              "        0.4500, 0.4537])"
            ]
          },
          "metadata": {},
          "execution_count": 34
        }
      ]
    },
    {
      "cell_type": "code",
      "source": [
        "a.norm()"
      ],
      "metadata": {
        "id": "r0mqqVR3ELwi",
        "outputId": "6a7205cc-7403-490b-bb4b-dda78efd4453",
        "colab": {
          "base_uri": "https://localhost:8080/"
        }
      },
      "execution_count": null,
      "outputs": [
        {
          "output_type": "execute_result",
          "data": {
            "text/plain": [
              "tensor(5.6000)"
            ]
          },
          "metadata": {},
          "execution_count": 35
        }
      ]
    },
    {
      "cell_type": "code",
      "source": [
        "a[0]"
      ],
      "metadata": {
        "id": "ecESvnFcEPeZ",
        "outputId": "f2198a1a-8516-4287-bf22-233f981e3722",
        "colab": {
          "base_uri": "https://localhost:8080/"
        }
      },
      "execution_count": null,
      "outputs": [
        {
          "output_type": "execute_result",
          "data": {
            "text/plain": [
              "tensor([0.8746, 0.3438, 0.3898, 0.4394, 0.7267, 0.4703, 0.8649, 0.4763, 0.3747,\n",
              "        0.8247, 0.5802, 0.1777, 0.1182, 0.4460, 0.2637, 0.7817, 0.2338, 0.5566,\n",
              "        0.4036, 0.1098])"
            ]
          },
          "metadata": {},
          "execution_count": 37
        }
      ]
    },
    {
      "cell_type": "code",
      "source": [
        "a[0, 2]"
      ],
      "metadata": {
        "id": "2tdgl5k8EUxi",
        "outputId": "0dc16c26-91a6-44bd-9479-f54099cdef46",
        "colab": {
          "base_uri": "https://localhost:8080/"
        }
      },
      "execution_count": null,
      "outputs": [
        {
          "output_type": "execute_result",
          "data": {
            "text/plain": [
              "tensor(0.3898)"
            ]
          },
          "metadata": {},
          "execution_count": 38
        }
      ]
    },
    {
      "cell_type": "code",
      "source": [
        "a[[0, 2]]"
      ],
      "metadata": {
        "id": "TfU22J4PEV_7",
        "outputId": "8e2d7b62-baec-46fe-d17b-78bf597eaa3b",
        "colab": {
          "base_uri": "https://localhost:8080/"
        }
      },
      "execution_count": null,
      "outputs": [
        {
          "output_type": "execute_result",
          "data": {
            "text/plain": [
              "tensor([[0.8746, 0.3438, 0.3898, 0.4394, 0.7267, 0.4703, 0.8649, 0.4763, 0.3747,\n",
              "         0.8247, 0.5802, 0.1777, 0.1182, 0.4460, 0.2637, 0.7817, 0.2338, 0.5566,\n",
              "         0.4036, 0.1098],\n",
              "        [0.4715, 0.8232, 0.5346, 0.2440, 0.2562, 0.7093, 0.4590, 0.5074, 0.1488,\n",
              "         0.5472, 0.5946, 0.0998, 0.3136, 0.7988, 0.7241, 0.3884, 0.4512, 0.7282,\n",
              "         0.8089, 0.2229]])"
            ]
          },
          "metadata": {},
          "execution_count": 39
        }
      ]
    },
    {
      "cell_type": "code",
      "source": [
        "a[[True, False, True, False, False]]"
      ],
      "metadata": {
        "id": "oKEqGJAtEYmL",
        "outputId": "f1af98d6-903c-4b39-e433-ff7a268ad9b5",
        "colab": {
          "base_uri": "https://localhost:8080/"
        }
      },
      "execution_count": null,
      "outputs": [
        {
          "output_type": "execute_result",
          "data": {
            "text/plain": [
              "tensor([[0.8746, 0.3438, 0.3898, 0.4394, 0.7267, 0.4703, 0.8649, 0.4763, 0.3747,\n",
              "         0.8247, 0.5802, 0.1777, 0.1182, 0.4460, 0.2637, 0.7817, 0.2338, 0.5566,\n",
              "         0.4036, 0.1098],\n",
              "        [0.4715, 0.8232, 0.5346, 0.2440, 0.2562, 0.7093, 0.4590, 0.5074, 0.1488,\n",
              "         0.5472, 0.5946, 0.0998, 0.3136, 0.7988, 0.7241, 0.3884, 0.4512, 0.7282,\n",
              "         0.8089, 0.2229]])"
            ]
          },
          "metadata": {},
          "execution_count": 40
        }
      ]
    },
    {
      "cell_type": "code",
      "source": [
        "mask = a > 0.5\n",
        "mask"
      ],
      "metadata": {
        "id": "aeoBZvzREcmS",
        "outputId": "e4d53b81-9349-441c-d8a2-76647892ac7b",
        "colab": {
          "base_uri": "https://localhost:8080/"
        }
      },
      "execution_count": null,
      "outputs": [
        {
          "output_type": "execute_result",
          "data": {
            "text/plain": [
              "tensor([[ True, False, False, False,  True, False,  True, False, False,  True,\n",
              "          True, False, False, False, False,  True, False,  True, False, False],\n",
              "        [ True, False, False,  True, False, False,  True,  True, False, False,\n",
              "          True, False,  True,  True,  True,  True, False, False, False,  True],\n",
              "        [False,  True,  True, False, False,  True, False,  True, False,  True,\n",
              "          True, False, False,  True,  True, False, False,  True,  True, False],\n",
              "        [ True, False,  True,  True,  True,  True,  True,  True, False, False,\n",
              "         False,  True,  True, False,  True,  True,  True,  True, False,  True],\n",
              "        [False, False,  True, False,  True, False, False,  True,  True, False,\n",
              "          True, False,  True,  True,  True,  True, False,  True, False, False]])"
            ]
          },
          "metadata": {},
          "execution_count": 43
        }
      ]
    },
    {
      "cell_type": "code",
      "source": [
        "mask[0]"
      ],
      "metadata": {
        "id": "7QGDgH7LEe2Z",
        "outputId": "1798cc10-fe55-473d-cfc5-b6341be3b914",
        "colab": {
          "base_uri": "https://localhost:8080/"
        }
      },
      "execution_count": null,
      "outputs": [
        {
          "output_type": "execute_result",
          "data": {
            "text/plain": [
              "tensor([ True, False, False, False,  True, False,  True, False, False,  True,\n",
              "         True, False, False, False, False,  True, False,  True, False, False])"
            ]
          },
          "metadata": {},
          "execution_count": 45
        }
      ]
    },
    {
      "cell_type": "code",
      "source": [
        "indices = mask[0].nonzero()\n",
        "indices"
      ],
      "metadata": {
        "id": "23gQQLSqEwBD",
        "outputId": "a5f032f7-c285-43ee-a49f-dbf6eaa93daf",
        "colab": {
          "base_uri": "https://localhost:8080/"
        }
      },
      "execution_count": null,
      "outputs": [
        {
          "output_type": "execute_result",
          "data": {
            "text/plain": [
              "tensor([[ 0],\n",
              "        [ 4],\n",
              "        [ 6],\n",
              "        [ 9],\n",
              "        [10],\n",
              "        [15],\n",
              "        [17]])"
            ]
          },
          "metadata": {},
          "execution_count": 48
        }
      ]
    },
    {
      "cell_type": "code",
      "source": [
        "mask[0][indices]"
      ],
      "metadata": {
        "id": "l-ZCLt_TE49E",
        "outputId": "616b4612-cac6-451b-d0da-249129681038",
        "colab": {
          "base_uri": "https://localhost:8080/"
        }
      },
      "execution_count": null,
      "outputs": [
        {
          "output_type": "execute_result",
          "data": {
            "text/plain": [
              "tensor([[True],\n",
              "        [True],\n",
              "        [True],\n",
              "        [True],\n",
              "        [True],\n",
              "        [True],\n",
              "        [True]])"
            ]
          },
          "metadata": {},
          "execution_count": 49
        }
      ]
    },
    {
      "cell_type": "code",
      "source": [
        "mask.all(axis=0)"
      ],
      "metadata": {
        "id": "oSknRJHYFHF5",
        "outputId": "a4a9a081-f2d4-4916-a488-6cec1568f252",
        "colab": {
          "base_uri": "https://localhost:8080/"
        }
      },
      "execution_count": null,
      "outputs": [
        {
          "output_type": "execute_result",
          "data": {
            "text/plain": [
              "tensor([False, False, False, False, False, False, False, False, False, False,\n",
              "        False, False, False, False, False, False, False, False, False, False])"
            ]
          },
          "metadata": {},
          "execution_count": 55
        }
      ]
    },
    {
      "cell_type": "code",
      "source": [
        "mask.any(axis=1)"
      ],
      "metadata": {
        "id": "oBBb2palFMLK",
        "outputId": "80275e7d-a93c-4d07-a2e5-8c9d493ccfc1",
        "colab": {
          "base_uri": "https://localhost:8080/"
        }
      },
      "execution_count": null,
      "outputs": [
        {
          "output_type": "execute_result",
          "data": {
            "text/plain": [
              "tensor([True, True, True, True, True])"
            ]
          },
          "metadata": {},
          "execution_count": 52
        }
      ]
    },
    {
      "cell_type": "code",
      "source": [
        "b = a[mask]\n",
        "b"
      ],
      "metadata": {
        "id": "ihKOFmX7FY7T",
        "outputId": "36495907-d5ae-4e45-9823-8e50e8804a1b",
        "colab": {
          "base_uri": "https://localhost:8080/"
        }
      },
      "execution_count": null,
      "outputs": [
        {
          "output_type": "execute_result",
          "data": {
            "text/plain": [
              "tensor([0.8746, 0.7267, 0.8649, 0.8247, 0.5802, 0.7817, 0.5566, 0.5847, 0.5999,\n",
              "        0.7767, 0.5080, 0.6828, 0.6198, 0.9024, 0.9161, 0.9114, 0.8034, 0.8232,\n",
              "        0.5346, 0.7093, 0.5074, 0.5472, 0.5946, 0.7988, 0.7241, 0.7282, 0.8089,\n",
              "        0.5752, 0.5510, 0.5811, 0.6735, 0.5853, 0.5603, 0.8697, 0.6276, 0.5944,\n",
              "        0.5223, 0.9904, 0.8626, 0.9022, 0.7115, 0.7493, 0.8991, 0.6004, 0.5862,\n",
              "        0.6724, 0.9932, 0.6119, 0.6859, 0.8985, 0.6501])"
            ]
          },
          "metadata": {},
          "execution_count": 62
        }
      ]
    },
    {
      "cell_type": "code",
      "source": [
        "b[b < 0.7] = 0\n",
        "b"
      ],
      "metadata": {
        "id": "_J2l31t5FenC",
        "outputId": "8d2b0c7d-3b28-49d1-8d85-8d9819e9e6f7",
        "colab": {
          "base_uri": "https://localhost:8080/"
        }
      },
      "execution_count": null,
      "outputs": [
        {
          "output_type": "execute_result",
          "data": {
            "text/plain": [
              "tensor([0.8746, 0.7267, 0.8649, 0.8247, 0.0000, 0.7817, 0.0000, 0.0000, 0.0000,\n",
              "        0.7767, 0.0000, 0.0000, 0.0000, 0.9024, 0.9161, 0.9114, 0.8034, 0.8232,\n",
              "        0.0000, 0.7093, 0.0000, 0.0000, 0.0000, 0.7988, 0.7241, 0.7282, 0.8089,\n",
              "        0.0000, 0.0000, 0.0000, 0.0000, 0.0000, 0.0000, 0.8697, 0.0000, 0.0000,\n",
              "        0.0000, 0.9904, 0.8626, 0.9022, 0.7115, 0.7493, 0.8991, 0.0000, 0.0000,\n",
              "        0.0000, 0.9932, 0.0000, 0.0000, 0.8985, 0.0000])"
            ]
          },
          "metadata": {},
          "execution_count": 63
        }
      ]
    },
    {
      "cell_type": "markdown",
      "source": [
        "# Excercises\n",
        "\n",
        "1. Write a function that receives a batch of gradients (Tensor of shape [B, N, M]) and returns all gradients whose norm are within 1.5 standard deviations from mean. If no gradient has the norm within 1.5 standard deviations from the mean, return None.\n"
      ],
      "metadata": {
        "id": "UPZvpdtQtNpq"
      }
    },
    {
      "cell_type": "code",
      "source": [
        "from typing import Union\n",
        "from torch import Tensor\n",
        "import torch\n",
        "\n",
        "\n",
        "def get_normal_tensors(x: Tensor) -> Union[Tensor, None]:\n",
        "    pass\n",
        "\n",
        "\n",
        "get_normal_tensors(torch.rand((100, 10, 256)))"
      ],
      "metadata": {
        "id": "Xz3cuV3utSMp"
      },
      "execution_count": 7,
      "outputs": []
    },
    {
      "cell_type": "markdown",
      "source": [
        "References:\n",
        "* [https://pytorch.org/docs/stable/torch.html#creation-ops](https://pytorch.org/docs/stable/torch.html#creation-ops)\n",
        "* [https://pytorch.org/docs/stable/tensors.html#data-types](https://pytorch.org/docs/stable/tensors.html#data-types)\n",
        "* [https://pytorch.org/docs/stable/torch.html#math-operations](https://pytorch.org/docs/stable/torch.html#math-operations)"
      ],
      "metadata": {
        "id": "rYlfqf3gDLGA"
      }
    }
  ]
}