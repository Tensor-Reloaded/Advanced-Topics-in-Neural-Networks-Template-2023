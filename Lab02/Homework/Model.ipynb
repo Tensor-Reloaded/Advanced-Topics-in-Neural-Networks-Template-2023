{
 "cells": [
  {
   "cell_type": "code",
   "execution_count": 51,
   "id": "initial_id",
   "metadata": {
    "collapsed": true,
    "ExecuteTime": {
     "end_time": "2023-10-16T17:56:24.740101Z",
     "start_time": "2023-10-16T17:56:24.734517Z"
    }
   },
   "outputs": [],
   "source": [
    "import gzip\n",
    "import pickle\n",
    "import torch\n",
    "\n",
    "from tqdm import tqdm"
   ]
  },
  {
   "cell_type": "code",
   "execution_count": 52,
   "outputs": [],
   "source": [
    "class Model:\n",
    "    LEARNING_RATE = 0.01\n",
    "\n",
    "    def __init__(self, input_dimensions, output_dimensions):\n",
    "        self.input_dimensions = input_dimensions\n",
    "        self.output_dimensions = output_dimensions\n",
    "        self.biases = None  # shape: (1, 10)\n",
    "        self.weights = None  # shape: (784, 10)\n",
    "        self.training_set = None\n",
    "        self.validation_set = None\n",
    "        self.testing_set = None\n",
    "\n",
    "    @staticmethod\n",
    "    def sigmoid(z):\n",
    "        return 1.0 / (1.0 + torch.exp(-z))\n",
    "\n",
    "    def load_input(self):\n",
    "        def _map_data(given_set):\n",
    "            data = given_set[0]\n",
    "            tags = given_set[1]\n",
    "            output = []\n",
    "\n",
    "            for index in range(len(tags)):\n",
    "                output += [(torch.from_numpy(data[index]).view(1, self.input_dimensions), tags[index])]\n",
    "\n",
    "            return output\n",
    "\n",
    "        with gzip.open(\"mnist.pkl.gz\", \"rb\") as fd:\n",
    "            training_set, validation_set, testing_set = pickle.load(fd, encoding='latin')\n",
    "\n",
    "        self.training_set = _map_data(training_set)\n",
    "        self.validation_set = _map_data(validation_set)\n",
    "        self.testing_set = _map_data(testing_set)\n",
    "\n",
    "    def load_params(self):\n",
    "        self.biases = torch.rand(1, self.output_dimensions, dtype=torch.float32)  # 1, 784\n",
    "        self.weights = torch.rand(self.input_dimensions, self.output_dimensions, dtype=torch.float32)  # 784, 10\n",
    "\n",
    "    def train_online(self, data_set, max_iterations, learning_rate):\n",
    "        iterations = max_iterations\n",
    "        all_classified = False\n",
    "\n",
    "        while not all_classified and iterations > 0:\n",
    "            iterations -= 1\n",
    "            all_classified = True\n",
    "            for input_values, correct_tag in tqdm(data_set, unit=\" entries\",\n",
    "                                                  desc=f\"Epoch {max_iterations - iterations}/{max_iterations}\"):\n",
    "                expected_result = torch.tensor([1 if i == correct_tag else 0 for i in range(self.output_dimensions)],\n",
    "                                               dtype=torch.float32)\n",
    "                output = torch.matmul(input_values, self.weights) + self.biases\n",
    "                activated_output = Model.sigmoid(output)\n",
    "\n",
    "                self.weights = self.weights + torch.matmul(input_values.view(self.input_dimensions, 1),\n",
    "                                                           (expected_result - activated_output).view(1,\n",
    "                                                                                                     self.output_dimensions)) * learning_rate\n",
    "                self.biases = self.biases + (expected_result - activated_output) * learning_rate\n",
    "\n",
    "                if not torch.equal(activated_output, expected_result):\n",
    "                    all_classified = False\n",
    "\n",
    "    def train_mini_batch(self, data_set, max_iterations, nr_batches, learning_rate):\n",
    "        iterations = max_iterations\n",
    "        all_classified = False\n",
    "        while not all_classified and iterations > 0:\n",
    "            iterations -= 1\n",
    "            all_classified = True\n",
    "            batch_size = len(data_set) // nr_batches\n",
    "\n",
    "            for batch_index in tqdm(range(nr_batches), unit=\" mini batches\",\n",
    "                                    desc=f\"Epoch {max_iterations - iterations}/{max_iterations}\"):\n",
    "                delta_weights = torch.zeros(self.input_dimensions, self.output_dimensions, dtype=torch.float32)\n",
    "                delta_biases = torch.zeros(self.output_dimensions, dtype=torch.float32)\n",
    "                batch = data_set[batch_index * batch_size: (batch_index + 1) * batch_size]\n",
    "\n",
    "                for input_values, correct_tag in batch:\n",
    "                    expected_result = torch.tensor(\n",
    "                        [1 if i == correct_tag else 0 for i in range(self.output_dimensions)], dtype=torch.float32)\n",
    "                    output = torch.matmul(input_values, self.weights) + self.biases\n",
    "                    activated_output = Model.sigmoid(output)\n",
    "\n",
    "                    delta_weights = delta_weights + torch.matmul(input_values.view(self.input_dimensions, 1),\n",
    "                                                                 (expected_result - activated_output).view(1,\n",
    "                                                                                                           self.output_dimensions)) * learning_rate\n",
    "                    delta_biases = delta_biases + (expected_result - activated_output) * learning_rate\n",
    "\n",
    "                    if not torch.equal(activated_output, expected_result):\n",
    "                        all_classified = False\n",
    "\n",
    "                self.weights += delta_weights\n",
    "                self.biases += delta_biases\n",
    "\n",
    "    def predict(self, input_values):\n",
    "        output = torch.matmul(input_values, self.weights) + self.biases\n",
    "        activated_output = Model.sigmoid(output)\n",
    "        if activated_output.sum() > 1:\n",
    "            return torch.argmax(output).item()\n",
    "        return torch.argmax(activated_output).item()\n",
    "\n",
    "    def test_model(self, data_set):\n",
    "        wrong_predictions = 0\n",
    "        correct_predictions = 0\n",
    "\n",
    "        for input_values, correct_tag in data_set:\n",
    "            predicted_value = self.predict(input_values)\n",
    "            if predicted_value == correct_tag:\n",
    "                correct_predictions += 1\n",
    "            else:\n",
    "                wrong_predictions += 1\n",
    "\n",
    "        print(f\"Correct: {correct_predictions}, \"\n",
    "              f\"Wrong: {wrong_predictions},\"\n",
    "              f\" Total: {correct_predictions + wrong_predictions}, \"\n",
    "              f\"Accuracy: {int(correct_predictions / (correct_predictions + wrong_predictions) * 10000.) / 100}%\\n\")"
   ],
   "metadata": {
    "collapsed": false,
    "ExecuteTime": {
     "end_time": "2023-10-16T17:56:25.206099Z",
     "start_time": "2023-10-16T17:56:25.192117Z"
    }
   },
   "id": "77153bf497dbf9cb"
  },
  {
   "cell_type": "code",
   "execution_count": 53,
   "outputs": [
    {
     "name": "stdout",
     "output_type": "stream",
     "text": [
      "Results BEFORE training:\n",
      "Correct: 1345, Wrong: 8655, Total: 10000, Accuracy: 13.45%\n"
     ]
    },
    {
     "name": "stderr",
     "output_type": "stream",
     "text": [
      "Epoch 1/10: 100%|██████████| 50000/50000 [00:01<00:00, 34401.24 entries/s]\n",
      "Epoch 2/10: 100%|██████████| 50000/50000 [00:01<00:00, 34520.42 entries/s]\n",
      "Epoch 3/10: 100%|██████████| 50000/50000 [00:01<00:00, 34499.63 entries/s]\n",
      "Epoch 4/10: 100%|██████████| 50000/50000 [00:01<00:00, 34386.84 entries/s]\n",
      "Epoch 5/10: 100%|██████████| 50000/50000 [00:01<00:00, 34511.82 entries/s]\n",
      "Epoch 6/10: 100%|██████████| 50000/50000 [00:01<00:00, 34551.22 entries/s]\n",
      "Epoch 7/10: 100%|██████████| 50000/50000 [00:01<00:00, 34550.86 entries/s]\n",
      "Epoch 8/10: 100%|██████████| 50000/50000 [00:01<00:00, 34490.25 entries/s]\n",
      "Epoch 9/10: 100%|██████████| 50000/50000 [00:01<00:00, 34524.79 entries/s]\n",
      "Epoch 10/10: 100%|██████████| 50000/50000 [00:01<00:00, 34351.79 entries/s]\n"
     ]
    },
    {
     "name": "stdout",
     "output_type": "stream",
     "text": [
      "Results on testing set AFTER online training:\n",
      "Correct: 8943, Wrong: 1057, Total: 10000, Accuracy: 89.43%\n",
      "\n",
      "Results on validation set AFTER online training:\n",
      "Correct: 8982, Wrong: 1018, Total: 10000, Accuracy: 89.82%\n"
     ]
    }
   ],
   "source": [
    "model = Model(784, 10)\n",
    "model.load_input()\n",
    "model.load_params()\n",
    "print('Results BEFORE training:')\n",
    "model.test_model(model.testing_set)\n",
    "\n",
    "model.train_online(model.training_set, 10, 0.05)\n",
    "\n",
    "print('Results on testing set AFTER online training:')\n",
    "model.test_model(model.testing_set)\n",
    "\n",
    "print('Results on validation set AFTER online training:')\n",
    "model.test_model(model.validation_set)"
   ],
   "metadata": {
    "collapsed": false,
    "ExecuteTime": {
     "end_time": "2023-10-16T17:56:41.328359Z",
     "start_time": "2023-10-16T17:56:25.781932Z"
    }
   },
   "id": "8fa33d595aec075"
  },
  {
   "cell_type": "code",
   "execution_count": 54,
   "outputs": [
    {
     "name": "stdout",
     "output_type": "stream",
     "text": [
      "Results BEFORE training:\n",
      "Correct: 592, Wrong: 9408, Total: 10000, Accuracy: 5.92%\n"
     ]
    },
    {
     "name": "stderr",
     "output_type": "stream",
     "text": [
      "Epoch 1/10: 100%|██████████| 256/256 [00:01<00:00, 176.79 mini batches/s]\n",
      "Epoch 2/10: 100%|██████████| 256/256 [00:01<00:00, 176.88 mini batches/s]\n",
      "Epoch 3/10: 100%|██████████| 256/256 [00:01<00:00, 176.82 mini batches/s]\n",
      "Epoch 4/10: 100%|██████████| 256/256 [00:01<00:00, 176.88 mini batches/s]\n",
      "Epoch 5/10: 100%|██████████| 256/256 [00:01<00:00, 176.83 mini batches/s]\n",
      "Epoch 6/10: 100%|██████████| 256/256 [00:01<00:00, 176.84 mini batches/s]\n",
      "Epoch 7/10: 100%|██████████| 256/256 [00:01<00:00, 176.97 mini batches/s]\n",
      "Epoch 8/10: 100%|██████████| 256/256 [00:01<00:00, 176.67 mini batches/s]\n",
      "Epoch 9/10: 100%|██████████| 256/256 [00:01<00:00, 176.78 mini batches/s]\n",
      "Epoch 10/10: 100%|██████████| 256/256 [00:01<00:00, 176.51 mini batches/s]\n"
     ]
    },
    {
     "name": "stdout",
     "output_type": "stream",
     "text": [
      "Results on testing set AFTER mini-batch training:\n",
      "Correct: 9050, Wrong: 950, Total: 10000, Accuracy: 90.5%\n",
      "\n",
      "Results on validation set AFTER mini-batch training:\n",
      "Correct: 9135, Wrong: 865, Total: 10000, Accuracy: 91.35%\n"
     ]
    }
   ],
   "source": [
    "model = Model(784, 10)\n",
    "model.load_input()\n",
    "model.load_params()\n",
    "\n",
    "print('Results BEFORE training:')\n",
    "model.test_model(model.testing_set)\n",
    "\n",
    "model.train_mini_batch(model.training_set, 10, 256, Model.LEARNING_RATE)\n",
    "\n",
    "print('Results on testing set AFTER mini-batch training:')\n",
    "model.test_model(model.testing_set)\n",
    "\n",
    "print('Results on validation set AFTER mini-batch training:')\n",
    "model.test_model(model.validation_set)"
   ],
   "metadata": {
    "collapsed": false,
    "ExecuteTime": {
     "end_time": "2023-10-16T17:57:01.395243Z",
     "start_time": "2023-10-16T17:56:45.815317Z"
    }
   },
   "id": "1b78f550e89a7679"
  },
  {
   "cell_type": "code",
   "execution_count": null,
   "outputs": [],
   "source": [],
   "metadata": {
    "collapsed": false
   },
   "id": "7d911b7dc9de0a59"
  }
 ],
 "metadata": {
  "kernelspec": {
   "display_name": "Python 3",
   "language": "python",
   "name": "python3"
  },
  "language_info": {
   "codemirror_mode": {
    "name": "ipython",
    "version": 2
   },
   "file_extension": ".py",
   "mimetype": "text/x-python",
   "name": "python",
   "nbconvert_exporter": "python",
   "pygments_lexer": "ipython2",
   "version": "2.7.6"
  }
 },
 "nbformat": 4,
 "nbformat_minor": 5
}
