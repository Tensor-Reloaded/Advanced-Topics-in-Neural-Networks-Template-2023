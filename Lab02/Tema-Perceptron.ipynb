{
  "nbformat": 4,
  "nbformat_minor": 0,
  "metadata": {
    "colab": {
      "provenance": []
    },
    "kernelspec": {
      "name": "python3",
      "display_name": "Python 3"
    },
    "language_info": {
      "name": "python"
    }
  },
  "cells": [
    {
      "cell_type": "code",
      "execution_count": 19,
      "metadata": {
        "colab": {
          "base_uri": "https://localhost:8080/"
        },
        "id": "Pik3ueXXDqwU",
        "outputId": "3c0c8fa0-bbd7-4b34-dc91-22cba3bd8f65"
      },
      "outputs": [
        {
          "output_type": "stream",
          "name": "stdout",
          "text": [
            "X:  torch.Size([1000, 784])\n",
            "W:  tensor([[0.4334, 0.9714, 0.4797,  ..., 0.5436, 0.9603, 0.7045],\n",
            "        [0.7524, 0.8429, 0.1382,  ..., 0.4014, 0.9139, 0.0792],\n",
            "        [0.0927, 0.0469, 0.9074,  ..., 0.6663, 0.6543, 0.8936],\n",
            "        ...,\n",
            "        [0.3289, 0.6569, 0.7988,  ..., 0.1852, 0.7385, 0.3693],\n",
            "        [0.5425, 0.3359, 0.4454,  ..., 0.4468, 0.1086, 0.9307],\n",
            "        [0.5153, 0.2158, 0.1907,  ..., 0.7596, 0.0402, 0.3041]]) \n",
            "\n",
            "torch.Size([784, 10]) \n",
            "\n",
            "b:  tensor([0.7306, 0.3782, 0.5567, 0.6488, 0.7778, 0.7218, 0.1302, 0.8943, 0.7964,\n",
            "        0.9970]) \n",
            "\n",
            "torch.Size([10]) \n",
            "\n",
            "updated_W:  tensor([[-2.0187, -1.5334, -2.0419,  ..., -1.9811, -1.4742, -1.7509],\n",
            "        [-1.6922, -1.5757, -2.3691,  ..., -2.0934, -1.5549, -2.3458],\n",
            "        [-2.4424, -2.4397, -1.6736,  ..., -1.8840, -1.9116, -1.5708],\n",
            "        ...,\n",
            "        [-2.2453, -1.9299, -1.8280,  ..., -2.3888, -1.8306, -2.1709],\n",
            "        [-1.9870, -2.2021, -2.1529,  ..., -2.1522, -2.5006, -1.5931],\n",
            "        [-1.9423, -2.2300, -2.3644,  ..., -1.7352, -2.4390, -2.1348]]) \n",
            "\n",
            "torch.Size([784, 10]) \n",
            "\n",
            "updated_b:  tensor([-4.2072, -4.5957, -4.5453, -4.4659, -4.2669, -4.2408, -4.8182, -4.1368,\n",
            "        -4.2259, -3.9271]) \n",
            "\n",
            "torch.Size([10])\n"
          ]
        }
      ],
      "source": [
        "import torch\n",
        "from torch import Tensor\n",
        "\n",
        "m = 1000\n",
        "\n",
        "def sigmoid(z):\n",
        "    return 1 / (1 + torch.exp(-z))\n",
        "\n",
        "\n",
        "def train_perceptron(X: Tensor, W: Tensor, b: Tensor, y_true: Tensor, mu: float):\n",
        "    # Forward propagation\n",
        "    z = torch.matmul(X, W) + b\n",
        "    y_pred = sigmoid(z)\n",
        "    # Calculate the error\n",
        "    error = y_true - y_pred\n",
        "    # Backward propagation\n",
        "    dW = torch.matmul(X.T, error)\n",
        "    db = torch.sum(error, dim=0)\n",
        "\n",
        "    # Update weights and biases using gradient descent\n",
        "    W += mu * dW\n",
        "    b += mu * db\n",
        "\n",
        "    return W, b\n",
        "\n",
        "\n",
        "# Initialize input, weights, biases, true labels, and learning rate\n",
        "X = torch.rand((m, 784))\n",
        "print(\"X: \", X.shape)\n",
        "W = torch.rand((784, 10))\n",
        "b = torch.rand((10,))\n",
        "y_true = torch.rand((m, 10))\n",
        "mu = 0.01  # Learning rate\n",
        "print(\"W: \", W, '\\n')\n",
        "print(W.shape, '\\n')\n",
        "print(\"b: \", b, '\\n')\n",
        "print(b.shape, '\\n')\n",
        "\n",
        "\n",
        "updated_W, updated_b = train_perceptron(X, W, b, y_true, mu)\n",
        "\n",
        "print(\"updated_W: \", updated_W, '\\n')\n",
        "print(updated_W.shape, '\\n')\n",
        "\n",
        "print(\"updated_b: \", updated_b, '\\n')\n",
        "print(updated_b.shape)"
      ]
    }
  ]
}
