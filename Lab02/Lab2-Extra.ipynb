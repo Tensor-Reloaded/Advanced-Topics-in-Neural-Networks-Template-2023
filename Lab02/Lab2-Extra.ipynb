{
 "cells": [
  {
   "cell_type": "code",
   "execution_count": 1,
   "id": "f20a4156-f0ca-472b-be25-54d40ba4e630",
   "metadata": {
    "tags": []
   },
   "outputs": [],
   "source": [
    "import torch\n",
    "import numpy as np\n",
    "import pandas as pd\n",
    "import matplotlib.pyplot as plt\n",
    "import tensorboard\n",
    "import random\n",
    "from tqdm import tqdm\n",
    "import torchvision\n",
    "import torchvision.datasets as datasets\n",
    "from PIL import Image \n",
    "import torchvision.transforms as transforms"
   ]
  },
  {
   "cell_type": "code",
   "execution_count": 2,
   "id": "108a6cc3-d09b-4c43-9c1f-2fc63a0169d6",
   "metadata": {
    "tags": []
   },
   "outputs": [
    {
     "name": "stdout",
     "output_type": "stream",
     "text": [
      "Dataset MNIST\n",
      "    Number of datapoints: 60000\n",
      "    Root location: ./data\n",
      "    Split: Train\n",
      "Dataset MNIST\n",
      "    Number of datapoints: 10000\n",
      "    Root location: ./data\n",
      "    Split: Test\n"
     ]
    }
   ],
   "source": [
    "mnist_trainset = datasets.MNIST(root='./data', train=True, download=True, transform=None)\n",
    "mnist_testset = datasets.MNIST(root='./data', train=False, download=True, transform=None)\n",
    "print(mnist_trainset)\n",
    "print(mnist_testset)\n",
    "transform = transforms.Compose([ \n",
    "    transforms.PILToTensor() \n",
    "]) \n",
    "new_dataset=[]\n",
    "test_data=[]\n",
    "# transform = transforms.PILToTensor() \n",
    "# Convert the PIL image to Torch tensor \n",
    "\n",
    "for x in mnist_trainset:\n",
    "    y=torch.zeros((1,10))\n",
    "    y[0][x[1]]=1\n",
    "    new_dataset.append((torch.reshape(transform(x[0])[0],(1,784))/255,y))\n",
    "\n",
    "for x in mnist_testset:\n",
    "    y=torch.zeros((1,10))\n",
    "    y[0][x[1]]=1\n",
    "    test_data.append((torch.reshape(transform(x[0])[0],(1,784))/255,y))"
   ]
  },
  {
   "cell_type": "code",
   "execution_count": 3,
   "id": "1754ab1d-3fbf-41d6-8295-3fa7bce0291f",
   "metadata": {
    "tags": []
   },
   "outputs": [
    {
     "name": "stdout",
     "output_type": "stream",
     "text": [
      "60000\n"
     ]
    }
   ],
   "source": [
    "print(len(new_dataset))\n",
    "val_size=(len(new_dataset))//10\n",
    "val_set=[]\n",
    "while len(val_set)<val_size:\n",
    "    inst=random.randint(0,len(new_dataset)-1)\n",
    "    if inst not in val_set:\n",
    "        val_set.append(inst)\n",
    "\n",
    "train_data=[]\n",
    "val_data=[]\n",
    "\n",
    "for i in range(0,len(new_dataset)):\n",
    "    if i in val_set:\n",
    "        val_data.append(new_dataset[i])\n",
    "    else:\n",
    "        train_data.append(new_dataset[i])"
   ]
  },
  {
   "cell_type": "code",
   "execution_count": 4,
   "id": "5bce3f22-2c67-439c-8919-5f620efe35f4",
   "metadata": {},
   "outputs": [],
   "source": [
    "epochs=1000\n",
    "lr=0.1\n",
    "batch_size=4\n",
    "w=torch.rand((784,10))\n",
    "b=torch.rand((10,))\n",
    "best_w=w\n",
    "best_b=b"
   ]
  },
  {
   "cell_type": "code",
   "execution_count": 5,
   "id": "e9aa9221-5560-44f9-a2b6-2b7e2a9247de",
   "metadata": {
    "tags": []
   },
   "outputs": [],
   "source": [
    "def sigmoid(x):\n",
    "    # print(x)\n",
    "    # print(torch.exp(-x))\n",
    "    # print(1+torch.exp(-x))\n",
    "    return 1/(1+torch.exp(-x))"
   ]
  },
  {
   "cell_type": "code",
   "execution_count": 6,
   "id": "6f5471e4-fc24-4dda-9e6d-e7bc9339781d",
   "metadata": {
    "tags": []
   },
   "outputs": [],
   "source": [
    "def softmax(x):\n",
    "    e_x = torch.exp(x - torch.max(x))\n",
    "    return e_x / e_x.sum()"
   ]
  },
  {
   "cell_type": "code",
   "execution_count": 7,
   "id": "3a1c64d0-0d62-4862-9e4f-16e545c48306",
   "metadata": {
    "tags": []
   },
   "outputs": [],
   "source": [
    "def train_perceptron(X:torch.Tensor,W:torch.Tensor,b:torch.Tensor,y_true:torch.Tensor,lr:float):\n",
    "    z=X@W+b\n",
    "    y_pred=softmax(z)\n",
    "    err=y_true-y_pred\n",
    "    W_new=W+lr*x.T@err\n",
    "    b_new=b+lr*err.mean(axis=0)\n",
    "    return W_new,b_new"
   ]
  },
  {
   "cell_type": "code",
   "execution_count": 8,
   "id": "c1286db6-a691-4df4-91f7-8beaf8d66cdf",
   "metadata": {
    "tags": []
   },
   "outputs": [
    {
     "name": "stdout",
     "output_type": "stream",
     "text": [
      "0.0983\n"
     ]
    }
   ],
   "source": [
    "corr=0\n",
    "for i in range(0,len(test_data)):\n",
    "    x=test_data[i][0]\n",
    "    y=test_data[i][1]\n",
    "    y_pred=torch.argmax(sigmoid(x@best_w+best_b))\n",
    "    if y_pred==torch.argmax(y):\n",
    "        corr+=1\n",
    "acc=corr/len(test_data)\n",
    "print(acc)"
   ]
  },
  {
   "cell_type": "code",
   "execution_count": 8,
   "id": "b735c2b6-1735-43cf-93f7-010342c9c160",
   "metadata": {
    "tags": []
   },
   "outputs": [
    {
     "name": "stderr",
     "output_type": "stream",
     "text": [
      "100%|███████████████████████████████████████████████████████████████████████████████████████████████████| 1000/1000 [20:30<00:00,  1.23s/it]\n"
     ]
    }
   ],
   "source": [
    "val_res=[]\n",
    "max_val=0\n",
    "scheduler=0\n",
    "varia=tqdm(range(epochs))\n",
    "for epoch in varia:\n",
    "    i=0\n",
    "    while i+batch_size-1<len(train_data):\n",
    "        x=train_data[i][0]\n",
    "        y=train_data[i][1]\n",
    "        for j in range(1,batch_size):\n",
    "            x=torch.cat((x,train_data[i+j][0]))\n",
    "            y=torch.cat((y,train_data[i+j][1]))\n",
    "        w,b=train_perceptron(x,w,b,y,lr)\n",
    "        i+=batch_size\n",
    "    corr=0\n",
    "    for i in range(0,len(val_data)):\n",
    "        x=val_data[i][0]\n",
    "        y=val_data[i][1]\n",
    "        y_pred=torch.argmax(sigmoid(x@w+b))\n",
    "        if y_pred==torch.argmax(y):\n",
    "            corr+=1\n",
    "    acc=corr/len(val_data)\n",
    "    scheduler+=1\n",
    "    if acc>max_val:\n",
    "        scheduler=0\n",
    "        max_val=acc\n",
    "        best_w=w\n",
    "        best_b=b\n",
    "    if scheduler==100:\n",
    "        scheduler=0\n",
    "        lr=lr/2\n",
    "        \n",
    "    \n",
    "    val_res.append(acc)"
   ]
  },
  {
   "cell_type": "code",
   "execution_count": 9,
   "id": "9cb34d00-3b4a-433c-98fb-665033ec85f8",
   "metadata": {
    "tags": []
   },
   "outputs": [
    {
     "name": "stdout",
     "output_type": "stream",
     "text": [
      "0.7971666666666667\n"
     ]
    }
   ],
   "source": [
    "print(max_val)"
   ]
  },
  {
   "cell_type": "code",
   "execution_count": 15,
   "id": "f278375b-1768-4907-acf4-352a0e53f859",
   "metadata": {
    "tags": []
   },
   "outputs": [],
   "source": [
    "corr=0\n",
    "for i in range(0,len(test_data)):\n",
    "    x=test_data[i][0]\n",
    "    y=test_data[i][1]\n",
    "    y_pred=torch.argmax(sigmoid(x@best_w+best_b))\n",
    "    if y_pred==torch.argmax(y):\n",
    "        corr+=1\n",
    "acc=corr/len(test_data)"
   ]
  },
  {
   "cell_type": "code",
   "execution_count": 16,
   "id": "fbe80773-c913-4190-b022-3be203f139ac",
   "metadata": {
    "tags": []
   },
   "outputs": [
    {
     "name": "stdout",
     "output_type": "stream",
     "text": [
      "0.9173\n"
     ]
    }
   ],
   "source": [
    "print(acc)"
   ]
  },
  {
   "cell_type": "code",
   "execution_count": 11,
   "id": "f16d9c5c-2290-4ea7-9f3a-ff047c4f0965",
   "metadata": {
    "tags": []
   },
   "outputs": [],
   "source": [
    "torch.save(best_w,\"w_best.pt\")\n",
    "torch.save(best_b,\"b_best.pt\")"
   ]
  },
  {
   "cell_type": "code",
   "execution_count": 14,
   "id": "f99b1e16-9a06-4797-b0f4-ee0a2677ec9a",
   "metadata": {
    "tags": []
   },
   "outputs": [],
   "source": [
    "best_w=torch.load(\"w_best.pt\")\n",
    "best_b=torch.load(\"b_best.pt\")"
   ]
  },
  {
   "cell_type": "code",
   "execution_count": null,
   "id": "e99a4181-57a2-4c57-b847-d76e93b18b1c",
   "metadata": {},
   "outputs": [],
   "source": []
  }
 ],
 "metadata": {
  "kernelspec": {
   "display_name": "Python 3 (ipykernel)",
   "language": "python",
   "name": "python3"
  },
  "language_info": {
   "codemirror_mode": {
    "name": "ipython",
    "version": 3
   },
   "file_extension": ".py",
   "mimetype": "text/x-python",
   "name": "python",
   "nbconvert_exporter": "python",
   "pygments_lexer": "ipython3",
   "version": "3.10.9"
  }
 },
 "nbformat": 4,
 "nbformat_minor": 5
}
