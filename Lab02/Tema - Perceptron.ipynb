{
  "nbformat": 4,
  "nbformat_minor": 0,
  "metadata": {
    "colab": {
      "provenance": []
    },
    "kernelspec": {
      "name": "python3",
      "display_name": "Python 3"
    },
    "language_info": {
      "name": "python"
    }
  },
  "cells": [
    {
      "cell_type": "code",
      "execution_count": 35,
      "metadata": {
        "colab": {
          "base_uri": "https://localhost:8080/"
        },
        "id": "Pik3ueXXDqwU",
        "outputId": "f5773f13-d133-4b50-c9d3-220f870cd5d0"
      },
      "outputs": [
        {
          "output_type": "stream",
          "name": "stdout",
          "text": [
            "X:  tensor([[0.3366, 0.3124, 0.3810,  ..., 0.0558, 0.9330, 0.6770],\n",
            "        [0.0875, 0.6805, 0.3735,  ..., 0.7977, 0.7724, 0.3012],\n",
            "        [0.4883, 0.2073, 0.1630,  ..., 0.6077, 0.4553, 0.9855],\n",
            "        ...,\n",
            "        [0.9454, 0.4944, 0.3806,  ..., 0.9955, 0.9127, 0.4340],\n",
            "        [0.2280, 0.6718, 0.3783,  ..., 0.0566, 0.7488, 0.2949],\n",
            "        [0.4562, 0.8017, 0.7782,  ..., 0.3436, 0.8678, 0.7288]]) \n",
            "\n",
            "torch.Size([100, 784]) \n",
            "\n",
            "W:  tensor([[0.5231, 0.0832, 0.7700,  ..., 0.5502, 0.2256, 0.9167],\n",
            "        [0.5098, 0.2364, 0.6868,  ..., 0.2076, 0.7761, 0.8734],\n",
            "        [0.5385, 0.0797, 0.1596,  ..., 0.0655, 0.0620, 0.6531],\n",
            "        ...,\n",
            "        [0.3015, 0.6900, 0.6663,  ..., 0.7197, 0.9410, 0.0754],\n",
            "        [0.9334, 0.8395, 0.2179,  ..., 0.2604, 0.6276, 0.5574],\n",
            "        [0.0152, 0.7496, 0.8418,  ..., 0.1860, 0.2444, 0.2846]]) \n",
            "\n",
            "torch.Size([784, 10]) \n",
            "\n",
            "b:  tensor([0.8683, 0.7428, 0.4973, 0.8501, 0.5833, 0.9285, 0.5001, 0.6046, 0.3676,\n",
            "        0.7242]) \n",
            "\n",
            "torch.Size([10]) \n",
            "\n",
            "updated_W:  tensor([[ 0.2786, -0.1430,  0.5217,  ...,  0.3128, -0.0318,  0.6498],\n",
            "        [ 0.2761,  0.0048,  0.4435,  ..., -0.0406,  0.5237,  0.6266],\n",
            "        [ 0.2805, -0.1736, -0.1090,  ..., -0.1848, -0.2125,  0.3690],\n",
            "        ...,\n",
            "        [ 0.0726,  0.4718,  0.4243,  ...,  0.5052,  0.7077, -0.1766],\n",
            "        [ 0.6594,  0.6049, -0.0511,  ...,  0.0079,  0.3529,  0.2867],\n",
            "        [-0.2275,  0.5356,  0.5832,  ..., -0.0417,  0.0200,  0.0204]]) \n",
            "\n",
            "torch.Size([784, 10]) \n",
            "\n",
            "updated_b:  tensor([ 0.3716,  0.2939, -0.0012,  0.3740,  0.0636,  0.4055,  0.0339,  0.1316,\n",
            "        -0.1258,  0.2070]) \n",
            "\n",
            "torch.Size([10])\n"
          ]
        }
      ],
      "source": [
        "import torch\n",
        "from torch import Tensor\n",
        "\n",
        "m = 100\n",
        "\n",
        "def sigmoid(z):\n",
        "    return 1 / (1 + torch.exp(-z))\n",
        "\n",
        "\n",
        "def train_perceptron(X: Tensor, W: Tensor, b: Tensor, y_true: Tensor, mu: float):\n",
        "    # Forward propagation\n",
        "    z = torch.matmul(X, W) + b\n",
        "    y_pred = sigmoid(z)\n",
        "    # Calculate the error\n",
        "    error = y_true - y_pred\n",
        "    # Backward propagation\n",
        "    dW = torch.matmul(X.T, error)\n",
        "    db = torch.sum(error, dim=0)\n",
        "\n",
        "    # Update weights and biases using gradient descent\n",
        "    W += mu * dW\n",
        "    b += mu * db\n",
        "\n",
        "    return W, b\n",
        "\n",
        "\n",
        "# Initialize input, weights, biases, true labels, and learning rate\n",
        "X = torch.rand((m, 784))\n",
        "W = torch.rand((784, 10))\n",
        "b = torch.rand((10,))\n",
        "y_true = torch.rand((m, 10))\n",
        "mu = 0.01\n",
        "\n",
        "print(\"X: \", X, '\\n')\n",
        "print(X.shape, '\\n')\n",
        "print(\"W: \", W, '\\n')\n",
        "print(W.shape, '\\n')\n",
        "print(\"b: \", b, '\\n')\n",
        "print(b.shape, '\\n')\n",
        "\n",
        "\n",
        "updated_W, updated_b = train_perceptron(X, W, b, y_true, mu)\n",
        "\n",
        "print(\"updated_W: \", updated_W, '\\n')\n",
        "print(updated_W.shape, '\\n')\n",
        "\n",
        "print(\"updated_b: \", updated_b, '\\n')\n",
        "print(updated_b.shape)"
      ]
    }
  ]
}