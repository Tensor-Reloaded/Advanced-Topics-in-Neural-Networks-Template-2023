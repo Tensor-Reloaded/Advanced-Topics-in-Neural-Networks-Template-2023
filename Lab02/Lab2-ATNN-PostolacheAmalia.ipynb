{
 "cells": [
  {
   "cell_type": "code",
   "execution_count": 9,
   "id": "a403805d-9d63-40aa-858c-193ff9440a1e",
   "metadata": {},
   "outputs": [
    {
     "name": "stdout",
     "output_type": "stream",
     "text": [
      "Initial weights:  tensor([[0.9505, 0.4194, 0.8037,  ..., 0.5078, 0.5842, 0.8212],\n",
      "        [0.2597, 0.8202, 0.3565,  ..., 0.5262, 0.9235, 0.1726],\n",
      "        [0.1291, 0.0144, 0.7738,  ..., 0.7694, 0.2160, 0.3020],\n",
      "        ...,\n",
      "        [0.3160, 0.5909, 0.7081,  ..., 0.3087, 0.4376, 0.4515],\n",
      "        [0.6449, 0.0730, 0.3478,  ..., 0.8749, 0.6425, 0.3084],\n",
      "        [0.5041, 0.6515, 0.8878,  ..., 0.7423, 0.7562, 0.3016]])\n",
      "Initial biases:  tensor([0.7704, 0.0555, 0.6141, 0.3866, 0.3980, 0.3219, 0.2919, 0.7965, 0.4136,\n",
      "        0.3697])\n",
      "Updated weights:  tensor([[ 0.3160, -0.3716, -0.1726,  ..., -0.4685, -0.3920, -0.1551],\n",
      "        [-0.1417,  0.2350, -0.5008,  ..., -0.3311,  0.0662, -0.6847],\n",
      "        [-0.4833, -0.7318, -0.1454,  ..., -0.1498, -0.7033, -0.6172],\n",
      "        ...,\n",
      "        [-0.4340, -0.3320, -0.5007,  ..., -0.9001, -0.7713, -0.7574],\n",
      "        [-0.0936, -0.6102, -0.5366,  ..., -0.0096, -0.2420, -0.5761],\n",
      "        [-0.3829, -0.0759, -0.1814,  ..., -0.3269, -0.3130, -0.7676]])\n",
      "Updated biases:  tensor([ 0.6304, -0.0845,  0.4141,  0.2066,  0.2180,  0.1419,  0.1119,  0.5965,\n",
      "         0.2136,  0.1697])\n",
      "torch.Size([784, 10])\n",
      "torch.Size([10])\n"
     ]
    }
   ],
   "source": [
    "import torch\n",
    "import random\n",
    "\n",
    "m = 10 #change it\n",
    "X = torch.rand((m, 784))\n",
    "W = torch.rand((784,10))\n",
    "b = torch.rand((10, ))\n",
    "y_true = torch.zeros((m, 10))\n",
    "for i in range(0, m):\n",
    "    j = random.randint(0,9)\n",
    "    y_true[i][j] = 1\n",
    "mu = 0.2\n",
    "\n",
    "def sigmoid(x):\n",
    "    return 1/(1+torch.exp(-x))\n",
    "\n",
    "def get_pred(x, w, b):\n",
    "    z = x@w + b\n",
    "    return sigmoid(z)\n",
    "    \n",
    "def train_perceptron(x, w, b, y_true, mu):\n",
    "    y_pred = get_pred(x, w, b)\n",
    "    error = y_true - y_pred\n",
    "    W_updated = w + mu*x.T@error\n",
    "    b_updated = b+ mu*error.mean(axis=0)\n",
    "    return W_updated, b_updated\n",
    "\n",
    "\n",
    "print(\"Initial weights: \", W)\n",
    "print(\"Initial biases: \", b)\n",
    "W, b = train_perceptron(X, W, b, y_true, mu)\n",
    "print(\"Updated weights: \", W)\n",
    "print(\"Updated biases: \", b)\n",
    "print(W.shape)\n",
    "print(b.shape)\n"
   ]
  },
  {
   "cell_type": "code",
   "execution_count": null,
   "id": "a4344ea0-df1b-49a2-b329-3cc3dab6bab2",
   "metadata": {},
   "outputs": [],
   "source": []
  }
 ],
 "metadata": {
  "kernelspec": {
   "display_name": "Python 3 (ipykernel)",
   "language": "python",
   "name": "python3"
  },
  "language_info": {
   "codemirror_mode": {
    "name": "ipython",
    "version": 3
   },
   "file_extension": ".py",
   "mimetype": "text/x-python",
   "name": "python",
   "nbconvert_exporter": "python",
   "pygments_lexer": "ipython3",
   "version": "3.10.12"
  }
 },
 "nbformat": 4,
 "nbformat_minor": 5
}
