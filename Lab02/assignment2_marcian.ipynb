{
  "nbformat": 4,
  "nbformat_minor": 0,
  "metadata": {
    "colab": {
      "provenance": []
    },
    "kernelspec": {
      "name": "python3",
      "display_name": "Python 3"
    },
    "language_info": {
      "name": "python"
    }
  },
  "cells": [
    {
      "cell_type": "code",
      "execution_count": 1,
      "metadata": {
        "id": "IbJzbHSyMSgV"
      },
      "outputs": [],
      "source": [
        "import torch"
      ]
    },
    {
      "cell_type": "code",
      "source": [
        "def activation_function(z: torch.torch.Tensor):\n",
        "  return 1 / (1 + torch.exp(-z))"
      ],
      "metadata": {
        "id": "ELm2OvVPMc4C"
      },
      "execution_count": 2,
      "outputs": []
    },
    {
      "cell_type": "code",
      "source": [
        "def train_perceptron(X: torch.Tensor, W: torch.Tensor, b: torch.Tensor, yTrue: torch.Tensor, mu: float):\n",
        "  z = torch.zeros((10,))\n",
        "  y = torch.zeros((10,))\n",
        "  error = torch.zeros((10,))\n",
        "\n",
        "  for j in range(0,X.shape[0]):\n",
        "    for i in range(0,9):\n",
        "\n",
        "      z[i] = W[:, i] @ X[j, :] + b[i]\n",
        "      y[i]=activation_function(z[i])\n",
        "      error[i] = yTrue[j,i] - y[i]\n",
        "\n",
        "      W[:, i] = W[:, i] + mu * error[i] * X[j, :]\n",
        "      b[i] = b[i] + mu * error[i]\n",
        "\n",
        "    print(f\"z: {z}\")\n",
        "    print(f\"y: {y}\")\n",
        "    print(f\"error: {error}\")\n",
        "    print(f\"W: {W}\")\n",
        "    print(f\"b: {b}\")\n",
        "\n",
        "  return W, b"
      ],
      "metadata": {
        "id": "-dun1TMjMfin"
      },
      "execution_count": 9,
      "outputs": []
    },
    {
      "cell_type": "code",
      "source": [
        "m = 2\n",
        "mu = 0.1\n",
        "shape = (m, 2)\n",
        "\n",
        "X = torch.rand(shape)\n",
        "W = torch.rand((2, 10))\n",
        "b = torch.rand((10,))\n",
        "yTrue =  torch.rand((m,10) )\n",
        "\n",
        "print(f\"x: {X}\")\n",
        "print(f\"W: {W}\")\n",
        "print(f\"b: {b}\")\n",
        "print(f\"yTrue: {yTrue}\")\n",
        "\n",
        "W, b = train_perceptron(X, W, b, yTrue, mu)\n"
      ],
      "metadata": {
        "colab": {
          "base_uri": "https://localhost:8080/"
        },
        "id": "t4l0bC6AMjdy",
        "outputId": "66f94a9f-c019-44b9-b775-5fedd86227d6"
      },
      "execution_count": 10,
      "outputs": [
        {
          "output_type": "stream",
          "name": "stdout",
          "text": [
            "x: tensor([[0.0232, 0.8720],\n",
            "        [0.0455, 0.5508]])\n",
            "W: tensor([[0.4348, 0.5502, 0.2317, 0.4098, 0.3585, 0.8880, 0.4791, 0.5326, 0.6628,\n",
            "         0.1897],\n",
            "        [0.1330, 0.5739, 0.5108, 0.2867, 0.6504, 0.6025, 0.5167, 0.0225, 0.4400,\n",
            "         0.8607]])\n",
            "b: tensor([0.5583, 0.9577, 0.9124, 0.9279, 0.4136, 0.5998, 0.0527, 0.1174, 0.4612,\n",
            "        0.4820])\n",
            "yTrue: tensor([[0.4141, 0.2461, 0.1421, 0.5699, 0.6143, 0.9204, 0.2567, 0.6630, 0.3579,\n",
            "         0.3858],\n",
            "        [0.3684, 0.7554, 0.5343, 0.2461, 0.3845, 0.5916, 0.0924, 0.3702, 0.5124,\n",
            "         0.5060]])\n",
            "z: tensor([0.6844, 1.4709, 1.3632, 1.1874, 0.9890, 1.1457, 0.5144, 0.1493, 0.8602,\n",
            "        0.0000])\n",
            "y: tensor([0.6647, 0.8132, 0.7963, 0.7663, 0.7289, 0.7587, 0.6258, 0.5373, 0.7027,\n",
            "        0.0000])\n",
            "error: tensor([-0.2506, -0.5671, -0.6541, -0.1964, -0.1146,  0.1617, -0.3692,  0.1257,\n",
            "        -0.3448,  0.0000])\n",
            "W: tensor([[0.4342, 0.5489, 0.2302, 0.4093, 0.3582, 0.8883, 0.4783, 0.5329, 0.6620,\n",
            "         0.1897],\n",
            "        [0.1112, 0.5245, 0.4537, 0.2696, 0.6404, 0.6166, 0.4845, 0.0334, 0.4099,\n",
            "         0.8607]])\n",
            "b: tensor([0.5333, 0.9010, 0.8470, 0.9083, 0.4021, 0.6160, 0.0158, 0.1300, 0.4267,\n",
            "        0.4820])\n",
            "z: tensor([0.6142, 1.2148, 1.1074, 1.0754, 0.7711, 0.9960, 0.3044, 0.1726, 0.6826,\n",
            "        0.0000])\n",
            "y: tensor([0.6489, 0.7712, 0.7516, 0.7456, 0.6838, 0.7303, 0.5755, 0.5431, 0.6643,\n",
            "        0.0000])\n",
            "error: tensor([-0.2805, -0.0158, -0.2173, -0.4995, -0.2993, -0.1387, -0.4831, -0.1729,\n",
            "        -0.1519,  0.0000])\n",
            "W: tensor([[0.4329, 0.5489, 0.2292, 0.4071, 0.3568, 0.8877, 0.4761, 0.5321, 0.6613,\n",
            "         0.1897],\n",
            "        [0.0957, 0.5236, 0.4418, 0.2421, 0.6239, 0.6089, 0.4579, 0.0239, 0.4016,\n",
            "         0.8607]])\n",
            "b: tensor([ 0.5052,  0.8994,  0.8253,  0.8583,  0.3722,  0.6021, -0.0325,  0.1127,\n",
            "         0.4115,  0.4820])\n"
          ]
        }
      ]
    }
  ]
}