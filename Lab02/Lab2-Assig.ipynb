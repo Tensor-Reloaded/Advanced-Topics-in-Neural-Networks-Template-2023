{
 "cells": [
  {
   "cell_type": "code",
   "execution_count": 1,
   "id": "bf25d432-fa76-4c1e-a7c4-6400d9ecfdc7",
   "metadata": {},
   "outputs": [],
   "source": [
    "import torch\n",
    "import numpy as np\n",
    "import pandas as pd\n",
    "import matplotlib.pyplot as plt\n",
    "import tensorboard\n",
    "import random"
   ]
  },
  {
   "cell_type": "code",
   "execution_count": 2,
   "id": "6fabaa0f-dfb7-4f4e-8660-1ff4292f0f07",
   "metadata": {
    "tags": []
   },
   "outputs": [
    {
     "name": "stdout",
     "output_type": "stream",
     "text": [
      "torch.Size([4, 784])\n",
      "torch.Size([784, 10])\n",
      "torch.Size([10])\n",
      "torch.Size([4, 10])\n",
      "tensor([[0.8629, 0.6214, 0.8505,  ..., 0.0836, 0.8333, 0.3944],\n",
      "        [0.9224, 0.6506, 0.8883,  ..., 0.7643, 0.4892, 0.2697],\n",
      "        [0.8861, 0.8373, 0.1614,  ..., 0.0612, 0.4005, 0.3464],\n",
      "        ...,\n",
      "        [0.2916, 0.7280, 0.6231,  ..., 0.5194, 0.9764, 0.4795],\n",
      "        [0.8067, 0.1940, 0.7967,  ..., 0.9006, 0.9351, 0.7468],\n",
      "        [0.4450, 0.7360, 0.4483,  ..., 0.6785, 0.3183, 0.2910]])\n",
      "tensor([0.9921, 0.0261, 0.5479, 0.2390, 0.5732, 0.6882, 0.1370, 0.3164, 0.6260,\n",
      "        0.5943])\n"
     ]
    }
   ],
   "source": [
    "m=4\n",
    "x=torch.rand((m, 784))\n",
    "w=torch.rand((784,10))\n",
    "b=torch.rand((10,))\n",
    "lr=0.1\n",
    "y=torch.zeros((m,10))\n",
    "for i in range(0,m):\n",
    "    y[i][random.randint(0,9)]=1\n",
    "\n",
    "print(x.shape)\n",
    "print(w.shape)\n",
    "print(b.shape)\n",
    "print(y.shape)\n",
    "print(w)\n",
    "print(b)"
   ]
  },
  {
   "cell_type": "code",
   "execution_count": 3,
   "id": "67735384-8306-4d37-a4e8-6118b165434d",
   "metadata": {
    "tags": []
   },
   "outputs": [],
   "source": [
    "def sigmoid(x):\n",
    "    # print(x)\n",
    "    # print(torch.exp(-x))\n",
    "    # print(1+torch.exp(-x))\n",
    "    return 1/(1+torch.exp(-x))"
   ]
  },
  {
   "cell_type": "code",
   "execution_count": 4,
   "id": "dcbbe8e7-6445-4c67-bd4b-32d4a7468b51",
   "metadata": {
    "tags": []
   },
   "outputs": [],
   "source": [
    "def train_perceptron(X:torch.Tensor,W:torch.Tensor,b:torch.Tensor,y_true:torch.Tensor,lr:float):\n",
    "    z=X@W+b\n",
    "    y_pred=sigmoid(z)\n",
    "    err=y_true-y_pred\n",
    "    W_new=W+lr*x.T@err\n",
    "    b_new=b+lr*err.mean(axis=0)\n",
    "    return W_new,b_new"
   ]
  },
  {
   "cell_type": "code",
   "execution_count": 5,
   "id": "05286c02-cc6e-4dfd-baae-aeaf9663714b",
   "metadata": {
    "tags": []
   },
   "outputs": [
    {
     "name": "stdout",
     "output_type": "stream",
     "text": [
      "tensor([[ 0.7324,  0.5174,  0.6787,  ..., -0.0462,  0.6821,  0.2226],\n",
      "        [ 0.7600,  0.4499,  0.6533,  ...,  0.5677,  0.3440,  0.0348],\n",
      "        [ 0.7554,  0.6804, -0.0090,  ..., -0.0161,  0.2541,  0.1760],\n",
      "        ...,\n",
      "        [ 0.0489,  0.5400,  0.3804,  ...,  0.3657,  0.8325,  0.2367],\n",
      "        [ 0.6097,  0.0371,  0.5641,  ...,  0.7527,  0.7390,  0.5142],\n",
      "        [ 0.3279,  0.5893,  0.3006,  ...,  0.6295,  0.1880,  0.1433]])\n",
      "tensor([ 0.9171, -0.0489,  0.4479,  0.1390,  0.4732,  0.5882,  0.0370,  0.2414,\n",
      "         0.5510,  0.4943])\n"
     ]
    }
   ],
   "source": [
    "w,b=train_perceptron(x,w,b,y,lr)\n",
    "print(w)\n",
    "print(b)"
   ]
  },
  {
   "cell_type": "code",
   "execution_count": null,
   "id": "2ad749b6-05b3-4f15-8574-a7308beae52e",
   "metadata": {},
   "outputs": [],
   "source": []
  }
 ],
 "metadata": {
  "kernelspec": {
   "display_name": "Python 3 (ipykernel)",
   "language": "python",
   "name": "python3"
  },
  "language_info": {
   "codemirror_mode": {
    "name": "ipython",
    "version": 3
   },
   "file_extension": ".py",
   "mimetype": "text/x-python",
   "name": "python",
   "nbconvert_exporter": "python",
   "pygments_lexer": "ipython3",
   "version": "3.10.9"
  }
 },
 "nbformat": 4,
 "nbformat_minor": 5
}
