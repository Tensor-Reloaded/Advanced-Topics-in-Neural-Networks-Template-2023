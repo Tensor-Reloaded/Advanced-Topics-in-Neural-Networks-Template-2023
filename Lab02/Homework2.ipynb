{
  "nbformat": 4,
  "nbformat_minor": 0,
  "metadata": {
    "colab": {
      "provenance": [],
      "gpuType": "T4",
      "authorship_tag": "ABX9TyMpioJ6WISRjG+mMrnj6UNm",
      "include_colab_link": true
    },
    "kernelspec": {
      "name": "python3",
      "display_name": "Python 3"
    },
    "language_info": {
      "name": "python"
    },
    "accelerator": "GPU"
  },
  "cells": [
    {
      "cell_type": "markdown",
      "metadata": {
        "id": "view-in-github",
        "colab_type": "text"
      },
      "source": [
        "<a href=\"https://colab.research.google.com/github/baranceanuvlad/Advanced-Topics-in-Neural-Networks-Template-2023/blob/main/Lab02/Homework2.ipynb\" target=\"_parent\"><img src=\"https://colab.research.google.com/assets/colab-badge.svg\" alt=\"Open In Colab\"/></a>"
      ]
    },
    {
      "cell_type": "code",
      "execution_count": 79,
      "metadata": {
        "id": "AqpNJyMa4bO3"
      },
      "outputs": [],
      "source": [
        "import torch\n",
        "import numpy as np\n",
        "import pandas as pd\n",
        "import matplotlib.pyplot as plt\n",
        "import tensorboard\n",
        "import math\n",
        "import random"
      ]
    },
    {
      "cell_type": "code",
      "source": [
        "x = torch.rand(20, 784).to('cuda')\n",
        "W = torch.rand(784,10).to('cuda')\n",
        "b = torch.rand(1, 10).to('cuda')\n",
        "learning_rate = 0.1\n",
        "y = torch.zeros((20, 10)).to('cuda')\n",
        "\n",
        "for result in y:\n",
        "  nr = random.randint(0, 9)\n",
        "  result[nr] = 1"
      ],
      "metadata": {
        "id": "5P2WzetR5IFD"
      },
      "execution_count": 80,
      "outputs": []
    },
    {
      "cell_type": "code",
      "source": [
        "def sigmoid_function(z):\n",
        "  result = []\n",
        "  for value in z:\n",
        "    result.append( 1.0 / (1.0 + math.e ** (0 - value)) )\n",
        "  return torch.tensor(result).to('cuda')"
      ],
      "metadata": {
        "id": "-6ieGUAT-NDP"
      },
      "execution_count": 81,
      "outputs": []
    },
    {
      "cell_type": "code",
      "source": [
        "def train_perceptron(x, W, b, learning_rate, y_true):\n",
        "  for _ in range(100):\n",
        "    for idx, input in enumerate(x):\n",
        "      z = input.reshape(1, 784) @ W + b\n",
        "      predicted_y = sigmoid_function(z.flatten())\n",
        "      error = y_true[idx] - predicted_y\n",
        "      W = W + learning_rate * input.reshape(784, 1) @ error.reshape(1, 10)\n",
        "      b = b + learning_rate * error.reshape(1, 10)\n",
        "  return W, b"
      ],
      "metadata": {
        "id": "2pxQV0rK7ZJ6"
      },
      "execution_count": 87,
      "outputs": []
    },
    {
      "cell_type": "code",
      "source": [
        "train_perceptron(x, W, b, learning_rate, y)"
      ],
      "metadata": {
        "colab": {
          "base_uri": "https://localhost:8080/"
        },
        "id": "E2_fvOKQ7sj2",
        "outputId": "fecd792d-4cf7-4071-e0be-246d28e753d9"
      },
      "execution_count": 88,
      "outputs": [
        {
          "output_type": "execute_result",
          "data": {
            "text/plain": [
              "(tensor([[ 0.6141, -0.1278,  0.5730,  ...,  0.5899, -0.4665, -0.5380],\n",
              "         [ 0.2935,  0.5062, -0.5311,  ...,  0.1693,  0.2624,  0.0489],\n",
              "         [-0.2771,  0.1114, -0.3807,  ..., -0.0628, -0.5113, -0.0551],\n",
              "         ...,\n",
              "         [-0.3820,  0.1959,  0.4267,  ..., -0.4212,  0.2450,  0.1157],\n",
              "         [-0.1240, -0.4469,  0.2342,  ..., -0.0477,  0.1162, -0.4355],\n",
              "         [-0.1190, -0.2053,  0.3412,  ...,  0.1228, -0.5104,  0.3821]],\n",
              "        device='cuda:0'),\n",
              " tensor([[-0.0381, -0.7002, -0.3111, -0.3517, -0.4640, -0.6009, -0.6949, -0.9920,\n",
              "          -0.2791, -0.5407]], device='cuda:0'))"
            ]
          },
          "metadata": {},
          "execution_count": 88
        }
      ]
    }
  ]
}