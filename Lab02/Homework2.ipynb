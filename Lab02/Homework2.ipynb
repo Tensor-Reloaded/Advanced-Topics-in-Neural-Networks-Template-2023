{
  "nbformat": 4,
  "nbformat_minor": 0,
  "metadata": {
    "colab": {
      "provenance": [],
      "gpuType": "T4",
      "authorship_tag": "ABX9TyNlrP0D/KKgrG+m8KK527eg",
      "include_colab_link": true
    },
    "kernelspec": {
      "name": "python3",
      "display_name": "Python 3"
    },
    "language_info": {
      "name": "python"
    },
    "accelerator": "GPU"
  },
  "cells": [
    {
      "cell_type": "markdown",
      "metadata": {
        "id": "view-in-github",
        "colab_type": "text"
      },
      "source": [
        "<a href=\"https://colab.research.google.com/github/baranceanuvlad/Advanced-Topics-in-Neural-Networks-Template-2023/blob/main/Lab02/Homework2.ipynb\" target=\"_parent\"><img src=\"https://colab.research.google.com/assets/colab-badge.svg\" alt=\"Open In Colab\"/></a>"
      ]
    },
    {
      "cell_type": "code",
      "execution_count": 2,
      "metadata": {
        "id": "AqpNJyMa4bO3"
      },
      "outputs": [],
      "source": [
        "import torch\n",
        "import numpy as np\n",
        "import pandas as pd\n",
        "import matplotlib.pyplot as plt\n",
        "import tensorboard\n",
        "import math\n",
        "import random"
      ]
    },
    {
      "cell_type": "code",
      "source": [
        "x = torch.rand(20, 784).to('cuda')\n",
        "W = torch.rand(784,10).to('cuda')\n",
        "b = torch.rand(1, 10).to('cuda')\n",
        "learning_rate = 0.1\n",
        "y = torch.zeros((20, 10)).to('cuda')\n",
        "\n",
        "for result in y:\n",
        "  nr = random.randint(0, 9)\n",
        "  result[nr] = 1"
      ],
      "metadata": {
        "id": "5P2WzetR5IFD"
      },
      "execution_count": 55,
      "outputs": []
    },
    {
      "cell_type": "code",
      "source": [
        "def sigmoid_function(z):\n",
        "  return 1 / (1 + torch.exp(-z))"
      ],
      "metadata": {
        "id": "-6ieGUAT-NDP"
      },
      "execution_count": 109,
      "outputs": []
    },
    {
      "cell_type": "code",
      "source": [
        "def train_perceptron(x, W, b, learning_rate, y_true):\n",
        "  for epoch in range(1000):\n",
        "    predicted_y = x @ W + b\n",
        "    error = y_true - sigmoid_function(predicted_y)\n",
        "    W = W + learning_rate * x.T @ error\n",
        "    b = b + learning_rate * error.mean(axis = 0)\n",
        "  return W, b"
      ],
      "metadata": {
        "id": "2pxQV0rK7ZJ6"
      },
      "execution_count": 88,
      "outputs": []
    },
    {
      "cell_type": "code",
      "source": [
        "train_perceptron(x, W, b, learning_rate, y)"
      ],
      "metadata": {
        "colab": {
          "base_uri": "https://localhost:8080/"
        },
        "id": "E2_fvOKQ7sj2",
        "outputId": "3079a31c-cbc4-4b66-f15e-fe0f95aa1782"
      },
      "execution_count": 56,
      "outputs": [
        {
          "output_type": "execute_result",
          "data": {
            "text/plain": [
              "(tensor([[2.0758e-01, 1.3427e+02, 2.5051e+01,  ..., 4.0698e+01, 4.4462e+00,\n",
              "          1.5955e+02],\n",
              "         [9.6366e-01, 8.1246e+01, 8.3500e+00,  ..., 8.4931e+01, 4.3677e+01,\n",
              "          1.3453e+02],\n",
              "         [5.4827e-01, 2.2507e+02, 5.1627e+01,  ..., 1.6124e+02, 9.5314e+01,\n",
              "          1.2673e+02],\n",
              "         ...,\n",
              "         [2.8894e-01, 1.2814e+02, 1.3641e+01,  ..., 7.9906e+01, 7.2053e+01,\n",
              "          1.4220e+02],\n",
              "         [8.4885e-01, 1.0923e+02, 8.8877e+01,  ..., 9.3570e+01, 1.7941e+01,\n",
              "          1.3453e+02],\n",
              "         [4.4830e-01, 1.2080e+02, 1.5629e+01,  ..., 2.4587e+01, 8.9984e+01,\n",
              "          8.1109e+01]], device='cuda:0'),\n",
              " tensor([[ 0.1181, 15.5435,  5.7533, 15.1530,  5.8317, 10.0061, 20.7145, 10.8353,\n",
              "           5.0155, 15.4474]], device='cuda:0'))"
            ]
          },
          "metadata": {},
          "execution_count": 56
        }
      ]
    },
    {
      "cell_type": "markdown",
      "source": [
        "Bonus\n"
      ],
      "metadata": {
        "id": "lQaVHiumWcof"
      }
    },
    {
      "cell_type": "code",
      "source": [
        "train = pd.read_csv('mnist_train.csv')\n",
        "labels = train['label']\n",
        "\n",
        "train_tensor = torch.tensor(train.drop( 'label', axis = 1).values, dtype=torch.double).to('cuda')\n",
        "train_tensor = (train_tensor - 127.5) / 127.5\n",
        "#train_tensor = torch.nn.functional.normalize(train_tensor)\n",
        "print(train_tensor)\n",
        "y = torch.zeros((len(labels), 10)).to('cuda')\n",
        "for idx, label in enumerate(labels):\n",
        "  y[idx][label] = 1\n",
        "b = torch.rand(1, 10).to('cuda')\n",
        "learning_rate = 0.10\n",
        "print(W)\n",
        "W = torch.rand((784,10), dtype=torch.double).to('cuda')\n",
        "print(W)"
      ],
      "metadata": {
        "id": "5o9V0HcdWe2O",
        "outputId": "c41c4799-ccd6-48bf-d76c-9835bfa2df4a",
        "colab": {
          "base_uri": "https://localhost:8080/"
        }
      },
      "execution_count": 110,
      "outputs": [
        {
          "output_type": "stream",
          "name": "stdout",
          "text": [
            "tensor([[-1., -1., -1.,  ..., -1., -1., -1.],\n",
            "        [-1., -1., -1.,  ..., -1., -1., -1.],\n",
            "        [-1., -1., -1.,  ..., -1., -1., -1.],\n",
            "        ...,\n",
            "        [-1., -1., -1.,  ..., -1., -1., -1.],\n",
            "        [-1., -1., -1.,  ..., -1., -1., -1.],\n",
            "        [-1., -1., -1.,  ..., -1., -1., -1.]], device='cuda:0',\n",
            "       dtype=torch.float64)\n",
            "tensor([[0.2966, 0.5562, 0.4337,  ..., 0.8104, 0.2731, 0.9187],\n",
            "        [0.6856, 0.2547, 0.4254,  ..., 0.4453, 0.4936, 0.9526],\n",
            "        [0.2436, 0.6034, 0.8899,  ..., 0.1466, 0.9940, 0.7011],\n",
            "        ...,\n",
            "        [0.4207, 0.9117, 0.9151,  ..., 0.8130, 0.8581, 0.0836],\n",
            "        [0.9898, 0.8427, 0.5391,  ..., 0.8732, 0.1249, 0.4779],\n",
            "        [0.5285, 0.2654, 0.7939,  ..., 0.9106, 0.6353, 0.0192]],\n",
            "       device='cuda:0', dtype=torch.float64)\n",
            "tensor([[0.0657, 0.4283, 0.6903,  ..., 0.7439, 0.3673, 0.6713],\n",
            "        [0.8784, 0.4626, 0.3434,  ..., 0.1699, 0.9583, 0.5748],\n",
            "        [0.0488, 0.5259, 0.9795,  ..., 0.2530, 0.2133, 0.3691],\n",
            "        ...,\n",
            "        [0.5644, 0.9053, 0.4973,  ..., 0.9987, 0.4981, 0.4902],\n",
            "        [0.8625, 0.4075, 0.3812,  ..., 0.0125, 0.1774, 0.5534],\n",
            "        [0.6737, 0.8930, 0.6343,  ..., 0.6818, 0.5659, 0.7333]],\n",
            "       device='cuda:0', dtype=torch.float64)\n"
          ]
        }
      ]
    },
    {
      "cell_type": "code",
      "source": [
        "test = pd.read_csv('mnist_test.csv')\n",
        "labels = test['label']\n",
        "test_tensor = torch.tensor(test.drop( 'label', axis = 1).values,dtype=torch.double).to('cuda')\n",
        "test_tensor = (test_tensor - 127.5) / 127.5\n",
        "y_test = torch.zeros((len(labels), 10)).to('cuda')\n",
        "for idx, label in enumerate(labels):\n",
        "  y_test[idx][label] = 1"
      ],
      "metadata": {
        "id": "UNhQCXZIx6nu"
      },
      "execution_count": 111,
      "outputs": []
    },
    {
      "cell_type": "code",
      "source": [
        "count = 0\n",
        "predicted_y = sigmoid_function(test_tensor @ W + b)\n",
        "print(predicted_y)\n",
        "for idx, line in enumerate(y_test):\n",
        "  if torch.argmax(line) == torch.argmax(predicted_y[idx]):\n",
        "    count += 1\n",
        "\n",
        "print(W)\n",
        "print(count * 100 / len(test_tensor))\n",
        "print(count, len(test_tensor))"
      ],
      "metadata": {
        "id": "1cP2qQhMyCwR",
        "outputId": "8753031c-59ef-46a2-c356-84e6604815cd",
        "colab": {
          "base_uri": "https://localhost:8080/"
        }
      },
      "execution_count": 112,
      "outputs": [
        {
          "output_type": "stream",
          "name": "stdout",
          "text": [
            "tensor([[5.4990e-141, 5.2747e-136, 1.5874e-136,  ..., 1.2641e-137,\n",
            "         3.8071e-148, 2.2989e-135],\n",
            "        [9.1120e-122, 2.1832e-120, 9.3851e-120,  ..., 2.3132e-127,\n",
            "         4.1691e-127, 2.9685e-118],\n",
            "        [8.3041e-151, 1.0506e-148, 9.4135e-151,  ..., 3.3017e-154,\n",
            "         2.2882e-158, 3.0247e-152],\n",
            "        ...,\n",
            "        [1.0163e-122, 1.7221e-115, 7.2600e-116,  ..., 1.1619e-120,\n",
            "         3.5367e-129, 9.0215e-118],\n",
            "        [6.2961e-124, 3.5520e-122, 3.0718e-123,  ..., 3.4451e-128,\n",
            "         3.0238e-131, 7.8119e-121],\n",
            "        [4.0806e-103,  1.2632e-97,  1.4605e-93,  ..., 3.1668e-100,\n",
            "          2.4307e-98,  5.2731e-98]], device='cuda:0', dtype=torch.float64)\n",
            "tensor([[0.0657, 0.4283, 0.6903,  ..., 0.7439, 0.3673, 0.6713],\n",
            "        [0.8784, 0.4626, 0.3434,  ..., 0.1699, 0.9583, 0.5748],\n",
            "        [0.0488, 0.5259, 0.9795,  ..., 0.2530, 0.2133, 0.3691],\n",
            "        ...,\n",
            "        [0.5644, 0.9053, 0.4973,  ..., 0.9987, 0.4981, 0.4902],\n",
            "        [0.8625, 0.4075, 0.3812,  ..., 0.0125, 0.1774, 0.5534],\n",
            "        [0.6737, 0.8930, 0.6343,  ..., 0.6818, 0.5659, 0.7333]],\n",
            "       device='cuda:0', dtype=torch.float64)\n",
            "17.05\n",
            "1705 10000\n"
          ]
        }
      ]
    },
    {
      "cell_type": "code",
      "source": [
        "\n",
        "W, b = train_perceptron(train_tensor, W, b, learning_rate, y)"
      ],
      "metadata": {
        "id": "VWXQf33iZtWo"
      },
      "execution_count": 113,
      "outputs": []
    },
    {
      "cell_type": "code",
      "source": [
        "\n",
        "\n",
        "\n",
        "count = 0\n",
        "predicted_y = sigmoid_function(test_tensor @ W + b)\n",
        "predicted_y = torch.argmax(predicted_y, dim = 1)\n",
        "for idx, line in enumerate(y_test):\n",
        "  if torch.argmax(line) == predicted_y[idx]:\n",
        "    count += 1\n",
        "\n",
        "print(W)\n",
        "print(count * 100 / len(test_tensor))\n",
        "print(count, len(test_tensor))"
      ],
      "metadata": {
        "id": "zW8pWAbbYhxi",
        "outputId": "b34e0dd1-cc36-41f2-e2d3-aea7baf7a420",
        "colab": {
          "base_uri": "https://localhost:8080/"
        }
      },
      "execution_count": 114,
      "outputs": [
        {
          "output_type": "stream",
          "name": "stdout",
          "text": [
            "tensor([[ 623.9806, 1145.8841,  501.5939,  ...,  763.9799,  835.3563,\n",
            "         1644.9595],\n",
            "        [ 624.7933, 1145.9185,  501.2470,  ...,  763.4058,  835.9473,\n",
            "         1644.8629],\n",
            "        [ 623.9637, 1145.9817,  501.8831,  ...,  763.4890,  835.2023,\n",
            "         1644.6572],\n",
            "        ...,\n",
            "        [ 624.4792, 1146.3611,  501.4009,  ...,  764.2347,  835.4871,\n",
            "         1644.7784],\n",
            "        [ 624.7774, 1145.8633,  501.2848,  ...,  763.2485,  835.1664,\n",
            "         1644.8416],\n",
            "        [ 624.5886, 1146.3488,  501.5378,  ...,  763.9177,  835.5550,\n",
            "         1645.0215]], device='cuda:0', dtype=torch.float64)\n",
            "86.48\n",
            "8648 10000\n"
          ]
        }
      ]
    }
  ]
}