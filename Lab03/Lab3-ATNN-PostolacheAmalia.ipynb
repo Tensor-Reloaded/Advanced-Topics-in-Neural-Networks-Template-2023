{
 "cells": [
  {
   "cell_type": "code",
   "execution_count": 42,
   "id": "6bbe97db-b013-4f28-900a-4b419a1d4015",
   "metadata": {},
   "outputs": [],
   "source": [
    "import torch\n",
    "from torch import Tensor\n",
    "from torchvision.datasets import MNIST\n",
    "import numpy as np\n",
    "from tqdm import tqdm"
   ]
  },
  {
   "cell_type": "code",
   "execution_count": 57,
   "id": "e822b76b-cff5-4543-80ba-b8bf42babc62",
   "metadata": {},
   "outputs": [],
   "source": [
    "def sigmoid(x):\n",
    "    return 1/(1+torch.exp(-x))\n",
    "\n",
    "def softmax(x):\n",
    "    return x.softmax(dim=1)\n",
    "\n",
    "def forward(x, w, b):\n",
    "    z = x@w + b\n",
    "    return z\n",
    "\n",
    "def backward(x, y_pred, y_true, y_hidden, w2):\n",
    "    error2 = y_true - y_pred\n",
    "    delta_w2 = y_hidden.T @ error2\n",
    "    delta_b2 = error2.mean(axis=0)\n",
    "    error1 = (y_hidden * (1-y_hidden))*(w2 @ error2.T).T\n",
    "    delta_w1 = x.T @ error1\n",
    "    delta_b1 = error1.mean(axis=0)\n",
    "    return delta_w1, delta_b1, delta_w2, delta_b2"
   ]
  },
  {
   "cell_type": "code",
   "execution_count": 55,
   "id": "8e26f30e-e6bd-4b5b-a10f-55c51c6c30de",
   "metadata": {},
   "outputs": [],
   "source": [
    "def train_epoch(data, labels, w1, b1, w2, b2, mu, size):\n",
    "    loss_epoch = 0\n",
    "    non_blocking = w1.device.type == 'cuda'\n",
    "    for i in range(0, data.shape[0], size):\n",
    "        x = data[i: i + size].to(w1.device, non_blocking=non_blocking)\n",
    "        y = labels[i: i + size].to(w1.device, non_blocking=non_blocking)\n",
    "    y_hidden = sigmoid(forward(x, w1, b1))\n",
    "    y_pred = softmax(forward(y_hidden, w2, b2))\n",
    "    loss = torch.nn.functional.cross_entropy(y_pred, y)\n",
    "    loss_epoch += loss\n",
    "    delta_w1, delta_b1, delta_w2, delta_b2 = backward(x, y_pred, y, y_hidden, w2)\n",
    "    w1 += mu*delta_w1\n",
    "    b1 += mu*delta_b1\n",
    "    w2 += mu*delta_w2\n",
    "    b2 += mu*delta_b2\n",
    "    return w1, b1, w2, b2, loss_epoch/size"
   ]
  },
  {
   "cell_type": "code",
   "execution_count": 45,
   "id": "fa039823-8495-4652-b2e3-6c6df130d09b",
   "metadata": {},
   "outputs": [],
   "source": [
    "def evaluate(data, labels, w1, b1, w2, b2, size):\n",
    "    total_correct_predictions = 0\n",
    "    total_length = data.shape[0]\n",
    "    non_blocking = w1.device.type == 'cuda'\n",
    "    for i in range(0, total_length, size):\n",
    "        x = data[i: i + size].to(w1.device, non_blocking=non_blocking)\n",
    "        y = labels[i: i + size].to(w1.device, non_blocking=non_blocking)\n",
    "        y_hidden = sigmoid(forward(x, w1, b1)) \n",
    "        y_pred = sigmoid(forward(y_hidden, w2, b2))\n",
    "        predicted_max_value, predicted_max_value_indices = torch.max(y_pred, dim=1)\n",
    "        equality_mask = predicted_max_value_indices == y\n",
    "        correct_predictions = equality_mask.sum().item()\n",
    "        total_correct_predictions += correct_predictions\n",
    "    return total_correct_predictions / total_length"
   ]
  },
  {
   "cell_type": "code",
   "execution_count": 46,
   "id": "dbd839d4-b364-4406-8903-1cc80b7cc297",
   "metadata": {},
   "outputs": [],
   "source": [
    "def collate(x):\n",
    "    if isinstance(x, (tuple, list)):\n",
    "        if isinstance(x[0], Tensor):\n",
    "            return torch.stack(x)\n",
    "        else:\n",
    "            return torch.tensor(x)\n",
    "    else: \n",
    "        raise \"Not supported yet\"\n",
    "\n",
    "def to_one_hot(x):\n",
    "    return torch.eye(x.max()+1)[x]\n",
    "\n",
    "def load_mnist(path: str = \"./data\", train: bool = True, pin_memory: bool = True):\n",
    "    mnist_raw = MNIST(path, download=True, train=train)\n",
    "    mnist_data = []\n",
    "    mnist_labels = []\n",
    "    for image, label in mnist_raw:\n",
    "        tensor = torch.from_numpy(np.array(image))\n",
    "        mnist_data.append(tensor)\n",
    "        mnist_labels.append(label)\n",
    "\n",
    "    mnist_data = collate(mnist_data).float()  # shape 60000, 28, 28\n",
    "    mnist_data = mnist_data.flatten(start_dim=1)  # shape 60000, 784\n",
    "    mnist_data /= mnist_data.max()  # min max normalize\n",
    "    mnist_labels = collate(mnist_labels)  # shape 60000\n",
    "    if train:\n",
    "        mnist_labels = to_one_hot(mnist_labels)  # shape 60000, 10\n",
    "    if pin_memory:\n",
    "        return mnist_data.pin_memory(), mnist_labels.pin_memory()\n",
    "    return mnist_data, mnist_labels"
   ]
  },
  {
   "cell_type": "code",
   "execution_count": 82,
   "id": "5baf280c-b585-4b4b-b05f-f8006ebb46b6",
   "metadata": {},
   "outputs": [],
   "source": [
    "def get_default_device():\n",
    "    if torch.cuda.is_available():\n",
    "        return torch.device('cuda')\n",
    "    if torch.backends.mps.is_available():\n",
    "        return torch.device('mps')\n",
    "    return torch.device('cpu')\n",
    "\n",
    "def train(epochs: int = 1000, device: torch.device = get_default_device()):\n",
    "    print(f\"Using device {device}\")\n",
    "    pin_memory = device.type == 'cuda'  \n",
    "    # w1 = torch.normal(0, 1/np.sqrt(784), (784, 100), device=device)\n",
    "    w1 = torch.empty((784,100), device=device).normal_(mean=0, std=np.power(np.sqrt(784), (-1)))\n",
    "    # b1 = torch.zeros((1, 100), device=device) \n",
    "    b1 = torch.empty((1, 100), device=device).normal_(mean=0, std=1)\n",
    "    # w2 = torch.normal(0, 1/np.sqrt(784), (100, 10), device=device)\n",
    "    w2 = torch.empty((100,10), device=device).normal_(mean=0, std=np.power(np.sqrt(100), (-1)))\n",
    "    # b2 = torch.zeros((1, 10), device=device) \n",
    "    b2 = torch.empty((1, 10), device=device).normal_(mean=0, std=1)\n",
    "    mu = 0.0\n",
    "    size = 500\n",
    "    eval_size = 500\n",
    "    data, labels = load_mnist(train=True, pin_memory=pin_memory)\n",
    "    data_test, labels_test = load_mnist(train=False, pin_memory=pin_memory)\n",
    "    epochs = tqdm(range(epochs))\n",
    "    loss = 0\n",
    "    for e in epochs:\n",
    "        loss_epoch = 0\n",
    "        w1, b1, w2, b2, loss_epoch = train_epoch(data, labels, w1, b1, w2, b2, mu, size)\n",
    "        loss += loss_epoch\n",
    "        accuracy = evaluate(data_test, labels_test, w1, b1, w2, b2, eval_size)\n",
    "        epochs.set_postfix_str(f\"accuracy = {accuracy}, loss_epoch = {loss_epoch}, loss_total = {loss}\")\n",
    "        if e % 100 == 0: \n",
    "            mu *= 0.5"
   ]
  },
  {
   "cell_type": "code",
   "execution_count": 83,
   "id": "f6f9799a-f197-4d62-8d91-6d6ba8719d93",
   "metadata": {},
   "outputs": [
    {
     "name": "stdout",
     "output_type": "stream",
     "text": [
      "Using device cpu\n"
     ]
    },
    {
     "name": "stderr",
     "output_type": "stream",
     "text": [
      "100%|█| 500/500 [00:15<00:00, 32.76it/s, accuracy = 0.7416, loss_epoch = 0.00294921244494617, loss_total = 1.5218460559\n"
     ]
    }
   ],
   "source": [
    "train(500)"
   ]
  },
  {
   "cell_type": "code",
   "execution_count": null,
   "id": "57cfe07b-df54-4411-9df0-0fd605d3ffb9",
   "metadata": {},
   "outputs": [],
   "source": []
  }
 ],
 "metadata": {
  "kernelspec": {
   "display_name": "Python 3 (ipykernel)",
   "language": "python",
   "name": "python3"
  },
  "language_info": {
   "codemirror_mode": {
    "name": "ipython",
    "version": 3
   },
   "file_extension": ".py",
   "mimetype": "text/x-python",
   "name": "python",
   "nbconvert_exporter": "python",
   "pygments_lexer": "ipython3",
   "version": "3.10.12"
  }
 },
 "nbformat": 4,
 "nbformat_minor": 5
}
