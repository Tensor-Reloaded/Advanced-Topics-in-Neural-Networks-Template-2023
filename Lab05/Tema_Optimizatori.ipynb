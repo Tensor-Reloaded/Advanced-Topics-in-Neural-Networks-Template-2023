{
  "nbformat": 4,
  "nbformat_minor": 0,
  "metadata": {
    "colab": {
      "provenance": []
    },
    "kernelspec": {
      "name": "python3",
      "display_name": "Python 3"
    },
    "language_info": {
      "name": "python"
    },
    "widgets": {
      "application/vnd.jupyter.widget-state+json": {
        "28c884f029054b46b70a011665f351dc": {
          "model_module": "@jupyter-widgets/controls",
          "model_name": "VBoxModel",
          "model_module_version": "1.5.0",
          "state": {
            "_dom_classes": [],
            "_model_module": "@jupyter-widgets/controls",
            "_model_module_version": "1.5.0",
            "_model_name": "VBoxModel",
            "_view_count": null,
            "_view_module": "@jupyter-widgets/controls",
            "_view_module_version": "1.5.0",
            "_view_name": "VBoxView",
            "box_style": "",
            "children": [
              "IPY_MODEL_79bab2fa86a442d8b9145145e5116f98",
              "IPY_MODEL_68df091478d84623b1406464dc417b87"
            ],
            "layout": "IPY_MODEL_5af8a443290f47a29ac4ba812a9806c6"
          }
        },
        "79bab2fa86a442d8b9145145e5116f98": {
          "model_module": "@jupyter-widgets/controls",
          "model_name": "LabelModel",
          "model_module_version": "1.5.0",
          "state": {
            "_dom_classes": [],
            "_model_module": "@jupyter-widgets/controls",
            "_model_module_version": "1.5.0",
            "_model_name": "LabelModel",
            "_view_count": null,
            "_view_module": "@jupyter-widgets/controls",
            "_view_module_version": "1.5.0",
            "_view_name": "LabelView",
            "description": "",
            "description_tooltip": null,
            "layout": "IPY_MODEL_f8211c087d5440a3a0f9bfa008a3c18f",
            "placeholder": "​",
            "style": "IPY_MODEL_0af4877a1b8c49b298c4423bce3e3eea",
            "value": "0.001 MB of 0.014 MB uploaded (0.000 MB deduped)\r"
          }
        },
        "68df091478d84623b1406464dc417b87": {
          "model_module": "@jupyter-widgets/controls",
          "model_name": "FloatProgressModel",
          "model_module_version": "1.5.0",
          "state": {
            "_dom_classes": [],
            "_model_module": "@jupyter-widgets/controls",
            "_model_module_version": "1.5.0",
            "_model_name": "FloatProgressModel",
            "_view_count": null,
            "_view_module": "@jupyter-widgets/controls",
            "_view_module_version": "1.5.0",
            "_view_name": "ProgressView",
            "bar_style": "",
            "description": "",
            "description_tooltip": null,
            "layout": "IPY_MODEL_785a83c5868a472e9cff88ef9438b130",
            "max": 1,
            "min": 0,
            "orientation": "horizontal",
            "style": "IPY_MODEL_18f8c5a3d9e94f9d9834fe7847954427",
            "value": 0.07074103375527427
          }
        },
        "5af8a443290f47a29ac4ba812a9806c6": {
          "model_module": "@jupyter-widgets/base",
          "model_name": "LayoutModel",
          "model_module_version": "1.2.0",
          "state": {
            "_model_module": "@jupyter-widgets/base",
            "_model_module_version": "1.2.0",
            "_model_name": "LayoutModel",
            "_view_count": null,
            "_view_module": "@jupyter-widgets/base",
            "_view_module_version": "1.2.0",
            "_view_name": "LayoutView",
            "align_content": null,
            "align_items": null,
            "align_self": null,
            "border": null,
            "bottom": null,
            "display": null,
            "flex": null,
            "flex_flow": null,
            "grid_area": null,
            "grid_auto_columns": null,
            "grid_auto_flow": null,
            "grid_auto_rows": null,
            "grid_column": null,
            "grid_gap": null,
            "grid_row": null,
            "grid_template_areas": null,
            "grid_template_columns": null,
            "grid_template_rows": null,
            "height": null,
            "justify_content": null,
            "justify_items": null,
            "left": null,
            "margin": null,
            "max_height": null,
            "max_width": null,
            "min_height": null,
            "min_width": null,
            "object_fit": null,
            "object_position": null,
            "order": null,
            "overflow": null,
            "overflow_x": null,
            "overflow_y": null,
            "padding": null,
            "right": null,
            "top": null,
            "visibility": null,
            "width": null
          }
        },
        "f8211c087d5440a3a0f9bfa008a3c18f": {
          "model_module": "@jupyter-widgets/base",
          "model_name": "LayoutModel",
          "model_module_version": "1.2.0",
          "state": {
            "_model_module": "@jupyter-widgets/base",
            "_model_module_version": "1.2.0",
            "_model_name": "LayoutModel",
            "_view_count": null,
            "_view_module": "@jupyter-widgets/base",
            "_view_module_version": "1.2.0",
            "_view_name": "LayoutView",
            "align_content": null,
            "align_items": null,
            "align_self": null,
            "border": null,
            "bottom": null,
            "display": null,
            "flex": null,
            "flex_flow": null,
            "grid_area": null,
            "grid_auto_columns": null,
            "grid_auto_flow": null,
            "grid_auto_rows": null,
            "grid_column": null,
            "grid_gap": null,
            "grid_row": null,
            "grid_template_areas": null,
            "grid_template_columns": null,
            "grid_template_rows": null,
            "height": null,
            "justify_content": null,
            "justify_items": null,
            "left": null,
            "margin": null,
            "max_height": null,
            "max_width": null,
            "min_height": null,
            "min_width": null,
            "object_fit": null,
            "object_position": null,
            "order": null,
            "overflow": null,
            "overflow_x": null,
            "overflow_y": null,
            "padding": null,
            "right": null,
            "top": null,
            "visibility": null,
            "width": null
          }
        },
        "0af4877a1b8c49b298c4423bce3e3eea": {
          "model_module": "@jupyter-widgets/controls",
          "model_name": "DescriptionStyleModel",
          "model_module_version": "1.5.0",
          "state": {
            "_model_module": "@jupyter-widgets/controls",
            "_model_module_version": "1.5.0",
            "_model_name": "DescriptionStyleModel",
            "_view_count": null,
            "_view_module": "@jupyter-widgets/base",
            "_view_module_version": "1.2.0",
            "_view_name": "StyleView",
            "description_width": ""
          }
        },
        "785a83c5868a472e9cff88ef9438b130": {
          "model_module": "@jupyter-widgets/base",
          "model_name": "LayoutModel",
          "model_module_version": "1.2.0",
          "state": {
            "_model_module": "@jupyter-widgets/base",
            "_model_module_version": "1.2.0",
            "_model_name": "LayoutModel",
            "_view_count": null,
            "_view_module": "@jupyter-widgets/base",
            "_view_module_version": "1.2.0",
            "_view_name": "LayoutView",
            "align_content": null,
            "align_items": null,
            "align_self": null,
            "border": null,
            "bottom": null,
            "display": null,
            "flex": null,
            "flex_flow": null,
            "grid_area": null,
            "grid_auto_columns": null,
            "grid_auto_flow": null,
            "grid_auto_rows": null,
            "grid_column": null,
            "grid_gap": null,
            "grid_row": null,
            "grid_template_areas": null,
            "grid_template_columns": null,
            "grid_template_rows": null,
            "height": null,
            "justify_content": null,
            "justify_items": null,
            "left": null,
            "margin": null,
            "max_height": null,
            "max_width": null,
            "min_height": null,
            "min_width": null,
            "object_fit": null,
            "object_position": null,
            "order": null,
            "overflow": null,
            "overflow_x": null,
            "overflow_y": null,
            "padding": null,
            "right": null,
            "top": null,
            "visibility": null,
            "width": null
          }
        },
        "18f8c5a3d9e94f9d9834fe7847954427": {
          "model_module": "@jupyter-widgets/controls",
          "model_name": "ProgressStyleModel",
          "model_module_version": "1.5.0",
          "state": {
            "_model_module": "@jupyter-widgets/controls",
            "_model_module_version": "1.5.0",
            "_model_name": "ProgressStyleModel",
            "_view_count": null,
            "_view_module": "@jupyter-widgets/base",
            "_view_module_version": "1.2.0",
            "_view_name": "StyleView",
            "bar_color": null,
            "description_width": ""
          }
        },
        "8a584d33adb24ce09e3c7883e25705c3": {
          "model_module": "@jupyter-widgets/controls",
          "model_name": "VBoxModel",
          "model_module_version": "1.5.0",
          "state": {
            "_dom_classes": [],
            "_model_module": "@jupyter-widgets/controls",
            "_model_module_version": "1.5.0",
            "_model_name": "VBoxModel",
            "_view_count": null,
            "_view_module": "@jupyter-widgets/controls",
            "_view_module_version": "1.5.0",
            "_view_name": "VBoxView",
            "box_style": "",
            "children": [
              "IPY_MODEL_98faf16d67ad4b3787f9b4b9af551ef1",
              "IPY_MODEL_a3eadf46c61f422084bd0989f3fd9fce"
            ],
            "layout": "IPY_MODEL_087882380b3e4f25a198b00ec2350e6e"
          }
        },
        "98faf16d67ad4b3787f9b4b9af551ef1": {
          "model_module": "@jupyter-widgets/controls",
          "model_name": "LabelModel",
          "model_module_version": "1.5.0",
          "state": {
            "_dom_classes": [],
            "_model_module": "@jupyter-widgets/controls",
            "_model_module_version": "1.5.0",
            "_model_name": "LabelModel",
            "_view_count": null,
            "_view_module": "@jupyter-widgets/controls",
            "_view_module_version": "1.5.0",
            "_view_name": "LabelView",
            "description": "",
            "description_tooltip": null,
            "layout": "IPY_MODEL_a6bbc9208c0948cf9a2ba2e265d83168",
            "placeholder": "​",
            "style": "IPY_MODEL_eddcb24f159f4509bb3b76a8dbd91ab3",
            "value": "0.001 MB of 0.001 MB uploaded (0.000 MB deduped)\r"
          }
        },
        "a3eadf46c61f422084bd0989f3fd9fce": {
          "model_module": "@jupyter-widgets/controls",
          "model_name": "FloatProgressModel",
          "model_module_version": "1.5.0",
          "state": {
            "_dom_classes": [],
            "_model_module": "@jupyter-widgets/controls",
            "_model_module_version": "1.5.0",
            "_model_name": "FloatProgressModel",
            "_view_count": null,
            "_view_module": "@jupyter-widgets/controls",
            "_view_module_version": "1.5.0",
            "_view_name": "ProgressView",
            "bar_style": "",
            "description": "",
            "description_tooltip": null,
            "layout": "IPY_MODEL_bbabfe6e5c7146b997870606001b1007",
            "max": 1,
            "min": 0,
            "orientation": "horizontal",
            "style": "IPY_MODEL_11ca7dce28b14bf1a40960d234784b06",
            "value": 1
          }
        },
        "087882380b3e4f25a198b00ec2350e6e": {
          "model_module": "@jupyter-widgets/base",
          "model_name": "LayoutModel",
          "model_module_version": "1.2.0",
          "state": {
            "_model_module": "@jupyter-widgets/base",
            "_model_module_version": "1.2.0",
            "_model_name": "LayoutModel",
            "_view_count": null,
            "_view_module": "@jupyter-widgets/base",
            "_view_module_version": "1.2.0",
            "_view_name": "LayoutView",
            "align_content": null,
            "align_items": null,
            "align_self": null,
            "border": null,
            "bottom": null,
            "display": null,
            "flex": null,
            "flex_flow": null,
            "grid_area": null,
            "grid_auto_columns": null,
            "grid_auto_flow": null,
            "grid_auto_rows": null,
            "grid_column": null,
            "grid_gap": null,
            "grid_row": null,
            "grid_template_areas": null,
            "grid_template_columns": null,
            "grid_template_rows": null,
            "height": null,
            "justify_content": null,
            "justify_items": null,
            "left": null,
            "margin": null,
            "max_height": null,
            "max_width": null,
            "min_height": null,
            "min_width": null,
            "object_fit": null,
            "object_position": null,
            "order": null,
            "overflow": null,
            "overflow_x": null,
            "overflow_y": null,
            "padding": null,
            "right": null,
            "top": null,
            "visibility": null,
            "width": null
          }
        },
        "a6bbc9208c0948cf9a2ba2e265d83168": {
          "model_module": "@jupyter-widgets/base",
          "model_name": "LayoutModel",
          "model_module_version": "1.2.0",
          "state": {
            "_model_module": "@jupyter-widgets/base",
            "_model_module_version": "1.2.0",
            "_model_name": "LayoutModel",
            "_view_count": null,
            "_view_module": "@jupyter-widgets/base",
            "_view_module_version": "1.2.0",
            "_view_name": "LayoutView",
            "align_content": null,
            "align_items": null,
            "align_self": null,
            "border": null,
            "bottom": null,
            "display": null,
            "flex": null,
            "flex_flow": null,
            "grid_area": null,
            "grid_auto_columns": null,
            "grid_auto_flow": null,
            "grid_auto_rows": null,
            "grid_column": null,
            "grid_gap": null,
            "grid_row": null,
            "grid_template_areas": null,
            "grid_template_columns": null,
            "grid_template_rows": null,
            "height": null,
            "justify_content": null,
            "justify_items": null,
            "left": null,
            "margin": null,
            "max_height": null,
            "max_width": null,
            "min_height": null,
            "min_width": null,
            "object_fit": null,
            "object_position": null,
            "order": null,
            "overflow": null,
            "overflow_x": null,
            "overflow_y": null,
            "padding": null,
            "right": null,
            "top": null,
            "visibility": null,
            "width": null
          }
        },
        "eddcb24f159f4509bb3b76a8dbd91ab3": {
          "model_module": "@jupyter-widgets/controls",
          "model_name": "DescriptionStyleModel",
          "model_module_version": "1.5.0",
          "state": {
            "_model_module": "@jupyter-widgets/controls",
            "_model_module_version": "1.5.0",
            "_model_name": "DescriptionStyleModel",
            "_view_count": null,
            "_view_module": "@jupyter-widgets/base",
            "_view_module_version": "1.2.0",
            "_view_name": "StyleView",
            "description_width": ""
          }
        },
        "bbabfe6e5c7146b997870606001b1007": {
          "model_module": "@jupyter-widgets/base",
          "model_name": "LayoutModel",
          "model_module_version": "1.2.0",
          "state": {
            "_model_module": "@jupyter-widgets/base",
            "_model_module_version": "1.2.0",
            "_model_name": "LayoutModel",
            "_view_count": null,
            "_view_module": "@jupyter-widgets/base",
            "_view_module_version": "1.2.0",
            "_view_name": "LayoutView",
            "align_content": null,
            "align_items": null,
            "align_self": null,
            "border": null,
            "bottom": null,
            "display": null,
            "flex": null,
            "flex_flow": null,
            "grid_area": null,
            "grid_auto_columns": null,
            "grid_auto_flow": null,
            "grid_auto_rows": null,
            "grid_column": null,
            "grid_gap": null,
            "grid_row": null,
            "grid_template_areas": null,
            "grid_template_columns": null,
            "grid_template_rows": null,
            "height": null,
            "justify_content": null,
            "justify_items": null,
            "left": null,
            "margin": null,
            "max_height": null,
            "max_width": null,
            "min_height": null,
            "min_width": null,
            "object_fit": null,
            "object_position": null,
            "order": null,
            "overflow": null,
            "overflow_x": null,
            "overflow_y": null,
            "padding": null,
            "right": null,
            "top": null,
            "visibility": null,
            "width": null
          }
        },
        "11ca7dce28b14bf1a40960d234784b06": {
          "model_module": "@jupyter-widgets/controls",
          "model_name": "ProgressStyleModel",
          "model_module_version": "1.5.0",
          "state": {
            "_model_module": "@jupyter-widgets/controls",
            "_model_module_version": "1.5.0",
            "_model_name": "ProgressStyleModel",
            "_view_count": null,
            "_view_module": "@jupyter-widgets/base",
            "_view_module_version": "1.2.0",
            "_view_name": "StyleView",
            "bar_color": null,
            "description_width": ""
          }
        },
        "fad654f42388411584907069c39385da": {
          "model_module": "@jupyter-widgets/controls",
          "model_name": "VBoxModel",
          "model_module_version": "1.5.0",
          "state": {
            "_dom_classes": [],
            "_model_module": "@jupyter-widgets/controls",
            "_model_module_version": "1.5.0",
            "_model_name": "VBoxModel",
            "_view_count": null,
            "_view_module": "@jupyter-widgets/controls",
            "_view_module_version": "1.5.0",
            "_view_name": "VBoxView",
            "box_style": "",
            "children": [
              "IPY_MODEL_7a4e72afb7104a9ca047dc9df3d5be41",
              "IPY_MODEL_9c9b9f6e6719416598fa3bcc739c7bf0"
            ],
            "layout": "IPY_MODEL_d92b751d41464067be81eef648b84826"
          }
        },
        "7a4e72afb7104a9ca047dc9df3d5be41": {
          "model_module": "@jupyter-widgets/controls",
          "model_name": "LabelModel",
          "model_module_version": "1.5.0",
          "state": {
            "_dom_classes": [],
            "_model_module": "@jupyter-widgets/controls",
            "_model_module_version": "1.5.0",
            "_model_name": "LabelModel",
            "_view_count": null,
            "_view_module": "@jupyter-widgets/controls",
            "_view_module_version": "1.5.0",
            "_view_name": "LabelView",
            "description": "",
            "description_tooltip": null,
            "layout": "IPY_MODEL_8b852a04004f41b7b1844823790cc10b",
            "placeholder": "​",
            "style": "IPY_MODEL_016b15f84cb444daa6de6788c5065ce0",
            "value": "0.002 MB of 0.014 MB uploaded (0.000 MB deduped)\r"
          }
        },
        "9c9b9f6e6719416598fa3bcc739c7bf0": {
          "model_module": "@jupyter-widgets/controls",
          "model_name": "FloatProgressModel",
          "model_module_version": "1.5.0",
          "state": {
            "_dom_classes": [],
            "_model_module": "@jupyter-widgets/controls",
            "_model_module_version": "1.5.0",
            "_model_name": "FloatProgressModel",
            "_view_count": null,
            "_view_module": "@jupyter-widgets/controls",
            "_view_module_version": "1.5.0",
            "_view_name": "ProgressView",
            "bar_style": "",
            "description": "",
            "description_tooltip": null,
            "layout": "IPY_MODEL_0436fa547a434bceb8c19cdf583fbb8d",
            "max": 1,
            "min": 0,
            "orientation": "horizontal",
            "style": "IPY_MODEL_26ea49e77e604d4d94854ab84284577f",
            "value": 0.11500843170320404
          }
        },
        "d92b751d41464067be81eef648b84826": {
          "model_module": "@jupyter-widgets/base",
          "model_name": "LayoutModel",
          "model_module_version": "1.2.0",
          "state": {
            "_model_module": "@jupyter-widgets/base",
            "_model_module_version": "1.2.0",
            "_model_name": "LayoutModel",
            "_view_count": null,
            "_view_module": "@jupyter-widgets/base",
            "_view_module_version": "1.2.0",
            "_view_name": "LayoutView",
            "align_content": null,
            "align_items": null,
            "align_self": null,
            "border": null,
            "bottom": null,
            "display": null,
            "flex": null,
            "flex_flow": null,
            "grid_area": null,
            "grid_auto_columns": null,
            "grid_auto_flow": null,
            "grid_auto_rows": null,
            "grid_column": null,
            "grid_gap": null,
            "grid_row": null,
            "grid_template_areas": null,
            "grid_template_columns": null,
            "grid_template_rows": null,
            "height": null,
            "justify_content": null,
            "justify_items": null,
            "left": null,
            "margin": null,
            "max_height": null,
            "max_width": null,
            "min_height": null,
            "min_width": null,
            "object_fit": null,
            "object_position": null,
            "order": null,
            "overflow": null,
            "overflow_x": null,
            "overflow_y": null,
            "padding": null,
            "right": null,
            "top": null,
            "visibility": null,
            "width": null
          }
        },
        "8b852a04004f41b7b1844823790cc10b": {
          "model_module": "@jupyter-widgets/base",
          "model_name": "LayoutModel",
          "model_module_version": "1.2.0",
          "state": {
            "_model_module": "@jupyter-widgets/base",
            "_model_module_version": "1.2.0",
            "_model_name": "LayoutModel",
            "_view_count": null,
            "_view_module": "@jupyter-widgets/base",
            "_view_module_version": "1.2.0",
            "_view_name": "LayoutView",
            "align_content": null,
            "align_items": null,
            "align_self": null,
            "border": null,
            "bottom": null,
            "display": null,
            "flex": null,
            "flex_flow": null,
            "grid_area": null,
            "grid_auto_columns": null,
            "grid_auto_flow": null,
            "grid_auto_rows": null,
            "grid_column": null,
            "grid_gap": null,
            "grid_row": null,
            "grid_template_areas": null,
            "grid_template_columns": null,
            "grid_template_rows": null,
            "height": null,
            "justify_content": null,
            "justify_items": null,
            "left": null,
            "margin": null,
            "max_height": null,
            "max_width": null,
            "min_height": null,
            "min_width": null,
            "object_fit": null,
            "object_position": null,
            "order": null,
            "overflow": null,
            "overflow_x": null,
            "overflow_y": null,
            "padding": null,
            "right": null,
            "top": null,
            "visibility": null,
            "width": null
          }
        },
        "016b15f84cb444daa6de6788c5065ce0": {
          "model_module": "@jupyter-widgets/controls",
          "model_name": "DescriptionStyleModel",
          "model_module_version": "1.5.0",
          "state": {
            "_model_module": "@jupyter-widgets/controls",
            "_model_module_version": "1.5.0",
            "_model_name": "DescriptionStyleModel",
            "_view_count": null,
            "_view_module": "@jupyter-widgets/base",
            "_view_module_version": "1.2.0",
            "_view_name": "StyleView",
            "description_width": ""
          }
        },
        "0436fa547a434bceb8c19cdf583fbb8d": {
          "model_module": "@jupyter-widgets/base",
          "model_name": "LayoutModel",
          "model_module_version": "1.2.0",
          "state": {
            "_model_module": "@jupyter-widgets/base",
            "_model_module_version": "1.2.0",
            "_model_name": "LayoutModel",
            "_view_count": null,
            "_view_module": "@jupyter-widgets/base",
            "_view_module_version": "1.2.0",
            "_view_name": "LayoutView",
            "align_content": null,
            "align_items": null,
            "align_self": null,
            "border": null,
            "bottom": null,
            "display": null,
            "flex": null,
            "flex_flow": null,
            "grid_area": null,
            "grid_auto_columns": null,
            "grid_auto_flow": null,
            "grid_auto_rows": null,
            "grid_column": null,
            "grid_gap": null,
            "grid_row": null,
            "grid_template_areas": null,
            "grid_template_columns": null,
            "grid_template_rows": null,
            "height": null,
            "justify_content": null,
            "justify_items": null,
            "left": null,
            "margin": null,
            "max_height": null,
            "max_width": null,
            "min_height": null,
            "min_width": null,
            "object_fit": null,
            "object_position": null,
            "order": null,
            "overflow": null,
            "overflow_x": null,
            "overflow_y": null,
            "padding": null,
            "right": null,
            "top": null,
            "visibility": null,
            "width": null
          }
        },
        "26ea49e77e604d4d94854ab84284577f": {
          "model_module": "@jupyter-widgets/controls",
          "model_name": "ProgressStyleModel",
          "model_module_version": "1.5.0",
          "state": {
            "_model_module": "@jupyter-widgets/controls",
            "_model_module_version": "1.5.0",
            "_model_name": "ProgressStyleModel",
            "_view_count": null,
            "_view_module": "@jupyter-widgets/base",
            "_view_module_version": "1.2.0",
            "_view_name": "StyleView",
            "bar_color": null,
            "description_width": ""
          }
        },
        "38cebbd250ae4b88903ed3185efe5f64": {
          "model_module": "@jupyter-widgets/controls",
          "model_name": "VBoxModel",
          "model_module_version": "1.5.0",
          "state": {
            "_dom_classes": [],
            "_model_module": "@jupyter-widgets/controls",
            "_model_module_version": "1.5.0",
            "_model_name": "VBoxModel",
            "_view_count": null,
            "_view_module": "@jupyter-widgets/controls",
            "_view_module_version": "1.5.0",
            "_view_name": "VBoxView",
            "box_style": "",
            "children": [
              "IPY_MODEL_c5798fb20e8f46e5953b2e608574f043",
              "IPY_MODEL_f703409f2dde4bb0978e55976345bdc8"
            ],
            "layout": "IPY_MODEL_f773036977454e118135e536a39aa295"
          }
        },
        "c5798fb20e8f46e5953b2e608574f043": {
          "model_module": "@jupyter-widgets/controls",
          "model_name": "LabelModel",
          "model_module_version": "1.5.0",
          "state": {
            "_dom_classes": [],
            "_model_module": "@jupyter-widgets/controls",
            "_model_module_version": "1.5.0",
            "_model_name": "LabelModel",
            "_view_count": null,
            "_view_module": "@jupyter-widgets/controls",
            "_view_module_version": "1.5.0",
            "_view_name": "LabelView",
            "description": "",
            "description_tooltip": null,
            "layout": "IPY_MODEL_684dc92654b947cd9646a5b54e1e7c23",
            "placeholder": "​",
            "style": "IPY_MODEL_34322acc380d4b9fbee8337dd0c8e6f9",
            "value": "0.002 MB of 0.014 MB uploaded (0.000 MB deduped)\r"
          }
        },
        "f703409f2dde4bb0978e55976345bdc8": {
          "model_module": "@jupyter-widgets/controls",
          "model_name": "FloatProgressModel",
          "model_module_version": "1.5.0",
          "state": {
            "_dom_classes": [],
            "_model_module": "@jupyter-widgets/controls",
            "_model_module_version": "1.5.0",
            "_model_name": "FloatProgressModel",
            "_view_count": null,
            "_view_module": "@jupyter-widgets/controls",
            "_view_module_version": "1.5.0",
            "_view_name": "ProgressView",
            "bar_style": "",
            "description": "",
            "description_tooltip": null,
            "layout": "IPY_MODEL_47ef56caa20f46bc8b9c9c8bc12fdb96",
            "max": 1,
            "min": 0,
            "orientation": "horizontal",
            "style": "IPY_MODEL_14b63321698a4b619645bd90a31faa06",
            "value": 0.11511375947995667
          }
        },
        "f773036977454e118135e536a39aa295": {
          "model_module": "@jupyter-widgets/base",
          "model_name": "LayoutModel",
          "model_module_version": "1.2.0",
          "state": {
            "_model_module": "@jupyter-widgets/base",
            "_model_module_version": "1.2.0",
            "_model_name": "LayoutModel",
            "_view_count": null,
            "_view_module": "@jupyter-widgets/base",
            "_view_module_version": "1.2.0",
            "_view_name": "LayoutView",
            "align_content": null,
            "align_items": null,
            "align_self": null,
            "border": null,
            "bottom": null,
            "display": null,
            "flex": null,
            "flex_flow": null,
            "grid_area": null,
            "grid_auto_columns": null,
            "grid_auto_flow": null,
            "grid_auto_rows": null,
            "grid_column": null,
            "grid_gap": null,
            "grid_row": null,
            "grid_template_areas": null,
            "grid_template_columns": null,
            "grid_template_rows": null,
            "height": null,
            "justify_content": null,
            "justify_items": null,
            "left": null,
            "margin": null,
            "max_height": null,
            "max_width": null,
            "min_height": null,
            "min_width": null,
            "object_fit": null,
            "object_position": null,
            "order": null,
            "overflow": null,
            "overflow_x": null,
            "overflow_y": null,
            "padding": null,
            "right": null,
            "top": null,
            "visibility": null,
            "width": null
          }
        },
        "684dc92654b947cd9646a5b54e1e7c23": {
          "model_module": "@jupyter-widgets/base",
          "model_name": "LayoutModel",
          "model_module_version": "1.2.0",
          "state": {
            "_model_module": "@jupyter-widgets/base",
            "_model_module_version": "1.2.0",
            "_model_name": "LayoutModel",
            "_view_count": null,
            "_view_module": "@jupyter-widgets/base",
            "_view_module_version": "1.2.0",
            "_view_name": "LayoutView",
            "align_content": null,
            "align_items": null,
            "align_self": null,
            "border": null,
            "bottom": null,
            "display": null,
            "flex": null,
            "flex_flow": null,
            "grid_area": null,
            "grid_auto_columns": null,
            "grid_auto_flow": null,
            "grid_auto_rows": null,
            "grid_column": null,
            "grid_gap": null,
            "grid_row": null,
            "grid_template_areas": null,
            "grid_template_columns": null,
            "grid_template_rows": null,
            "height": null,
            "justify_content": null,
            "justify_items": null,
            "left": null,
            "margin": null,
            "max_height": null,
            "max_width": null,
            "min_height": null,
            "min_width": null,
            "object_fit": null,
            "object_position": null,
            "order": null,
            "overflow": null,
            "overflow_x": null,
            "overflow_y": null,
            "padding": null,
            "right": null,
            "top": null,
            "visibility": null,
            "width": null
          }
        },
        "34322acc380d4b9fbee8337dd0c8e6f9": {
          "model_module": "@jupyter-widgets/controls",
          "model_name": "DescriptionStyleModel",
          "model_module_version": "1.5.0",
          "state": {
            "_model_module": "@jupyter-widgets/controls",
            "_model_module_version": "1.5.0",
            "_model_name": "DescriptionStyleModel",
            "_view_count": null,
            "_view_module": "@jupyter-widgets/base",
            "_view_module_version": "1.2.0",
            "_view_name": "StyleView",
            "description_width": ""
          }
        },
        "47ef56caa20f46bc8b9c9c8bc12fdb96": {
          "model_module": "@jupyter-widgets/base",
          "model_name": "LayoutModel",
          "model_module_version": "1.2.0",
          "state": {
            "_model_module": "@jupyter-widgets/base",
            "_model_module_version": "1.2.0",
            "_model_name": "LayoutModel",
            "_view_count": null,
            "_view_module": "@jupyter-widgets/base",
            "_view_module_version": "1.2.0",
            "_view_name": "LayoutView",
            "align_content": null,
            "align_items": null,
            "align_self": null,
            "border": null,
            "bottom": null,
            "display": null,
            "flex": null,
            "flex_flow": null,
            "grid_area": null,
            "grid_auto_columns": null,
            "grid_auto_flow": null,
            "grid_auto_rows": null,
            "grid_column": null,
            "grid_gap": null,
            "grid_row": null,
            "grid_template_areas": null,
            "grid_template_columns": null,
            "grid_template_rows": null,
            "height": null,
            "justify_content": null,
            "justify_items": null,
            "left": null,
            "margin": null,
            "max_height": null,
            "max_width": null,
            "min_height": null,
            "min_width": null,
            "object_fit": null,
            "object_position": null,
            "order": null,
            "overflow": null,
            "overflow_x": null,
            "overflow_y": null,
            "padding": null,
            "right": null,
            "top": null,
            "visibility": null,
            "width": null
          }
        },
        "14b63321698a4b619645bd90a31faa06": {
          "model_module": "@jupyter-widgets/controls",
          "model_name": "ProgressStyleModel",
          "model_module_version": "1.5.0",
          "state": {
            "_model_module": "@jupyter-widgets/controls",
            "_model_module_version": "1.5.0",
            "_model_name": "ProgressStyleModel",
            "_view_count": null,
            "_view_module": "@jupyter-widgets/base",
            "_view_module_version": "1.2.0",
            "_view_name": "StyleView",
            "bar_color": null,
            "description_width": ""
          }
        },
        "dbbb8111d56a41f6ad98c8a4ba920014": {
          "model_module": "@jupyter-widgets/controls",
          "model_name": "VBoxModel",
          "model_module_version": "1.5.0",
          "state": {
            "_dom_classes": [],
            "_model_module": "@jupyter-widgets/controls",
            "_model_module_version": "1.5.0",
            "_model_name": "VBoxModel",
            "_view_count": null,
            "_view_module": "@jupyter-widgets/controls",
            "_view_module_version": "1.5.0",
            "_view_name": "VBoxView",
            "box_style": "",
            "children": [
              "IPY_MODEL_bb74b5640dfd4330855acd4737d1d58d",
              "IPY_MODEL_6aa9edc0f77b46349b2e8797d038f61d"
            ],
            "layout": "IPY_MODEL_05a35d68da0b4c629b9b6fe124a73e36"
          }
        },
        "bb74b5640dfd4330855acd4737d1d58d": {
          "model_module": "@jupyter-widgets/controls",
          "model_name": "LabelModel",
          "model_module_version": "1.5.0",
          "state": {
            "_dom_classes": [],
            "_model_module": "@jupyter-widgets/controls",
            "_model_module_version": "1.5.0",
            "_model_name": "LabelModel",
            "_view_count": null,
            "_view_module": "@jupyter-widgets/controls",
            "_view_module_version": "1.5.0",
            "_view_name": "LabelView",
            "description": "",
            "description_tooltip": null,
            "layout": "IPY_MODEL_5c0902d53eb04988a7790b53ebd053bc",
            "placeholder": "​",
            "style": "IPY_MODEL_c5897612f5094f1b86cc92afd4f0af58",
            "value": "0.001 MB of 0.014 MB uploaded (0.000 MB deduped)\r"
          }
        },
        "6aa9edc0f77b46349b2e8797d038f61d": {
          "model_module": "@jupyter-widgets/controls",
          "model_name": "FloatProgressModel",
          "model_module_version": "1.5.0",
          "state": {
            "_dom_classes": [],
            "_model_module": "@jupyter-widgets/controls",
            "_model_module_version": "1.5.0",
            "_model_name": "FloatProgressModel",
            "_view_count": null,
            "_view_module": "@jupyter-widgets/controls",
            "_view_module_version": "1.5.0",
            "_view_name": "ProgressView",
            "bar_style": "",
            "description": "",
            "description_tooltip": null,
            "layout": "IPY_MODEL_735e20d157274a75b6ca31d9f73e84e9",
            "max": 1,
            "min": 0,
            "orientation": "horizontal",
            "style": "IPY_MODEL_9628399cfd9640d0a11be0d6e40c9e53",
            "value": 0.07239819004524888
          }
        },
        "05a35d68da0b4c629b9b6fe124a73e36": {
          "model_module": "@jupyter-widgets/base",
          "model_name": "LayoutModel",
          "model_module_version": "1.2.0",
          "state": {
            "_model_module": "@jupyter-widgets/base",
            "_model_module_version": "1.2.0",
            "_model_name": "LayoutModel",
            "_view_count": null,
            "_view_module": "@jupyter-widgets/base",
            "_view_module_version": "1.2.0",
            "_view_name": "LayoutView",
            "align_content": null,
            "align_items": null,
            "align_self": null,
            "border": null,
            "bottom": null,
            "display": null,
            "flex": null,
            "flex_flow": null,
            "grid_area": null,
            "grid_auto_columns": null,
            "grid_auto_flow": null,
            "grid_auto_rows": null,
            "grid_column": null,
            "grid_gap": null,
            "grid_row": null,
            "grid_template_areas": null,
            "grid_template_columns": null,
            "grid_template_rows": null,
            "height": null,
            "justify_content": null,
            "justify_items": null,
            "left": null,
            "margin": null,
            "max_height": null,
            "max_width": null,
            "min_height": null,
            "min_width": null,
            "object_fit": null,
            "object_position": null,
            "order": null,
            "overflow": null,
            "overflow_x": null,
            "overflow_y": null,
            "padding": null,
            "right": null,
            "top": null,
            "visibility": null,
            "width": null
          }
        },
        "5c0902d53eb04988a7790b53ebd053bc": {
          "model_module": "@jupyter-widgets/base",
          "model_name": "LayoutModel",
          "model_module_version": "1.2.0",
          "state": {
            "_model_module": "@jupyter-widgets/base",
            "_model_module_version": "1.2.0",
            "_model_name": "LayoutModel",
            "_view_count": null,
            "_view_module": "@jupyter-widgets/base",
            "_view_module_version": "1.2.0",
            "_view_name": "LayoutView",
            "align_content": null,
            "align_items": null,
            "align_self": null,
            "border": null,
            "bottom": null,
            "display": null,
            "flex": null,
            "flex_flow": null,
            "grid_area": null,
            "grid_auto_columns": null,
            "grid_auto_flow": null,
            "grid_auto_rows": null,
            "grid_column": null,
            "grid_gap": null,
            "grid_row": null,
            "grid_template_areas": null,
            "grid_template_columns": null,
            "grid_template_rows": null,
            "height": null,
            "justify_content": null,
            "justify_items": null,
            "left": null,
            "margin": null,
            "max_height": null,
            "max_width": null,
            "min_height": null,
            "min_width": null,
            "object_fit": null,
            "object_position": null,
            "order": null,
            "overflow": null,
            "overflow_x": null,
            "overflow_y": null,
            "padding": null,
            "right": null,
            "top": null,
            "visibility": null,
            "width": null
          }
        },
        "c5897612f5094f1b86cc92afd4f0af58": {
          "model_module": "@jupyter-widgets/controls",
          "model_name": "DescriptionStyleModel",
          "model_module_version": "1.5.0",
          "state": {
            "_model_module": "@jupyter-widgets/controls",
            "_model_module_version": "1.5.0",
            "_model_name": "DescriptionStyleModel",
            "_view_count": null,
            "_view_module": "@jupyter-widgets/base",
            "_view_module_version": "1.2.0",
            "_view_name": "StyleView",
            "description_width": ""
          }
        },
        "735e20d157274a75b6ca31d9f73e84e9": {
          "model_module": "@jupyter-widgets/base",
          "model_name": "LayoutModel",
          "model_module_version": "1.2.0",
          "state": {
            "_model_module": "@jupyter-widgets/base",
            "_model_module_version": "1.2.0",
            "_model_name": "LayoutModel",
            "_view_count": null,
            "_view_module": "@jupyter-widgets/base",
            "_view_module_version": "1.2.0",
            "_view_name": "LayoutView",
            "align_content": null,
            "align_items": null,
            "align_self": null,
            "border": null,
            "bottom": null,
            "display": null,
            "flex": null,
            "flex_flow": null,
            "grid_area": null,
            "grid_auto_columns": null,
            "grid_auto_flow": null,
            "grid_auto_rows": null,
            "grid_column": null,
            "grid_gap": null,
            "grid_row": null,
            "grid_template_areas": null,
            "grid_template_columns": null,
            "grid_template_rows": null,
            "height": null,
            "justify_content": null,
            "justify_items": null,
            "left": null,
            "margin": null,
            "max_height": null,
            "max_width": null,
            "min_height": null,
            "min_width": null,
            "object_fit": null,
            "object_position": null,
            "order": null,
            "overflow": null,
            "overflow_x": null,
            "overflow_y": null,
            "padding": null,
            "right": null,
            "top": null,
            "visibility": null,
            "width": null
          }
        },
        "9628399cfd9640d0a11be0d6e40c9e53": {
          "model_module": "@jupyter-widgets/controls",
          "model_name": "ProgressStyleModel",
          "model_module_version": "1.5.0",
          "state": {
            "_model_module": "@jupyter-widgets/controls",
            "_model_module_version": "1.5.0",
            "_model_name": "ProgressStyleModel",
            "_view_count": null,
            "_view_module": "@jupyter-widgets/base",
            "_view_module_version": "1.2.0",
            "_view_name": "StyleView",
            "bar_color": null,
            "description_width": ""
          }
        },
        "f99c7e0e94f44298abab45becef51134": {
          "model_module": "@jupyter-widgets/controls",
          "model_name": "VBoxModel",
          "model_module_version": "1.5.0",
          "state": {
            "_dom_classes": [],
            "_model_module": "@jupyter-widgets/controls",
            "_model_module_version": "1.5.0",
            "_model_name": "VBoxModel",
            "_view_count": null,
            "_view_module": "@jupyter-widgets/controls",
            "_view_module_version": "1.5.0",
            "_view_name": "VBoxView",
            "box_style": "",
            "children": [
              "IPY_MODEL_9e74e44b01a141cb9cccf960dd06b187",
              "IPY_MODEL_9484db9cd7604df084e6fc679cb45caa"
            ],
            "layout": "IPY_MODEL_fbf5bf94c0604d33bcb47e91cb02b780"
          }
        },
        "9e74e44b01a141cb9cccf960dd06b187": {
          "model_module": "@jupyter-widgets/controls",
          "model_name": "LabelModel",
          "model_module_version": "1.5.0",
          "state": {
            "_dom_classes": [],
            "_model_module": "@jupyter-widgets/controls",
            "_model_module_version": "1.5.0",
            "_model_name": "LabelModel",
            "_view_count": null,
            "_view_module": "@jupyter-widgets/controls",
            "_view_module_version": "1.5.0",
            "_view_name": "LabelView",
            "description": "",
            "description_tooltip": null,
            "layout": "IPY_MODEL_e0c02032b768412ab821d2dd3f00cd62",
            "placeholder": "​",
            "style": "IPY_MODEL_28f3e894bd4949dfbc0c1c43140fd030",
            "value": "0.001 MB of 0.014 MB uploaded (0.000 MB deduped)\r"
          }
        },
        "9484db9cd7604df084e6fc679cb45caa": {
          "model_module": "@jupyter-widgets/controls",
          "model_name": "FloatProgressModel",
          "model_module_version": "1.5.0",
          "state": {
            "_dom_classes": [],
            "_model_module": "@jupyter-widgets/controls",
            "_model_module_version": "1.5.0",
            "_model_name": "FloatProgressModel",
            "_view_count": null,
            "_view_module": "@jupyter-widgets/controls",
            "_view_module_version": "1.5.0",
            "_view_name": "ProgressView",
            "bar_style": "",
            "description": "",
            "description_tooltip": null,
            "layout": "IPY_MODEL_3f7d4270110847ee949b96367f7acc6a",
            "max": 1,
            "min": 0,
            "orientation": "horizontal",
            "style": "IPY_MODEL_e887ca6648c447eeaece0e49860b4754",
            "value": 0.07415605976757056
          }
        },
        "fbf5bf94c0604d33bcb47e91cb02b780": {
          "model_module": "@jupyter-widgets/base",
          "model_name": "LayoutModel",
          "model_module_version": "1.2.0",
          "state": {
            "_model_module": "@jupyter-widgets/base",
            "_model_module_version": "1.2.0",
            "_model_name": "LayoutModel",
            "_view_count": null,
            "_view_module": "@jupyter-widgets/base",
            "_view_module_version": "1.2.0",
            "_view_name": "LayoutView",
            "align_content": null,
            "align_items": null,
            "align_self": null,
            "border": null,
            "bottom": null,
            "display": null,
            "flex": null,
            "flex_flow": null,
            "grid_area": null,
            "grid_auto_columns": null,
            "grid_auto_flow": null,
            "grid_auto_rows": null,
            "grid_column": null,
            "grid_gap": null,
            "grid_row": null,
            "grid_template_areas": null,
            "grid_template_columns": null,
            "grid_template_rows": null,
            "height": null,
            "justify_content": null,
            "justify_items": null,
            "left": null,
            "margin": null,
            "max_height": null,
            "max_width": null,
            "min_height": null,
            "min_width": null,
            "object_fit": null,
            "object_position": null,
            "order": null,
            "overflow": null,
            "overflow_x": null,
            "overflow_y": null,
            "padding": null,
            "right": null,
            "top": null,
            "visibility": null,
            "width": null
          }
        },
        "e0c02032b768412ab821d2dd3f00cd62": {
          "model_module": "@jupyter-widgets/base",
          "model_name": "LayoutModel",
          "model_module_version": "1.2.0",
          "state": {
            "_model_module": "@jupyter-widgets/base",
            "_model_module_version": "1.2.0",
            "_model_name": "LayoutModel",
            "_view_count": null,
            "_view_module": "@jupyter-widgets/base",
            "_view_module_version": "1.2.0",
            "_view_name": "LayoutView",
            "align_content": null,
            "align_items": null,
            "align_self": null,
            "border": null,
            "bottom": null,
            "display": null,
            "flex": null,
            "flex_flow": null,
            "grid_area": null,
            "grid_auto_columns": null,
            "grid_auto_flow": null,
            "grid_auto_rows": null,
            "grid_column": null,
            "grid_gap": null,
            "grid_row": null,
            "grid_template_areas": null,
            "grid_template_columns": null,
            "grid_template_rows": null,
            "height": null,
            "justify_content": null,
            "justify_items": null,
            "left": null,
            "margin": null,
            "max_height": null,
            "max_width": null,
            "min_height": null,
            "min_width": null,
            "object_fit": null,
            "object_position": null,
            "order": null,
            "overflow": null,
            "overflow_x": null,
            "overflow_y": null,
            "padding": null,
            "right": null,
            "top": null,
            "visibility": null,
            "width": null
          }
        },
        "28f3e894bd4949dfbc0c1c43140fd030": {
          "model_module": "@jupyter-widgets/controls",
          "model_name": "DescriptionStyleModel",
          "model_module_version": "1.5.0",
          "state": {
            "_model_module": "@jupyter-widgets/controls",
            "_model_module_version": "1.5.0",
            "_model_name": "DescriptionStyleModel",
            "_view_count": null,
            "_view_module": "@jupyter-widgets/base",
            "_view_module_version": "1.2.0",
            "_view_name": "StyleView",
            "description_width": ""
          }
        },
        "3f7d4270110847ee949b96367f7acc6a": {
          "model_module": "@jupyter-widgets/base",
          "model_name": "LayoutModel",
          "model_module_version": "1.2.0",
          "state": {
            "_model_module": "@jupyter-widgets/base",
            "_model_module_version": "1.2.0",
            "_model_name": "LayoutModel",
            "_view_count": null,
            "_view_module": "@jupyter-widgets/base",
            "_view_module_version": "1.2.0",
            "_view_name": "LayoutView",
            "align_content": null,
            "align_items": null,
            "align_self": null,
            "border": null,
            "bottom": null,
            "display": null,
            "flex": null,
            "flex_flow": null,
            "grid_area": null,
            "grid_auto_columns": null,
            "grid_auto_flow": null,
            "grid_auto_rows": null,
            "grid_column": null,
            "grid_gap": null,
            "grid_row": null,
            "grid_template_areas": null,
            "grid_template_columns": null,
            "grid_template_rows": null,
            "height": null,
            "justify_content": null,
            "justify_items": null,
            "left": null,
            "margin": null,
            "max_height": null,
            "max_width": null,
            "min_height": null,
            "min_width": null,
            "object_fit": null,
            "object_position": null,
            "order": null,
            "overflow": null,
            "overflow_x": null,
            "overflow_y": null,
            "padding": null,
            "right": null,
            "top": null,
            "visibility": null,
            "width": null
          }
        },
        "e887ca6648c447eeaece0e49860b4754": {
          "model_module": "@jupyter-widgets/controls",
          "model_name": "ProgressStyleModel",
          "model_module_version": "1.5.0",
          "state": {
            "_model_module": "@jupyter-widgets/controls",
            "_model_module_version": "1.5.0",
            "_model_name": "ProgressStyleModel",
            "_view_count": null,
            "_view_module": "@jupyter-widgets/base",
            "_view_module_version": "1.2.0",
            "_view_name": "StyleView",
            "bar_color": null,
            "description_width": ""
          }
        },
        "f7b059d9123840e6823be92b34de1f3d": {
          "model_module": "@jupyter-widgets/controls",
          "model_name": "VBoxModel",
          "model_module_version": "1.5.0",
          "state": {
            "_dom_classes": [],
            "_model_module": "@jupyter-widgets/controls",
            "_model_module_version": "1.5.0",
            "_model_name": "VBoxModel",
            "_view_count": null,
            "_view_module": "@jupyter-widgets/controls",
            "_view_module_version": "1.5.0",
            "_view_name": "VBoxView",
            "box_style": "",
            "children": [
              "IPY_MODEL_25e992c4a0d14c16b5e3385bdf2f7aad",
              "IPY_MODEL_34d14004cf4c49909050e9b4b5dc382b"
            ],
            "layout": "IPY_MODEL_5fc4874b25834d07939e736b7f76935b"
          }
        },
        "25e992c4a0d14c16b5e3385bdf2f7aad": {
          "model_module": "@jupyter-widgets/controls",
          "model_name": "LabelModel",
          "model_module_version": "1.5.0",
          "state": {
            "_dom_classes": [],
            "_model_module": "@jupyter-widgets/controls",
            "_model_module_version": "1.5.0",
            "_model_name": "LabelModel",
            "_view_count": null,
            "_view_module": "@jupyter-widgets/controls",
            "_view_module_version": "1.5.0",
            "_view_name": "LabelView",
            "description": "",
            "description_tooltip": null,
            "layout": "IPY_MODEL_161c2f613b49457da1bf5fbb88f3da69",
            "placeholder": "​",
            "style": "IPY_MODEL_378f15507f4741858149972420275f2f",
            "value": "0.010 MB of 0.013 MB uploaded (0.000 MB deduped)\r"
          }
        },
        "34d14004cf4c49909050e9b4b5dc382b": {
          "model_module": "@jupyter-widgets/controls",
          "model_name": "FloatProgressModel",
          "model_module_version": "1.5.0",
          "state": {
            "_dom_classes": [],
            "_model_module": "@jupyter-widgets/controls",
            "_model_module_version": "1.5.0",
            "_model_name": "FloatProgressModel",
            "_view_count": null,
            "_view_module": "@jupyter-widgets/controls",
            "_view_module_version": "1.5.0",
            "_view_name": "ProgressView",
            "bar_style": "",
            "description": "",
            "description_tooltip": null,
            "layout": "IPY_MODEL_bf48795c704244da82056029491faf31",
            "max": 1,
            "min": 0,
            "orientation": "horizontal",
            "style": "IPY_MODEL_a05262f3342e41ec940710f7e93a9c5a",
            "value": 0.8191793176010822
          }
        },
        "5fc4874b25834d07939e736b7f76935b": {
          "model_module": "@jupyter-widgets/base",
          "model_name": "LayoutModel",
          "model_module_version": "1.2.0",
          "state": {
            "_model_module": "@jupyter-widgets/base",
            "_model_module_version": "1.2.0",
            "_model_name": "LayoutModel",
            "_view_count": null,
            "_view_module": "@jupyter-widgets/base",
            "_view_module_version": "1.2.0",
            "_view_name": "LayoutView",
            "align_content": null,
            "align_items": null,
            "align_self": null,
            "border": null,
            "bottom": null,
            "display": null,
            "flex": null,
            "flex_flow": null,
            "grid_area": null,
            "grid_auto_columns": null,
            "grid_auto_flow": null,
            "grid_auto_rows": null,
            "grid_column": null,
            "grid_gap": null,
            "grid_row": null,
            "grid_template_areas": null,
            "grid_template_columns": null,
            "grid_template_rows": null,
            "height": null,
            "justify_content": null,
            "justify_items": null,
            "left": null,
            "margin": null,
            "max_height": null,
            "max_width": null,
            "min_height": null,
            "min_width": null,
            "object_fit": null,
            "object_position": null,
            "order": null,
            "overflow": null,
            "overflow_x": null,
            "overflow_y": null,
            "padding": null,
            "right": null,
            "top": null,
            "visibility": null,
            "width": null
          }
        },
        "161c2f613b49457da1bf5fbb88f3da69": {
          "model_module": "@jupyter-widgets/base",
          "model_name": "LayoutModel",
          "model_module_version": "1.2.0",
          "state": {
            "_model_module": "@jupyter-widgets/base",
            "_model_module_version": "1.2.0",
            "_model_name": "LayoutModel",
            "_view_count": null,
            "_view_module": "@jupyter-widgets/base",
            "_view_module_version": "1.2.0",
            "_view_name": "LayoutView",
            "align_content": null,
            "align_items": null,
            "align_self": null,
            "border": null,
            "bottom": null,
            "display": null,
            "flex": null,
            "flex_flow": null,
            "grid_area": null,
            "grid_auto_columns": null,
            "grid_auto_flow": null,
            "grid_auto_rows": null,
            "grid_column": null,
            "grid_gap": null,
            "grid_row": null,
            "grid_template_areas": null,
            "grid_template_columns": null,
            "grid_template_rows": null,
            "height": null,
            "justify_content": null,
            "justify_items": null,
            "left": null,
            "margin": null,
            "max_height": null,
            "max_width": null,
            "min_height": null,
            "min_width": null,
            "object_fit": null,
            "object_position": null,
            "order": null,
            "overflow": null,
            "overflow_x": null,
            "overflow_y": null,
            "padding": null,
            "right": null,
            "top": null,
            "visibility": null,
            "width": null
          }
        },
        "378f15507f4741858149972420275f2f": {
          "model_module": "@jupyter-widgets/controls",
          "model_name": "DescriptionStyleModel",
          "model_module_version": "1.5.0",
          "state": {
            "_model_module": "@jupyter-widgets/controls",
            "_model_module_version": "1.5.0",
            "_model_name": "DescriptionStyleModel",
            "_view_count": null,
            "_view_module": "@jupyter-widgets/base",
            "_view_module_version": "1.2.0",
            "_view_name": "StyleView",
            "description_width": ""
          }
        },
        "bf48795c704244da82056029491faf31": {
          "model_module": "@jupyter-widgets/base",
          "model_name": "LayoutModel",
          "model_module_version": "1.2.0",
          "state": {
            "_model_module": "@jupyter-widgets/base",
            "_model_module_version": "1.2.0",
            "_model_name": "LayoutModel",
            "_view_count": null,
            "_view_module": "@jupyter-widgets/base",
            "_view_module_version": "1.2.0",
            "_view_name": "LayoutView",
            "align_content": null,
            "align_items": null,
            "align_self": null,
            "border": null,
            "bottom": null,
            "display": null,
            "flex": null,
            "flex_flow": null,
            "grid_area": null,
            "grid_auto_columns": null,
            "grid_auto_flow": null,
            "grid_auto_rows": null,
            "grid_column": null,
            "grid_gap": null,
            "grid_row": null,
            "grid_template_areas": null,
            "grid_template_columns": null,
            "grid_template_rows": null,
            "height": null,
            "justify_content": null,
            "justify_items": null,
            "left": null,
            "margin": null,
            "max_height": null,
            "max_width": null,
            "min_height": null,
            "min_width": null,
            "object_fit": null,
            "object_position": null,
            "order": null,
            "overflow": null,
            "overflow_x": null,
            "overflow_y": null,
            "padding": null,
            "right": null,
            "top": null,
            "visibility": null,
            "width": null
          }
        },
        "a05262f3342e41ec940710f7e93a9c5a": {
          "model_module": "@jupyter-widgets/controls",
          "model_name": "ProgressStyleModel",
          "model_module_version": "1.5.0",
          "state": {
            "_model_module": "@jupyter-widgets/controls",
            "_model_module_version": "1.5.0",
            "_model_name": "ProgressStyleModel",
            "_view_count": null,
            "_view_module": "@jupyter-widgets/base",
            "_view_module_version": "1.2.0",
            "_view_name": "StyleView",
            "bar_color": null,
            "description_width": ""
          }
        },
        "c0ef5af32e7649c2a4523f21ee09a6ed": {
          "model_module": "@jupyter-widgets/controls",
          "model_name": "VBoxModel",
          "model_module_version": "1.5.0",
          "state": {
            "_dom_classes": [],
            "_model_module": "@jupyter-widgets/controls",
            "_model_module_version": "1.5.0",
            "_model_name": "VBoxModel",
            "_view_count": null,
            "_view_module": "@jupyter-widgets/controls",
            "_view_module_version": "1.5.0",
            "_view_name": "VBoxView",
            "box_style": "",
            "children": [
              "IPY_MODEL_cecab9911e644038bb62fe22b939c25d",
              "IPY_MODEL_3ee88feb4a7e4d7f8445cdb5ac61996a"
            ],
            "layout": "IPY_MODEL_8309fe4718414db3bc71bfe4d76f36c2"
          }
        },
        "cecab9911e644038bb62fe22b939c25d": {
          "model_module": "@jupyter-widgets/controls",
          "model_name": "LabelModel",
          "model_module_version": "1.5.0",
          "state": {
            "_dom_classes": [],
            "_model_module": "@jupyter-widgets/controls",
            "_model_module_version": "1.5.0",
            "_model_name": "LabelModel",
            "_view_count": null,
            "_view_module": "@jupyter-widgets/controls",
            "_view_module_version": "1.5.0",
            "_view_name": "LabelView",
            "description": "",
            "description_tooltip": null,
            "layout": "IPY_MODEL_e2a9421d6fb84a1f826a53c483f2e2a1",
            "placeholder": "​",
            "style": "IPY_MODEL_f8052c58a3d34c3286f3e05430eac151",
            "value": "0.001 MB of 0.014 MB uploaded (0.000 MB deduped)\r"
          }
        },
        "3ee88feb4a7e4d7f8445cdb5ac61996a": {
          "model_module": "@jupyter-widgets/controls",
          "model_name": "FloatProgressModel",
          "model_module_version": "1.5.0",
          "state": {
            "_dom_classes": [],
            "_model_module": "@jupyter-widgets/controls",
            "_model_module_version": "1.5.0",
            "_model_name": "FloatProgressModel",
            "_view_count": null,
            "_view_module": "@jupyter-widgets/controls",
            "_view_module_version": "1.5.0",
            "_view_name": "ProgressView",
            "bar_style": "",
            "description": "",
            "description_tooltip": null,
            "layout": "IPY_MODEL_c4a03030e50445779bf731c10edf4c8c",
            "max": 1,
            "min": 0,
            "orientation": "horizontal",
            "style": "IPY_MODEL_614d38bf69ee4f33b6c8b508f5e9f1eb",
            "value": 0.07256864601650209
          }
        },
        "8309fe4718414db3bc71bfe4d76f36c2": {
          "model_module": "@jupyter-widgets/base",
          "model_name": "LayoutModel",
          "model_module_version": "1.2.0",
          "state": {
            "_model_module": "@jupyter-widgets/base",
            "_model_module_version": "1.2.0",
            "_model_name": "LayoutModel",
            "_view_count": null,
            "_view_module": "@jupyter-widgets/base",
            "_view_module_version": "1.2.0",
            "_view_name": "LayoutView",
            "align_content": null,
            "align_items": null,
            "align_self": null,
            "border": null,
            "bottom": null,
            "display": null,
            "flex": null,
            "flex_flow": null,
            "grid_area": null,
            "grid_auto_columns": null,
            "grid_auto_flow": null,
            "grid_auto_rows": null,
            "grid_column": null,
            "grid_gap": null,
            "grid_row": null,
            "grid_template_areas": null,
            "grid_template_columns": null,
            "grid_template_rows": null,
            "height": null,
            "justify_content": null,
            "justify_items": null,
            "left": null,
            "margin": null,
            "max_height": null,
            "max_width": null,
            "min_height": null,
            "min_width": null,
            "object_fit": null,
            "object_position": null,
            "order": null,
            "overflow": null,
            "overflow_x": null,
            "overflow_y": null,
            "padding": null,
            "right": null,
            "top": null,
            "visibility": null,
            "width": null
          }
        },
        "e2a9421d6fb84a1f826a53c483f2e2a1": {
          "model_module": "@jupyter-widgets/base",
          "model_name": "LayoutModel",
          "model_module_version": "1.2.0",
          "state": {
            "_model_module": "@jupyter-widgets/base",
            "_model_module_version": "1.2.0",
            "_model_name": "LayoutModel",
            "_view_count": null,
            "_view_module": "@jupyter-widgets/base",
            "_view_module_version": "1.2.0",
            "_view_name": "LayoutView",
            "align_content": null,
            "align_items": null,
            "align_self": null,
            "border": null,
            "bottom": null,
            "display": null,
            "flex": null,
            "flex_flow": null,
            "grid_area": null,
            "grid_auto_columns": null,
            "grid_auto_flow": null,
            "grid_auto_rows": null,
            "grid_column": null,
            "grid_gap": null,
            "grid_row": null,
            "grid_template_areas": null,
            "grid_template_columns": null,
            "grid_template_rows": null,
            "height": null,
            "justify_content": null,
            "justify_items": null,
            "left": null,
            "margin": null,
            "max_height": null,
            "max_width": null,
            "min_height": null,
            "min_width": null,
            "object_fit": null,
            "object_position": null,
            "order": null,
            "overflow": null,
            "overflow_x": null,
            "overflow_y": null,
            "padding": null,
            "right": null,
            "top": null,
            "visibility": null,
            "width": null
          }
        },
        "f8052c58a3d34c3286f3e05430eac151": {
          "model_module": "@jupyter-widgets/controls",
          "model_name": "DescriptionStyleModel",
          "model_module_version": "1.5.0",
          "state": {
            "_model_module": "@jupyter-widgets/controls",
            "_model_module_version": "1.5.0",
            "_model_name": "DescriptionStyleModel",
            "_view_count": null,
            "_view_module": "@jupyter-widgets/base",
            "_view_module_version": "1.2.0",
            "_view_name": "StyleView",
            "description_width": ""
          }
        },
        "c4a03030e50445779bf731c10edf4c8c": {
          "model_module": "@jupyter-widgets/base",
          "model_name": "LayoutModel",
          "model_module_version": "1.2.0",
          "state": {
            "_model_module": "@jupyter-widgets/base",
            "_model_module_version": "1.2.0",
            "_model_name": "LayoutModel",
            "_view_count": null,
            "_view_module": "@jupyter-widgets/base",
            "_view_module_version": "1.2.0",
            "_view_name": "LayoutView",
            "align_content": null,
            "align_items": null,
            "align_self": null,
            "border": null,
            "bottom": null,
            "display": null,
            "flex": null,
            "flex_flow": null,
            "grid_area": null,
            "grid_auto_columns": null,
            "grid_auto_flow": null,
            "grid_auto_rows": null,
            "grid_column": null,
            "grid_gap": null,
            "grid_row": null,
            "grid_template_areas": null,
            "grid_template_columns": null,
            "grid_template_rows": null,
            "height": null,
            "justify_content": null,
            "justify_items": null,
            "left": null,
            "margin": null,
            "max_height": null,
            "max_width": null,
            "min_height": null,
            "min_width": null,
            "object_fit": null,
            "object_position": null,
            "order": null,
            "overflow": null,
            "overflow_x": null,
            "overflow_y": null,
            "padding": null,
            "right": null,
            "top": null,
            "visibility": null,
            "width": null
          }
        },
        "614d38bf69ee4f33b6c8b508f5e9f1eb": {
          "model_module": "@jupyter-widgets/controls",
          "model_name": "ProgressStyleModel",
          "model_module_version": "1.5.0",
          "state": {
            "_model_module": "@jupyter-widgets/controls",
            "_model_module_version": "1.5.0",
            "_model_name": "ProgressStyleModel",
            "_view_count": null,
            "_view_module": "@jupyter-widgets/base",
            "_view_module_version": "1.2.0",
            "_view_name": "StyleView",
            "bar_color": null,
            "description_width": ""
          }
        },
        "059f44e91cd244489cd816981d054fe4": {
          "model_module": "@jupyter-widgets/controls",
          "model_name": "VBoxModel",
          "model_module_version": "1.5.0",
          "state": {
            "_dom_classes": [],
            "_model_module": "@jupyter-widgets/controls",
            "_model_module_version": "1.5.0",
            "_model_name": "VBoxModel",
            "_view_count": null,
            "_view_module": "@jupyter-widgets/controls",
            "_view_module_version": "1.5.0",
            "_view_name": "VBoxView",
            "box_style": "",
            "children": [
              "IPY_MODEL_3955bff847bc47a296b83737b39738de",
              "IPY_MODEL_55a74ee058ae4a37a191423b3634ffef"
            ],
            "layout": "IPY_MODEL_2cb1ec51b3b646449b743cb7f623b553"
          }
        },
        "3955bff847bc47a296b83737b39738de": {
          "model_module": "@jupyter-widgets/controls",
          "model_name": "LabelModel",
          "model_module_version": "1.5.0",
          "state": {
            "_dom_classes": [],
            "_model_module": "@jupyter-widgets/controls",
            "_model_module_version": "1.5.0",
            "_model_name": "LabelModel",
            "_view_count": null,
            "_view_module": "@jupyter-widgets/controls",
            "_view_module_version": "1.5.0",
            "_view_name": "LabelView",
            "description": "",
            "description_tooltip": null,
            "layout": "IPY_MODEL_960f6bce2e934fb893004c7547642466",
            "placeholder": "​",
            "style": "IPY_MODEL_c1fc2d932aa944cf9a86bd0f9cbd06d2",
            "value": "0.001 MB of 0.014 MB uploaded (0.000 MB deduped)\r"
          }
        },
        "55a74ee058ae4a37a191423b3634ffef": {
          "model_module": "@jupyter-widgets/controls",
          "model_name": "FloatProgressModel",
          "model_module_version": "1.5.0",
          "state": {
            "_dom_classes": [],
            "_model_module": "@jupyter-widgets/controls",
            "_model_module_version": "1.5.0",
            "_model_name": "FloatProgressModel",
            "_view_count": null,
            "_view_module": "@jupyter-widgets/controls",
            "_view_module_version": "1.5.0",
            "_view_name": "ProgressView",
            "bar_style": "",
            "description": "",
            "description_tooltip": null,
            "layout": "IPY_MODEL_02ab8e221819423d860a4af888e8ecf0",
            "max": 1,
            "min": 0,
            "orientation": "horizontal",
            "style": "IPY_MODEL_61269232e9bc47fb823c148fc7725ae7",
            "value": 0.07455012853470437
          }
        },
        "2cb1ec51b3b646449b743cb7f623b553": {
          "model_module": "@jupyter-widgets/base",
          "model_name": "LayoutModel",
          "model_module_version": "1.2.0",
          "state": {
            "_model_module": "@jupyter-widgets/base",
            "_model_module_version": "1.2.0",
            "_model_name": "LayoutModel",
            "_view_count": null,
            "_view_module": "@jupyter-widgets/base",
            "_view_module_version": "1.2.0",
            "_view_name": "LayoutView",
            "align_content": null,
            "align_items": null,
            "align_self": null,
            "border": null,
            "bottom": null,
            "display": null,
            "flex": null,
            "flex_flow": null,
            "grid_area": null,
            "grid_auto_columns": null,
            "grid_auto_flow": null,
            "grid_auto_rows": null,
            "grid_column": null,
            "grid_gap": null,
            "grid_row": null,
            "grid_template_areas": null,
            "grid_template_columns": null,
            "grid_template_rows": null,
            "height": null,
            "justify_content": null,
            "justify_items": null,
            "left": null,
            "margin": null,
            "max_height": null,
            "max_width": null,
            "min_height": null,
            "min_width": null,
            "object_fit": null,
            "object_position": null,
            "order": null,
            "overflow": null,
            "overflow_x": null,
            "overflow_y": null,
            "padding": null,
            "right": null,
            "top": null,
            "visibility": null,
            "width": null
          }
        },
        "960f6bce2e934fb893004c7547642466": {
          "model_module": "@jupyter-widgets/base",
          "model_name": "LayoutModel",
          "model_module_version": "1.2.0",
          "state": {
            "_model_module": "@jupyter-widgets/base",
            "_model_module_version": "1.2.0",
            "_model_name": "LayoutModel",
            "_view_count": null,
            "_view_module": "@jupyter-widgets/base",
            "_view_module_version": "1.2.0",
            "_view_name": "LayoutView",
            "align_content": null,
            "align_items": null,
            "align_self": null,
            "border": null,
            "bottom": null,
            "display": null,
            "flex": null,
            "flex_flow": null,
            "grid_area": null,
            "grid_auto_columns": null,
            "grid_auto_flow": null,
            "grid_auto_rows": null,
            "grid_column": null,
            "grid_gap": null,
            "grid_row": null,
            "grid_template_areas": null,
            "grid_template_columns": null,
            "grid_template_rows": null,
            "height": null,
            "justify_content": null,
            "justify_items": null,
            "left": null,
            "margin": null,
            "max_height": null,
            "max_width": null,
            "min_height": null,
            "min_width": null,
            "object_fit": null,
            "object_position": null,
            "order": null,
            "overflow": null,
            "overflow_x": null,
            "overflow_y": null,
            "padding": null,
            "right": null,
            "top": null,
            "visibility": null,
            "width": null
          }
        },
        "c1fc2d932aa944cf9a86bd0f9cbd06d2": {
          "model_module": "@jupyter-widgets/controls",
          "model_name": "DescriptionStyleModel",
          "model_module_version": "1.5.0",
          "state": {
            "_model_module": "@jupyter-widgets/controls",
            "_model_module_version": "1.5.0",
            "_model_name": "DescriptionStyleModel",
            "_view_count": null,
            "_view_module": "@jupyter-widgets/base",
            "_view_module_version": "1.2.0",
            "_view_name": "StyleView",
            "description_width": ""
          }
        },
        "02ab8e221819423d860a4af888e8ecf0": {
          "model_module": "@jupyter-widgets/base",
          "model_name": "LayoutModel",
          "model_module_version": "1.2.0",
          "state": {
            "_model_module": "@jupyter-widgets/base",
            "_model_module_version": "1.2.0",
            "_model_name": "LayoutModel",
            "_view_count": null,
            "_view_module": "@jupyter-widgets/base",
            "_view_module_version": "1.2.0",
            "_view_name": "LayoutView",
            "align_content": null,
            "align_items": null,
            "align_self": null,
            "border": null,
            "bottom": null,
            "display": null,
            "flex": null,
            "flex_flow": null,
            "grid_area": null,
            "grid_auto_columns": null,
            "grid_auto_flow": null,
            "grid_auto_rows": null,
            "grid_column": null,
            "grid_gap": null,
            "grid_row": null,
            "grid_template_areas": null,
            "grid_template_columns": null,
            "grid_template_rows": null,
            "height": null,
            "justify_content": null,
            "justify_items": null,
            "left": null,
            "margin": null,
            "max_height": null,
            "max_width": null,
            "min_height": null,
            "min_width": null,
            "object_fit": null,
            "object_position": null,
            "order": null,
            "overflow": null,
            "overflow_x": null,
            "overflow_y": null,
            "padding": null,
            "right": null,
            "top": null,
            "visibility": null,
            "width": null
          }
        },
        "61269232e9bc47fb823c148fc7725ae7": {
          "model_module": "@jupyter-widgets/controls",
          "model_name": "ProgressStyleModel",
          "model_module_version": "1.5.0",
          "state": {
            "_model_module": "@jupyter-widgets/controls",
            "_model_module_version": "1.5.0",
            "_model_name": "ProgressStyleModel",
            "_view_count": null,
            "_view_module": "@jupyter-widgets/base",
            "_view_module_version": "1.2.0",
            "_view_name": "StyleView",
            "bar_color": null,
            "description_width": ""
          }
        },
        "cf63e2bb71be463ea05a97a93ea2927d": {
          "model_module": "@jupyter-widgets/controls",
          "model_name": "VBoxModel",
          "model_module_version": "1.5.0",
          "state": {
            "_dom_classes": [],
            "_model_module": "@jupyter-widgets/controls",
            "_model_module_version": "1.5.0",
            "_model_name": "VBoxModel",
            "_view_count": null,
            "_view_module": "@jupyter-widgets/controls",
            "_view_module_version": "1.5.0",
            "_view_name": "VBoxView",
            "box_style": "",
            "children": [
              "IPY_MODEL_a2dfc52f9297450093690da51f180de9",
              "IPY_MODEL_97b1e37104ac4b598709c09ab48fa3c3"
            ],
            "layout": "IPY_MODEL_57d653f157f24e5fa3b6dfffc55db033"
          }
        },
        "a2dfc52f9297450093690da51f180de9": {
          "model_module": "@jupyter-widgets/controls",
          "model_name": "LabelModel",
          "model_module_version": "1.5.0",
          "state": {
            "_dom_classes": [],
            "_model_module": "@jupyter-widgets/controls",
            "_model_module_version": "1.5.0",
            "_model_name": "LabelModel",
            "_view_count": null,
            "_view_module": "@jupyter-widgets/controls",
            "_view_module_version": "1.5.0",
            "_view_name": "LabelView",
            "description": "",
            "description_tooltip": null,
            "layout": "IPY_MODEL_c1e4cca06aaa4757bc7801bcc5f9a096",
            "placeholder": "​",
            "style": "IPY_MODEL_c0b6c3ab5fe447d59a22b81bcbd4e3f7",
            "value": "0.001 MB of 0.014 MB uploaded (0.000 MB deduped)\r"
          }
        },
        "97b1e37104ac4b598709c09ab48fa3c3": {
          "model_module": "@jupyter-widgets/controls",
          "model_name": "FloatProgressModel",
          "model_module_version": "1.5.0",
          "state": {
            "_dom_classes": [],
            "_model_module": "@jupyter-widgets/controls",
            "_model_module_version": "1.5.0",
            "_model_name": "FloatProgressModel",
            "_view_count": null,
            "_view_module": "@jupyter-widgets/controls",
            "_view_module_version": "1.5.0",
            "_view_name": "ProgressView",
            "bar_style": "",
            "description": "",
            "description_tooltip": null,
            "layout": "IPY_MODEL_0f7f4a958c4e42dcb82274f39c8899eb",
            "max": 1,
            "min": 0,
            "orientation": "horizontal",
            "style": "IPY_MODEL_5d7cdf12ea3c4cfcabe0368a0f2bf3ff",
            "value": 0.07101689301093077
          }
        },
        "57d653f157f24e5fa3b6dfffc55db033": {
          "model_module": "@jupyter-widgets/base",
          "model_name": "LayoutModel",
          "model_module_version": "1.2.0",
          "state": {
            "_model_module": "@jupyter-widgets/base",
            "_model_module_version": "1.2.0",
            "_model_name": "LayoutModel",
            "_view_count": null,
            "_view_module": "@jupyter-widgets/base",
            "_view_module_version": "1.2.0",
            "_view_name": "LayoutView",
            "align_content": null,
            "align_items": null,
            "align_self": null,
            "border": null,
            "bottom": null,
            "display": null,
            "flex": null,
            "flex_flow": null,
            "grid_area": null,
            "grid_auto_columns": null,
            "grid_auto_flow": null,
            "grid_auto_rows": null,
            "grid_column": null,
            "grid_gap": null,
            "grid_row": null,
            "grid_template_areas": null,
            "grid_template_columns": null,
            "grid_template_rows": null,
            "height": null,
            "justify_content": null,
            "justify_items": null,
            "left": null,
            "margin": null,
            "max_height": null,
            "max_width": null,
            "min_height": null,
            "min_width": null,
            "object_fit": null,
            "object_position": null,
            "order": null,
            "overflow": null,
            "overflow_x": null,
            "overflow_y": null,
            "padding": null,
            "right": null,
            "top": null,
            "visibility": null,
            "width": null
          }
        },
        "c1e4cca06aaa4757bc7801bcc5f9a096": {
          "model_module": "@jupyter-widgets/base",
          "model_name": "LayoutModel",
          "model_module_version": "1.2.0",
          "state": {
            "_model_module": "@jupyter-widgets/base",
            "_model_module_version": "1.2.0",
            "_model_name": "LayoutModel",
            "_view_count": null,
            "_view_module": "@jupyter-widgets/base",
            "_view_module_version": "1.2.0",
            "_view_name": "LayoutView",
            "align_content": null,
            "align_items": null,
            "align_self": null,
            "border": null,
            "bottom": null,
            "display": null,
            "flex": null,
            "flex_flow": null,
            "grid_area": null,
            "grid_auto_columns": null,
            "grid_auto_flow": null,
            "grid_auto_rows": null,
            "grid_column": null,
            "grid_gap": null,
            "grid_row": null,
            "grid_template_areas": null,
            "grid_template_columns": null,
            "grid_template_rows": null,
            "height": null,
            "justify_content": null,
            "justify_items": null,
            "left": null,
            "margin": null,
            "max_height": null,
            "max_width": null,
            "min_height": null,
            "min_width": null,
            "object_fit": null,
            "object_position": null,
            "order": null,
            "overflow": null,
            "overflow_x": null,
            "overflow_y": null,
            "padding": null,
            "right": null,
            "top": null,
            "visibility": null,
            "width": null
          }
        },
        "c0b6c3ab5fe447d59a22b81bcbd4e3f7": {
          "model_module": "@jupyter-widgets/controls",
          "model_name": "DescriptionStyleModel",
          "model_module_version": "1.5.0",
          "state": {
            "_model_module": "@jupyter-widgets/controls",
            "_model_module_version": "1.5.0",
            "_model_name": "DescriptionStyleModel",
            "_view_count": null,
            "_view_module": "@jupyter-widgets/base",
            "_view_module_version": "1.2.0",
            "_view_name": "StyleView",
            "description_width": ""
          }
        },
        "0f7f4a958c4e42dcb82274f39c8899eb": {
          "model_module": "@jupyter-widgets/base",
          "model_name": "LayoutModel",
          "model_module_version": "1.2.0",
          "state": {
            "_model_module": "@jupyter-widgets/base",
            "_model_module_version": "1.2.0",
            "_model_name": "LayoutModel",
            "_view_count": null,
            "_view_module": "@jupyter-widgets/base",
            "_view_module_version": "1.2.0",
            "_view_name": "LayoutView",
            "align_content": null,
            "align_items": null,
            "align_self": null,
            "border": null,
            "bottom": null,
            "display": null,
            "flex": null,
            "flex_flow": null,
            "grid_area": null,
            "grid_auto_columns": null,
            "grid_auto_flow": null,
            "grid_auto_rows": null,
            "grid_column": null,
            "grid_gap": null,
            "grid_row": null,
            "grid_template_areas": null,
            "grid_template_columns": null,
            "grid_template_rows": null,
            "height": null,
            "justify_content": null,
            "justify_items": null,
            "left": null,
            "margin": null,
            "max_height": null,
            "max_width": null,
            "min_height": null,
            "min_width": null,
            "object_fit": null,
            "object_position": null,
            "order": null,
            "overflow": null,
            "overflow_x": null,
            "overflow_y": null,
            "padding": null,
            "right": null,
            "top": null,
            "visibility": null,
            "width": null
          }
        },
        "5d7cdf12ea3c4cfcabe0368a0f2bf3ff": {
          "model_module": "@jupyter-widgets/controls",
          "model_name": "ProgressStyleModel",
          "model_module_version": "1.5.0",
          "state": {
            "_model_module": "@jupyter-widgets/controls",
            "_model_module_version": "1.5.0",
            "_model_name": "ProgressStyleModel",
            "_view_count": null,
            "_view_module": "@jupyter-widgets/base",
            "_view_module_version": "1.2.0",
            "_view_name": "StyleView",
            "bar_color": null,
            "description_width": ""
          }
        },
        "32f2a16f45a8461faef5d939cda05f3b": {
          "model_module": "@jupyter-widgets/controls",
          "model_name": "VBoxModel",
          "model_module_version": "1.5.0",
          "state": {
            "_dom_classes": [],
            "_model_module": "@jupyter-widgets/controls",
            "_model_module_version": "1.5.0",
            "_model_name": "VBoxModel",
            "_view_count": null,
            "_view_module": "@jupyter-widgets/controls",
            "_view_module_version": "1.5.0",
            "_view_name": "VBoxView",
            "box_style": "",
            "children": [
              "IPY_MODEL_917adb1903d34720bab45ab4aa0f3c1a",
              "IPY_MODEL_67b220c666f94a6caac707fa6d7693fe"
            ],
            "layout": "IPY_MODEL_9566ae35b25341808aa2c51013c5904d"
          }
        },
        "917adb1903d34720bab45ab4aa0f3c1a": {
          "model_module": "@jupyter-widgets/controls",
          "model_name": "LabelModel",
          "model_module_version": "1.5.0",
          "state": {
            "_dom_classes": [],
            "_model_module": "@jupyter-widgets/controls",
            "_model_module_version": "1.5.0",
            "_model_name": "LabelModel",
            "_view_count": null,
            "_view_module": "@jupyter-widgets/controls",
            "_view_module_version": "1.5.0",
            "_view_name": "LabelView",
            "description": "",
            "description_tooltip": null,
            "layout": "IPY_MODEL_85ff0e2636d84be3b135387fe6fb17a0",
            "placeholder": "​",
            "style": "IPY_MODEL_ed8bbc505e184693bd896e19b59dfc2a",
            "value": "0.001 MB of 0.001 MB uploaded (0.000 MB deduped)\r"
          }
        },
        "67b220c666f94a6caac707fa6d7693fe": {
          "model_module": "@jupyter-widgets/controls",
          "model_name": "FloatProgressModel",
          "model_module_version": "1.5.0",
          "state": {
            "_dom_classes": [],
            "_model_module": "@jupyter-widgets/controls",
            "_model_module_version": "1.5.0",
            "_model_name": "FloatProgressModel",
            "_view_count": null,
            "_view_module": "@jupyter-widgets/controls",
            "_view_module_version": "1.5.0",
            "_view_name": "ProgressView",
            "bar_style": "",
            "description": "",
            "description_tooltip": null,
            "layout": "IPY_MODEL_23976988250b4ddfb4027255711a4c98",
            "max": 1,
            "min": 0,
            "orientation": "horizontal",
            "style": "IPY_MODEL_2d22259a2d8146a0952279a39addb6f7",
            "value": 1
          }
        },
        "9566ae35b25341808aa2c51013c5904d": {
          "model_module": "@jupyter-widgets/base",
          "model_name": "LayoutModel",
          "model_module_version": "1.2.0",
          "state": {
            "_model_module": "@jupyter-widgets/base",
            "_model_module_version": "1.2.0",
            "_model_name": "LayoutModel",
            "_view_count": null,
            "_view_module": "@jupyter-widgets/base",
            "_view_module_version": "1.2.0",
            "_view_name": "LayoutView",
            "align_content": null,
            "align_items": null,
            "align_self": null,
            "border": null,
            "bottom": null,
            "display": null,
            "flex": null,
            "flex_flow": null,
            "grid_area": null,
            "grid_auto_columns": null,
            "grid_auto_flow": null,
            "grid_auto_rows": null,
            "grid_column": null,
            "grid_gap": null,
            "grid_row": null,
            "grid_template_areas": null,
            "grid_template_columns": null,
            "grid_template_rows": null,
            "height": null,
            "justify_content": null,
            "justify_items": null,
            "left": null,
            "margin": null,
            "max_height": null,
            "max_width": null,
            "min_height": null,
            "min_width": null,
            "object_fit": null,
            "object_position": null,
            "order": null,
            "overflow": null,
            "overflow_x": null,
            "overflow_y": null,
            "padding": null,
            "right": null,
            "top": null,
            "visibility": null,
            "width": null
          }
        },
        "85ff0e2636d84be3b135387fe6fb17a0": {
          "model_module": "@jupyter-widgets/base",
          "model_name": "LayoutModel",
          "model_module_version": "1.2.0",
          "state": {
            "_model_module": "@jupyter-widgets/base",
            "_model_module_version": "1.2.0",
            "_model_name": "LayoutModel",
            "_view_count": null,
            "_view_module": "@jupyter-widgets/base",
            "_view_module_version": "1.2.0",
            "_view_name": "LayoutView",
            "align_content": null,
            "align_items": null,
            "align_self": null,
            "border": null,
            "bottom": null,
            "display": null,
            "flex": null,
            "flex_flow": null,
            "grid_area": null,
            "grid_auto_columns": null,
            "grid_auto_flow": null,
            "grid_auto_rows": null,
            "grid_column": null,
            "grid_gap": null,
            "grid_row": null,
            "grid_template_areas": null,
            "grid_template_columns": null,
            "grid_template_rows": null,
            "height": null,
            "justify_content": null,
            "justify_items": null,
            "left": null,
            "margin": null,
            "max_height": null,
            "max_width": null,
            "min_height": null,
            "min_width": null,
            "object_fit": null,
            "object_position": null,
            "order": null,
            "overflow": null,
            "overflow_x": null,
            "overflow_y": null,
            "padding": null,
            "right": null,
            "top": null,
            "visibility": null,
            "width": null
          }
        },
        "ed8bbc505e184693bd896e19b59dfc2a": {
          "model_module": "@jupyter-widgets/controls",
          "model_name": "DescriptionStyleModel",
          "model_module_version": "1.5.0",
          "state": {
            "_model_module": "@jupyter-widgets/controls",
            "_model_module_version": "1.5.0",
            "_model_name": "DescriptionStyleModel",
            "_view_count": null,
            "_view_module": "@jupyter-widgets/base",
            "_view_module_version": "1.2.0",
            "_view_name": "StyleView",
            "description_width": ""
          }
        },
        "23976988250b4ddfb4027255711a4c98": {
          "model_module": "@jupyter-widgets/base",
          "model_name": "LayoutModel",
          "model_module_version": "1.2.0",
          "state": {
            "_model_module": "@jupyter-widgets/base",
            "_model_module_version": "1.2.0",
            "_model_name": "LayoutModel",
            "_view_count": null,
            "_view_module": "@jupyter-widgets/base",
            "_view_module_version": "1.2.0",
            "_view_name": "LayoutView",
            "align_content": null,
            "align_items": null,
            "align_self": null,
            "border": null,
            "bottom": null,
            "display": null,
            "flex": null,
            "flex_flow": null,
            "grid_area": null,
            "grid_auto_columns": null,
            "grid_auto_flow": null,
            "grid_auto_rows": null,
            "grid_column": null,
            "grid_gap": null,
            "grid_row": null,
            "grid_template_areas": null,
            "grid_template_columns": null,
            "grid_template_rows": null,
            "height": null,
            "justify_content": null,
            "justify_items": null,
            "left": null,
            "margin": null,
            "max_height": null,
            "max_width": null,
            "min_height": null,
            "min_width": null,
            "object_fit": null,
            "object_position": null,
            "order": null,
            "overflow": null,
            "overflow_x": null,
            "overflow_y": null,
            "padding": null,
            "right": null,
            "top": null,
            "visibility": null,
            "width": null
          }
        },
        "2d22259a2d8146a0952279a39addb6f7": {
          "model_module": "@jupyter-widgets/controls",
          "model_name": "ProgressStyleModel",
          "model_module_version": "1.5.0",
          "state": {
            "_model_module": "@jupyter-widgets/controls",
            "_model_module_version": "1.5.0",
            "_model_name": "ProgressStyleModel",
            "_view_count": null,
            "_view_module": "@jupyter-widgets/base",
            "_view_module_version": "1.2.0",
            "_view_name": "StyleView",
            "bar_color": null,
            "description_width": ""
          }
        },
        "3446bc9583984b7eb1c7c1e82acc881c": {
          "model_module": "@jupyter-widgets/controls",
          "model_name": "VBoxModel",
          "model_module_version": "1.5.0",
          "state": {
            "_dom_classes": [],
            "_model_module": "@jupyter-widgets/controls",
            "_model_module_version": "1.5.0",
            "_model_name": "VBoxModel",
            "_view_count": null,
            "_view_module": "@jupyter-widgets/controls",
            "_view_module_version": "1.5.0",
            "_view_name": "VBoxView",
            "box_style": "",
            "children": [
              "IPY_MODEL_bfe8a939f5f54347a87cd1b76a8ae4ba",
              "IPY_MODEL_597c9f93bfb94dd994f315df4f714301"
            ],
            "layout": "IPY_MODEL_4e989cd2f2a54d96847bafe7e36e40aa"
          }
        },
        "bfe8a939f5f54347a87cd1b76a8ae4ba": {
          "model_module": "@jupyter-widgets/controls",
          "model_name": "LabelModel",
          "model_module_version": "1.5.0",
          "state": {
            "_dom_classes": [],
            "_model_module": "@jupyter-widgets/controls",
            "_model_module_version": "1.5.0",
            "_model_name": "LabelModel",
            "_view_count": null,
            "_view_module": "@jupyter-widgets/controls",
            "_view_module_version": "1.5.0",
            "_view_name": "LabelView",
            "description": "",
            "description_tooltip": null,
            "layout": "IPY_MODEL_11ae02d7a911494ca19776625a74fc14",
            "placeholder": "​",
            "style": "IPY_MODEL_2a8db7b3680d4ee5840169601ba6d4d2",
            "value": "0.002 MB of 0.012 MB uploaded (0.000 MB deduped)\r"
          }
        },
        "597c9f93bfb94dd994f315df4f714301": {
          "model_module": "@jupyter-widgets/controls",
          "model_name": "FloatProgressModel",
          "model_module_version": "1.5.0",
          "state": {
            "_dom_classes": [],
            "_model_module": "@jupyter-widgets/controls",
            "_model_module_version": "1.5.0",
            "_model_name": "FloatProgressModel",
            "_view_count": null,
            "_view_module": "@jupyter-widgets/controls",
            "_view_module_version": "1.5.0",
            "_view_name": "ProgressView",
            "bar_style": "",
            "description": "",
            "description_tooltip": null,
            "layout": "IPY_MODEL_38352ea84c164a048a8a94a9dc4c7a15",
            "max": 1,
            "min": 0,
            "orientation": "horizontal",
            "style": "IPY_MODEL_977bfb6d528e48b4b7dc014a33e42f64",
            "value": 0.13342696629213482
          }
        },
        "4e989cd2f2a54d96847bafe7e36e40aa": {
          "model_module": "@jupyter-widgets/base",
          "model_name": "LayoutModel",
          "model_module_version": "1.2.0",
          "state": {
            "_model_module": "@jupyter-widgets/base",
            "_model_module_version": "1.2.0",
            "_model_name": "LayoutModel",
            "_view_count": null,
            "_view_module": "@jupyter-widgets/base",
            "_view_module_version": "1.2.0",
            "_view_name": "LayoutView",
            "align_content": null,
            "align_items": null,
            "align_self": null,
            "border": null,
            "bottom": null,
            "display": null,
            "flex": null,
            "flex_flow": null,
            "grid_area": null,
            "grid_auto_columns": null,
            "grid_auto_flow": null,
            "grid_auto_rows": null,
            "grid_column": null,
            "grid_gap": null,
            "grid_row": null,
            "grid_template_areas": null,
            "grid_template_columns": null,
            "grid_template_rows": null,
            "height": null,
            "justify_content": null,
            "justify_items": null,
            "left": null,
            "margin": null,
            "max_height": null,
            "max_width": null,
            "min_height": null,
            "min_width": null,
            "object_fit": null,
            "object_position": null,
            "order": null,
            "overflow": null,
            "overflow_x": null,
            "overflow_y": null,
            "padding": null,
            "right": null,
            "top": null,
            "visibility": null,
            "width": null
          }
        },
        "11ae02d7a911494ca19776625a74fc14": {
          "model_module": "@jupyter-widgets/base",
          "model_name": "LayoutModel",
          "model_module_version": "1.2.0",
          "state": {
            "_model_module": "@jupyter-widgets/base",
            "_model_module_version": "1.2.0",
            "_model_name": "LayoutModel",
            "_view_count": null,
            "_view_module": "@jupyter-widgets/base",
            "_view_module_version": "1.2.0",
            "_view_name": "LayoutView",
            "align_content": null,
            "align_items": null,
            "align_self": null,
            "border": null,
            "bottom": null,
            "display": null,
            "flex": null,
            "flex_flow": null,
            "grid_area": null,
            "grid_auto_columns": null,
            "grid_auto_flow": null,
            "grid_auto_rows": null,
            "grid_column": null,
            "grid_gap": null,
            "grid_row": null,
            "grid_template_areas": null,
            "grid_template_columns": null,
            "grid_template_rows": null,
            "height": null,
            "justify_content": null,
            "justify_items": null,
            "left": null,
            "margin": null,
            "max_height": null,
            "max_width": null,
            "min_height": null,
            "min_width": null,
            "object_fit": null,
            "object_position": null,
            "order": null,
            "overflow": null,
            "overflow_x": null,
            "overflow_y": null,
            "padding": null,
            "right": null,
            "top": null,
            "visibility": null,
            "width": null
          }
        },
        "2a8db7b3680d4ee5840169601ba6d4d2": {
          "model_module": "@jupyter-widgets/controls",
          "model_name": "DescriptionStyleModel",
          "model_module_version": "1.5.0",
          "state": {
            "_model_module": "@jupyter-widgets/controls",
            "_model_module_version": "1.5.0",
            "_model_name": "DescriptionStyleModel",
            "_view_count": null,
            "_view_module": "@jupyter-widgets/base",
            "_view_module_version": "1.2.0",
            "_view_name": "StyleView",
            "description_width": ""
          }
        },
        "38352ea84c164a048a8a94a9dc4c7a15": {
          "model_module": "@jupyter-widgets/base",
          "model_name": "LayoutModel",
          "model_module_version": "1.2.0",
          "state": {
            "_model_module": "@jupyter-widgets/base",
            "_model_module_version": "1.2.0",
            "_model_name": "LayoutModel",
            "_view_count": null,
            "_view_module": "@jupyter-widgets/base",
            "_view_module_version": "1.2.0",
            "_view_name": "LayoutView",
            "align_content": null,
            "align_items": null,
            "align_self": null,
            "border": null,
            "bottom": null,
            "display": null,
            "flex": null,
            "flex_flow": null,
            "grid_area": null,
            "grid_auto_columns": null,
            "grid_auto_flow": null,
            "grid_auto_rows": null,
            "grid_column": null,
            "grid_gap": null,
            "grid_row": null,
            "grid_template_areas": null,
            "grid_template_columns": null,
            "grid_template_rows": null,
            "height": null,
            "justify_content": null,
            "justify_items": null,
            "left": null,
            "margin": null,
            "max_height": null,
            "max_width": null,
            "min_height": null,
            "min_width": null,
            "object_fit": null,
            "object_position": null,
            "order": null,
            "overflow": null,
            "overflow_x": null,
            "overflow_y": null,
            "padding": null,
            "right": null,
            "top": null,
            "visibility": null,
            "width": null
          }
        },
        "977bfb6d528e48b4b7dc014a33e42f64": {
          "model_module": "@jupyter-widgets/controls",
          "model_name": "ProgressStyleModel",
          "model_module_version": "1.5.0",
          "state": {
            "_model_module": "@jupyter-widgets/controls",
            "_model_module_version": "1.5.0",
            "_model_name": "ProgressStyleModel",
            "_view_count": null,
            "_view_module": "@jupyter-widgets/base",
            "_view_module_version": "1.2.0",
            "_view_name": "StyleView",
            "bar_color": null,
            "description_width": ""
          }
        }
      }
    }
  },
  "cells": [
    {
      "cell_type": "markdown",
      "source": [
        "[![Open In Colab](https://colab.research.google.com/assets/colab-badge.svg)](https://colab.research.google.com/drive/1dDaaTAipo6C-Z-lkf-mJvHzG0z8G6gjL#scrollTo=lWOsAvobfEdK)"
      ],
      "metadata": {
        "id": "lWOsAvobfEdK"
      }
    },
    {
      "cell_type": "code",
      "execution_count": null,
      "metadata": {
        "colab": {
          "base_uri": "https://localhost:8080/"
        },
        "id": "fS7dp-7oezl5",
        "outputId": "e4d8c860-fa21-44ee-da5c-09fa11a4bfe8"
      },
      "outputs": [
        {
          "output_type": "stream",
          "name": "stdout",
          "text": [
            "Collecting wandb\n",
            "  Downloading wandb-0.15.12-py3-none-any.whl (2.1 MB)\n",
            "\u001b[2K     \u001b[90m━━━━━━━━━━━━━━━━━━━━━━━━━━━━━━━━━━━━━━━━\u001b[0m \u001b[32m2.1/2.1 MB\u001b[0m \u001b[31m21.4 MB/s\u001b[0m eta \u001b[36m0:00:00\u001b[0m\n",
            "\u001b[?25hRequirement already satisfied: Click!=8.0.0,>=7.1 in /usr/local/lib/python3.10/dist-packages (from wandb) (8.1.7)\n",
            "Collecting GitPython!=3.1.29,>=1.0.0 (from wandb)\n",
            "  Downloading GitPython-3.1.40-py3-none-any.whl (190 kB)\n",
            "\u001b[2K     \u001b[90m━━━━━━━━━━━━━━━━━━━━━━━━━━━━━━━━━━━━━━━━\u001b[0m \u001b[32m190.6/190.6 kB\u001b[0m \u001b[31m19.8 MB/s\u001b[0m eta \u001b[36m0:00:00\u001b[0m\n",
            "\u001b[?25hRequirement already satisfied: requests<3,>=2.0.0 in /usr/local/lib/python3.10/dist-packages (from wandb) (2.31.0)\n",
            "Requirement already satisfied: psutil>=5.0.0 in /usr/local/lib/python3.10/dist-packages (from wandb) (5.9.5)\n",
            "Collecting sentry-sdk>=1.0.0 (from wandb)\n",
            "  Downloading sentry_sdk-1.34.0-py2.py3-none-any.whl (243 kB)\n",
            "\u001b[2K     \u001b[90m━━━━━━━━━━━━━━━━━━━━━━━━━━━━━━━━━━━━━━━━\u001b[0m \u001b[32m243.9/243.9 kB\u001b[0m \u001b[31m23.0 MB/s\u001b[0m eta \u001b[36m0:00:00\u001b[0m\n",
            "\u001b[?25hCollecting docker-pycreds>=0.4.0 (from wandb)\n",
            "  Downloading docker_pycreds-0.4.0-py2.py3-none-any.whl (9.0 kB)\n",
            "Requirement already satisfied: PyYAML in /usr/local/lib/python3.10/dist-packages (from wandb) (6.0.1)\n",
            "Collecting pathtools (from wandb)\n",
            "  Downloading pathtools-0.1.2.tar.gz (11 kB)\n",
            "  Preparing metadata (setup.py) ... \u001b[?25l\u001b[?25hdone\n",
            "Collecting setproctitle (from wandb)\n",
            "  Downloading setproctitle-1.3.3-cp310-cp310-manylinux_2_5_x86_64.manylinux1_x86_64.manylinux_2_17_x86_64.manylinux2014_x86_64.whl (30 kB)\n",
            "Requirement already satisfied: setuptools in /usr/local/lib/python3.10/dist-packages (from wandb) (67.7.2)\n",
            "Requirement already satisfied: appdirs>=1.4.3 in /usr/local/lib/python3.10/dist-packages (from wandb) (1.4.4)\n",
            "Requirement already satisfied: protobuf!=4.21.0,<5,>=3.19.0 in /usr/local/lib/python3.10/dist-packages (from wandb) (3.20.3)\n",
            "Requirement already satisfied: six>=1.4.0 in /usr/local/lib/python3.10/dist-packages (from docker-pycreds>=0.4.0->wandb) (1.16.0)\n",
            "Collecting gitdb<5,>=4.0.1 (from GitPython!=3.1.29,>=1.0.0->wandb)\n",
            "  Downloading gitdb-4.0.11-py3-none-any.whl (62 kB)\n",
            "\u001b[2K     \u001b[90m━━━━━━━━━━━━━━━━━━━━━━━━━━━━━━━━━━━━━━━━\u001b[0m \u001b[32m62.7/62.7 kB\u001b[0m \u001b[31m6.7 MB/s\u001b[0m eta \u001b[36m0:00:00\u001b[0m\n",
            "\u001b[?25hRequirement already satisfied: charset-normalizer<4,>=2 in /usr/local/lib/python3.10/dist-packages (from requests<3,>=2.0.0->wandb) (3.3.1)\n",
            "Requirement already satisfied: idna<4,>=2.5 in /usr/local/lib/python3.10/dist-packages (from requests<3,>=2.0.0->wandb) (3.4)\n",
            "Requirement already satisfied: urllib3<3,>=1.21.1 in /usr/local/lib/python3.10/dist-packages (from requests<3,>=2.0.0->wandb) (2.0.7)\n",
            "Requirement already satisfied: certifi>=2017.4.17 in /usr/local/lib/python3.10/dist-packages (from requests<3,>=2.0.0->wandb) (2023.7.22)\n",
            "Collecting smmap<6,>=3.0.1 (from gitdb<5,>=4.0.1->GitPython!=3.1.29,>=1.0.0->wandb)\n",
            "  Downloading smmap-5.0.1-py3-none-any.whl (24 kB)\n",
            "Building wheels for collected packages: pathtools\n",
            "  Building wheel for pathtools (setup.py) ... \u001b[?25l\u001b[?25hdone\n",
            "  Created wheel for pathtools: filename=pathtools-0.1.2-py3-none-any.whl size=8791 sha256=af7e68d4a4cab1b312f4e60afa1909f55571a4b658b10aaa983ac42fa6bad513\n",
            "  Stored in directory: /root/.cache/pip/wheels/e7/f3/22/152153d6eb222ee7a56ff8617d80ee5207207a8c00a7aab794\n",
            "Successfully built pathtools\n",
            "Installing collected packages: pathtools, smmap, setproctitle, sentry-sdk, docker-pycreds, gitdb, GitPython, wandb\n",
            "Successfully installed GitPython-3.1.40 docker-pycreds-0.4.0 gitdb-4.0.11 pathtools-0.1.2 sentry-sdk-1.34.0 setproctitle-1.3.3 smmap-5.0.1 wandb-0.15.12\n"
          ]
        }
      ],
      "source": [
        "!pip install wandb"
      ]
    },
    {
      "cell_type": "code",
      "source": [
        "import torch\n",
        "from torchvision import datasets, transforms\n",
        "from tqdm import tqdm\n",
        "from torchvision.transforms import v2\n",
        "from torchvision.transforms import Lambda\n",
        "# Define the transform to convert images to grayscale\n",
        "transform = v2.Compose([\n",
        "    v2.ToImage(),\n",
        "    v2.ToDtype(torch.float32, scale=True),\n",
        "    v2.Resize((28, 28), antialias=True),\n",
        "    v2.Grayscale(),\n",
        "    Lambda(lambda x: torch.flatten(x))\n",
        "])\n",
        "\n",
        "# Load the CIFAR-10 dataset\n",
        "train_dataset = datasets.CIFAR10(root='./data', train=True, download=True, transform=transform)\n",
        "\n",
        "# Placeholder for the sum and squared sum of the images (used for mean and std calculation)\n",
        "sum_intensity = 0.0\n",
        "sum_squared_intensity = 0.0\n",
        "num_elements = 0\n",
        "\n",
        "# Loop over the dataset\n",
        "for data, _ in tqdm(train_dataset, desc='Computing mean and std'):\n",
        "    sum_intensity += torch.mean(data)\n",
        "    sum_squared_intensity += torch.mean(data**2)\n",
        "    num_elements += 1\n",
        "\n",
        "# Calculate mean and standard deviation\n",
        "mean = sum_intensity / num_elements\n",
        "std = (sum_squared_intensity / num_elements - mean ** 2) ** 0.5\n",
        "\n",
        "print(f'Mean: {mean}')\n",
        "print(f'Std: {std}')\n"
      ],
      "metadata": {
        "colab": {
          "base_uri": "https://localhost:8080/"
        },
        "id": "3ENGOxuGe8Gn",
        "outputId": "d45a56e4-8a3e-42dd-c48b-0309183a70d2"
      },
      "execution_count": null,
      "outputs": [
        {
          "output_type": "stream",
          "name": "stdout",
          "text": [
            "Downloading https://www.cs.toronto.edu/~kriz/cifar-10-python.tar.gz to ./data/cifar-10-python.tar.gz\n"
          ]
        },
        {
          "output_type": "stream",
          "name": "stderr",
          "text": [
            "100%|██████████| 170498071/170498071 [00:10<00:00, 16396738.04it/s]\n"
          ]
        },
        {
          "output_type": "stream",
          "name": "stdout",
          "text": [
            "Extracting ./data/cifar-10-python.tar.gz to ./data\n"
          ]
        },
        {
          "output_type": "stream",
          "name": "stderr",
          "text": [
            "Computing mean and std: 100%|██████████| 50000/50000 [00:43<00:00, 1145.02it/s]\n"
          ]
        },
        {
          "output_type": "stream",
          "name": "stdout",
          "text": [
            "Mean: 0.48075222969055176\n",
            "Std: 0.23171930015087128\n"
          ]
        }
      ]
    },
    {
      "cell_type": "code",
      "source": [
        "import torch\n",
        "import torch.nn as nn\n",
        "import torch.optim as optim\n",
        "from torchvision import datasets, transforms\n",
        "from torchvision.transforms import v2\n",
        "from torchvision.transforms import Lambda\n",
        "import wandb\n",
        "\n",
        "# Sweep Configuration\n",
        "sweep_config = {\n",
        "    'name': 'my-sweep3',\n",
        "    'method': 'random',  # can be grid, random, or bayes\n",
        "    'metric': {\n",
        "      'goal': 'maximize',\n",
        "      'name': 'epoch_validation_accuracy'\n",
        "    },\n",
        "    'parameters': {\n",
        "        'optimizer': {\n",
        "            'values': ['sgd','adam', 'rmsprop','adagrad','sgd_sam']\n",
        "        },\n",
        "        'learning_rate': {\n",
        "            'values': [1e-3, 1e-4] # 1e-5\n",
        "        },\n",
        "        'batch_size': {\n",
        "            'values': [16, 32, 64]\n",
        "        },\n",
        "        'weight_decay': {\n",
        "            'values': [0, 1e-4, 1e-2]  # Example values; 1e-3\n",
        "        },\n",
        "        'momentum': {  # Only relevant for SGD and SGD_SAM\n",
        "            'values': [0.9, 0.99] #  0.95\n",
        "        },\n",
        "        # 'nesterov': {\n",
        "        #     'values': [False, True]  # Typically used for SGD\n",
        "        # },\n",
        "        # 'rho': {  # SAM-specific hyperparameter\n",
        "        #     'values': [0.05, 0.1, 0.2]\n",
        "        # }\n",
        "        # ... add other parameters as needed\n",
        "    }\n",
        "}\n",
        "\n",
        "\n",
        "\n",
        "# Your MLP and accuracy functions remain the same\n",
        "class MLP(nn.Module):\n",
        "    def __init__(self, input_dim=784, hidden_layers=[1024, 512], output_dim=10, dropout_prob=0.3):\n",
        "        super(MLP, self).__init__()\n",
        "\n",
        "        layers = []\n",
        "        for i in range(len(hidden_layers)):\n",
        "            layers.append(nn.Linear(input_dim if i == 0 else hidden_layers[i - 1], hidden_layers[i]))\n",
        "            layers.append(nn.BatchNorm1d(hidden_layers[i]))  # Add BatchNorm layer\n",
        "            layers.append(nn.ReLU())\n",
        "            layers.append(nn.Dropout(dropout_prob))  # Add Dropout layer\n",
        "        layers.append(nn.Linear(hidden_layers[-1], output_dim))\n",
        "\n",
        "        self.model = nn.Sequential(*layers)\n",
        "\n",
        "    def forward(self, x):\n",
        "        x = x.view(x.size(0), -1)\n",
        "        return self.model(x)\n",
        "\n",
        "def accuracy(outputs, labels):\n",
        "    _, preds = torch.max(outputs, dim=1)\n",
        "    return torch.tensor(torch.sum(preds == labels).item() / len(preds))\n",
        "\n",
        "class SGD_SAM(torch.optim.Optimizer):\n",
        "    def __init__(self, params, base_optimizer=torch.optim.SGD, rho=0.05, **kwargs):\n",
        "        assert rho >= 0.0, f\"Invalid rho, should be non-negative: {rho}\"\n",
        "\n",
        "        self.base_optimizer = base_optimizer(params, **kwargs)\n",
        "        self.defaults = self.base_optimizer.defaults\n",
        "        self.param_groups = self.base_optimizer.param_groups\n",
        "        self.rho = rho\n",
        "\n",
        "    @torch.no_grad()\n",
        "    def first_step(self, zero_grad=False):\n",
        "        grad_norm = self._grad_norm()\n",
        "        for group in self.param_groups:\n",
        "            scale = self.rho / (grad_norm + 1e-12)\n",
        "\n",
        "            for param in group['params']:\n",
        "                if param.grad is None: continue\n",
        "\n",
        "                # Apply the SAM perturbation\n",
        "                e_w = param.grad * scale\n",
        "                param.add_(e_w)  # climb to the local maximum \"w + e(w)\"\n",
        "        if zero_grad: self.zero_grad()\n",
        "\n",
        "    @torch.no_grad()\n",
        "    def second_step(self, zero_grad=False):\n",
        "        # Compute the gradient norm before reversing the SAM perturbation.\n",
        "        grad_norm = self._grad_norm()\n",
        "        for group in self.param_groups:\n",
        "            weight_decay = group.get('weight_decay', 0.0)  # Get weight_decay value\n",
        "\n",
        "            for param in group['params']:\n",
        "                if param.grad is None: continue\n",
        "\n",
        "                # Reverse the SAM perturbation\n",
        "                scale = self.rho / (grad_norm + 1e-12)  # Use the pre-computed grad_norm\n",
        "                e_w = param.grad * scale\n",
        "                param.sub_(e_w)  # revert to the original parameters \"w - e(w)\"\n",
        "\n",
        "                # Apply weight decay directly to the weights (if nonzero)\n",
        "                if weight_decay != 0:\n",
        "                    param.data.add_(param.data, alpha=-weight_decay)\n",
        "\n",
        "        self.base_optimizer.step()  # do the actual \"sharpness-aware\" update\n",
        "\n",
        "        if zero_grad: self.zero_grad()\n",
        "\n",
        "    # Method to calculate the gradient norm\n",
        "    def _grad_norm(self):\n",
        "        norm = torch.norm(\n",
        "                    torch.stack([\n",
        "                        p.grad.norm(p=2)\n",
        "                        for group in self.param_groups\n",
        "                        for p in group['params']\n",
        "                        if p.grad is not None\n",
        "                    ]),\n",
        "                    p=2\n",
        "               )\n",
        "        return norm\n",
        "\n",
        "    def step(self, closure=None):\n",
        "        raise RuntimeError('SAM doesn’t implement step() function. Use first_step() and second_step().')\n",
        "\n",
        "# Load CIFAR-10 dataset\n",
        "train_dataset = datasets.CIFAR10(root='./data', train=True, download=True)\n",
        "val_dataset = datasets.CIFAR10(root='./data', train=False, download=True)\n",
        "\n",
        "# Splitting the dataset into training and validation sets if needed\n",
        "train_size = int(0.8 * len(train_dataset))\n",
        "val_size = len(train_dataset) - train_size\n",
        "train_dataset, _ = torch.utils.data.random_split(train_dataset, [train_size, val_size])\n",
        "\n",
        "\n",
        "# Define the transformations for the training dataset\n",
        "train_transforms = v2.Compose([\n",
        "    v2.ToImage(),\n",
        "    v2.RandomHorizontalFlip(),\n",
        "    #v2.RandomCrop(32, padding=4),\n",
        "    v2.RandomRotation(degrees=15), # Rotates the image by a given angle\n",
        "    #v2.ColorJitter(brightness=0.1, contrast=0.1, saturation=0.1, hue=0.1), # Randomly changes the brightness, contrast, and other properties\n",
        "    v2.ToDtype(torch.float32, scale=True),\n",
        "    v2.Resize((28, 28), antialias=True),\n",
        "    v2.Grayscale(),\n",
        "    v2.Normalize((0.48075222969055176,), (0.23171930015087128,)),  # Normalizing with calculated mean and std\n",
        "    Lambda(lambda x: torch.flatten(x))\n",
        "])\n",
        "\n",
        "# Define the transformations for the validation dataset (without random transformations)\n",
        "val_transforms = v2.Compose([\n",
        "    v2.ToImage(),\n",
        "    v2.ToDtype(torch.float32, scale=True),\n",
        "    v2.Resize((28, 28), antialias=True),\n",
        "    v2.Grayscale(),\n",
        "    v2.Normalize((0.48075222969055176,), (0.23171930015087128,)),  # Normalizing with calculated mean and std\n",
        "    Lambda(lambda x: torch.flatten(x))\n",
        "])\n",
        "\n",
        "# Custom dataset class that applies the transformations\n",
        "class TransformDataset(torch.utils.data.Dataset):\n",
        "    def __init__(self, dataset, transform=None):\n",
        "        self.dataset = dataset\n",
        "        self.transform = transform\n",
        "\n",
        "    def __getitem__(self, idx):\n",
        "        image, label = self.dataset[idx]\n",
        "        if self.transform:\n",
        "            image = self.transform(image)\n",
        "        return image, label\n",
        "\n",
        "    def __len__(self):\n",
        "        return len(self.dataset)\n",
        "\n",
        "\n",
        "class CachedDataset(torch.utils.data.Dataset):\n",
        "    def __init__(self, dataset, transform=None):\n",
        "        self.dataset = dataset\n",
        "        self.transform = transform\n",
        "        self.cache = {}\n",
        "\n",
        "    def __getitem__(self, idx):\n",
        "        if idx in self.cache:\n",
        "            return self.cache[idx]\n",
        "        else:\n",
        "            image, label = self.dataset[idx]\n",
        "            if self.transform:\n",
        "                image = self.transform(image)\n",
        "            self.cache[idx] = (image, label)\n",
        "            return image, label\n",
        "\n",
        "    def __len__(self):\n",
        "        return len(self.dataset)\n",
        "\n",
        "# Apply transformations to the training dataset without caching\n",
        "train_dataset = TransformDataset(train_dataset, transform=train_transforms)\n",
        "\n",
        "# Apply transformations to the validation dataset with caching\n",
        "val_dataset = CachedDataset(TransformDataset(val_dataset, transform=val_transforms))\n",
        "\n",
        "\n",
        "# Model, criterion, optimizer, and train function remain unchanged (but make sure to use wandb.config for hyperparameters)\n",
        "\n",
        "def train(model, train_loader, val_loader, criterion, optimizer, epochs, scheduler, use_sam=False, early_stopping_patience=5):\n",
        "    best_val_loss = float('inf')\n",
        "    epochs_no_improve = 0\n",
        "    early_stop = False\n",
        "    for epoch in range(epochs):\n",
        "        model.train()\n",
        "        train_losses = []\n",
        "        train_accuracies = []\n",
        "        total_norm = 0\n",
        "\n",
        "        for batch_idx, (inputs, targets) in enumerate(train_loader):\n",
        "            outputs = model(inputs)\n",
        "            loss = criterion(outputs, targets)\n",
        "            acc = accuracy(outputs, targets)\n",
        "            train_losses.append(loss.item())\n",
        "            train_accuracies.append(acc.item())\n",
        "\n",
        "            optimizer.zero_grad()\n",
        "            loss.backward()\n",
        "\n",
        "            # If SAM is used, the first step is to ascent.\n",
        "            if use_sam:\n",
        "                optimizer.first_step(zero_grad=False)\n",
        "                # Make a second forward pass to compute the second gradient\n",
        "                outputs_second = model(inputs)\n",
        "                loss_second = criterion(outputs_second, targets)\n",
        "                loss_second.backward()\n",
        "\n",
        "                # Log the batch gradients norm before zeroing gradients\n",
        "                batch_gradients_norm = sum(p.grad.data.norm(2).item() ** 2 for p in model.parameters() if p.grad is not None) ** 0.5\n",
        "                wandb.log({\n",
        "                    \"batch_training_loss\": loss.item(),\n",
        "                    \"batch_gradients_norm\": batch_gradients_norm,\n",
        "                    \"batch_idx\": epoch * len(train_loader) + batch_idx\n",
        "                })\n",
        "                # writer.add_scalar('Loss/Train_batch', loss.item(), epoch * len(train_loader) + batch_idx)\n",
        "                # writer.add_scalar('Gradients/Norm', batch_gradients_norm, epoch * len(train_loader) + batch_idx)\n",
        "                optimizer.second_step(zero_grad=True)\n",
        "\n",
        "            else:\n",
        "\n",
        "                optimizer.step()\n",
        "                # Calculate and log batch training loss and gradients norm\n",
        "                batch_gradients_norm = sum(p.grad.data.norm(2).item() ** 2 for p in model.parameters() if p.grad is not None) ** 0.5\n",
        "\n",
        "                # Log batch training loss\n",
        "                wandb.log({\n",
        "                    \"batch_training_loss\": loss.item(),\n",
        "                    \"batch_gradients_norm\": batch_gradients_norm,\n",
        "                    \"batch_idx\": epoch * len(train_loader) + batch_idx\n",
        "                })\n",
        "\n",
        "        # Average training loss and accuracy for the epoch\n",
        "        avg_train_loss = sum(train_losses) / len(train_losses)\n",
        "        avg_train_accuracy = sum(train_accuracies) / len(train_accuracies)\n",
        "\n",
        "        # Compute the model norm (L2 norm of the parameters)\n",
        "        # Compute the total norm of the parameters (for model norm logging).\n",
        "        total_norm = sum(p.data.norm(2).item() ** 2 for p in model.parameters())\n",
        "        model_norm = total_norm ** 0.5\n",
        "\n",
        "        # Perform validation\n",
        "        model.eval()\n",
        "        val_losses = []\n",
        "        val_accuracies = []\n",
        "        with torch.no_grad():\n",
        "            for inputs, targets in val_loader:\n",
        "                outputs = model(inputs)\n",
        "                loss = criterion(outputs, targets)\n",
        "                acc = accuracy(outputs, targets)\n",
        "                val_losses.append(loss.item())\n",
        "                val_accuracies.append(acc.item())\n",
        "\n",
        "        avg_val_loss = sum(val_losses) / len(val_losses)\n",
        "        avg_val_accuracy = sum(val_accuracies) / len(val_accuracies)\n",
        "\n",
        "        # Log epoch metrics to wandb\n",
        "        wandb.log({\n",
        "            \"epoch\": epoch,\n",
        "            \"epoch_training_loss\": avg_train_loss,\n",
        "            \"epoch_training_accuracy\": avg_train_accuracy,\n",
        "            \"epoch_validation_loss\": avg_val_loss,\n",
        "            \"epoch_validation_accuracy\": avg_val_accuracy,\n",
        "            \"model_norm\": model_norm,\n",
        "            \"learning_rate\": scheduler.get_last_lr()[0],\n",
        "            \"batch_size\": train_loader.batch_size,\n",
        "            \"optimizer\": optimizer.__class__.__name__\n",
        "        })\n",
        "\n",
        "        # Update learning rate if scheduler is provided\n",
        "        if scheduler is not None:\n",
        "            scheduler.step()\n",
        "\n",
        "        # Early stopping logic\n",
        "        if avg_val_loss < best_val_loss:\n",
        "            best_val_loss = avg_val_loss\n",
        "            # Reset the early stopping counter\n",
        "            epochs_no_improve = 0\n",
        "        else:\n",
        "            epochs_no_improve += 1\n",
        "\n",
        "        if epochs_no_improve >= early_stopping_patience:\n",
        "            print(f\"No improvement in validation loss for {early_stopping_patience} consecutive epochs. Stopping early.\")\n",
        "            early_stop = True\n",
        "            break\n",
        "\n",
        "        # Print metrics\n",
        "        print(f\"Epoch {epoch}: avg_train_loss={avg_train_loss}, avg_train_accuracy={avg_train_accuracy}, avg_val_loss={avg_val_loss}, avg_val_accuracy={avg_val_accuracy}\")\n",
        "\n",
        "    return model\n",
        "\n",
        "# The main function to be called by the sweep\n",
        "def train_with_wandb():\n",
        "    # Initialize a new wandb run\n",
        "    #writer = SummaryWriter(log_dir='runs/my_experiment2')\n",
        "    wandb.init()\n",
        "\n",
        "    # Load data\n",
        "    train_loader = torch.utils.data.DataLoader(train_dataset, batch_size=wandb.config.batch_size, shuffle=True, num_workers=0)\n",
        "    val_loader = torch.utils.data.DataLoader(val_dataset, batch_size=wandb.config.batch_size, shuffle=False, num_workers=0)\n",
        "\n",
        "    # Initialize model and loss function\n",
        "    model = MLP()\n",
        "    criterion = nn.CrossEntropyLoss()\n",
        "\n",
        "    # Choose the optimizer\n",
        "    weight_decay = wandb.config.weight_decay  # Get weight decay from wandb.config\n",
        "    optimizer_name = wandb.config.optimizer\n",
        "    lr = wandb.config.learning_rate\n",
        "\n",
        "    # Optimizer-specific hyperparameters\n",
        "    if optimizer_name == 'sgd' or optimizer_name == 'sgd_sam':\n",
        "        momentum = wandb.config.get('momentum', 0.9)  # Provide a default value if not specified\n",
        "        optimizer = optim.SGD(model.parameters(), lr=lr, momentum=momentum, weight_decay=weight_decay)\n",
        "        if optimizer_name == 'sgd_sam':\n",
        "            rho = wandb.config.get('rho', 0.05)\n",
        "            optimizer = SGD_SAM(model.parameters(), base_optimizer=torch.optim.SGD, rho=rho, lr=lr, momentum=momentum, weight_decay= weight_decay)\n",
        "            use_sam = True\n",
        "        else:\n",
        "            use_sam = False\n",
        "    elif optimizer_name == 'adam':\n",
        "        optimizer = optim.Adam(model.parameters(), lr=lr, weight_decay=weight_decay)\n",
        "        use_sam = False\n",
        "    elif optimizer_name == 'rmsprop':\n",
        "        optimizer = optim.RMSprop(model.parameters(), lr=lr, weight_decay=weight_decay)\n",
        "        use_sam = False\n",
        "    elif optimizer_name == 'adagrad':\n",
        "        if 'momentum' in wandb.config:\n",
        "            print(\"Warning: Momentum is not used by the Adagrad optimizer and will be ignored.\")\n",
        "        optimizer = optim.Adagrad(model.parameters(), lr=lr, weight_decay=weight_decay)\n",
        "        use_sam = False\n",
        "\n",
        "    # Set up the learning rate scheduler\n",
        "    scheduler = optim.lr_scheduler.StepLR(optimizer, step_size=10, gamma=0.1)\n",
        "\n",
        "    # Train the model\n",
        "    train(model, train_loader, val_loader, criterion, optimizer, epochs=30, scheduler=scheduler, use_sam=use_sam, early_stopping_patience=5)\n",
        "\n",
        "    # Finish the run\n",
        "    #writer.close()\n",
        "    wandb.finish()\n",
        "\n",
        "\n",
        "# Start the sweep\n",
        "sweep_id = wandb.sweep(sweep=sweep_config, project=\"wandb-final9\")\n",
        "wandb.agent(sweep_id, train_with_wandb)\n"
      ],
      "metadata": {
        "colab": {
          "base_uri": "https://localhost:8080/",
          "height": 1000,
          "referenced_widgets": [
            "28c884f029054b46b70a011665f351dc",
            "79bab2fa86a442d8b9145145e5116f98",
            "68df091478d84623b1406464dc417b87",
            "5af8a443290f47a29ac4ba812a9806c6",
            "f8211c087d5440a3a0f9bfa008a3c18f",
            "0af4877a1b8c49b298c4423bce3e3eea",
            "785a83c5868a472e9cff88ef9438b130",
            "18f8c5a3d9e94f9d9834fe7847954427",
            "8a584d33adb24ce09e3c7883e25705c3",
            "98faf16d67ad4b3787f9b4b9af551ef1",
            "a3eadf46c61f422084bd0989f3fd9fce",
            "087882380b3e4f25a198b00ec2350e6e",
            "a6bbc9208c0948cf9a2ba2e265d83168",
            "eddcb24f159f4509bb3b76a8dbd91ab3",
            "bbabfe6e5c7146b997870606001b1007",
            "11ca7dce28b14bf1a40960d234784b06",
            "fad654f42388411584907069c39385da",
            "7a4e72afb7104a9ca047dc9df3d5be41",
            "9c9b9f6e6719416598fa3bcc739c7bf0",
            "d92b751d41464067be81eef648b84826",
            "8b852a04004f41b7b1844823790cc10b",
            "016b15f84cb444daa6de6788c5065ce0",
            "0436fa547a434bceb8c19cdf583fbb8d",
            "26ea49e77e604d4d94854ab84284577f",
            "38cebbd250ae4b88903ed3185efe5f64",
            "c5798fb20e8f46e5953b2e608574f043",
            "f703409f2dde4bb0978e55976345bdc8",
            "f773036977454e118135e536a39aa295",
            "684dc92654b947cd9646a5b54e1e7c23",
            "34322acc380d4b9fbee8337dd0c8e6f9",
            "47ef56caa20f46bc8b9c9c8bc12fdb96",
            "14b63321698a4b619645bd90a31faa06",
            "dbbb8111d56a41f6ad98c8a4ba920014",
            "bb74b5640dfd4330855acd4737d1d58d",
            "6aa9edc0f77b46349b2e8797d038f61d",
            "05a35d68da0b4c629b9b6fe124a73e36",
            "5c0902d53eb04988a7790b53ebd053bc",
            "c5897612f5094f1b86cc92afd4f0af58",
            "735e20d157274a75b6ca31d9f73e84e9",
            "9628399cfd9640d0a11be0d6e40c9e53",
            "f99c7e0e94f44298abab45becef51134",
            "9e74e44b01a141cb9cccf960dd06b187",
            "9484db9cd7604df084e6fc679cb45caa",
            "fbf5bf94c0604d33bcb47e91cb02b780",
            "e0c02032b768412ab821d2dd3f00cd62",
            "28f3e894bd4949dfbc0c1c43140fd030",
            "3f7d4270110847ee949b96367f7acc6a",
            "e887ca6648c447eeaece0e49860b4754",
            "f7b059d9123840e6823be92b34de1f3d",
            "25e992c4a0d14c16b5e3385bdf2f7aad",
            "34d14004cf4c49909050e9b4b5dc382b",
            "5fc4874b25834d07939e736b7f76935b",
            "161c2f613b49457da1bf5fbb88f3da69",
            "378f15507f4741858149972420275f2f",
            "bf48795c704244da82056029491faf31",
            "a05262f3342e41ec940710f7e93a9c5a",
            "c0ef5af32e7649c2a4523f21ee09a6ed",
            "cecab9911e644038bb62fe22b939c25d",
            "3ee88feb4a7e4d7f8445cdb5ac61996a",
            "8309fe4718414db3bc71bfe4d76f36c2",
            "e2a9421d6fb84a1f826a53c483f2e2a1",
            "f8052c58a3d34c3286f3e05430eac151",
            "c4a03030e50445779bf731c10edf4c8c",
            "614d38bf69ee4f33b6c8b508f5e9f1eb",
            "059f44e91cd244489cd816981d054fe4",
            "3955bff847bc47a296b83737b39738de",
            "55a74ee058ae4a37a191423b3634ffef",
            "2cb1ec51b3b646449b743cb7f623b553",
            "960f6bce2e934fb893004c7547642466",
            "c1fc2d932aa944cf9a86bd0f9cbd06d2",
            "02ab8e221819423d860a4af888e8ecf0",
            "61269232e9bc47fb823c148fc7725ae7",
            "cf63e2bb71be463ea05a97a93ea2927d",
            "a2dfc52f9297450093690da51f180de9",
            "97b1e37104ac4b598709c09ab48fa3c3",
            "57d653f157f24e5fa3b6dfffc55db033",
            "c1e4cca06aaa4757bc7801bcc5f9a096",
            "c0b6c3ab5fe447d59a22b81bcbd4e3f7",
            "0f7f4a958c4e42dcb82274f39c8899eb",
            "5d7cdf12ea3c4cfcabe0368a0f2bf3ff",
            "32f2a16f45a8461faef5d939cda05f3b",
            "917adb1903d34720bab45ab4aa0f3c1a",
            "67b220c666f94a6caac707fa6d7693fe",
            "9566ae35b25341808aa2c51013c5904d",
            "85ff0e2636d84be3b135387fe6fb17a0",
            "ed8bbc505e184693bd896e19b59dfc2a",
            "23976988250b4ddfb4027255711a4c98",
            "2d22259a2d8146a0952279a39addb6f7",
            "3446bc9583984b7eb1c7c1e82acc881c",
            "bfe8a939f5f54347a87cd1b76a8ae4ba",
            "597c9f93bfb94dd994f315df4f714301",
            "4e989cd2f2a54d96847bafe7e36e40aa",
            "11ae02d7a911494ca19776625a74fc14",
            "2a8db7b3680d4ee5840169601ba6d4d2",
            "38352ea84c164a048a8a94a9dc4c7a15",
            "977bfb6d528e48b4b7dc014a33e42f64"
          ]
        },
        "id": "-SDA2Sjce-Ul",
        "outputId": "3fcd02c6-e5c8-4b4a-d4f3-bd20ba8c79d9"
      },
      "execution_count": null,
      "outputs": [
        {
          "output_type": "stream",
          "name": "stdout",
          "text": [
            "Downloading https://www.cs.toronto.edu/~kriz/cifar-10-python.tar.gz to ./data/cifar-10-python.tar.gz\n"
          ]
        },
        {
          "output_type": "stream",
          "name": "stderr",
          "text": [
            "100%|██████████| 170498071/170498071 [00:02<00:00, 74448098.68it/s]\n"
          ]
        },
        {
          "output_type": "stream",
          "name": "stdout",
          "text": [
            "Extracting ./data/cifar-10-python.tar.gz to ./data\n",
            "Files already downloaded and verified\n"
          ]
        },
        {
          "output_type": "display_data",
          "data": {
            "text/plain": [
              "<IPython.core.display.Javascript object>"
            ],
            "application/javascript": [
              "\n",
              "        window._wandbApiKey = new Promise((resolve, reject) => {\n",
              "            function loadScript(url) {\n",
              "            return new Promise(function(resolve, reject) {\n",
              "                let newScript = document.createElement(\"script\");\n",
              "                newScript.onerror = reject;\n",
              "                newScript.onload = resolve;\n",
              "                document.body.appendChild(newScript);\n",
              "                newScript.src = url;\n",
              "            });\n",
              "            }\n",
              "            loadScript(\"https://cdn.jsdelivr.net/npm/postmate/build/postmate.min.js\").then(() => {\n",
              "            const iframe = document.createElement('iframe')\n",
              "            iframe.style.cssText = \"width:0;height:0;border:none\"\n",
              "            document.body.appendChild(iframe)\n",
              "            const handshake = new Postmate({\n",
              "                container: iframe,\n",
              "                url: 'https://wandb.ai/authorize'\n",
              "            });\n",
              "            const timeout = setTimeout(() => reject(\"Couldn't auto authenticate\"), 5000)\n",
              "            handshake.then(function(child) {\n",
              "                child.on('authorize', data => {\n",
              "                    clearTimeout(timeout)\n",
              "                    resolve(data)\n",
              "                });\n",
              "            });\n",
              "            })\n",
              "        });\n",
              "    "
            ]
          },
          "metadata": {}
        },
        {
          "output_type": "stream",
          "name": "stderr",
          "text": [
            "\u001b[34m\u001b[1mwandb\u001b[0m: Appending key for api.wandb.ai to your netrc file: /root/.netrc\n"
          ]
        },
        {
          "output_type": "stream",
          "name": "stdout",
          "text": [
            "Create sweep with ID: bygi5msd\n",
            "Sweep URL: https://wandb.ai/marius-workspace/wandb-final9/sweeps/bygi5msd\n"
          ]
        },
        {
          "output_type": "stream",
          "name": "stderr",
          "text": [
            "\u001b[34m\u001b[1mwandb\u001b[0m: Agent Starting Run: xlxbawi0 with config:\n",
            "\u001b[34m\u001b[1mwandb\u001b[0m: \tbatch_size: 64\n",
            "\u001b[34m\u001b[1mwandb\u001b[0m: \tlearning_rate: 0.001\n",
            "\u001b[34m\u001b[1mwandb\u001b[0m: \tmomentum: 0.99\n",
            "\u001b[34m\u001b[1mwandb\u001b[0m: \toptimizer: adam\n",
            "\u001b[34m\u001b[1mwandb\u001b[0m: \tweight_decay: 0\n",
            "\u001b[34m\u001b[1mwandb\u001b[0m: Currently logged in as: \u001b[33mmariusmarin\u001b[0m (\u001b[33mmarius-workspace\u001b[0m). Use \u001b[1m`wandb login --relogin`\u001b[0m to force relogin\n"
          ]
        },
        {
          "output_type": "display_data",
          "data": {
            "text/plain": [
              "<IPython.core.display.HTML object>"
            ],
            "text/html": [
              "Tracking run with wandb version 0.15.12"
            ]
          },
          "metadata": {}
        },
        {
          "output_type": "display_data",
          "data": {
            "text/plain": [
              "<IPython.core.display.HTML object>"
            ],
            "text/html": [
              "Run data is saved locally in <code>/content/wandb/run-20231105_205258-xlxbawi0</code>"
            ]
          },
          "metadata": {}
        },
        {
          "output_type": "display_data",
          "data": {
            "text/plain": [
              "<IPython.core.display.HTML object>"
            ],
            "text/html": [
              "Syncing run <strong><a href='https://wandb.ai/marius-workspace/wandb-final9/runs/xlxbawi0' target=\"_blank\">expert-sweep-1</a></strong> to <a href='https://wandb.ai/marius-workspace/wandb-final9' target=\"_blank\">Weights & Biases</a> (<a href='https://wandb.me/run' target=\"_blank\">docs</a>)<br/>Sweep page: <a href='https://wandb.ai/marius-workspace/wandb-final9/sweeps/bygi5msd' target=\"_blank\">https://wandb.ai/marius-workspace/wandb-final9/sweeps/bygi5msd</a>"
            ]
          },
          "metadata": {}
        },
        {
          "output_type": "display_data",
          "data": {
            "text/plain": [
              "<IPython.core.display.HTML object>"
            ],
            "text/html": [
              " View project at <a href='https://wandb.ai/marius-workspace/wandb-final9' target=\"_blank\">https://wandb.ai/marius-workspace/wandb-final9</a>"
            ]
          },
          "metadata": {}
        },
        {
          "output_type": "display_data",
          "data": {
            "text/plain": [
              "<IPython.core.display.HTML object>"
            ],
            "text/html": [
              " View sweep at <a href='https://wandb.ai/marius-workspace/wandb-final9/sweeps/bygi5msd' target=\"_blank\">https://wandb.ai/marius-workspace/wandb-final9/sweeps/bygi5msd</a>"
            ]
          },
          "metadata": {}
        },
        {
          "output_type": "display_data",
          "data": {
            "text/plain": [
              "<IPython.core.display.HTML object>"
            ],
            "text/html": [
              " View run at <a href='https://wandb.ai/marius-workspace/wandb-final9/runs/xlxbawi0' target=\"_blank\">https://wandb.ai/marius-workspace/wandb-final9/runs/xlxbawi0</a>"
            ]
          },
          "metadata": {}
        },
        {
          "output_type": "stream",
          "name": "stdout",
          "text": [
            "Epoch 0: avg_train_loss=1.9211829748153686, avg_train_accuracy=0.3124, avg_val_loss=1.7685720153674958, avg_val_accuracy=0.37072054140127386\n",
            "Epoch 1: avg_train_loss=1.7967604555130006, avg_train_accuracy=0.359725, avg_val_loss=1.6966977742067568, avg_val_accuracy=0.3903264331210191\n",
            "Epoch 2: avg_train_loss=1.7438571701049805, avg_train_accuracy=0.376825, avg_val_loss=1.6587576091669167, avg_val_accuracy=0.4049562101910828\n",
            "Epoch 3: avg_train_loss=1.7085986618041993, avg_train_accuracy=0.39315, avg_val_loss=1.6139548318401264, avg_val_accuracy=0.42038216560509556\n",
            "Epoch 4: avg_train_loss=1.6819992765426637, avg_train_accuracy=0.396825, avg_val_loss=1.5822485336072885, avg_val_accuracy=0.4341162420382166\n",
            "Epoch 5: avg_train_loss=1.6527046825408935, avg_train_accuracy=0.4092, avg_val_loss=1.5775778225273083, avg_val_accuracy=0.43998805732484075\n",
            "Epoch 6: avg_train_loss=1.6375436595916748, avg_train_accuracy=0.417375, avg_val_loss=1.5429289599133145, avg_val_accuracy=0.45232882165605093\n",
            "Epoch 7: avg_train_loss=1.617295224761963, avg_train_accuracy=0.42455, avg_val_loss=1.5388076760966307, avg_val_accuracy=0.4482484076433121\n",
            "Epoch 8: avg_train_loss=1.6018559703826905, avg_train_accuracy=0.431675, avg_val_loss=1.531824086881747, avg_val_accuracy=0.45491640127388533\n",
            "Epoch 9: avg_train_loss=1.5897527404785157, avg_train_accuracy=0.434025, avg_val_loss=1.5168377381221505, avg_val_accuracy=0.4606886942675159\n",
            "Epoch 10: avg_train_loss=1.5366732069015503, avg_train_accuracy=0.454875, avg_val_loss=1.4748899420355535, avg_val_accuracy=0.47770700636942676\n",
            "Epoch 11: avg_train_loss=1.5173992881774903, avg_train_accuracy=0.4635, avg_val_loss=1.467046462806167, avg_val_accuracy=0.47999601910828027\n",
            "Epoch 12: avg_train_loss=1.5066145822525023, avg_train_accuracy=0.465275, avg_val_loss=1.4644367998572672, avg_val_accuracy=0.4804936305732484\n",
            "Epoch 13: avg_train_loss=1.499057735824585, avg_train_accuracy=0.4691, avg_val_loss=1.4569511557840238, avg_val_accuracy=0.4823845541401274\n",
            "Epoch 14: avg_train_loss=1.4959753437042236, avg_train_accuracy=0.4669, avg_val_loss=1.4550978309789282, avg_val_accuracy=0.4823845541401274\n",
            "Epoch 15: avg_train_loss=1.4919605449676514, avg_train_accuracy=0.471175, avg_val_loss=1.449342455074286, avg_val_accuracy=0.48835589171974525\n",
            "Epoch 16: avg_train_loss=1.4846265813827515, avg_train_accuracy=0.472275, avg_val_loss=1.4453388741061945, avg_val_accuracy=0.4885549363057325\n",
            "Epoch 17: avg_train_loss=1.47637900390625, avg_train_accuracy=0.4768, avg_val_loss=1.4437652879459844, avg_val_accuracy=0.48656449044585987\n",
            "Epoch 18: avg_train_loss=1.4754936260223388, avg_train_accuracy=0.474475, avg_val_loss=1.4411175691398086, avg_val_accuracy=0.48676353503184716\n",
            "Epoch 19: avg_train_loss=1.4772780605316163, avg_train_accuracy=0.47735, avg_val_loss=1.437590588429931, avg_val_accuracy=0.48865445859872614\n",
            "Epoch 20: avg_train_loss=1.4684962718963623, avg_train_accuracy=0.476675, avg_val_loss=1.4355816848718437, avg_val_accuracy=0.49074442675159236\n",
            "Epoch 21: avg_train_loss=1.4662457818984986, avg_train_accuracy=0.482325, avg_val_loss=1.4351486787674532, avg_val_accuracy=0.4896496815286624\n",
            "Epoch 22: avg_train_loss=1.4674564939498902, avg_train_accuracy=0.480375, avg_val_loss=1.4381128754585413, avg_val_accuracy=0.48815684713375795\n",
            "Epoch 23: avg_train_loss=1.4649108930587769, avg_train_accuracy=0.4813, avg_val_loss=1.4356336965682401, avg_val_accuracy=0.4912420382165605\n",
            "Epoch 24: avg_train_loss=1.4627996917724608, avg_train_accuracy=0.48165, avg_val_loss=1.4352232521506632, avg_val_accuracy=0.49104299363057324\n",
            "Epoch 25: avg_train_loss=1.464347421836853, avg_train_accuracy=0.4814, avg_val_loss=1.4350241620069857, avg_val_accuracy=0.49104299363057324\n",
            "Epoch 26: avg_train_loss=1.4631923952102661, avg_train_accuracy=0.479775, avg_val_loss=1.4350152904060995, avg_val_accuracy=0.4909434713375796\n",
            "Epoch 27: avg_train_loss=1.4618364656448364, avg_train_accuracy=0.481, avg_val_loss=1.4374131427449026, avg_val_accuracy=0.48974920382165604\n",
            "Epoch 28: avg_train_loss=1.4623480251312255, avg_train_accuracy=0.482075, avg_val_loss=1.4321963695963478, avg_val_accuracy=0.4924363057324841\n",
            "Epoch 29: avg_train_loss=1.4573118034362793, avg_train_accuracy=0.483525, avg_val_loss=1.4326306657426675, avg_val_accuracy=0.4925358280254777\n"
          ]
        },
        {
          "output_type": "display_data",
          "data": {
            "text/plain": [
              "<IPython.core.display.HTML object>"
            ],
            "text/html": [
              "Waiting for W&B process to finish... <strong style=\"color:green\">(success).</strong>"
            ]
          },
          "metadata": {}
        },
        {
          "output_type": "display_data",
          "data": {
            "text/plain": [
              "VBox(children=(Label(value='0.001 MB of 0.001 MB uploaded (0.000 MB deduped)\\r'), FloatProgress(value=1.0, max…"
            ],
            "application/vnd.jupyter.widget-view+json": {
              "version_major": 2,
              "version_minor": 0,
              "model_id": "28c884f029054b46b70a011665f351dc"
            }
          },
          "metadata": {}
        },
        {
          "output_type": "display_data",
          "data": {
            "text/plain": [
              "<IPython.core.display.HTML object>"
            ],
            "text/html": [
              "<style>\n",
              "    table.wandb td:nth-child(1) { padding: 0 10px; text-align: left ; width: auto;} td:nth-child(2) {text-align: left ; width: 100%}\n",
              "    .wandb-row { display: flex; flex-direction: row; flex-wrap: wrap; justify-content: flex-start; width: 100% }\n",
              "    .wandb-col { display: flex; flex-direction: column; flex-basis: 100%; flex: 1; padding: 10px; }\n",
              "    </style>\n",
              "<div class=\"wandb-row\"><div class=\"wandb-col\"><h3>Run history:</h3><br/><table class=\"wandb\"><tr><td>batch_gradients_norm</td><td>█▆▆▆▅▅▄▄▃▃▂▃▁▃▃▁▁▂▁▂▁▂▁▁▂▂▂▂▂▃▁▂▁▂▂▂▂▂▂▂</td></tr><tr><td>batch_idx</td><td>▁▁▁▁▂▂▂▂▂▃▃▃▃▃▃▄▄▄▄▄▅▅▅▅▅▅▆▆▆▆▆▇▇▇▇▇▇███</td></tr><tr><td>batch_size</td><td>▁▁▁▁▁▁▁▁▁▁▁▁▁▁▁▁▁▁▁▁▁▁▁▁▁▁▁▁▁▁</td></tr><tr><td>batch_training_loss</td><td>▇▇█▄▅▇▅▃▄▄▆▆▄▅▆▃▁▄▄▄▂▃▁▁▆▃▃▂▃▄▃▃▃▄▄▅▂▂▅▃</td></tr><tr><td>epoch</td><td>▁▁▁▂▂▂▂▃▃▃▃▄▄▄▄▅▅▅▅▆▆▆▆▇▇▇▇███</td></tr><tr><td>epoch_training_accuracy</td><td>▁▃▄▄▄▅▅▆▆▆▇▇▇▇▇▇██████████████</td></tr><tr><td>epoch_training_loss</td><td>█▆▅▅▄▄▄▃▃▃▂▂▂▂▂▂▁▁▁▁▁▁▁▁▁▁▁▁▁▁</td></tr><tr><td>epoch_validation_accuracy</td><td>▁▂▃▄▅▅▆▅▆▆▇▇▇▇▇███████████████</td></tr><tr><td>epoch_validation_loss</td><td>█▇▆▅▄▄▃▃▃▃▂▂▂▂▁▁▁▁▁▁▁▁▁▁▁▁▁▁▁▁</td></tr><tr><td>learning_rate</td><td>██████████▂▂▂▂▂▂▂▂▂▂▁▁▁▁▁▁▁▁▁▁</td></tr><tr><td>model_norm</td><td>▁▂▂▃▄▅▆▆▇█████████████████████</td></tr></table><br/></div><div class=\"wandb-col\"><h3>Run summary:</h3><br/><table class=\"wandb\"><tr><td>batch_gradients_norm</td><td>1.22391</td></tr><tr><td>batch_idx</td><td>18749</td></tr><tr><td>batch_size</td><td>64</td></tr><tr><td>batch_training_loss</td><td>1.41528</td></tr><tr><td>epoch</td><td>29</td></tr><tr><td>epoch_training_accuracy</td><td>0.48352</td></tr><tr><td>epoch_training_loss</td><td>1.45731</td></tr><tr><td>epoch_validation_accuracy</td><td>0.49254</td></tr><tr><td>epoch_validation_loss</td><td>1.43263</td></tr><tr><td>learning_rate</td><td>1e-05</td></tr><tr><td>model_norm</td><td>90.22238</td></tr><tr><td>optimizer</td><td>Adam</td></tr></table><br/></div></div>"
            ]
          },
          "metadata": {}
        },
        {
          "output_type": "display_data",
          "data": {
            "text/plain": [
              "<IPython.core.display.HTML object>"
            ],
            "text/html": [
              " View run <strong style=\"color:#cdcd00\">expert-sweep-1</strong> at: <a href='https://wandb.ai/marius-workspace/wandb-final9/runs/xlxbawi0' target=\"_blank\">https://wandb.ai/marius-workspace/wandb-final9/runs/xlxbawi0</a><br/>Synced 5 W&B file(s), 0 media file(s), 0 artifact file(s) and 0 other file(s)"
            ]
          },
          "metadata": {}
        },
        {
          "output_type": "display_data",
          "data": {
            "text/plain": [
              "<IPython.core.display.HTML object>"
            ],
            "text/html": [
              "Find logs at: <code>./wandb/run-20231105_205258-xlxbawi0/logs</code>"
            ]
          },
          "metadata": {}
        },
        {
          "output_type": "stream",
          "name": "stderr",
          "text": [
            "\u001b[34m\u001b[1mwandb\u001b[0m: Agent Starting Run: 2vbo0sz3 with config:\n",
            "\u001b[34m\u001b[1mwandb\u001b[0m: \tbatch_size: 32\n",
            "\u001b[34m\u001b[1mwandb\u001b[0m: \tlearning_rate: 0.001\n",
            "\u001b[34m\u001b[1mwandb\u001b[0m: \tmomentum: 0.9\n",
            "\u001b[34m\u001b[1mwandb\u001b[0m: \toptimizer: sgd\n",
            "\u001b[34m\u001b[1mwandb\u001b[0m: \tweight_decay: 0.01\n"
          ]
        },
        {
          "output_type": "display_data",
          "data": {
            "text/plain": [
              "<IPython.core.display.HTML object>"
            ],
            "text/html": [
              "Tracking run with wandb version 0.15.12"
            ]
          },
          "metadata": {}
        },
        {
          "output_type": "display_data",
          "data": {
            "text/plain": [
              "<IPython.core.display.HTML object>"
            ],
            "text/html": [
              "Run data is saved locally in <code>/content/wandb/run-20231105_212809-2vbo0sz3</code>"
            ]
          },
          "metadata": {}
        },
        {
          "output_type": "display_data",
          "data": {
            "text/plain": [
              "<IPython.core.display.HTML object>"
            ],
            "text/html": [
              "Syncing run <strong><a href='https://wandb.ai/marius-workspace/wandb-final9/runs/2vbo0sz3' target=\"_blank\">smooth-sweep-2</a></strong> to <a href='https://wandb.ai/marius-workspace/wandb-final9' target=\"_blank\">Weights & Biases</a> (<a href='https://wandb.me/run' target=\"_blank\">docs</a>)<br/>Sweep page: <a href='https://wandb.ai/marius-workspace/wandb-final9/sweeps/bygi5msd' target=\"_blank\">https://wandb.ai/marius-workspace/wandb-final9/sweeps/bygi5msd</a>"
            ]
          },
          "metadata": {}
        },
        {
          "output_type": "display_data",
          "data": {
            "text/plain": [
              "<IPython.core.display.HTML object>"
            ],
            "text/html": [
              " View project at <a href='https://wandb.ai/marius-workspace/wandb-final9' target=\"_blank\">https://wandb.ai/marius-workspace/wandb-final9</a>"
            ]
          },
          "metadata": {}
        },
        {
          "output_type": "display_data",
          "data": {
            "text/plain": [
              "<IPython.core.display.HTML object>"
            ],
            "text/html": [
              " View sweep at <a href='https://wandb.ai/marius-workspace/wandb-final9/sweeps/bygi5msd' target=\"_blank\">https://wandb.ai/marius-workspace/wandb-final9/sweeps/bygi5msd</a>"
            ]
          },
          "metadata": {}
        },
        {
          "output_type": "display_data",
          "data": {
            "text/plain": [
              "<IPython.core.display.HTML object>"
            ],
            "text/html": [
              " View run at <a href='https://wandb.ai/marius-workspace/wandb-final9/runs/2vbo0sz3' target=\"_blank\">https://wandb.ai/marius-workspace/wandb-final9/runs/2vbo0sz3</a>"
            ]
          },
          "metadata": {}
        },
        {
          "output_type": "stream",
          "name": "stdout",
          "text": [
            "Epoch 0: avg_train_loss=1.9748666962623596, avg_train_accuracy=0.29065, avg_val_loss=1.7925007529913808, avg_val_accuracy=0.36920926517571884\n",
            "Epoch 1: avg_train_loss=1.8474985013008118, avg_train_accuracy=0.338225, avg_val_loss=1.7317774105376709, avg_val_accuracy=0.3889776357827476\n",
            "Epoch 2: avg_train_loss=1.798098823451996, avg_train_accuracy=0.35895, avg_val_loss=1.6914805474753578, avg_val_accuracy=0.3955670926517572\n",
            "Epoch 3: avg_train_loss=1.7622465158462524, avg_train_accuracy=0.372075, avg_val_loss=1.6668519790941916, avg_val_accuracy=0.4094448881789137\n",
            "Epoch 4: avg_train_loss=1.7432459069252013, avg_train_accuracy=0.37975, avg_val_loss=1.650978029345552, avg_val_accuracy=0.41074281150159747\n",
            "Epoch 5: avg_train_loss=1.733339656639099, avg_train_accuracy=0.381625, avg_val_loss=1.633722245883637, avg_val_accuracy=0.4213258785942492\n",
            "Epoch 6: avg_train_loss=1.7139184894561768, avg_train_accuracy=0.3943, avg_val_loss=1.643429005488801, avg_val_accuracy=0.413538338658147\n",
            "Epoch 7: avg_train_loss=1.708061401939392, avg_train_accuracy=0.3954, avg_val_loss=1.6362404819494618, avg_val_accuracy=0.42142571884984026\n",
            "Epoch 8: avg_train_loss=1.7017213221549987, avg_train_accuracy=0.396175, avg_val_loss=1.6151789019283014, avg_val_accuracy=0.428314696485623\n",
            "Epoch 9: avg_train_loss=1.6969387353897094, avg_train_accuracy=0.399475, avg_val_loss=1.618910780729958, avg_val_accuracy=0.4253194888178914\n",
            "Epoch 10: avg_train_loss=1.6593462748527528, avg_train_accuracy=0.414725, avg_val_loss=1.5720010763540055, avg_val_accuracy=0.44329073482428116\n",
            "Epoch 11: avg_train_loss=1.6437061668395996, avg_train_accuracy=0.421475, avg_val_loss=1.5667380650584308, avg_val_accuracy=0.44878194888178913\n",
            "Epoch 12: avg_train_loss=1.6345354857444763, avg_train_accuracy=0.4261, avg_val_loss=1.5563900226983018, avg_val_accuracy=0.45187699680511184\n",
            "Epoch 13: avg_train_loss=1.6303475531578064, avg_train_accuracy=0.42535, avg_val_loss=1.5532792022053046, avg_val_accuracy=0.44958067092651754\n",
            "Epoch 14: avg_train_loss=1.6266746101379395, avg_train_accuracy=0.4274, avg_val_loss=1.5484437694945656, avg_val_accuracy=0.45197683706070285\n",
            "Epoch 15: avg_train_loss=1.6234599062919617, avg_train_accuracy=0.427325, avg_val_loss=1.5468941987893832, avg_val_accuracy=0.45557108626198084\n",
            "Epoch 16: avg_train_loss=1.6181673511505128, avg_train_accuracy=0.433975, avg_val_loss=1.5391012955778323, avg_val_accuracy=0.4547723642172524\n",
            "Epoch 17: avg_train_loss=1.6141308015823363, avg_train_accuracy=0.430625, avg_val_loss=1.541868891959754, avg_val_accuracy=0.4547723642172524\n",
            "Epoch 18: avg_train_loss=1.6136977599143982, avg_train_accuracy=0.432525, avg_val_loss=1.534726051857677, avg_val_accuracy=0.45636980830670926\n",
            "Epoch 19: avg_train_loss=1.6060194325447084, avg_train_accuracy=0.4341, avg_val_loss=1.5311914899478705, avg_val_accuracy=0.46166134185303515\n",
            "Epoch 20: avg_train_loss=1.602209139919281, avg_train_accuracy=0.435725, avg_val_loss=1.5255250313792366, avg_val_accuracy=0.4590654952076677\n",
            "Epoch 21: avg_train_loss=1.594494415473938, avg_train_accuracy=0.43805, avg_val_loss=1.5252792412480607, avg_val_accuracy=0.4617611821086262\n",
            "Epoch 22: avg_train_loss=1.6029206809997558, avg_train_accuracy=0.435575, avg_val_loss=1.5317537156156837, avg_val_accuracy=0.45766773162939295\n",
            "Epoch 23: avg_train_loss=1.5965881279945373, avg_train_accuracy=0.438625, avg_val_loss=1.5284193906540307, avg_val_accuracy=0.45796725239616615\n",
            "Epoch 24: avg_train_loss=1.5981691715240478, avg_train_accuracy=0.438275, avg_val_loss=1.5284600025548722, avg_val_accuracy=0.45996405750798725\n",
            "Epoch 25: avg_train_loss=1.5949392602920531, avg_train_accuracy=0.437525, avg_val_loss=1.5204215929531062, avg_val_accuracy=0.46295926517571884\n",
            "Epoch 26: avg_train_loss=1.5962927817344665, avg_train_accuracy=0.4383, avg_val_loss=1.52840884577352, avg_val_accuracy=0.461461661341853\n",
            "Epoch 27: avg_train_loss=1.5947659501075744, avg_train_accuracy=0.4375, avg_val_loss=1.527383040315427, avg_val_accuracy=0.46116214057507987\n",
            "Epoch 28: avg_train_loss=1.593045502281189, avg_train_accuracy=0.438825, avg_val_loss=1.5259996644985943, avg_val_accuracy=0.4598642172523962\n",
            "Epoch 29: avg_train_loss=1.5939509868621826, avg_train_accuracy=0.44105, avg_val_loss=1.5212244477134924, avg_val_accuracy=0.4606629392971246\n"
          ]
        },
        {
          "output_type": "display_data",
          "data": {
            "text/plain": [
              "<IPython.core.display.HTML object>"
            ],
            "text/html": [
              "Waiting for W&B process to finish... <strong style=\"color:green\">(success).</strong>"
            ]
          },
          "metadata": {}
        },
        {
          "output_type": "display_data",
          "data": {
            "text/plain": [
              "VBox(children=(Label(value='0.001 MB of 0.001 MB uploaded (0.000 MB deduped)\\r'), FloatProgress(value=1.0, max…"
            ],
            "application/vnd.jupyter.widget-view+json": {
              "version_major": 2,
              "version_minor": 0,
              "model_id": "8a584d33adb24ce09e3c7883e25705c3"
            }
          },
          "metadata": {}
        },
        {
          "output_type": "display_data",
          "data": {
            "text/plain": [
              "<IPython.core.display.HTML object>"
            ],
            "text/html": [
              "<style>\n",
              "    table.wandb td:nth-child(1) { padding: 0 10px; text-align: left ; width: auto;} td:nth-child(2) {text-align: left ; width: 100%}\n",
              "    .wandb-row { display: flex; flex-direction: row; flex-wrap: wrap; justify-content: flex-start; width: 100% }\n",
              "    .wandb-col { display: flex; flex-direction: column; flex-basis: 100%; flex: 1; padding: 10px; }\n",
              "    </style>\n",
              "<div class=\"wandb-row\"><div class=\"wandb-col\"><h3>Run history:</h3><br/><table class=\"wandb\"><tr><td>batch_gradients_norm</td><td>▃▂▂▂▁▃▃▂▂▂▃▁▃▃▂▅▂▃▅▃▅▄▃▇▆▆▇▆█▅▄▄▅▅▄▇▄▅█▄</td></tr><tr><td>batch_idx</td><td>▁▁▁▁▂▂▂▂▂▃▃▃▃▃▃▄▄▄▄▄▅▅▅▅▅▅▆▆▆▆▆▇▇▇▇▇▇███</td></tr><tr><td>batch_size</td><td>▁▁▁▁▁▁▁▁▁▁▁▁▁▁▁▁▁▁▁▁▁▁▁▁▁▁▁▁▁▁</td></tr><tr><td>batch_training_loss</td><td>▇█▇▇▄▅▆▃▆▃▅▅▇▅▅▅▅▄▅▅▅▃▂▄▅▄▅▆▇▄▂▁▃▄▂▄▄▃▅▁</td></tr><tr><td>epoch</td><td>▁▁▁▂▂▂▂▃▃▃▃▄▄▄▄▅▅▅▅▆▆▆▆▇▇▇▇███</td></tr><tr><td>epoch_training_accuracy</td><td>▁▃▄▅▅▅▆▆▆▆▇▇▇▇▇▇██████████████</td></tr><tr><td>epoch_training_loss</td><td>█▆▅▄▄▄▃▃▃▃▂▂▂▂▂▂▁▁▁▁▁▁▁▁▁▁▁▁▁▁</td></tr><tr><td>epoch_validation_accuracy</td><td>▁▂▃▄▄▅▄▅▅▅▇▇▇▇▇▇▇▇████████████</td></tr><tr><td>epoch_validation_loss</td><td>█▆▅▅▄▄▄▄▃▄▂▂▂▂▂▂▁▂▁▁▁▁▁▁▁▁▁▁▁▁</td></tr><tr><td>learning_rate</td><td>██████████▂▂▂▂▂▂▂▂▂▂▁▁▁▁▁▁▁▁▁▁</td></tr><tr><td>model_norm</td><td>█▇▆▅▄▃▃▂▂▁▁▁▁▁▁▁▁▁▁▁▁▁▁▁▁▁▁▁▁▁</td></tr></table><br/></div><div class=\"wandb-col\"><h3>Run summary:</h3><br/><table class=\"wandb\"><tr><td>batch_gradients_norm</td><td>9.00556</td></tr><tr><td>batch_idx</td><td>37499</td></tr><tr><td>batch_size</td><td>32</td></tr><tr><td>batch_training_loss</td><td>1.58637</td></tr><tr><td>epoch</td><td>29</td></tr><tr><td>epoch_training_accuracy</td><td>0.44105</td></tr><tr><td>epoch_training_loss</td><td>1.59395</td></tr><tr><td>epoch_validation_accuracy</td><td>0.46066</td></tr><tr><td>epoch_validation_loss</td><td>1.52122</td></tr><tr><td>learning_rate</td><td>1e-05</td></tr><tr><td>model_norm</td><td>12.60249</td></tr><tr><td>optimizer</td><td>SGD</td></tr></table><br/></div></div>"
            ]
          },
          "metadata": {}
        },
        {
          "output_type": "display_data",
          "data": {
            "text/plain": [
              "<IPython.core.display.HTML object>"
            ],
            "text/html": [
              " View run <strong style=\"color:#cdcd00\">smooth-sweep-2</strong> at: <a href='https://wandb.ai/marius-workspace/wandb-final9/runs/2vbo0sz3' target=\"_blank\">https://wandb.ai/marius-workspace/wandb-final9/runs/2vbo0sz3</a><br/>Synced 5 W&B file(s), 0 media file(s), 0 artifact file(s) and 0 other file(s)"
            ]
          },
          "metadata": {}
        },
        {
          "output_type": "display_data",
          "data": {
            "text/plain": [
              "<IPython.core.display.HTML object>"
            ],
            "text/html": [
              "Find logs at: <code>./wandb/run-20231105_212809-2vbo0sz3/logs</code>"
            ]
          },
          "metadata": {}
        },
        {
          "output_type": "stream",
          "name": "stderr",
          "text": [
            "\u001b[34m\u001b[1mwandb\u001b[0m: Agent Starting Run: m812y960 with config:\n",
            "\u001b[34m\u001b[1mwandb\u001b[0m: \tbatch_size: 32\n",
            "\u001b[34m\u001b[1mwandb\u001b[0m: \tlearning_rate: 0.001\n",
            "\u001b[34m\u001b[1mwandb\u001b[0m: \tmomentum: 0.99\n",
            "\u001b[34m\u001b[1mwandb\u001b[0m: \toptimizer: adagrad\n",
            "\u001b[34m\u001b[1mwandb\u001b[0m: \tweight_decay: 0\n"
          ]
        },
        {
          "output_type": "display_data",
          "data": {
            "text/plain": [
              "<IPython.core.display.HTML object>"
            ],
            "text/html": [
              "Tracking run with wandb version 0.15.12"
            ]
          },
          "metadata": {}
        },
        {
          "output_type": "display_data",
          "data": {
            "text/plain": [
              "<IPython.core.display.HTML object>"
            ],
            "text/html": [
              "Run data is saved locally in <code>/content/wandb/run-20231105_220553-m812y960</code>"
            ]
          },
          "metadata": {}
        },
        {
          "output_type": "display_data",
          "data": {
            "text/plain": [
              "<IPython.core.display.HTML object>"
            ],
            "text/html": [
              "Syncing run <strong><a href='https://wandb.ai/marius-workspace/wandb-final9/runs/m812y960' target=\"_blank\">pretty-sweep-3</a></strong> to <a href='https://wandb.ai/marius-workspace/wandb-final9' target=\"_blank\">Weights & Biases</a> (<a href='https://wandb.me/run' target=\"_blank\">docs</a>)<br/>Sweep page: <a href='https://wandb.ai/marius-workspace/wandb-final9/sweeps/bygi5msd' target=\"_blank\">https://wandb.ai/marius-workspace/wandb-final9/sweeps/bygi5msd</a>"
            ]
          },
          "metadata": {}
        },
        {
          "output_type": "display_data",
          "data": {
            "text/plain": [
              "<IPython.core.display.HTML object>"
            ],
            "text/html": [
              " View project at <a href='https://wandb.ai/marius-workspace/wandb-final9' target=\"_blank\">https://wandb.ai/marius-workspace/wandb-final9</a>"
            ]
          },
          "metadata": {}
        },
        {
          "output_type": "display_data",
          "data": {
            "text/plain": [
              "<IPython.core.display.HTML object>"
            ],
            "text/html": [
              " View sweep at <a href='https://wandb.ai/marius-workspace/wandb-final9/sweeps/bygi5msd' target=\"_blank\">https://wandb.ai/marius-workspace/wandb-final9/sweeps/bygi5msd</a>"
            ]
          },
          "metadata": {}
        },
        {
          "output_type": "display_data",
          "data": {
            "text/plain": [
              "<IPython.core.display.HTML object>"
            ],
            "text/html": [
              " View run at <a href='https://wandb.ai/marius-workspace/wandb-final9/runs/m812y960' target=\"_blank\">https://wandb.ai/marius-workspace/wandb-final9/runs/m812y960</a>"
            ]
          },
          "metadata": {}
        },
        {
          "output_type": "stream",
          "name": "stdout",
          "text": [
            "Epoch 0: avg_train_loss=1.9519203490257264, avg_train_accuracy=0.3037, avg_val_loss=1.7991696916068325, avg_val_accuracy=0.36661341853035145\n",
            "Epoch 1: avg_train_loss=1.8620277520179749, avg_train_accuracy=0.33595, avg_val_loss=1.7492659846052956, avg_val_accuracy=0.38448482428115016\n",
            "Epoch 2: avg_train_loss=1.8276525023460388, avg_train_accuracy=0.350675, avg_val_loss=1.7254972450268535, avg_val_accuracy=0.389676517571885\n",
            "Epoch 3: avg_train_loss=1.8056496024131774, avg_train_accuracy=0.359625, avg_val_loss=1.7019317180584794, avg_val_accuracy=0.402555910543131\n",
            "Epoch 4: avg_train_loss=1.7913982444763183, avg_train_accuracy=0.361425, avg_val_loss=1.6884325902682904, avg_val_accuracy=0.4054512779552716\n",
            "Epoch 5: avg_train_loss=1.7773830418586731, avg_train_accuracy=0.369475, avg_val_loss=1.6721431131180102, avg_val_accuracy=0.40964456869009586\n",
            "Epoch 6: avg_train_loss=1.763389328098297, avg_train_accuracy=0.371725, avg_val_loss=1.6617616140804352, avg_val_accuracy=0.41623402555910544\n",
            "Epoch 7: avg_train_loss=1.7512598097801209, avg_train_accuracy=0.377775, avg_val_loss=1.6520835839140529, avg_val_accuracy=0.41753194888178913\n",
            "Epoch 8: avg_train_loss=1.7413768450737, avg_train_accuracy=0.38045, avg_val_loss=1.6484631189523034, avg_val_accuracy=0.41623402555910544\n",
            "Epoch 9: avg_train_loss=1.7357596364021302, avg_train_accuracy=0.38325, avg_val_loss=1.63275209592935, avg_val_accuracy=0.42601837060702874\n",
            "Epoch 10: avg_train_loss=1.7260922149658202, avg_train_accuracy=0.3885, avg_val_loss=1.6312840472395047, avg_val_accuracy=0.42841453674121405\n",
            "Epoch 11: avg_train_loss=1.72653844499588, avg_train_accuracy=0.387875, avg_val_loss=1.6301649827926685, avg_val_accuracy=0.4278154952076677\n",
            "Epoch 12: avg_train_loss=1.7259577916145326, avg_train_accuracy=0.388925, avg_val_loss=1.6319679444590316, avg_val_accuracy=0.426517571884984\n",
            "Epoch 13: avg_train_loss=1.7260933881759644, avg_train_accuracy=0.3892, avg_val_loss=1.6315906280145858, avg_val_accuracy=0.42631789137380194\n",
            "Epoch 14: avg_train_loss=1.7254831227302552, avg_train_accuracy=0.38875, avg_val_loss=1.6310608851643036, avg_val_accuracy=0.4273162939297125\n",
            "Epoch 15: avg_train_loss=1.7223428971290589, avg_train_accuracy=0.390475, avg_val_loss=1.6305895807644049, avg_val_accuracy=0.42911341853035145\n",
            "No improvement in validation loss for 5 consecutive epochs. Stopping early.\n"
          ]
        },
        {
          "output_type": "display_data",
          "data": {
            "text/plain": [
              "<IPython.core.display.HTML object>"
            ],
            "text/html": [
              "Waiting for W&B process to finish... <strong style=\"color:green\">(success).</strong>"
            ]
          },
          "metadata": {}
        },
        {
          "output_type": "display_data",
          "data": {
            "text/plain": [
              "<IPython.core.display.HTML object>"
            ],
            "text/html": [
              "<style>\n",
              "    table.wandb td:nth-child(1) { padding: 0 10px; text-align: left ; width: auto;} td:nth-child(2) {text-align: left ; width: 100%}\n",
              "    .wandb-row { display: flex; flex-direction: row; flex-wrap: wrap; justify-content: flex-start; width: 100% }\n",
              "    .wandb-col { display: flex; flex-direction: column; flex-basis: 100%; flex: 1; padding: 10px; }\n",
              "    </style>\n",
              "<div class=\"wandb-row\"><div class=\"wandb-col\"><h3>Run history:</h3><br/><table class=\"wandb\"><tr><td>batch_gradients_norm</td><td>▄▁▅▅▃▂▄▃▄▂▅▄▅▅▅▆▄▅▂▄█▇▇▆▅▆▅▆▆▄▅▄▆▄▄▆█▆▇▇</td></tr><tr><td>batch_idx</td><td>▁▁▁▂▂▂▂▂▂▃▃▃▃▃▃▄▄▄▄▄▅▅▅▅▅▅▆▆▆▆▆▇▇▇▇▇▇███</td></tr><tr><td>batch_size</td><td>▁▁▁▁▁▁▁▁▁▁▁▁▁▁▁▁▁</td></tr><tr><td>batch_training_loss</td><td>▆▃█▆▅▃▄▄▄▂▇▆▂▄▄▇▃▆▁▂▆█▇▆▃▂▁▅▅▂▂▄▆▂▃▃▅▅▆▅</td></tr><tr><td>epoch</td><td>▁▁▂▂▃▃▄▄▅▅▅▆▆▇▇██</td></tr><tr><td>epoch_training_accuracy</td><td>▁▄▅▅▆▆▆▇▇▇███████</td></tr><tr><td>epoch_training_loss</td><td>█▅▄▄▃▃▂▂▂▁▁▁▁▁▁▁▁</td></tr><tr><td>epoch_validation_accuracy</td><td>▁▃▄▅▅▆▇▇▇████████</td></tr><tr><td>epoch_validation_loss</td><td>█▆▅▄▃▃▂▂▂▁▁▁▁▁▁▁▁</td></tr><tr><td>learning_rate</td><td>██████████▁▁▁▁▁▁▁</td></tr><tr><td>model_norm</td><td>▁▂▄▄▅▆▆▇▇████████</td></tr></table><br/></div><div class=\"wandb-col\"><h3>Run summary:</h3><br/><table class=\"wandb\"><tr><td>batch_gradients_norm</td><td>6.22429</td></tr><tr><td>batch_idx</td><td>21249</td></tr><tr><td>batch_size</td><td>32</td></tr><tr><td>batch_training_loss</td><td>1.79987</td></tr><tr><td>epoch</td><td>16</td></tr><tr><td>epoch_training_accuracy</td><td>0.3914</td></tr><tr><td>epoch_training_loss</td><td>1.72044</td></tr><tr><td>epoch_validation_accuracy</td><td>0.42901</td></tr><tr><td>epoch_validation_loss</td><td>1.63062</td></tr><tr><td>learning_rate</td><td>0.0001</td></tr><tr><td>model_norm</td><td>45.46799</td></tr><tr><td>optimizer</td><td>Adagrad</td></tr></table><br/></div></div>"
            ]
          },
          "metadata": {}
        },
        {
          "output_type": "display_data",
          "data": {
            "text/plain": [
              "<IPython.core.display.HTML object>"
            ],
            "text/html": [
              " View run <strong style=\"color:#cdcd00\">pretty-sweep-3</strong> at: <a href='https://wandb.ai/marius-workspace/wandb-final9/runs/m812y960' target=\"_blank\">https://wandb.ai/marius-workspace/wandb-final9/runs/m812y960</a><br/>Synced 5 W&B file(s), 0 media file(s), 0 artifact file(s) and 0 other file(s)"
            ]
          },
          "metadata": {}
        },
        {
          "output_type": "display_data",
          "data": {
            "text/plain": [
              "<IPython.core.display.HTML object>"
            ],
            "text/html": [
              "Find logs at: <code>./wandb/run-20231105_220553-m812y960/logs</code>"
            ]
          },
          "metadata": {}
        },
        {
          "output_type": "stream",
          "name": "stderr",
          "text": [
            "\u001b[34m\u001b[1mwandb\u001b[0m: Agent Starting Run: k32xuu8x with config:\n",
            "\u001b[34m\u001b[1mwandb\u001b[0m: \tbatch_size: 64\n",
            "\u001b[34m\u001b[1mwandb\u001b[0m: \tlearning_rate: 0.0001\n",
            "\u001b[34m\u001b[1mwandb\u001b[0m: \tmomentum: 0.9\n",
            "\u001b[34m\u001b[1mwandb\u001b[0m: \toptimizer: adagrad\n",
            "\u001b[34m\u001b[1mwandb\u001b[0m: \tweight_decay: 0\n"
          ]
        },
        {
          "output_type": "display_data",
          "data": {
            "text/plain": [
              "<IPython.core.display.HTML object>"
            ],
            "text/html": [
              "Tracking run with wandb version 0.15.12"
            ]
          },
          "metadata": {}
        },
        {
          "output_type": "display_data",
          "data": {
            "text/plain": [
              "<IPython.core.display.HTML object>"
            ],
            "text/html": [
              "Run data is saved locally in <code>/content/wandb/run-20231105_222730-k32xuu8x</code>"
            ]
          },
          "metadata": {}
        },
        {
          "output_type": "display_data",
          "data": {
            "text/plain": [
              "<IPython.core.display.HTML object>"
            ],
            "text/html": [
              "Syncing run <strong><a href='https://wandb.ai/marius-workspace/wandb-final9/runs/k32xuu8x' target=\"_blank\">giddy-sweep-4</a></strong> to <a href='https://wandb.ai/marius-workspace/wandb-final9' target=\"_blank\">Weights & Biases</a> (<a href='https://wandb.me/run' target=\"_blank\">docs</a>)<br/>Sweep page: <a href='https://wandb.ai/marius-workspace/wandb-final9/sweeps/bygi5msd' target=\"_blank\">https://wandb.ai/marius-workspace/wandb-final9/sweeps/bygi5msd</a>"
            ]
          },
          "metadata": {}
        },
        {
          "output_type": "display_data",
          "data": {
            "text/plain": [
              "<IPython.core.display.HTML object>"
            ],
            "text/html": [
              " View project at <a href='https://wandb.ai/marius-workspace/wandb-final9' target=\"_blank\">https://wandb.ai/marius-workspace/wandb-final9</a>"
            ]
          },
          "metadata": {}
        },
        {
          "output_type": "display_data",
          "data": {
            "text/plain": [
              "<IPython.core.display.HTML object>"
            ],
            "text/html": [
              " View sweep at <a href='https://wandb.ai/marius-workspace/wandb-final9/sweeps/bygi5msd' target=\"_blank\">https://wandb.ai/marius-workspace/wandb-final9/sweeps/bygi5msd</a>"
            ]
          },
          "metadata": {}
        },
        {
          "output_type": "display_data",
          "data": {
            "text/plain": [
              "<IPython.core.display.HTML object>"
            ],
            "text/html": [
              " View run at <a href='https://wandb.ai/marius-workspace/wandb-final9/runs/k32xuu8x' target=\"_blank\">https://wandb.ai/marius-workspace/wandb-final9/runs/k32xuu8x</a>"
            ]
          },
          "metadata": {}
        },
        {
          "output_type": "stream",
          "name": "stdout",
          "text": [
            "Epoch 0: avg_train_loss=2.144220999336243, avg_train_accuracy=0.22375, avg_val_loss=2.0157729774523694, avg_val_accuracy=0.2975716560509554\n",
            "Epoch 1: avg_train_loss=2.060842402267456, avg_train_accuracy=0.263375, avg_val_loss=1.9748236009269764, avg_val_accuracy=0.3153861464968153\n",
            "Epoch 2: avg_train_loss=2.0321864501953124, avg_train_accuracy=0.27535, avg_val_loss=1.9517152036071583, avg_val_accuracy=0.3249402866242038\n",
            "Epoch 3: avg_train_loss=2.014566238975525, avg_train_accuracy=0.28045, avg_val_loss=1.9363015267499692, avg_val_accuracy=0.32961783439490444\n",
            "Epoch 4: avg_train_loss=1.9985106517791749, avg_train_accuracy=0.285375, avg_val_loss=1.92307713001397, avg_val_accuracy=0.334593949044586\n",
            "Epoch 5: avg_train_loss=1.989540412902832, avg_train_accuracy=0.292525, avg_val_loss=1.9104902562062451, avg_val_accuracy=0.33638535031847133\n",
            "Epoch 6: avg_train_loss=1.9782711380004883, avg_train_accuracy=0.2942, avg_val_loss=1.9016037435288642, avg_val_accuracy=0.34026671974522293\n",
            "Epoch 7: avg_train_loss=1.971998286819458, avg_train_accuracy=0.29625, avg_val_loss=1.8943545347566058, avg_val_accuracy=0.34484474522292996\n",
            "Epoch 8: avg_train_loss=1.9630285623550414, avg_train_accuracy=0.301125, avg_val_loss=1.8861415598802507, avg_val_accuracy=0.3482285031847134\n",
            "Epoch 9: avg_train_loss=1.9596844938278197, avg_train_accuracy=0.30255, avg_val_loss=1.8825235731282812, avg_val_accuracy=0.3482285031847134\n",
            "Epoch 10: avg_train_loss=1.955981290626526, avg_train_accuracy=0.304675, avg_val_loss=1.8795645905148453, avg_val_accuracy=0.3471337579617834\n",
            "Epoch 11: avg_train_loss=1.9538624532699584, avg_train_accuracy=0.30595, avg_val_loss=1.8811188829932244, avg_val_accuracy=0.3509156050955414\n",
            "Epoch 12: avg_train_loss=1.949335753250122, avg_train_accuracy=0.307325, avg_val_loss=1.8792386335931766, avg_val_accuracy=0.34882563694267515\n",
            "Epoch 13: avg_train_loss=1.953822354888916, avg_train_accuracy=0.304625, avg_val_loss=1.8818749394386438, avg_val_accuracy=0.34812898089171973\n",
            "Epoch 14: avg_train_loss=1.9517356906890868, avg_train_accuracy=0.306625, avg_val_loss=1.880160665815803, avg_val_accuracy=0.34683519108280253\n",
            "Epoch 15: avg_train_loss=1.9554713121414184, avg_train_accuracy=0.30305, avg_val_loss=1.8780905752424981, avg_val_accuracy=0.3479299363057325\n",
            "Epoch 16: avg_train_loss=1.9494775693893434, avg_train_accuracy=0.3071, avg_val_loss=1.8780207580821529, avg_val_accuracy=0.348328025477707\n",
            "Epoch 17: avg_train_loss=1.9490155712127686, avg_train_accuracy=0.30775, avg_val_loss=1.8801282940396837, avg_val_accuracy=0.3473328025477707\n",
            "Epoch 18: avg_train_loss=1.951775262451172, avg_train_accuracy=0.307675, avg_val_loss=1.8799898571269527, avg_val_accuracy=0.3487261146496815\n",
            "Epoch 19: avg_train_loss=1.9509071853637696, avg_train_accuracy=0.305675, avg_val_loss=1.8765808328701432, avg_val_accuracy=0.3471337579617834\n",
            "Epoch 20: avg_train_loss=1.948619437789917, avg_train_accuracy=0.3072, avg_val_loss=1.8765279312801968, avg_val_accuracy=0.350218949044586\n",
            "Epoch 21: avg_train_loss=1.9514313877105713, avg_train_accuracy=0.30565, avg_val_loss=1.878116719282357, avg_val_accuracy=0.35041799363057324\n",
            "Epoch 22: avg_train_loss=1.9535241289138794, avg_train_accuracy=0.30615, avg_val_loss=1.8760239910927548, avg_val_accuracy=0.34852707006369427\n",
            "Epoch 23: avg_train_loss=1.9510850551605226, avg_train_accuracy=0.306025, avg_val_loss=1.8767804211112344, avg_val_accuracy=0.3515127388535032\n",
            "Epoch 24: avg_train_loss=1.9500306524276734, avg_train_accuracy=0.306575, avg_val_loss=1.876158979288332, avg_val_accuracy=0.3506170382165605\n",
            "Epoch 25: avg_train_loss=1.952521387863159, avg_train_accuracy=0.30655, avg_val_loss=1.8774102440305576, avg_val_accuracy=0.34912420382165604\n",
            "Epoch 26: avg_train_loss=1.9497252773284912, avg_train_accuracy=0.304725, avg_val_loss=1.8762022226479402, avg_val_accuracy=0.348328025477707\n",
            "No improvement in validation loss for 5 consecutive epochs. Stopping early.\n"
          ]
        },
        {
          "output_type": "display_data",
          "data": {
            "text/plain": [
              "<IPython.core.display.HTML object>"
            ],
            "text/html": [
              "Waiting for W&B process to finish... <strong style=\"color:green\">(success).</strong>"
            ]
          },
          "metadata": {}
        },
        {
          "output_type": "display_data",
          "data": {
            "text/plain": [
              "VBox(children=(Label(value='0.001 MB of 0.001 MB uploaded (0.000 MB deduped)\\r'), FloatProgress(value=1.0, max…"
            ],
            "application/vnd.jupyter.widget-view+json": {
              "version_major": 2,
              "version_minor": 0,
              "model_id": "fad654f42388411584907069c39385da"
            }
          },
          "metadata": {}
        },
        {
          "output_type": "display_data",
          "data": {
            "text/plain": [
              "<IPython.core.display.HTML object>"
            ],
            "text/html": [
              "<style>\n",
              "    table.wandb td:nth-child(1) { padding: 0 10px; text-align: left ; width: auto;} td:nth-child(2) {text-align: left ; width: 100%}\n",
              "    .wandb-row { display: flex; flex-direction: row; flex-wrap: wrap; justify-content: flex-start; width: 100% }\n",
              "    .wandb-col { display: flex; flex-direction: column; flex-basis: 100%; flex: 1; padding: 10px; }\n",
              "    </style>\n",
              "<div class=\"wandb-row\"><div class=\"wandb-col\"><h3>Run history:</h3><br/><table class=\"wandb\"><tr><td>batch_gradients_norm</td><td>█▄▅▅▅▄▆▃▄▄▃█▄▇▃▅█▆▁▃▂▁▃▂▃▅▂▅▃▆▃▄▇▄▆▃▅▃▄▂</td></tr><tr><td>batch_idx</td><td>▁▁▁▂▂▂▂▂▂▃▃▃▃▃▄▄▄▄▄▄▅▅▅▅▅▅▆▆▆▆▆▇▇▇▇▇▇███</td></tr><tr><td>batch_size</td><td>▁▁▁▁▁▁▁▁▁▁▁▁▁▁▁▁▁▁▁▁▁▁▁▁▁▁▁▁</td></tr><tr><td>batch_training_loss</td><td>█▅▇▅▄▄▄▃▂▄▅▇▃▅▄▅▅▄▂▃▃▃▂▃▁▄▃▅▄▄▃▃▄▁▅▃▄▃▅▃</td></tr><tr><td>epoch</td><td>▁▁▂▂▂▂▃▃▃▃▄▄▄▄▅▅▅▅▆▆▆▆▇▇▇▇██</td></tr><tr><td>epoch_training_accuracy</td><td>▁▄▅▆▆▇▇▇▇███████████████████</td></tr><tr><td>epoch_training_loss</td><td>█▅▄▃▃▂▂▂▂▁▁▁▁▁▁▁▁▁▁▁▁▁▁▁▁▁▁▁</td></tr><tr><td>epoch_validation_accuracy</td><td>▁▃▅▅▆▆▇▇██▇███▇██▇█▇████████</td></tr><tr><td>epoch_validation_loss</td><td>█▆▅▄▃▃▂▂▂▁▁▁▁▁▁▁▁▁▁▁▁▁▁▁▁▁▁▁</td></tr><tr><td>learning_rate</td><td>██████████▂▂▂▂▂▂▂▂▂▂▁▁▁▁▁▁▁▁</td></tr><tr><td>model_norm</td><td>▁▂▃▄▄▅▆▆▇███████████████████</td></tr></table><br/></div><div class=\"wandb-col\"><h3>Run summary:</h3><br/><table class=\"wandb\"><tr><td>batch_gradients_norm</td><td>4.68576</td></tr><tr><td>batch_idx</td><td>17499</td></tr><tr><td>batch_size</td><td>64</td></tr><tr><td>batch_training_loss</td><td>1.91614</td></tr><tr><td>epoch</td><td>27</td></tr><tr><td>epoch_training_accuracy</td><td>0.30555</td></tr><tr><td>epoch_training_loss</td><td>1.95244</td></tr><tr><td>epoch_validation_accuracy</td><td>0.34863</td></tr><tr><td>epoch_validation_loss</td><td>1.87638</td></tr><tr><td>learning_rate</td><td>0.0</td></tr><tr><td>model_norm</td><td>45.30599</td></tr><tr><td>optimizer</td><td>Adagrad</td></tr></table><br/></div></div>"
            ]
          },
          "metadata": {}
        },
        {
          "output_type": "display_data",
          "data": {
            "text/plain": [
              "<IPython.core.display.HTML object>"
            ],
            "text/html": [
              " View run <strong style=\"color:#cdcd00\">giddy-sweep-4</strong> at: <a href='https://wandb.ai/marius-workspace/wandb-final9/runs/k32xuu8x' target=\"_blank\">https://wandb.ai/marius-workspace/wandb-final9/runs/k32xuu8x</a><br/>Synced 5 W&B file(s), 0 media file(s), 0 artifact file(s) and 0 other file(s)"
            ]
          },
          "metadata": {}
        },
        {
          "output_type": "display_data",
          "data": {
            "text/plain": [
              "<IPython.core.display.HTML object>"
            ],
            "text/html": [
              "Find logs at: <code>./wandb/run-20231105_222730-k32xuu8x/logs</code>"
            ]
          },
          "metadata": {}
        },
        {
          "output_type": "stream",
          "name": "stderr",
          "text": [
            "\u001b[34m\u001b[1mwandb\u001b[0m: Agent Starting Run: 3zot21y3 with config:\n",
            "\u001b[34m\u001b[1mwandb\u001b[0m: \tbatch_size: 16\n",
            "\u001b[34m\u001b[1mwandb\u001b[0m: \tlearning_rate: 0.001\n",
            "\u001b[34m\u001b[1mwandb\u001b[0m: \tmomentum: 0.9\n",
            "\u001b[34m\u001b[1mwandb\u001b[0m: \toptimizer: adam\n",
            "\u001b[34m\u001b[1mwandb\u001b[0m: \tweight_decay: 0\n"
          ]
        },
        {
          "output_type": "display_data",
          "data": {
            "text/plain": [
              "<IPython.core.display.HTML object>"
            ],
            "text/html": [
              "Tracking run with wandb version 0.15.12"
            ]
          },
          "metadata": {}
        },
        {
          "output_type": "display_data",
          "data": {
            "text/plain": [
              "<IPython.core.display.HTML object>"
            ],
            "text/html": [
              "Run data is saved locally in <code>/content/wandb/run-20231105_225923-3zot21y3</code>"
            ]
          },
          "metadata": {}
        },
        {
          "output_type": "display_data",
          "data": {
            "text/plain": [
              "<IPython.core.display.HTML object>"
            ],
            "text/html": [
              "Syncing run <strong><a href='https://wandb.ai/marius-workspace/wandb-final9/runs/3zot21y3' target=\"_blank\">fresh-sweep-5</a></strong> to <a href='https://wandb.ai/marius-workspace/wandb-final9' target=\"_blank\">Weights & Biases</a> (<a href='https://wandb.me/run' target=\"_blank\">docs</a>)<br/>Sweep page: <a href='https://wandb.ai/marius-workspace/wandb-final9/sweeps/bygi5msd' target=\"_blank\">https://wandb.ai/marius-workspace/wandb-final9/sweeps/bygi5msd</a>"
            ]
          },
          "metadata": {}
        },
        {
          "output_type": "display_data",
          "data": {
            "text/plain": [
              "<IPython.core.display.HTML object>"
            ],
            "text/html": [
              " View project at <a href='https://wandb.ai/marius-workspace/wandb-final9' target=\"_blank\">https://wandb.ai/marius-workspace/wandb-final9</a>"
            ]
          },
          "metadata": {}
        },
        {
          "output_type": "display_data",
          "data": {
            "text/plain": [
              "<IPython.core.display.HTML object>"
            ],
            "text/html": [
              " View sweep at <a href='https://wandb.ai/marius-workspace/wandb-final9/sweeps/bygi5msd' target=\"_blank\">https://wandb.ai/marius-workspace/wandb-final9/sweeps/bygi5msd</a>"
            ]
          },
          "metadata": {}
        },
        {
          "output_type": "display_data",
          "data": {
            "text/plain": [
              "<IPython.core.display.HTML object>"
            ],
            "text/html": [
              " View run at <a href='https://wandb.ai/marius-workspace/wandb-final9/runs/3zot21y3' target=\"_blank\">https://wandb.ai/marius-workspace/wandb-final9/runs/3zot21y3</a>"
            ]
          },
          "metadata": {}
        },
        {
          "output_type": "stream",
          "name": "stdout",
          "text": [
            "Epoch 0: avg_train_loss=2.0025831336021422, avg_train_accuracy=0.283025, avg_val_loss=1.8203652694702148, avg_val_accuracy=0.3555\n",
            "Epoch 1: avg_train_loss=1.8912965383052827, avg_train_accuracy=0.3258, avg_val_loss=1.7458866386413574, avg_val_accuracy=0.379\n",
            "Epoch 2: avg_train_loss=1.841972592639923, avg_train_accuracy=0.3428, avg_val_loss=1.7084318891525268, avg_val_accuracy=0.3938\n",
            "Epoch 3: avg_train_loss=1.8043928775310516, avg_train_accuracy=0.35285, avg_val_loss=1.6586644828796386, avg_val_accuracy=0.4122\n",
            "Epoch 4: avg_train_loss=1.7834322164535523, avg_train_accuracy=0.36395, avg_val_loss=1.6340480676651001, avg_val_accuracy=0.417\n",
            "Epoch 5: avg_train_loss=1.7537826076507568, avg_train_accuracy=0.376425, avg_val_loss=1.6173215795516969, avg_val_accuracy=0.4262\n",
            "Epoch 6: avg_train_loss=1.7406096604824066, avg_train_accuracy=0.384675, avg_val_loss=1.5991134656906127, avg_val_accuracy=0.4345\n",
            "Epoch 7: avg_train_loss=1.7243033504962921, avg_train_accuracy=0.38645, avg_val_loss=1.5802832063674928, avg_val_accuracy=0.4367\n",
            "Epoch 8: avg_train_loss=1.7107966685771943, avg_train_accuracy=0.391625, avg_val_loss=1.5637971718788146, avg_val_accuracy=0.4499\n",
            "Epoch 9: avg_train_loss=1.7079552003860474, avg_train_accuracy=0.394025, avg_val_loss=1.556688315296173, avg_val_accuracy=0.4484\n",
            "Epoch 10: avg_train_loss=1.663462394618988, avg_train_accuracy=0.411375, avg_val_loss=1.5153265280723571, avg_val_accuracy=0.4634\n",
            "Epoch 11: avg_train_loss=1.6431515459060668, avg_train_accuracy=0.417925, avg_val_loss=1.5141931859016418, avg_val_accuracy=0.4632\n",
            "Epoch 12: avg_train_loss=1.63965582818985, avg_train_accuracy=0.420375, avg_val_loss=1.5015820496559142, avg_val_accuracy=0.471\n",
            "Epoch 13: avg_train_loss=1.6286858101844788, avg_train_accuracy=0.422825, avg_val_loss=1.5079070835113526, avg_val_accuracy=0.4664\n",
            "Epoch 14: avg_train_loss=1.629803800392151, avg_train_accuracy=0.421475, avg_val_loss=1.495544548034668, avg_val_accuracy=0.4716\n",
            "Epoch 15: avg_train_loss=1.6265367788076401, avg_train_accuracy=0.426275, avg_val_loss=1.490904499721527, avg_val_accuracy=0.473\n",
            "Epoch 16: avg_train_loss=1.6166051872015, avg_train_accuracy=0.428225, avg_val_loss=1.488181795501709, avg_val_accuracy=0.4722\n",
            "Epoch 17: avg_train_loss=1.615864962720871, avg_train_accuracy=0.426825, avg_val_loss=1.4938204310417176, avg_val_accuracy=0.4727\n",
            "Epoch 18: avg_train_loss=1.6078551896333695, avg_train_accuracy=0.4294, avg_val_loss=1.4840434935569764, avg_val_accuracy=0.4741\n",
            "Epoch 19: avg_train_loss=1.6058908410787582, avg_train_accuracy=0.430575, avg_val_loss=1.4834528986930846, avg_val_accuracy=0.4715\n",
            "Epoch 20: avg_train_loss=1.6097569464683532, avg_train_accuracy=0.431875, avg_val_loss=1.4809376509666443, avg_val_accuracy=0.4772\n",
            "Epoch 21: avg_train_loss=1.6076150856256486, avg_train_accuracy=0.429575, avg_val_loss=1.481222619342804, avg_val_accuracy=0.477\n",
            "Epoch 22: avg_train_loss=1.6024241745710373, avg_train_accuracy=0.43485, avg_val_loss=1.4818398480415345, avg_val_accuracy=0.4749\n",
            "Epoch 23: avg_train_loss=1.601950863623619, avg_train_accuracy=0.432325, avg_val_loss=1.4773874406814576, avg_val_accuracy=0.4775\n",
            "Epoch 24: avg_train_loss=1.5974536753892898, avg_train_accuracy=0.435375, avg_val_loss=1.4773484579086305, avg_val_accuracy=0.4745\n",
            "Epoch 25: avg_train_loss=1.5994436307430266, avg_train_accuracy=0.434475, avg_val_loss=1.4741749793052674, avg_val_accuracy=0.4799\n",
            "Epoch 26: avg_train_loss=1.6033239240407944, avg_train_accuracy=0.43095, avg_val_loss=1.4785606731414795, avg_val_accuracy=0.4813\n",
            "Epoch 27: avg_train_loss=1.5970140756607056, avg_train_accuracy=0.437775, avg_val_loss=1.476025767993927, avg_val_accuracy=0.4779\n",
            "Epoch 28: avg_train_loss=1.5998807679414748, avg_train_accuracy=0.4322, avg_val_loss=1.476486292362213, avg_val_accuracy=0.4764\n",
            "Epoch 29: avg_train_loss=1.600897097301483, avg_train_accuracy=0.43375, avg_val_loss=1.473703419303894, avg_val_accuracy=0.4743\n"
          ]
        },
        {
          "output_type": "display_data",
          "data": {
            "text/plain": [
              "<IPython.core.display.HTML object>"
            ],
            "text/html": [
              "Waiting for W&B process to finish... <strong style=\"color:green\">(success).</strong>"
            ]
          },
          "metadata": {}
        },
        {
          "output_type": "display_data",
          "data": {
            "text/plain": [
              "VBox(children=(Label(value='0.002 MB of 0.014 MB uploaded (0.000 MB deduped)\\r'), FloatProgress(value=0.115113…"
            ],
            "application/vnd.jupyter.widget-view+json": {
              "version_major": 2,
              "version_minor": 0,
              "model_id": "38cebbd250ae4b88903ed3185efe5f64"
            }
          },
          "metadata": {}
        },
        {
          "output_type": "display_data",
          "data": {
            "text/plain": [
              "<IPython.core.display.HTML object>"
            ],
            "text/html": [
              "<style>\n",
              "    table.wandb td:nth-child(1) { padding: 0 10px; text-align: left ; width: auto;} td:nth-child(2) {text-align: left ; width: 100%}\n",
              "    .wandb-row { display: flex; flex-direction: row; flex-wrap: wrap; justify-content: flex-start; width: 100% }\n",
              "    .wandb-col { display: flex; flex-direction: column; flex-basis: 100%; flex: 1; padding: 10px; }\n",
              "    </style>\n",
              "<div class=\"wandb-row\"><div class=\"wandb-col\"><h3>Run history:</h3><br/><table class=\"wandb\"><tr><td>batch_gradients_norm</td><td>█▆▄▄▃▃▂▂▂▂▂▂▂▁▂▂▁▁▂▁▂▂▁▂▁▁▁▂▁▂▂▂▂▂▂▁▁▂▁▂</td></tr><tr><td>batch_idx</td><td>▁▁▁▁▂▂▂▂▂▃▃▃▃▃▃▄▄▄▄▄▅▅▅▅▅▅▆▆▆▆▆▇▇▇▇▇▇███</td></tr><tr><td>batch_size</td><td>▁▁▁▁▁▁▁▁▁▁▁▁▁▁▁▁▁▁▁▁▁▁▁▁▁▁▁▁▁▁</td></tr><tr><td>batch_training_loss</td><td>▇▄▄▆▃▆▂▅▆▄▆▃▃▅▆▅▅▄▆▄▅▄▃▄▁▄▃▆▃▇▅▅▅▅▄▁▃█▂▄</td></tr><tr><td>epoch</td><td>▁▁▁▂▂▂▂▃▃▃▃▄▄▄▄▅▅▅▅▆▆▆▆▇▇▇▇███</td></tr><tr><td>epoch_training_accuracy</td><td>▁▃▄▄▅▅▆▆▆▆▇▇▇▇▇▇██████████████</td></tr><tr><td>epoch_training_loss</td><td>█▆▅▅▄▄▃▃▃▃▂▂▂▂▂▂▁▁▁▁▁▁▁▁▁▁▁▁▁▁</td></tr><tr><td>epoch_validation_accuracy</td><td>▁▂▃▄▄▅▅▆▆▆▇▇▇▇▇█▇██▇██████████</td></tr><tr><td>epoch_validation_loss</td><td>█▆▆▅▄▄▄▃▃▃▂▂▂▂▁▁▁▁▁▁▁▁▁▁▁▁▁▁▁▁</td></tr><tr><td>learning_rate</td><td>██████████▂▂▂▂▂▂▂▂▂▂▁▁▁▁▁▁▁▁▁▁</td></tr><tr><td>model_norm</td><td>▁▂▃▄▅▅▆▇▇█████████████████████</td></tr></table><br/></div><div class=\"wandb-col\"><h3>Run summary:</h3><br/><table class=\"wandb\"><tr><td>batch_gradients_norm</td><td>1.44591</td></tr><tr><td>batch_idx</td><td>74999</td></tr><tr><td>batch_size</td><td>16</td></tr><tr><td>batch_training_loss</td><td>1.66221</td></tr><tr><td>epoch</td><td>29</td></tr><tr><td>epoch_training_accuracy</td><td>0.43375</td></tr><tr><td>epoch_training_loss</td><td>1.6009</td></tr><tr><td>epoch_validation_accuracy</td><td>0.4743</td></tr><tr><td>epoch_validation_loss</td><td>1.4737</td></tr><tr><td>learning_rate</td><td>1e-05</td></tr><tr><td>model_norm</td><td>178.00766</td></tr><tr><td>optimizer</td><td>Adam</td></tr></table><br/></div></div>"
            ]
          },
          "metadata": {}
        },
        {
          "output_type": "display_data",
          "data": {
            "text/plain": [
              "<IPython.core.display.HTML object>"
            ],
            "text/html": [
              " View run <strong style=\"color:#cdcd00\">fresh-sweep-5</strong> at: <a href='https://wandb.ai/marius-workspace/wandb-final9/runs/3zot21y3' target=\"_blank\">https://wandb.ai/marius-workspace/wandb-final9/runs/3zot21y3</a><br/>Synced 5 W&B file(s), 0 media file(s), 0 artifact file(s) and 0 other file(s)"
            ]
          },
          "metadata": {}
        },
        {
          "output_type": "display_data",
          "data": {
            "text/plain": [
              "<IPython.core.display.HTML object>"
            ],
            "text/html": [
              "Find logs at: <code>./wandb/run-20231105_225923-3zot21y3/logs</code>"
            ]
          },
          "metadata": {}
        },
        {
          "output_type": "stream",
          "name": "stderr",
          "text": [
            "\u001b[34m\u001b[1mwandb\u001b[0m: Agent Starting Run: vwbf243o with config:\n",
            "\u001b[34m\u001b[1mwandb\u001b[0m: \tbatch_size: 32\n",
            "\u001b[34m\u001b[1mwandb\u001b[0m: \tlearning_rate: 0.0001\n",
            "\u001b[34m\u001b[1mwandb\u001b[0m: \tmomentum: 0.9\n",
            "\u001b[34m\u001b[1mwandb\u001b[0m: \toptimizer: sgd\n",
            "\u001b[34m\u001b[1mwandb\u001b[0m: \tweight_decay: 0.01\n"
          ]
        },
        {
          "output_type": "display_data",
          "data": {
            "text/plain": [
              "<IPython.core.display.HTML object>"
            ],
            "text/html": [
              "Tracking run with wandb version 0.15.12"
            ]
          },
          "metadata": {}
        },
        {
          "output_type": "display_data",
          "data": {
            "text/plain": [
              "<IPython.core.display.HTML object>"
            ],
            "text/html": [
              "Run data is saved locally in <code>/content/wandb/run-20231105_234901-vwbf243o</code>"
            ]
          },
          "metadata": {}
        },
        {
          "output_type": "display_data",
          "data": {
            "text/plain": [
              "<IPython.core.display.HTML object>"
            ],
            "text/html": [
              "Syncing run <strong><a href='https://wandb.ai/marius-workspace/wandb-final9/runs/vwbf243o' target=\"_blank\">atomic-sweep-6</a></strong> to <a href='https://wandb.ai/marius-workspace/wandb-final9' target=\"_blank\">Weights & Biases</a> (<a href='https://wandb.me/run' target=\"_blank\">docs</a>)<br/>Sweep page: <a href='https://wandb.ai/marius-workspace/wandb-final9/sweeps/bygi5msd' target=\"_blank\">https://wandb.ai/marius-workspace/wandb-final9/sweeps/bygi5msd</a>"
            ]
          },
          "metadata": {}
        },
        {
          "output_type": "display_data",
          "data": {
            "text/plain": [
              "<IPython.core.display.HTML object>"
            ],
            "text/html": [
              " View project at <a href='https://wandb.ai/marius-workspace/wandb-final9' target=\"_blank\">https://wandb.ai/marius-workspace/wandb-final9</a>"
            ]
          },
          "metadata": {}
        },
        {
          "output_type": "display_data",
          "data": {
            "text/plain": [
              "<IPython.core.display.HTML object>"
            ],
            "text/html": [
              " View sweep at <a href='https://wandb.ai/marius-workspace/wandb-final9/sweeps/bygi5msd' target=\"_blank\">https://wandb.ai/marius-workspace/wandb-final9/sweeps/bygi5msd</a>"
            ]
          },
          "metadata": {}
        },
        {
          "output_type": "display_data",
          "data": {
            "text/plain": [
              "<IPython.core.display.HTML object>"
            ],
            "text/html": [
              " View run at <a href='https://wandb.ai/marius-workspace/wandb-final9/runs/vwbf243o' target=\"_blank\">https://wandb.ai/marius-workspace/wandb-final9/runs/vwbf243o</a>"
            ]
          },
          "metadata": {}
        },
        {
          "output_type": "stream",
          "name": "stdout",
          "text": [
            "Epoch 0: avg_train_loss=2.1468979077339174, avg_train_accuracy=0.220875, avg_val_loss=1.9810821804375693, avg_val_accuracy=0.31639376996805113\n",
            "Epoch 1: avg_train_loss=2.020074793243408, avg_train_accuracy=0.278675, avg_val_loss=1.9085218369389494, avg_val_accuracy=0.3373602236421725\n",
            "Epoch 2: avg_train_loss=1.9688426562309265, avg_train_accuracy=0.2975, avg_val_loss=1.8684099737447672, avg_val_accuracy=0.34804313099041534\n",
            "Epoch 3: avg_train_loss=1.932113517665863, avg_train_accuracy=0.31125, avg_val_loss=1.8375167286814973, avg_val_accuracy=0.3608226837060703\n",
            "Epoch 4: avg_train_loss=1.9079335852622985, avg_train_accuracy=0.320475, avg_val_loss=1.813208953260233, avg_val_accuracy=0.36351837060702874\n",
            "Epoch 5: avg_train_loss=1.8951293829917908, avg_train_accuracy=0.3251, avg_val_loss=1.7981777141650264, avg_val_accuracy=0.37030750798722045\n",
            "Epoch 6: avg_train_loss=1.873510555934906, avg_train_accuracy=0.33475, avg_val_loss=1.7778354887002574, avg_val_accuracy=0.3766972843450479\n",
            "Epoch 7: avg_train_loss=1.860530973815918, avg_train_accuracy=0.3378, avg_val_loss=1.7669627030436603, avg_val_accuracy=0.37859424920127793\n",
            "Epoch 8: avg_train_loss=1.8444753217697143, avg_train_accuracy=0.345475, avg_val_loss=1.7557473955824734, avg_val_accuracy=0.38338658146964855\n",
            "Epoch 9: avg_train_loss=1.836217709827423, avg_train_accuracy=0.3468, avg_val_loss=1.7478273512837224, avg_val_accuracy=0.38867811501597443\n",
            "Epoch 10: avg_train_loss=1.825568632888794, avg_train_accuracy=0.3515, avg_val_loss=1.7390293233310834, avg_val_accuracy=0.3908746006389776\n",
            "Epoch 11: avg_train_loss=1.8240529983520508, avg_train_accuracy=0.352725, avg_val_loss=1.7397771167298095, avg_val_accuracy=0.3902755591054313\n",
            "Epoch 12: avg_train_loss=1.8234929116249083, avg_train_accuracy=0.35385, avg_val_loss=1.7450508991369424, avg_val_accuracy=0.3912739616613419\n",
            "Epoch 13: avg_train_loss=1.8200216816902162, avg_train_accuracy=0.354375, avg_val_loss=1.7374107647246826, avg_val_accuracy=0.3919728434504792\n",
            "Epoch 14: avg_train_loss=1.819110596179962, avg_train_accuracy=0.3539, avg_val_loss=1.7382468777342726, avg_val_accuracy=0.389676517571885\n",
            "Epoch 15: avg_train_loss=1.8192348346710205, avg_train_accuracy=0.354575, avg_val_loss=1.739602593187326, avg_val_accuracy=0.3899760383386581\n",
            "Epoch 16: avg_train_loss=1.815976563167572, avg_train_accuracy=0.356025, avg_val_loss=1.7388066217160454, avg_val_accuracy=0.38977635782747605\n",
            "Epoch 17: avg_train_loss=1.8175319687843323, avg_train_accuracy=0.3538, avg_val_loss=1.7376984110274636, avg_val_accuracy=0.3913738019169329\n",
            "Epoch 18: avg_train_loss=1.8186890832901002, avg_train_accuracy=0.356, avg_val_loss=1.7324335038090666, avg_val_accuracy=0.3932707667731629\n",
            "Epoch 19: avg_train_loss=1.8117206813812257, avg_train_accuracy=0.35745, avg_val_loss=1.7333768846127933, avg_val_accuracy=0.39347044728434505\n",
            "Epoch 20: avg_train_loss=1.814243330001831, avg_train_accuracy=0.35545, avg_val_loss=1.728589189319184, avg_val_accuracy=0.3961661341853035\n",
            "Epoch 21: avg_train_loss=1.8134481632232666, avg_train_accuracy=0.35555, avg_val_loss=1.7319882887240035, avg_val_accuracy=0.3953674121405751\n",
            "Epoch 22: avg_train_loss=1.8096521410942077, avg_train_accuracy=0.357575, avg_val_loss=1.7284643699566777, avg_val_accuracy=0.393370607028754\n",
            "Epoch 23: avg_train_loss=1.813733385181427, avg_train_accuracy=0.35795, avg_val_loss=1.7313369683945141, avg_val_accuracy=0.393370607028754\n",
            "Epoch 24: avg_train_loss=1.81489666557312, avg_train_accuracy=0.3552, avg_val_loss=1.7331372967924172, avg_val_accuracy=0.39586661341853036\n",
            "Epoch 25: avg_train_loss=1.8111904738426208, avg_train_accuracy=0.3566, avg_val_loss=1.7349220982755715, avg_val_accuracy=0.3932707667731629\n",
            "Epoch 26: avg_train_loss=1.8112121270179748, avg_train_accuracy=0.358025, avg_val_loss=1.729065239619904, avg_val_accuracy=0.3944688498402556\n",
            "No improvement in validation loss for 5 consecutive epochs. Stopping early.\n"
          ]
        },
        {
          "output_type": "display_data",
          "data": {
            "text/plain": [
              "<IPython.core.display.HTML object>"
            ],
            "text/html": [
              "Waiting for W&B process to finish... <strong style=\"color:green\">(success).</strong>"
            ]
          },
          "metadata": {}
        },
        {
          "output_type": "display_data",
          "data": {
            "text/plain": [
              "VBox(children=(Label(value='0.001 MB of 0.014 MB uploaded (0.000 MB deduped)\\r'), FloatProgress(value=0.072398…"
            ],
            "application/vnd.jupyter.widget-view+json": {
              "version_major": 2,
              "version_minor": 0,
              "model_id": "dbbb8111d56a41f6ad98c8a4ba920014"
            }
          },
          "metadata": {}
        },
        {
          "output_type": "display_data",
          "data": {
            "text/plain": [
              "<IPython.core.display.HTML object>"
            ],
            "text/html": [
              "<style>\n",
              "    table.wandb td:nth-child(1) { padding: 0 10px; text-align: left ; width: auto;} td:nth-child(2) {text-align: left ; width: 100%}\n",
              "    .wandb-row { display: flex; flex-direction: row; flex-wrap: wrap; justify-content: flex-start; width: 100% }\n",
              "    .wandb-col { display: flex; flex-direction: column; flex-basis: 100%; flex: 1; padding: 10px; }\n",
              "    </style>\n",
              "<div class=\"wandb-row\"><div class=\"wandb-col\"><h3>Run history:</h3><br/><table class=\"wandb\"><tr><td>batch_gradients_norm</td><td>█▆▆▅▄▅▅▅▄█▆▄▂▃▁▄▄▇▂▃▂▅▆▂▅▄▃▆▃▄▁▅▂▃▄▃▇▅▄▄</td></tr><tr><td>batch_idx</td><td>▁▁▁▂▂▂▂▂▂▃▃▃▃▃▄▄▄▄▄▄▅▅▅▅▅▅▆▆▆▆▆▇▇▇▇▇▇███</td></tr><tr><td>batch_size</td><td>▁▁▁▁▁▁▁▁▁▁▁▁▁▁▁▁▁▁▁▁▁▁▁▁▁▁▁▁</td></tr><tr><td>batch_training_loss</td><td>██▅▆▆▇█▃▃▇▇▅▁▃▂▄▄▆▃▃▄▃▅▂▄▃▄▆▃▄▁▆▁▃▂▂▅▄▇▂</td></tr><tr><td>epoch</td><td>▁▁▂▂▂▂▃▃▃▃▄▄▄▄▅▅▅▅▆▆▆▆▇▇▇▇██</td></tr><tr><td>epoch_training_accuracy</td><td>▁▄▅▆▆▆▇▇▇▇██████████████████</td></tr><tr><td>epoch_training_loss</td><td>█▅▄▄▃▃▂▂▂▂▁▁▁▁▁▁▁▁▁▁▁▁▁▁▁▁▁▁</td></tr><tr><td>epoch_validation_accuracy</td><td>▁▃▄▅▅▆▆▆▇▇▇▇▇▇▇▇▇▇██████████</td></tr><tr><td>epoch_validation_loss</td><td>█▆▅▄▃▃▂▂▂▂▁▁▁▁▁▁▁▁▁▁▁▁▁▁▁▁▁▁</td></tr><tr><td>learning_rate</td><td>██████████▂▂▂▂▂▂▂▂▂▂▁▁▁▁▁▁▁▁</td></tr><tr><td>model_norm</td><td>█▇▇▆▅▄▄▃▂▂▂▂▂▁▁▁▁▁▁▁▁▁▁▁▁▁▁▁</td></tr></table><br/></div><div class=\"wandb-col\"><h3>Run summary:</h3><br/><table class=\"wandb\"><tr><td>batch_gradients_norm</td><td>6.51685</td></tr><tr><td>batch_idx</td><td>34999</td></tr><tr><td>batch_size</td><td>32</td></tr><tr><td>batch_training_loss</td><td>1.9484</td></tr><tr><td>epoch</td><td>27</td></tr><tr><td>epoch_training_accuracy</td><td>0.35635</td></tr><tr><td>epoch_training_loss</td><td>1.81319</td></tr><tr><td>epoch_validation_accuracy</td><td>0.39796</td></tr><tr><td>epoch_validation_loss</td><td>1.73052</td></tr><tr><td>learning_rate</td><td>0.0</td></tr><tr><td>model_norm</td><td>39.46949</td></tr><tr><td>optimizer</td><td>SGD</td></tr></table><br/></div></div>"
            ]
          },
          "metadata": {}
        },
        {
          "output_type": "display_data",
          "data": {
            "text/plain": [
              "<IPython.core.display.HTML object>"
            ],
            "text/html": [
              " View run <strong style=\"color:#cdcd00\">atomic-sweep-6</strong> at: <a href='https://wandb.ai/marius-workspace/wandb-final9/runs/vwbf243o' target=\"_blank\">https://wandb.ai/marius-workspace/wandb-final9/runs/vwbf243o</a><br/>Synced 5 W&B file(s), 0 media file(s), 0 artifact file(s) and 0 other file(s)"
            ]
          },
          "metadata": {}
        },
        {
          "output_type": "display_data",
          "data": {
            "text/plain": [
              "<IPython.core.display.HTML object>"
            ],
            "text/html": [
              "Find logs at: <code>./wandb/run-20231105_234901-vwbf243o/logs</code>"
            ]
          },
          "metadata": {}
        },
        {
          "output_type": "stream",
          "name": "stderr",
          "text": [
            "\u001b[34m\u001b[1mwandb\u001b[0m: Agent Starting Run: v6jzs3ok with config:\n",
            "\u001b[34m\u001b[1mwandb\u001b[0m: \tbatch_size: 16\n",
            "\u001b[34m\u001b[1mwandb\u001b[0m: \tlearning_rate: 0.001\n",
            "\u001b[34m\u001b[1mwandb\u001b[0m: \tmomentum: 0.9\n",
            "\u001b[34m\u001b[1mwandb\u001b[0m: \toptimizer: adagrad\n",
            "\u001b[34m\u001b[1mwandb\u001b[0m: \tweight_decay: 0.0001\n"
          ]
        },
        {
          "output_type": "display_data",
          "data": {
            "text/plain": [
              "<IPython.core.display.HTML object>"
            ],
            "text/html": [
              "Tracking run with wandb version 0.15.12"
            ]
          },
          "metadata": {}
        },
        {
          "output_type": "display_data",
          "data": {
            "text/plain": [
              "<IPython.core.display.HTML object>"
            ],
            "text/html": [
              "Run data is saved locally in <code>/content/wandb/run-20231106_002409-v6jzs3ok</code>"
            ]
          },
          "metadata": {}
        },
        {
          "output_type": "display_data",
          "data": {
            "text/plain": [
              "<IPython.core.display.HTML object>"
            ],
            "text/html": [
              "Syncing run <strong><a href='https://wandb.ai/marius-workspace/wandb-final9/runs/v6jzs3ok' target=\"_blank\">vague-sweep-7</a></strong> to <a href='https://wandb.ai/marius-workspace/wandb-final9' target=\"_blank\">Weights & Biases</a> (<a href='https://wandb.me/run' target=\"_blank\">docs</a>)<br/>Sweep page: <a href='https://wandb.ai/marius-workspace/wandb-final9/sweeps/bygi5msd' target=\"_blank\">https://wandb.ai/marius-workspace/wandb-final9/sweeps/bygi5msd</a>"
            ]
          },
          "metadata": {}
        },
        {
          "output_type": "display_data",
          "data": {
            "text/plain": [
              "<IPython.core.display.HTML object>"
            ],
            "text/html": [
              " View project at <a href='https://wandb.ai/marius-workspace/wandb-final9' target=\"_blank\">https://wandb.ai/marius-workspace/wandb-final9</a>"
            ]
          },
          "metadata": {}
        },
        {
          "output_type": "display_data",
          "data": {
            "text/plain": [
              "<IPython.core.display.HTML object>"
            ],
            "text/html": [
              " View sweep at <a href='https://wandb.ai/marius-workspace/wandb-final9/sweeps/bygi5msd' target=\"_blank\">https://wandb.ai/marius-workspace/wandb-final9/sweeps/bygi5msd</a>"
            ]
          },
          "metadata": {}
        },
        {
          "output_type": "display_data",
          "data": {
            "text/plain": [
              "<IPython.core.display.HTML object>"
            ],
            "text/html": [
              " View run at <a href='https://wandb.ai/marius-workspace/wandb-final9/runs/v6jzs3ok' target=\"_blank\">https://wandb.ai/marius-workspace/wandb-final9/runs/v6jzs3ok</a>"
            ]
          },
          "metadata": {}
        },
        {
          "output_type": "stream",
          "name": "stdout",
          "text": [
            "Epoch 0: avg_train_loss=1.9844622875213622, avg_train_accuracy=0.2862, avg_val_loss=1.8109985893249512, avg_val_accuracy=0.3665\n",
            "Epoch 1: avg_train_loss=1.8992413528442382, avg_train_accuracy=0.322275, avg_val_loss=1.7680368766784669, avg_val_accuracy=0.3822\n",
            "Epoch 2: avg_train_loss=1.8695953820705413, avg_train_accuracy=0.3334, avg_val_loss=1.748933808708191, avg_val_accuracy=0.3852\n",
            "Epoch 3: avg_train_loss=1.849860858297348, avg_train_accuracy=0.341725, avg_val_loss=1.7231419982910157, avg_val_accuracy=0.394\n",
            "Epoch 4: avg_train_loss=1.834820036315918, avg_train_accuracy=0.34825, avg_val_loss=1.7126068822860718, avg_val_accuracy=0.3992\n",
            "Epoch 5: avg_train_loss=1.8234820241451264, avg_train_accuracy=0.35275, avg_val_loss=1.6959029375076293, avg_val_accuracy=0.4053\n",
            "Epoch 6: avg_train_loss=1.8099659974098206, avg_train_accuracy=0.35605, avg_val_loss=1.6826316854476928, avg_val_accuracy=0.4105\n",
            "Epoch 7: avg_train_loss=1.8031092384815217, avg_train_accuracy=0.36275, avg_val_loss=1.685417986869812, avg_val_accuracy=0.4039\n",
            "Epoch 8: avg_train_loss=1.7977295991420745, avg_train_accuracy=0.36135, avg_val_loss=1.6675005109786987, avg_val_accuracy=0.4135\n",
            "Epoch 9: avg_train_loss=1.7910812536239624, avg_train_accuracy=0.3634, avg_val_loss=1.656523623085022, avg_val_accuracy=0.4188\n",
            "Epoch 10: avg_train_loss=1.783284696149826, avg_train_accuracy=0.364, avg_val_loss=1.653783934020996, avg_val_accuracy=0.4182\n",
            "Epoch 11: avg_train_loss=1.7794963380813598, avg_train_accuracy=0.367825, avg_val_loss=1.652046103286743, avg_val_accuracy=0.4213\n",
            "Epoch 12: avg_train_loss=1.781341664981842, avg_train_accuracy=0.36735, avg_val_loss=1.6580695185661316, avg_val_accuracy=0.4152\n",
            "Epoch 13: avg_train_loss=1.7764519711017608, avg_train_accuracy=0.36645, avg_val_loss=1.6561087396621703, avg_val_accuracy=0.4174\n",
            "Epoch 14: avg_train_loss=1.775784037399292, avg_train_accuracy=0.369, avg_val_loss=1.6642387245178223, avg_val_accuracy=0.412\n",
            "Epoch 15: avg_train_loss=1.7812007232189178, avg_train_accuracy=0.36845, avg_val_loss=1.6497786159515382, avg_val_accuracy=0.4183\n",
            "Epoch 16: avg_train_loss=1.7755983685493468, avg_train_accuracy=0.369325, avg_val_loss=1.6535173151016236, avg_val_accuracy=0.4165\n",
            "Epoch 17: avg_train_loss=1.7747146279335022, avg_train_accuracy=0.3713, avg_val_loss=1.651619234085083, avg_val_accuracy=0.4199\n",
            "Epoch 18: avg_train_loss=1.7753883905410766, avg_train_accuracy=0.370825, avg_val_loss=1.650338886833191, avg_val_accuracy=0.4185\n",
            "Epoch 19: avg_train_loss=1.7735013932704926, avg_train_accuracy=0.367225, avg_val_loss=1.6505809083938598, avg_val_accuracy=0.4211\n",
            "Epoch 20: avg_train_loss=1.7763158524513245, avg_train_accuracy=0.372175, avg_val_loss=1.6453920058250426, avg_val_accuracy=0.4196\n",
            "Epoch 21: avg_train_loss=1.769342999601364, avg_train_accuracy=0.37245, avg_val_loss=1.649319330406189, avg_val_accuracy=0.4224\n",
            "Epoch 22: avg_train_loss=1.7741208681583405, avg_train_accuracy=0.369775, avg_val_loss=1.6434700033187866, avg_val_accuracy=0.4218\n",
            "Epoch 23: avg_train_loss=1.7763517059326173, avg_train_accuracy=0.36895, avg_val_loss=1.648154931640625, avg_val_accuracy=0.421\n",
            "Epoch 24: avg_train_loss=1.7722126813411712, avg_train_accuracy=0.3711, avg_val_loss=1.6528347160339356, avg_val_accuracy=0.4182\n",
            "Epoch 25: avg_train_loss=1.7743311322689057, avg_train_accuracy=0.373125, avg_val_loss=1.6570233001708985, avg_val_accuracy=0.4173\n",
            "Epoch 26: avg_train_loss=1.77402762465477, avg_train_accuracy=0.369675, avg_val_loss=1.6497603219985961, avg_val_accuracy=0.4196\n",
            "No improvement in validation loss for 5 consecutive epochs. Stopping early.\n"
          ]
        },
        {
          "output_type": "display_data",
          "data": {
            "text/plain": [
              "<IPython.core.display.HTML object>"
            ],
            "text/html": [
              "Waiting for W&B process to finish... <strong style=\"color:green\">(success).</strong>"
            ]
          },
          "metadata": {}
        },
        {
          "output_type": "display_data",
          "data": {
            "text/plain": [
              "VBox(children=(Label(value='0.001 MB of 0.001 MB uploaded (0.000 MB deduped)\\r'), FloatProgress(value=1.0, max…"
            ],
            "application/vnd.jupyter.widget-view+json": {
              "version_major": 2,
              "version_minor": 0,
              "model_id": "f99c7e0e94f44298abab45becef51134"
            }
          },
          "metadata": {}
        },
        {
          "output_type": "display_data",
          "data": {
            "text/plain": [
              "<IPython.core.display.HTML object>"
            ],
            "text/html": [
              "<style>\n",
              "    table.wandb td:nth-child(1) { padding: 0 10px; text-align: left ; width: auto;} td:nth-child(2) {text-align: left ; width: 100%}\n",
              "    .wandb-row { display: flex; flex-direction: row; flex-wrap: wrap; justify-content: flex-start; width: 100% }\n",
              "    .wandb-col { display: flex; flex-direction: column; flex-basis: 100%; flex: 1; padding: 10px; }\n",
              "    </style>\n",
              "<div class=\"wandb-row\"><div class=\"wandb-col\"><h3>Run history:</h3><br/><table class=\"wandb\"><tr><td>batch_gradients_norm</td><td>▃▂▃▂▁▁▂▃▅▄▄▄▄▅▂▆▄▃▂▅▅▆█▅▁▃▄▂▇▃▃▄▅▃▆▃▂▅▅▂</td></tr><tr><td>batch_idx</td><td>▁▁▁▂▂▂▂▂▂▃▃▃▃▃▄▄▄▄▄▄▅▅▅▅▅▅▆▆▆▆▆▇▇▇▇▇▇███</td></tr><tr><td>batch_size</td><td>▁▁▁▁▁▁▁▁▁▁▁▁▁▁▁▁▁▁▁▁▁▁▁▁▁▁▁▁</td></tr><tr><td>batch_training_loss</td><td>▄▅▄▃▂▃▃▅▄▃▅▃▅▅▃▇▄▂▃▃▅▅█▄▂▄▄▁▄▂▃▄▃▃▄▅▂▆▅▃</td></tr><tr><td>epoch</td><td>▁▁▂▂▂▂▃▃▃▃▄▄▄▄▅▅▅▅▆▆▆▆▇▇▇▇██</td></tr><tr><td>epoch_training_accuracy</td><td>▁▄▅▅▆▆▇▇▇▇▇██▇██████████████</td></tr><tr><td>epoch_training_loss</td><td>█▅▄▄▃▃▂▂▂▂▁▁▁▁▁▁▁▁▁▁▁▁▁▁▁▁▁▁</td></tr><tr><td>epoch_validation_accuracy</td><td>▁▃▃▄▅▆▇▆▇█▇█▇▇▇▇▇███████▇▇██</td></tr><tr><td>epoch_validation_loss</td><td>█▆▅▄▄▃▃▃▂▂▁▁▂▂▂▁▁▁▁▁▁▁▁▁▁▂▁▁</td></tr><tr><td>learning_rate</td><td>██████████▂▂▂▂▂▂▂▂▂▂▁▁▁▁▁▁▁▁</td></tr><tr><td>model_norm</td><td>█▇▆▅▄▄▃▂▂▁▁▁▁▁▁▁▁▁▁▁▁▁▁▁▁▁▁▁</td></tr></table><br/></div><div class=\"wandb-col\"><h3>Run summary:</h3><br/><table class=\"wandb\"><tr><td>batch_gradients_norm</td><td>7.95503</td></tr><tr><td>batch_idx</td><td>69999</td></tr><tr><td>batch_size</td><td>16</td></tr><tr><td>batch_training_loss</td><td>1.80507</td></tr><tr><td>epoch</td><td>27</td></tr><tr><td>epoch_training_accuracy</td><td>0.37125</td></tr><tr><td>epoch_training_loss</td><td>1.77429</td></tr><tr><td>epoch_validation_accuracy</td><td>0.421</td></tr><tr><td>epoch_validation_loss</td><td>1.64986</td></tr><tr><td>learning_rate</td><td>1e-05</td></tr><tr><td>model_norm</td><td>45.04932</td></tr><tr><td>optimizer</td><td>Adagrad</td></tr></table><br/></div></div>"
            ]
          },
          "metadata": {}
        },
        {
          "output_type": "display_data",
          "data": {
            "text/plain": [
              "<IPython.core.display.HTML object>"
            ],
            "text/html": [
              " View run <strong style=\"color:#cdcd00\">vague-sweep-7</strong> at: <a href='https://wandb.ai/marius-workspace/wandb-final9/runs/v6jzs3ok' target=\"_blank\">https://wandb.ai/marius-workspace/wandb-final9/runs/v6jzs3ok</a><br/>Synced 5 W&B file(s), 0 media file(s), 0 artifact file(s) and 0 other file(s)"
            ]
          },
          "metadata": {}
        },
        {
          "output_type": "display_data",
          "data": {
            "text/plain": [
              "<IPython.core.display.HTML object>"
            ],
            "text/html": [
              "Find logs at: <code>./wandb/run-20231106_002409-v6jzs3ok/logs</code>"
            ]
          },
          "metadata": {}
        },
        {
          "output_type": "stream",
          "name": "stderr",
          "text": [
            "\u001b[34m\u001b[1mwandb\u001b[0m: Agent Starting Run: utgrlvsf with config:\n",
            "\u001b[34m\u001b[1mwandb\u001b[0m: \tbatch_size: 64\n",
            "\u001b[34m\u001b[1mwandb\u001b[0m: \tlearning_rate: 0.001\n",
            "\u001b[34m\u001b[1mwandb\u001b[0m: \tmomentum: 0.9\n",
            "\u001b[34m\u001b[1mwandb\u001b[0m: \toptimizer: adagrad\n",
            "\u001b[34m\u001b[1mwandb\u001b[0m: \tweight_decay: 0.01\n"
          ]
        },
        {
          "output_type": "display_data",
          "data": {
            "text/plain": [
              "<IPython.core.display.HTML object>"
            ],
            "text/html": [
              "Tracking run with wandb version 0.15.12"
            ]
          },
          "metadata": {}
        },
        {
          "output_type": "display_data",
          "data": {
            "text/plain": [
              "<IPython.core.display.HTML object>"
            ],
            "text/html": [
              "Run data is saved locally in <code>/content/wandb/run-20231106_010736-utgrlvsf</code>"
            ]
          },
          "metadata": {}
        },
        {
          "output_type": "display_data",
          "data": {
            "text/plain": [
              "<IPython.core.display.HTML object>"
            ],
            "text/html": [
              "Syncing run <strong><a href='https://wandb.ai/marius-workspace/wandb-final9/runs/utgrlvsf' target=\"_blank\">copper-sweep-8</a></strong> to <a href='https://wandb.ai/marius-workspace/wandb-final9' target=\"_blank\">Weights & Biases</a> (<a href='https://wandb.me/run' target=\"_blank\">docs</a>)<br/>Sweep page: <a href='https://wandb.ai/marius-workspace/wandb-final9/sweeps/bygi5msd' target=\"_blank\">https://wandb.ai/marius-workspace/wandb-final9/sweeps/bygi5msd</a>"
            ]
          },
          "metadata": {}
        },
        {
          "output_type": "display_data",
          "data": {
            "text/plain": [
              "<IPython.core.display.HTML object>"
            ],
            "text/html": [
              " View project at <a href='https://wandb.ai/marius-workspace/wandb-final9' target=\"_blank\">https://wandb.ai/marius-workspace/wandb-final9</a>"
            ]
          },
          "metadata": {}
        },
        {
          "output_type": "display_data",
          "data": {
            "text/plain": [
              "<IPython.core.display.HTML object>"
            ],
            "text/html": [
              " View sweep at <a href='https://wandb.ai/marius-workspace/wandb-final9/sweeps/bygi5msd' target=\"_blank\">https://wandb.ai/marius-workspace/wandb-final9/sweeps/bygi5msd</a>"
            ]
          },
          "metadata": {}
        },
        {
          "output_type": "display_data",
          "data": {
            "text/plain": [
              "<IPython.core.display.HTML object>"
            ],
            "text/html": [
              " View run at <a href='https://wandb.ai/marius-workspace/wandb-final9/runs/utgrlvsf' target=\"_blank\">https://wandb.ai/marius-workspace/wandb-final9/runs/utgrlvsf</a>"
            ]
          },
          "metadata": {}
        },
        {
          "output_type": "stream",
          "name": "stdout",
          "text": [
            "Epoch 0: avg_train_loss=1.9392815183639527, avg_train_accuracy=0.30725, avg_val_loss=1.7918402009708867, avg_val_accuracy=0.3752985668789809\n",
            "Epoch 1: avg_train_loss=1.835306092643738, avg_train_accuracy=0.344025, avg_val_loss=1.7398913149621076, avg_val_accuracy=0.38763933121019106\n",
            "Epoch 2: avg_train_loss=1.798819645690918, avg_train_accuracy=0.36295, avg_val_loss=1.7071100040605873, avg_val_accuracy=0.4004777070063694\n",
            "Epoch 3: avg_train_loss=1.7685292854309083, avg_train_accuracy=0.376375, avg_val_loss=1.6906340243710074, avg_val_accuracy=0.40545382165605093\n",
            "Epoch 4: avg_train_loss=1.7461925310134887, avg_train_accuracy=0.38155, avg_val_loss=1.6701053069655303, avg_val_accuracy=0.4133160828025478\n",
            "Epoch 5: avg_train_loss=1.7326012533187867, avg_train_accuracy=0.386325, avg_val_loss=1.6519031312055648, avg_val_accuracy=0.41620222929936307\n",
            "Epoch 6: avg_train_loss=1.7183638195037843, avg_train_accuracy=0.391175, avg_val_loss=1.6399446088037672, avg_val_accuracy=0.4197850318471338\n",
            "Epoch 7: avg_train_loss=1.7038167015075683, avg_train_accuracy=0.396175, avg_val_loss=1.6284842848018477, avg_val_accuracy=0.4212778662420382\n",
            "Epoch 8: avg_train_loss=1.693329377746582, avg_train_accuracy=0.40185, avg_val_loss=1.6163258180496798, avg_val_accuracy=0.42794585987261147\n",
            "Epoch 9: avg_train_loss=1.6816880605697633, avg_train_accuracy=0.40475, avg_val_loss=1.6060314451812938, avg_val_accuracy=0.4328224522292994\n",
            "Epoch 10: avg_train_loss=1.6713724508285523, avg_train_accuracy=0.41045, avg_val_loss=1.603454125914604, avg_val_accuracy=0.43630573248407645\n",
            "Epoch 11: avg_train_loss=1.6677536638259887, avg_train_accuracy=0.409475, avg_val_loss=1.6015120342278937, avg_val_accuracy=0.4362062101910828\n",
            "Epoch 12: avg_train_loss=1.6673290298461914, avg_train_accuracy=0.40905, avg_val_loss=1.600140848736854, avg_val_accuracy=0.4362062101910828\n",
            "Epoch 13: avg_train_loss=1.6685136726379395, avg_train_accuracy=0.408725, avg_val_loss=1.5995719189856463, avg_val_accuracy=0.435609076433121\n",
            "Epoch 14: avg_train_loss=1.667881494140625, avg_train_accuracy=0.41035, avg_val_loss=1.6002051837884697, avg_val_accuracy=0.4355095541401274\n",
            "Epoch 15: avg_train_loss=1.666619320487976, avg_train_accuracy=0.41175, avg_val_loss=1.5989254014507222, avg_val_accuracy=0.43481289808917195\n",
            "Epoch 16: avg_train_loss=1.6638973260879517, avg_train_accuracy=0.410375, avg_val_loss=1.5965217617666645, avg_val_accuracy=0.435609076433121\n",
            "Epoch 17: avg_train_loss=1.6654818298339844, avg_train_accuracy=0.4111, avg_val_loss=1.5969137811357048, avg_val_accuracy=0.4368033439490446\n",
            "Epoch 18: avg_train_loss=1.6620070081710816, avg_train_accuracy=0.41155, avg_val_loss=1.5927452972740124, avg_val_accuracy=0.4369028662420382\n",
            "Epoch 19: avg_train_loss=1.6604948783874511, avg_train_accuracy=0.41245, avg_val_loss=1.5961572896143434, avg_val_accuracy=0.43730095541401276\n",
            "Epoch 20: avg_train_loss=1.659494618988037, avg_train_accuracy=0.41135, avg_val_loss=1.5954079157227923, avg_val_accuracy=0.4349124203821656\n",
            "Epoch 21: avg_train_loss=1.6599450397491455, avg_train_accuracy=0.413325, avg_val_loss=1.59347182853966, avg_val_accuracy=0.43451433121019106\n",
            "Epoch 22: avg_train_loss=1.6580454931259154, avg_train_accuracy=0.412425, avg_val_loss=1.5935545878805173, avg_val_accuracy=0.43730095541401276\n",
            "No improvement in validation loss for 5 consecutive epochs. Stopping early.\n"
          ]
        },
        {
          "output_type": "display_data",
          "data": {
            "text/plain": [
              "<IPython.core.display.HTML object>"
            ],
            "text/html": [
              "Waiting for W&B process to finish... <strong style=\"color:green\">(success).</strong>"
            ]
          },
          "metadata": {}
        },
        {
          "output_type": "display_data",
          "data": {
            "text/plain": [
              "<IPython.core.display.HTML object>"
            ],
            "text/html": [
              "<style>\n",
              "    table.wandb td:nth-child(1) { padding: 0 10px; text-align: left ; width: auto;} td:nth-child(2) {text-align: left ; width: 100%}\n",
              "    .wandb-row { display: flex; flex-direction: row; flex-wrap: wrap; justify-content: flex-start; width: 100% }\n",
              "    .wandb-col { display: flex; flex-direction: column; flex-basis: 100%; flex: 1; padding: 10px; }\n",
              "    </style>\n",
              "<div class=\"wandb-row\"><div class=\"wandb-col\"><h3>Run history:</h3><br/><table class=\"wandb\"><tr><td>batch_gradients_norm</td><td>▁▁▁▃▃▂▃▃▅▃▄▄▆▃▅▄▅▄▅▆▅▄▆▇▅▅▅▇▆▆▆▆▄█▆▆▅▅▆▇</td></tr><tr><td>batch_idx</td><td>▁▁▁▁▂▂▂▂▂▃▃▃▃▃▃▄▄▄▄▄▅▅▅▅▅▅▆▆▆▆▆▇▇▇▇▇▇███</td></tr><tr><td>batch_size</td><td>▁▁▁▁▁▁▁▁▁▁▁▁▁▁▁▁▁▁▁▁▁▁▁▁</td></tr><tr><td>batch_training_loss</td><td>▇▇▆▆█▅▆▆▆▃▅▄▄▁▄▂▄▃▄▅▃▁▅▅▄▃▃▄▅▃▅▆▂▇▄▄▃▃▅▅</td></tr><tr><td>epoch</td><td>▁▁▂▂▂▃▃▃▃▄▄▄▅▅▅▆▆▆▆▇▇▇██</td></tr><tr><td>epoch_training_accuracy</td><td>▁▃▅▅▆▆▆▇▇▇██████████████</td></tr><tr><td>epoch_training_loss</td><td>█▅▅▄▃▃▃▂▂▂▁▁▁▁▁▁▁▁▁▁▁▁▁▁</td></tr><tr><td>epoch_validation_accuracy</td><td>▁▂▄▄▅▆▆▆▇▇██████████████</td></tr><tr><td>epoch_validation_loss</td><td>█▆▅▄▄▃▃▂▂▁▁▁▁▁▁▁▁▁▁▁▁▁▁▁</td></tr><tr><td>learning_rate</td><td>██████████▂▂▂▂▂▂▂▂▂▂▁▁▁▁</td></tr><tr><td>model_norm</td><td>█▇▆▅▄▃▃▂▂▁▁▁▁▁▁▁▁▁▁▁▁▁▁▁</td></tr></table><br/></div><div class=\"wandb-col\"><h3>Run summary:</h3><br/><table class=\"wandb\"><tr><td>batch_gradients_norm</td><td>5.23296</td></tr><tr><td>batch_idx</td><td>14999</td></tr><tr><td>batch_size</td><td>64</td></tr><tr><td>batch_training_loss</td><td>1.54199</td></tr><tr><td>epoch</td><td>23</td></tr><tr><td>epoch_training_accuracy</td><td>0.4155</td></tr><tr><td>epoch_training_loss</td><td>1.65839</td></tr><tr><td>epoch_validation_accuracy</td><td>0.43491</td></tr><tr><td>epoch_validation_loss</td><td>1.59434</td></tr><tr><td>learning_rate</td><td>1e-05</td></tr><tr><td>model_norm</td><td>35.82449</td></tr><tr><td>optimizer</td><td>Adagrad</td></tr></table><br/></div></div>"
            ]
          },
          "metadata": {}
        },
        {
          "output_type": "display_data",
          "data": {
            "text/plain": [
              "<IPython.core.display.HTML object>"
            ],
            "text/html": [
              " View run <strong style=\"color:#cdcd00\">copper-sweep-8</strong> at: <a href='https://wandb.ai/marius-workspace/wandb-final9/runs/utgrlvsf' target=\"_blank\">https://wandb.ai/marius-workspace/wandb-final9/runs/utgrlvsf</a><br/>Synced 5 W&B file(s), 0 media file(s), 0 artifact file(s) and 0 other file(s)"
            ]
          },
          "metadata": {}
        },
        {
          "output_type": "display_data",
          "data": {
            "text/plain": [
              "<IPython.core.display.HTML object>"
            ],
            "text/html": [
              "Find logs at: <code>./wandb/run-20231106_010736-utgrlvsf/logs</code>"
            ]
          },
          "metadata": {}
        },
        {
          "output_type": "stream",
          "name": "stderr",
          "text": [
            "\u001b[34m\u001b[1mwandb\u001b[0m: Agent Starting Run: loclfeso with config:\n",
            "\u001b[34m\u001b[1mwandb\u001b[0m: \tbatch_size: 16\n",
            "\u001b[34m\u001b[1mwandb\u001b[0m: \tlearning_rate: 0.001\n",
            "\u001b[34m\u001b[1mwandb\u001b[0m: \tmomentum: 0.99\n",
            "\u001b[34m\u001b[1mwandb\u001b[0m: \toptimizer: sgd_sam\n",
            "\u001b[34m\u001b[1mwandb\u001b[0m: \tweight_decay: 0\n"
          ]
        },
        {
          "output_type": "display_data",
          "data": {
            "text/plain": [
              "<IPython.core.display.HTML object>"
            ],
            "text/html": [
              "Tracking run with wandb version 0.15.12"
            ]
          },
          "metadata": {}
        },
        {
          "output_type": "display_data",
          "data": {
            "text/plain": [
              "<IPython.core.display.HTML object>"
            ],
            "text/html": [
              "Run data is saved locally in <code>/content/wandb/run-20231106_013521-loclfeso</code>"
            ]
          },
          "metadata": {}
        },
        {
          "output_type": "display_data",
          "data": {
            "text/plain": [
              "<IPython.core.display.HTML object>"
            ],
            "text/html": [
              "Syncing run <strong><a href='https://wandb.ai/marius-workspace/wandb-final9/runs/loclfeso' target=\"_blank\">smooth-sweep-9</a></strong> to <a href='https://wandb.ai/marius-workspace/wandb-final9' target=\"_blank\">Weights & Biases</a> (<a href='https://wandb.me/run' target=\"_blank\">docs</a>)<br/>Sweep page: <a href='https://wandb.ai/marius-workspace/wandb-final9/sweeps/bygi5msd' target=\"_blank\">https://wandb.ai/marius-workspace/wandb-final9/sweeps/bygi5msd</a>"
            ]
          },
          "metadata": {}
        },
        {
          "output_type": "display_data",
          "data": {
            "text/plain": [
              "<IPython.core.display.HTML object>"
            ],
            "text/html": [
              " View project at <a href='https://wandb.ai/marius-workspace/wandb-final9' target=\"_blank\">https://wandb.ai/marius-workspace/wandb-final9</a>"
            ]
          },
          "metadata": {}
        },
        {
          "output_type": "display_data",
          "data": {
            "text/plain": [
              "<IPython.core.display.HTML object>"
            ],
            "text/html": [
              " View sweep at <a href='https://wandb.ai/marius-workspace/wandb-final9/sweeps/bygi5msd' target=\"_blank\">https://wandb.ai/marius-workspace/wandb-final9/sweeps/bygi5msd</a>"
            ]
          },
          "metadata": {}
        },
        {
          "output_type": "display_data",
          "data": {
            "text/plain": [
              "<IPython.core.display.HTML object>"
            ],
            "text/html": [
              " View run at <a href='https://wandb.ai/marius-workspace/wandb-final9/runs/loclfeso' target=\"_blank\">https://wandb.ai/marius-workspace/wandb-final9/runs/loclfeso</a>"
            ]
          },
          "metadata": {}
        },
        {
          "output_type": "stream",
          "name": "stderr",
          "text": [
            "/usr/local/lib/python3.10/dist-packages/torch/optim/lr_scheduler.py:136: UserWarning: Detected call of `lr_scheduler.step()` before `optimizer.step()`. In PyTorch 1.1.0 and later, you should call them in the opposite order: `optimizer.step()` before `lr_scheduler.step()`.  Failure to do this will result in PyTorch skipping the first value of the learning rate schedule. See more details at https://pytorch.org/docs/stable/optim.html#how-to-adjust-learning-rate\n",
            "  warnings.warn(\"Detected call of `lr_scheduler.step()` before `optimizer.step()`. \"\n"
          ]
        },
        {
          "output_type": "stream",
          "name": "stdout",
          "text": [
            "Epoch 0: avg_train_loss=2.1186165175914766, avg_train_accuracy=0.261525, avg_val_loss=1.825413081741333, avg_val_accuracy=0.3454\n",
            "Epoch 1: avg_train_loss=1.8983627789497375, avg_train_accuracy=0.319525, avg_val_loss=1.7585902500152588, avg_val_accuracy=0.3765\n",
            "Epoch 2: avg_train_loss=1.8520708891391755, avg_train_accuracy=0.3406, avg_val_loss=1.6915560089111328, avg_val_accuracy=0.4013\n",
            "Epoch 3: avg_train_loss=1.8195586098194123, avg_train_accuracy=0.355175, avg_val_loss=1.6632763549804688, avg_val_accuracy=0.4128\n",
            "Epoch 4: avg_train_loss=1.7920364712238313, avg_train_accuracy=0.363275, avg_val_loss=1.649209031867981, avg_val_accuracy=0.417\n",
            "Epoch 5: avg_train_loss=1.7757310054302216, avg_train_accuracy=0.36605, avg_val_loss=1.6212818183898925, avg_val_accuracy=0.4264\n",
            "Epoch 6: avg_train_loss=1.7562786778926849, avg_train_accuracy=0.37545, avg_val_loss=1.6057978370666504, avg_val_accuracy=0.425\n",
            "Epoch 7: avg_train_loss=1.7458308727264404, avg_train_accuracy=0.3787, avg_val_loss=1.6210950717926025, avg_val_accuracy=0.4254\n",
            "Epoch 8: avg_train_loss=1.7300255444288253, avg_train_accuracy=0.383625, avg_val_loss=1.5822616371154785, avg_val_accuracy=0.4404\n",
            "Epoch 9: avg_train_loss=1.7184195292949676, avg_train_accuracy=0.390375, avg_val_loss=1.5705230630874634, avg_val_accuracy=0.4429\n",
            "Epoch 10: avg_train_loss=1.6680747392177582, avg_train_accuracy=0.407975, avg_val_loss=1.5598718421936035, avg_val_accuracy=0.4448\n",
            "Epoch 11: avg_train_loss=1.6593440955638885, avg_train_accuracy=0.408675, avg_val_loss=1.5348585995674133, avg_val_accuracy=0.4564\n",
            "Epoch 12: avg_train_loss=1.646720715522766, avg_train_accuracy=0.41605, avg_val_loss=1.525414771270752, avg_val_accuracy=0.4586\n",
            "Epoch 13: avg_train_loss=1.6463787225484847, avg_train_accuracy=0.415125, avg_val_loss=1.518536298942566, avg_val_accuracy=0.4613\n",
            "Epoch 14: avg_train_loss=1.638386956167221, avg_train_accuracy=0.41895, avg_val_loss=1.5188198183059693, avg_val_accuracy=0.4628\n",
            "Epoch 15: avg_train_loss=1.6361230004787446, avg_train_accuracy=0.420475, avg_val_loss=1.5131124891281127, avg_val_accuracy=0.4681\n",
            "Epoch 16: avg_train_loss=1.634563104724884, avg_train_accuracy=0.421675, avg_val_loss=1.5074400120735167, avg_val_accuracy=0.467\n",
            "Epoch 17: avg_train_loss=1.632961655831337, avg_train_accuracy=0.421875, avg_val_loss=1.5074515077590942, avg_val_accuracy=0.4639\n",
            "Epoch 18: avg_train_loss=1.6298465711116792, avg_train_accuracy=0.4219, avg_val_loss=1.511259825515747, avg_val_accuracy=0.4722\n",
            "Epoch 19: avg_train_loss=1.6255955650091172, avg_train_accuracy=0.424825, avg_val_loss=1.505140703201294, avg_val_accuracy=0.4704\n",
            "Epoch 20: avg_train_loss=1.623572164773941, avg_train_accuracy=0.423775, avg_val_loss=1.5054998651504516, avg_val_accuracy=0.4748\n",
            "Epoch 21: avg_train_loss=1.6263228620290757, avg_train_accuracy=0.427225, avg_val_loss=1.5101599674224853, avg_val_accuracy=0.4709\n",
            "Epoch 22: avg_train_loss=1.6238770750045777, avg_train_accuracy=0.42385, avg_val_loss=1.502381508255005, avg_val_accuracy=0.4741\n",
            "Epoch 23: avg_train_loss=1.6238666811227798, avg_train_accuracy=0.42965, avg_val_loss=1.5107732133865357, avg_val_accuracy=0.4724\n",
            "Epoch 24: avg_train_loss=1.6236110468626022, avg_train_accuracy=0.42705, avg_val_loss=1.515777006149292, avg_val_accuracy=0.4704\n",
            "Epoch 25: avg_train_loss=1.6230250782728195, avg_train_accuracy=0.423575, avg_val_loss=1.5055850080490112, avg_val_accuracy=0.4724\n",
            "Epoch 26: avg_train_loss=1.6245357859373093, avg_train_accuracy=0.4255, avg_val_loss=1.5039680080413818, avg_val_accuracy=0.4707\n",
            "No improvement in validation loss for 5 consecutive epochs. Stopping early.\n"
          ]
        },
        {
          "output_type": "display_data",
          "data": {
            "text/plain": [
              "<IPython.core.display.HTML object>"
            ],
            "text/html": [
              "Waiting for W&B process to finish... <strong style=\"color:green\">(success).</strong>"
            ]
          },
          "metadata": {}
        },
        {
          "output_type": "display_data",
          "data": {
            "text/plain": [
              "<IPython.core.display.HTML object>"
            ],
            "text/html": [
              "<style>\n",
              "    table.wandb td:nth-child(1) { padding: 0 10px; text-align: left ; width: auto;} td:nth-child(2) {text-align: left ; width: 100%}\n",
              "    .wandb-row { display: flex; flex-direction: row; flex-wrap: wrap; justify-content: flex-start; width: 100% }\n",
              "    .wandb-col { display: flex; flex-direction: column; flex-basis: 100%; flex: 1; padding: 10px; }\n",
              "    </style>\n",
              "<div class=\"wandb-row\"><div class=\"wandb-col\"><h3>Run history:</h3><br/><table class=\"wandb\"><tr><td>batch_gradients_norm</td><td>█▄▄▃▃▃▃▃▂▁▃▄▂▄▂▃▄▄▆▄▂▂▆▄▃▃▂▄▄▁▄▂▂▂▅▁▃▃▂▂</td></tr><tr><td>batch_idx</td><td>▁▁▁▂▂▂▂▂▂▃▃▃▃▃▄▄▄▄▄▄▅▅▅▅▅▅▆▆▆▆▆▇▇▇▇▇▇███</td></tr><tr><td>batch_size</td><td>▁▁▁▁▁▁▁▁▁▁▁▁▁▁▁▁▁▁▁▁▁▁▁▁▁▁▁▁</td></tr><tr><td>batch_training_loss</td><td>▇▅▆▅▂▃▅▅▄▁▄▅▄▃▂▄▄▃▆▅▂▂█▃▃▃▃▅▂▁▄▂▃▂▅▁▃▃▂▃</td></tr><tr><td>epoch</td><td>▁▁▂▂▂▂▃▃▃▃▄▄▄▄▅▅▅▅▆▆▆▆▇▇▇▇██</td></tr><tr><td>epoch_training_accuracy</td><td>▁▃▄▅▅▅▆▆▆▆▇▇▇▇██████████████</td></tr><tr><td>epoch_training_loss</td><td>█▅▄▄▃▃▃▃▃▂▂▂▁▁▁▁▁▁▁▁▁▁▁▁▁▁▁▁</td></tr><tr><td>epoch_validation_accuracy</td><td>▁▃▄▅▅▅▅▅▆▆▆▇▇▇▇██▇██████████</td></tr><tr><td>epoch_validation_loss</td><td>█▇▅▄▄▄▃▄▃▂▂▂▁▁▁▁▁▁▁▁▁▁▁▁▁▁▁▁</td></tr><tr><td>learning_rate</td><td>██████████▂▂▂▂▂▂▂▂▂▂▁▁▁▁▁▁▁▁</td></tr><tr><td>model_norm</td><td>▁▂▃▃▄▅▆▆▇███████████████████</td></tr></table><br/></div><div class=\"wandb-col\"><h3>Run summary:</h3><br/><table class=\"wandb\"><tr><td>batch_gradients_norm</td><td>3.13205</td></tr><tr><td>batch_idx</td><td>69999</td></tr><tr><td>batch_size</td><td>16</td></tr><tr><td>batch_training_loss</td><td>1.54785</td></tr><tr><td>epoch</td><td>27</td></tr><tr><td>epoch_training_accuracy</td><td>0.42352</td></tr><tr><td>epoch_training_loss</td><td>1.62213</td></tr><tr><td>epoch_validation_accuracy</td><td>0.4696</td></tr><tr><td>epoch_validation_loss</td><td>1.5122</td></tr><tr><td>learning_rate</td><td>1e-05</td></tr><tr><td>model_norm</td><td>63.56014</td></tr><tr><td>optimizer</td><td>SGD_SAM</td></tr></table><br/></div></div>"
            ]
          },
          "metadata": {}
        },
        {
          "output_type": "display_data",
          "data": {
            "text/plain": [
              "<IPython.core.display.HTML object>"
            ],
            "text/html": [
              " View run <strong style=\"color:#cdcd00\">smooth-sweep-9</strong> at: <a href='https://wandb.ai/marius-workspace/wandb-final9/runs/loclfeso' target=\"_blank\">https://wandb.ai/marius-workspace/wandb-final9/runs/loclfeso</a><br/>Synced 5 W&B file(s), 0 media file(s), 0 artifact file(s) and 0 other file(s)"
            ]
          },
          "metadata": {}
        },
        {
          "output_type": "display_data",
          "data": {
            "text/plain": [
              "<IPython.core.display.HTML object>"
            ],
            "text/html": [
              "Find logs at: <code>./wandb/run-20231106_013521-loclfeso/logs</code>"
            ]
          },
          "metadata": {}
        },
        {
          "output_type": "stream",
          "name": "stderr",
          "text": [
            "\u001b[34m\u001b[1mwandb\u001b[0m: Agent Starting Run: we29v6py with config:\n",
            "\u001b[34m\u001b[1mwandb\u001b[0m: \tbatch_size: 16\n",
            "\u001b[34m\u001b[1mwandb\u001b[0m: \tlearning_rate: 0.0001\n",
            "\u001b[34m\u001b[1mwandb\u001b[0m: \tmomentum: 0.9\n",
            "\u001b[34m\u001b[1mwandb\u001b[0m: \toptimizer: adagrad\n",
            "\u001b[34m\u001b[1mwandb\u001b[0m: \tweight_decay: 0.01\n"
          ]
        },
        {
          "output_type": "display_data",
          "data": {
            "text/plain": [
              "<IPython.core.display.HTML object>"
            ],
            "text/html": [
              "Tracking run with wandb version 0.15.12"
            ]
          },
          "metadata": {}
        },
        {
          "output_type": "display_data",
          "data": {
            "text/plain": [
              "<IPython.core.display.HTML object>"
            ],
            "text/html": [
              "Run data is saved locally in <code>/content/wandb/run-20231106_022804-we29v6py</code>"
            ]
          },
          "metadata": {}
        },
        {
          "output_type": "display_data",
          "data": {
            "text/plain": [
              "<IPython.core.display.HTML object>"
            ],
            "text/html": [
              "Syncing run <strong><a href='https://wandb.ai/marius-workspace/wandb-final9/runs/we29v6py' target=\"_blank\">gallant-sweep-10</a></strong> to <a href='https://wandb.ai/marius-workspace/wandb-final9' target=\"_blank\">Weights & Biases</a> (<a href='https://wandb.me/run' target=\"_blank\">docs</a>)<br/>Sweep page: <a href='https://wandb.ai/marius-workspace/wandb-final9/sweeps/bygi5msd' target=\"_blank\">https://wandb.ai/marius-workspace/wandb-final9/sweeps/bygi5msd</a>"
            ]
          },
          "metadata": {}
        },
        {
          "output_type": "display_data",
          "data": {
            "text/plain": [
              "<IPython.core.display.HTML object>"
            ],
            "text/html": [
              " View project at <a href='https://wandb.ai/marius-workspace/wandb-final9' target=\"_blank\">https://wandb.ai/marius-workspace/wandb-final9</a>"
            ]
          },
          "metadata": {}
        },
        {
          "output_type": "display_data",
          "data": {
            "text/plain": [
              "<IPython.core.display.HTML object>"
            ],
            "text/html": [
              " View sweep at <a href='https://wandb.ai/marius-workspace/wandb-final9/sweeps/bygi5msd' target=\"_blank\">https://wandb.ai/marius-workspace/wandb-final9/sweeps/bygi5msd</a>"
            ]
          },
          "metadata": {}
        },
        {
          "output_type": "display_data",
          "data": {
            "text/plain": [
              "<IPython.core.display.HTML object>"
            ],
            "text/html": [
              " View run at <a href='https://wandb.ai/marius-workspace/wandb-final9/runs/we29v6py' target=\"_blank\">https://wandb.ai/marius-workspace/wandb-final9/runs/we29v6py</a>"
            ]
          },
          "metadata": {}
        },
        {
          "output_type": "stream",
          "name": "stdout",
          "text": [
            "Epoch 0: avg_train_loss=2.158554561710358, avg_train_accuracy=0.216275, avg_val_loss=2.027114991378784, avg_val_accuracy=0.297\n",
            "Epoch 1: avg_train_loss=2.0888321989059446, avg_train_accuracy=0.248425, avg_val_loss=1.9910029399871827, avg_val_accuracy=0.3105\n",
            "Epoch 2: avg_train_loss=2.0660802223205565, avg_train_accuracy=0.25675, avg_val_loss=1.9681295053482055, avg_val_accuracy=0.3207\n",
            "Epoch 3: avg_train_loss=2.049905586576462, avg_train_accuracy=0.265375, avg_val_loss=1.9521289520263672, avg_val_accuracy=0.3255\n",
            "Epoch 4: avg_train_loss=2.034146576356888, avg_train_accuracy=0.274125, avg_val_loss=1.9396829616546631, avg_val_accuracy=0.3325\n",
            "Epoch 5: avg_train_loss=2.0265257658958435, avg_train_accuracy=0.27655, avg_val_loss=1.9249458200454712, avg_val_accuracy=0.3351\n",
            "Epoch 6: avg_train_loss=2.0161430682659147, avg_train_accuracy=0.2794, avg_val_loss=1.9189359958648682, avg_val_accuracy=0.3391\n",
            "Epoch 7: avg_train_loss=2.0093755424976347, avg_train_accuracy=0.282675, avg_val_loss=1.9171179122924804, avg_val_accuracy=0.3405\n",
            "Epoch 8: avg_train_loss=2.0060257809638977, avg_train_accuracy=0.282325, avg_val_loss=1.9077288623809814, avg_val_accuracy=0.3412\n",
            "Epoch 9: avg_train_loss=1.9993739663124084, avg_train_accuracy=0.28675, avg_val_loss=1.901661340713501, avg_val_accuracy=0.3466\n",
            "Epoch 10: avg_train_loss=1.9981177881717682, avg_train_accuracy=0.290375, avg_val_loss=1.9024568342208863, avg_val_accuracy=0.3449\n",
            "Epoch 11: avg_train_loss=1.9963836118221283, avg_train_accuracy=0.28985, avg_val_loss=1.8970652002334594, avg_val_accuracy=0.3475\n",
            "Epoch 12: avg_train_loss=1.9915739763736724, avg_train_accuracy=0.287825, avg_val_loss=1.9017826358795167, avg_val_accuracy=0.3464\n",
            "Epoch 13: avg_train_loss=1.994961462020874, avg_train_accuracy=0.286975, avg_val_loss=1.8932363193511963, avg_val_accuracy=0.3492\n",
            "Epoch 14: avg_train_loss=1.9940333493232727, avg_train_accuracy=0.28855, avg_val_loss=1.8974996097564698, avg_val_accuracy=0.3467\n",
            "Epoch 15: avg_train_loss=1.9960615657806398, avg_train_accuracy=0.2888, avg_val_loss=1.8973511400222778, avg_val_accuracy=0.3474\n",
            "Epoch 16: avg_train_loss=1.9957115864276886, avg_train_accuracy=0.288775, avg_val_loss=1.901567032814026, avg_val_accuracy=0.3438\n",
            "Epoch 17: avg_train_loss=1.990466083908081, avg_train_accuracy=0.288775, avg_val_loss=1.8971173536300658, avg_val_accuracy=0.3472\n",
            "No improvement in validation loss for 5 consecutive epochs. Stopping early.\n"
          ]
        },
        {
          "output_type": "display_data",
          "data": {
            "text/plain": [
              "<IPython.core.display.HTML object>"
            ],
            "text/html": [
              "Waiting for W&B process to finish... <strong style=\"color:green\">(success).</strong>"
            ]
          },
          "metadata": {}
        },
        {
          "output_type": "display_data",
          "data": {
            "text/plain": [
              "VBox(children=(Label(value='0.001 MB of 0.012 MB uploaded (0.000 MB deduped)\\r'), FloatProgress(value=0.083716…"
            ],
            "application/vnd.jupyter.widget-view+json": {
              "version_major": 2,
              "version_minor": 0,
              "model_id": "f7b059d9123840e6823be92b34de1f3d"
            }
          },
          "metadata": {}
        },
        {
          "output_type": "display_data",
          "data": {
            "text/plain": [
              "<IPython.core.display.HTML object>"
            ],
            "text/html": [
              "<style>\n",
              "    table.wandb td:nth-child(1) { padding: 0 10px; text-align: left ; width: auto;} td:nth-child(2) {text-align: left ; width: 100%}\n",
              "    .wandb-row { display: flex; flex-direction: row; flex-wrap: wrap; justify-content: flex-start; width: 100% }\n",
              "    .wandb-col { display: flex; flex-direction: column; flex-basis: 100%; flex: 1; padding: 10px; }\n",
              "    </style>\n",
              "<div class=\"wandb-row\"><div class=\"wandb-col\"><h3>Run history:</h3><br/><table class=\"wandb\"><tr><td>batch_gradients_norm</td><td>█▅▆▂▆▂▃▃▄▃▄▃▃▆▄▅▇▅▅▄▄▃▁▆▄▅▇▄▂▄▅▅▄▅▅▄▇▆▂▅</td></tr><tr><td>batch_idx</td><td>▁▁▁▂▂▂▂▂▂▃▃▃▃▃▃▄▄▄▄▄▅▅▅▅▅▅▆▆▆▆▆▇▇▇▇▇▇███</td></tr><tr><td>batch_size</td><td>▁▁▁▁▁▁▁▁▁▁▁▁▁▁▁▁▁▁▁</td></tr><tr><td>batch_training_loss</td><td>█▆▆▂▇▃▄▅▄▂▅▄▃▇▃▄█▄▄▄▃▃▁▄▃▅▆▃▂▅▄▅▄▄▅▄▅▆▂▅</td></tr><tr><td>epoch</td><td>▁▁▂▂▃▃▃▄▄▅▅▅▆▆▆▇▇██</td></tr><tr><td>epoch_training_accuracy</td><td>▁▄▅▆▆▇▇▇▇██████████</td></tr><tr><td>epoch_training_loss</td><td>█▅▄▃▃▃▂▂▂▁▁▁▁▁▁▁▁▁▁</td></tr><tr><td>epoch_validation_accuracy</td><td>▁▃▄▅▆▆▇▇▇█▇█████▇██</td></tr><tr><td>epoch_validation_loss</td><td>█▆▅▄▃▃▂▂▂▁▁▁▁▁▁▁▁▁▁</td></tr><tr><td>learning_rate</td><td>██████████▁▁▁▁▁▁▁▁▁</td></tr><tr><td>model_norm</td><td>█▇▆▅▄▄▃▂▂▁▁▁▁▁▁▁▁▁▁</td></tr></table><br/></div><div class=\"wandb-col\"><h3>Run summary:</h3><br/><table class=\"wandb\"><tr><td>batch_gradients_norm</td><td>9.45903</td></tr><tr><td>batch_idx</td><td>47499</td></tr><tr><td>batch_size</td><td>16</td></tr><tr><td>batch_training_loss</td><td>2.09304</td></tr><tr><td>epoch</td><td>18</td></tr><tr><td>epoch_training_accuracy</td><td>0.28928</td></tr><tr><td>epoch_training_loss</td><td>1.99268</td></tr><tr><td>epoch_validation_accuracy</td><td>0.3479</td></tr><tr><td>epoch_validation_loss</td><td>1.89752</td></tr><tr><td>learning_rate</td><td>1e-05</td></tr><tr><td>model_norm</td><td>43.77021</td></tr><tr><td>optimizer</td><td>Adagrad</td></tr></table><br/></div></div>"
            ]
          },
          "metadata": {}
        },
        {
          "output_type": "display_data",
          "data": {
            "text/plain": [
              "<IPython.core.display.HTML object>"
            ],
            "text/html": [
              " View run <strong style=\"color:#cdcd00\">gallant-sweep-10</strong> at: <a href='https://wandb.ai/marius-workspace/wandb-final9/runs/we29v6py' target=\"_blank\">https://wandb.ai/marius-workspace/wandb-final9/runs/we29v6py</a><br/>Synced 5 W&B file(s), 0 media file(s), 0 artifact file(s) and 0 other file(s)"
            ]
          },
          "metadata": {}
        },
        {
          "output_type": "display_data",
          "data": {
            "text/plain": [
              "<IPython.core.display.HTML object>"
            ],
            "text/html": [
              "Find logs at: <code>./wandb/run-20231106_022804-we29v6py/logs</code>"
            ]
          },
          "metadata": {}
        },
        {
          "output_type": "stream",
          "name": "stderr",
          "text": [
            "\u001b[34m\u001b[1mwandb\u001b[0m: Agent Starting Run: 2h81smp6 with config:\n",
            "\u001b[34m\u001b[1mwandb\u001b[0m: \tbatch_size: 64\n",
            "\u001b[34m\u001b[1mwandb\u001b[0m: \tlearning_rate: 0.001\n",
            "\u001b[34m\u001b[1mwandb\u001b[0m: \tmomentum: 0.9\n",
            "\u001b[34m\u001b[1mwandb\u001b[0m: \toptimizer: sgd_sam\n",
            "\u001b[34m\u001b[1mwandb\u001b[0m: \tweight_decay: 0\n"
          ]
        },
        {
          "output_type": "display_data",
          "data": {
            "text/plain": [
              "<IPython.core.display.HTML object>"
            ],
            "text/html": [
              "Tracking run with wandb version 0.15.12"
            ]
          },
          "metadata": {}
        },
        {
          "output_type": "display_data",
          "data": {
            "text/plain": [
              "<IPython.core.display.HTML object>"
            ],
            "text/html": [
              "Run data is saved locally in <code>/content/wandb/run-20231106_025727-2h81smp6</code>"
            ]
          },
          "metadata": {}
        },
        {
          "output_type": "display_data",
          "data": {
            "text/plain": [
              "<IPython.core.display.HTML object>"
            ],
            "text/html": [
              "Syncing run <strong><a href='https://wandb.ai/marius-workspace/wandb-final9/runs/2h81smp6' target=\"_blank\">lilac-sweep-11</a></strong> to <a href='https://wandb.ai/marius-workspace/wandb-final9' target=\"_blank\">Weights & Biases</a> (<a href='https://wandb.me/run' target=\"_blank\">docs</a>)<br/>Sweep page: <a href='https://wandb.ai/marius-workspace/wandb-final9/sweeps/bygi5msd' target=\"_blank\">https://wandb.ai/marius-workspace/wandb-final9/sweeps/bygi5msd</a>"
            ]
          },
          "metadata": {}
        },
        {
          "output_type": "display_data",
          "data": {
            "text/plain": [
              "<IPython.core.display.HTML object>"
            ],
            "text/html": [
              " View project at <a href='https://wandb.ai/marius-workspace/wandb-final9' target=\"_blank\">https://wandb.ai/marius-workspace/wandb-final9</a>"
            ]
          },
          "metadata": {}
        },
        {
          "output_type": "display_data",
          "data": {
            "text/plain": [
              "<IPython.core.display.HTML object>"
            ],
            "text/html": [
              " View sweep at <a href='https://wandb.ai/marius-workspace/wandb-final9/sweeps/bygi5msd' target=\"_blank\">https://wandb.ai/marius-workspace/wandb-final9/sweeps/bygi5msd</a>"
            ]
          },
          "metadata": {}
        },
        {
          "output_type": "display_data",
          "data": {
            "text/plain": [
              "<IPython.core.display.HTML object>"
            ],
            "text/html": [
              " View run at <a href='https://wandb.ai/marius-workspace/wandb-final9/runs/2h81smp6' target=\"_blank\">https://wandb.ai/marius-workspace/wandb-final9/runs/2h81smp6</a>"
            ]
          },
          "metadata": {}
        },
        {
          "output_type": "stream",
          "name": "stdout",
          "text": [
            "Epoch 0: avg_train_loss=1.9551361936569214, avg_train_accuracy=0.303175, avg_val_loss=1.7792913610008871, avg_val_accuracy=0.3718152866242038\n",
            "Epoch 1: avg_train_loss=1.8220781675338744, avg_train_accuracy=0.34985, avg_val_loss=1.7112187951993032, avg_val_accuracy=0.39331210191082805\n",
            "Epoch 2: avg_train_loss=1.7723300443649292, avg_train_accuracy=0.3639, avg_val_loss=1.6849189207052728, avg_val_accuracy=0.3942078025477707\n",
            "Epoch 3: avg_train_loss=1.7421503929138185, avg_train_accuracy=0.376025, avg_val_loss=1.641846105551264, avg_val_accuracy=0.4166003184713376\n",
            "Epoch 4: avg_train_loss=1.7161072061538696, avg_train_accuracy=0.3881, avg_val_loss=1.6300936785473186, avg_val_accuracy=0.4151074840764331\n",
            "Epoch 5: avg_train_loss=1.692825012779236, avg_train_accuracy=0.397575, avg_val_loss=1.612406512734237, avg_val_accuracy=0.4224721337579618\n",
            "Epoch 6: avg_train_loss=1.6787788934707641, avg_train_accuracy=0.401575, avg_val_loss=1.5952296674631203, avg_val_accuracy=0.43341958598726116\n",
            "Epoch 7: avg_train_loss=1.6647438974380493, avg_train_accuracy=0.40595, avg_val_loss=1.5768035430057792, avg_val_accuracy=0.44177945859872614\n",
            "Epoch 8: avg_train_loss=1.6532685890197754, avg_train_accuracy=0.409475, avg_val_loss=1.5670741014419847, avg_val_accuracy=0.44058519108280253\n",
            "Epoch 9: avg_train_loss=1.6453847915649413, avg_train_accuracy=0.41255, avg_val_loss=1.558982458843547, avg_val_accuracy=0.4455613057324841\n",
            "Epoch 10: avg_train_loss=1.6254028127670288, avg_train_accuracy=0.42225, avg_val_loss=1.5510928516934632, avg_val_accuracy=0.44834792993630573\n",
            "Epoch 11: avg_train_loss=1.6238693618774414, avg_train_accuracy=0.424875, avg_val_loss=1.5505762335601125, avg_val_accuracy=0.448546974522293\n",
            "Epoch 12: avg_train_loss=1.6166863660812378, avg_train_accuracy=0.426925, avg_val_loss=1.5550820394686073, avg_val_accuracy=0.4492436305732484\n",
            "Epoch 13: avg_train_loss=1.623859885406494, avg_train_accuracy=0.4228, avg_val_loss=1.5553262499487324, avg_val_accuracy=0.44705414012738853\n",
            "Epoch 14: avg_train_loss=1.620396751022339, avg_train_accuracy=0.425075, avg_val_loss=1.5527108907699585, avg_val_accuracy=0.4521297770700637\n",
            "Epoch 15: avg_train_loss=1.619014524078369, avg_train_accuracy=0.42515, avg_val_loss=1.548933023100446, avg_val_accuracy=0.4497412420382166\n",
            "Epoch 16: avg_train_loss=1.616155156326294, avg_train_accuracy=0.42805, avg_val_loss=1.553346318803775, avg_val_accuracy=0.4479498407643312\n",
            "Epoch 17: avg_train_loss=1.6116411989212036, avg_train_accuracy=0.42925, avg_val_loss=1.5517841683831184, avg_val_accuracy=0.44964171974522293\n",
            "Epoch 18: avg_train_loss=1.6132079824447632, avg_train_accuracy=0.428275, avg_val_loss=1.548574213769026, avg_val_accuracy=0.4505374203821656\n",
            "Epoch 19: avg_train_loss=1.6126572790145874, avg_train_accuracy=0.42635, avg_val_loss=1.547552888560447, avg_val_accuracy=0.4538216560509554\n",
            "Epoch 20: avg_train_loss=1.6123607669830322, avg_train_accuracy=0.42685, avg_val_loss=1.5534237881374966, avg_val_accuracy=0.4489450636942675\n",
            "Epoch 21: avg_train_loss=1.6171691886901856, avg_train_accuracy=0.4262, avg_val_loss=1.5546965773697872, avg_val_accuracy=0.44914410828025475\n",
            "Epoch 22: avg_train_loss=1.6198050769805907, avg_train_accuracy=0.4257, avg_val_loss=1.5597134669115589, avg_val_accuracy=0.44934315286624205\n",
            "Epoch 23: avg_train_loss=1.6227822532653808, avg_train_accuracy=0.42525, avg_val_loss=1.5607063899374312, avg_val_accuracy=0.44615843949044587\n",
            "No improvement in validation loss for 5 consecutive epochs. Stopping early.\n"
          ]
        },
        {
          "output_type": "display_data",
          "data": {
            "text/plain": [
              "<IPython.core.display.HTML object>"
            ],
            "text/html": [
              "Waiting for W&B process to finish... <strong style=\"color:green\">(success).</strong>"
            ]
          },
          "metadata": {}
        },
        {
          "output_type": "display_data",
          "data": {
            "text/plain": [
              "<IPython.core.display.HTML object>"
            ],
            "text/html": [
              "<style>\n",
              "    table.wandb td:nth-child(1) { padding: 0 10px; text-align: left ; width: auto;} td:nth-child(2) {text-align: left ; width: 100%}\n",
              "    .wandb-row { display: flex; flex-direction: row; flex-wrap: wrap; justify-content: flex-start; width: 100% }\n",
              "    .wandb-col { display: flex; flex-direction: column; flex-basis: 100%; flex: 1; padding: 10px; }\n",
              "    </style>\n",
              "<div class=\"wandb-row\"><div class=\"wandb-col\"><h3>Run history:</h3><br/><table class=\"wandb\"><tr><td>batch_gradients_norm</td><td>█▅▄▄▅▅▄▅▄▅▄▃▅▆▅▅▃▄▄▃▂▄▃▅▃▂▃▂▄▃▁▂▃▃▂▄▂▃▁▂</td></tr><tr><td>batch_idx</td><td>▁▁▁▂▂▂▂▂▂▃▃▃▃▃▃▄▄▄▄▄▅▅▅▅▅▅▆▆▆▆▆▇▇▇▇▇▇███</td></tr><tr><td>batch_size</td><td>▁▁▁▁▁▁▁▁▁▁▁▁▁▁▁▁▁▁▁▁▁▁▁▁▁</td></tr><tr><td>batch_training_loss</td><td>█▅▄▅▆▄▂▅▄▄▃▃▅▅▄▄▄▅▄▄▄▅▃▃▃▂▃▃▃▄▁▃▃▄▄▄▃▃▃▄</td></tr><tr><td>epoch</td><td>▁▁▂▂▂▂▃▃▃▄▄▄▅▅▅▅▆▆▆▇▇▇▇██</td></tr><tr><td>epoch_training_accuracy</td><td>▁▄▄▅▆▆▆▇▇▇███████████████</td></tr><tr><td>epoch_training_loss</td><td>█▅▄▄▃▃▂▂▂▂▁▁▁▁▁▁▁▁▁▁▁▁▁▁▁</td></tr><tr><td>epoch_validation_accuracy</td><td>▁▃▃▅▅▅▆▇▇▇███▇██▇██████▇█</td></tr><tr><td>epoch_validation_loss</td><td>█▆▅▄▃▃▂▂▂▁▁▁▁▁▁▁▁▁▁▁▁▁▁▁▁</td></tr><tr><td>learning_rate</td><td>██████████▂▂▂▂▂▂▂▂▂▂▁▁▁▁▁</td></tr><tr><td>model_norm</td><td>▁▂▂▃▄▄▅▆▆▇▇▇▇▇▇▇▇████████</td></tr></table><br/></div><div class=\"wandb-col\"><h3>Run summary:</h3><br/><table class=\"wandb\"><tr><td>batch_gradients_norm</td><td>5.43106</td></tr><tr><td>batch_idx</td><td>15624</td></tr><tr><td>batch_size</td><td>64</td></tr><tr><td>batch_training_loss</td><td>1.56588</td></tr><tr><td>epoch</td><td>24</td></tr><tr><td>epoch_training_accuracy</td><td>0.42605</td></tr><tr><td>epoch_training_loss</td><td>1.62359</td></tr><tr><td>epoch_validation_accuracy</td><td>0.44875</td></tr><tr><td>epoch_validation_loss</td><td>1.56216</td></tr><tr><td>learning_rate</td><td>1e-05</td></tr><tr><td>model_norm</td><td>45.60164</td></tr><tr><td>optimizer</td><td>SGD_SAM</td></tr></table><br/></div></div>"
            ]
          },
          "metadata": {}
        },
        {
          "output_type": "display_data",
          "data": {
            "text/plain": [
              "<IPython.core.display.HTML object>"
            ],
            "text/html": [
              " View run <strong style=\"color:#cdcd00\">lilac-sweep-11</strong> at: <a href='https://wandb.ai/marius-workspace/wandb-final9/runs/2h81smp6' target=\"_blank\">https://wandb.ai/marius-workspace/wandb-final9/runs/2h81smp6</a><br/>Synced 5 W&B file(s), 0 media file(s), 0 artifact file(s) and 0 other file(s)"
            ]
          },
          "metadata": {}
        },
        {
          "output_type": "display_data",
          "data": {
            "text/plain": [
              "<IPython.core.display.HTML object>"
            ],
            "text/html": [
              "Find logs at: <code>./wandb/run-20231106_025727-2h81smp6/logs</code>"
            ]
          },
          "metadata": {}
        },
        {
          "output_type": "stream",
          "name": "stderr",
          "text": [
            "\u001b[34m\u001b[1mwandb\u001b[0m: Sweep Agent: Waiting for job.\n",
            "\u001b[34m\u001b[1mwandb\u001b[0m: Job received.\n",
            "\u001b[34m\u001b[1mwandb\u001b[0m: Agent Starting Run: vnb7kghp with config:\n",
            "\u001b[34m\u001b[1mwandb\u001b[0m: \tbatch_size: 16\n",
            "\u001b[34m\u001b[1mwandb\u001b[0m: \tlearning_rate: 0.0001\n",
            "\u001b[34m\u001b[1mwandb\u001b[0m: \tmomentum: 0.9\n",
            "\u001b[34m\u001b[1mwandb\u001b[0m: \toptimizer: sgd\n",
            "\u001b[34m\u001b[1mwandb\u001b[0m: \tweight_decay: 0.0001\n"
          ]
        },
        {
          "output_type": "display_data",
          "data": {
            "text/plain": [
              "<IPython.core.display.HTML object>"
            ],
            "text/html": [
              "Tracking run with wandb version 0.15.12"
            ]
          },
          "metadata": {}
        },
        {
          "output_type": "display_data",
          "data": {
            "text/plain": [
              "<IPython.core.display.HTML object>"
            ],
            "text/html": [
              "Run data is saved locally in <code>/content/wandb/run-20231106_033010-vnb7kghp</code>"
            ]
          },
          "metadata": {}
        },
        {
          "output_type": "display_data",
          "data": {
            "text/plain": [
              "<IPython.core.display.HTML object>"
            ],
            "text/html": [
              "Syncing run <strong><a href='https://wandb.ai/marius-workspace/wandb-final9/runs/vnb7kghp' target=\"_blank\">solar-sweep-12</a></strong> to <a href='https://wandb.ai/marius-workspace/wandb-final9' target=\"_blank\">Weights & Biases</a> (<a href='https://wandb.me/run' target=\"_blank\">docs</a>)<br/>Sweep page: <a href='https://wandb.ai/marius-workspace/wandb-final9/sweeps/bygi5msd' target=\"_blank\">https://wandb.ai/marius-workspace/wandb-final9/sweeps/bygi5msd</a>"
            ]
          },
          "metadata": {}
        },
        {
          "output_type": "display_data",
          "data": {
            "text/plain": [
              "<IPython.core.display.HTML object>"
            ],
            "text/html": [
              " View project at <a href='https://wandb.ai/marius-workspace/wandb-final9' target=\"_blank\">https://wandb.ai/marius-workspace/wandb-final9</a>"
            ]
          },
          "metadata": {}
        },
        {
          "output_type": "display_data",
          "data": {
            "text/plain": [
              "<IPython.core.display.HTML object>"
            ],
            "text/html": [
              " View sweep at <a href='https://wandb.ai/marius-workspace/wandb-final9/sweeps/bygi5msd' target=\"_blank\">https://wandb.ai/marius-workspace/wandb-final9/sweeps/bygi5msd</a>"
            ]
          },
          "metadata": {}
        },
        {
          "output_type": "display_data",
          "data": {
            "text/plain": [
              "<IPython.core.display.HTML object>"
            ],
            "text/html": [
              " View run at <a href='https://wandb.ai/marius-workspace/wandb-final9/runs/vnb7kghp' target=\"_blank\">https://wandb.ai/marius-workspace/wandb-final9/runs/vnb7kghp</a>"
            ]
          },
          "metadata": {}
        },
        {
          "output_type": "stream",
          "name": "stdout",
          "text": [
            "Epoch 0: avg_train_loss=2.110703943729401, avg_train_accuracy=0.234725, avg_val_loss=1.9248292343139648, avg_val_accuracy=0.3292\n",
            "Epoch 1: avg_train_loss=1.9881125504016877, avg_train_accuracy=0.287975, avg_val_loss=1.8480755693435669, avg_val_accuracy=0.3524\n",
            "Epoch 2: avg_train_loss=1.9435253315448762, avg_train_accuracy=0.3046, avg_val_loss=1.8134901176452636, avg_val_accuracy=0.3644\n",
            "Epoch 3: avg_train_loss=1.9112230302333832, avg_train_accuracy=0.3161, avg_val_loss=1.778035392189026, avg_val_accuracy=0.3765\n",
            "Epoch 4: avg_train_loss=1.8891508202552796, avg_train_accuracy=0.32435, avg_val_loss=1.7604339281082153, avg_val_accuracy=0.3795\n",
            "Epoch 5: avg_train_loss=1.8671650192260743, avg_train_accuracy=0.334375, avg_val_loss=1.738027557182312, avg_val_accuracy=0.3877\n",
            "Epoch 6: avg_train_loss=1.8513435415744781, avg_train_accuracy=0.340525, avg_val_loss=1.718791558074951, avg_val_accuracy=0.3939\n",
            "Epoch 7: avg_train_loss=1.8430246886730195, avg_train_accuracy=0.34305, avg_val_loss=1.714870619392395, avg_val_accuracy=0.3944\n",
            "Epoch 8: avg_train_loss=1.8281966028690337, avg_train_accuracy=0.347475, avg_val_loss=1.6944719213485717, avg_val_accuracy=0.4046\n",
            "Epoch 9: avg_train_loss=1.817840158176422, avg_train_accuracy=0.352325, avg_val_loss=1.6805850702285767, avg_val_accuracy=0.405\n",
            "Epoch 10: avg_train_loss=1.80453208193779, avg_train_accuracy=0.356175, avg_val_loss=1.6873366260528564, avg_val_accuracy=0.3985\n",
            "Epoch 11: avg_train_loss=1.8069422975063325, avg_train_accuracy=0.3577, avg_val_loss=1.677655433654785, avg_val_accuracy=0.4089\n",
            "Epoch 12: avg_train_loss=1.8047387891769409, avg_train_accuracy=0.356775, avg_val_loss=1.6781728601455688, avg_val_accuracy=0.4069\n",
            "Epoch 13: avg_train_loss=1.7992350852966308, avg_train_accuracy=0.35915, avg_val_loss=1.6736847177505494, avg_val_accuracy=0.4093\n",
            "Epoch 14: avg_train_loss=1.7958040860176085, avg_train_accuracy=0.36065, avg_val_loss=1.6731726871490478, avg_val_accuracy=0.4083\n",
            "Epoch 15: avg_train_loss=1.799699484682083, avg_train_accuracy=0.36185, avg_val_loss=1.665401872062683, avg_val_accuracy=0.4134\n",
            "Epoch 16: avg_train_loss=1.795554497051239, avg_train_accuracy=0.362325, avg_val_loss=1.6620973974227906, avg_val_accuracy=0.416\n",
            "Epoch 17: avg_train_loss=1.795070491552353, avg_train_accuracy=0.36065, avg_val_loss=1.6650602571487427, avg_val_accuracy=0.415\n",
            "Epoch 18: avg_train_loss=1.7982842138290405, avg_train_accuracy=0.3597, avg_val_loss=1.6644400053024293, avg_val_accuracy=0.4155\n",
            "Epoch 19: avg_train_loss=1.791090376520157, avg_train_accuracy=0.363175, avg_val_loss=1.6650176723480226, avg_val_accuracy=0.4144\n",
            "Epoch 20: avg_train_loss=1.790028710603714, avg_train_accuracy=0.36515, avg_val_loss=1.6684150066375731, avg_val_accuracy=0.4113\n",
            "Epoch 21: avg_train_loss=1.7885183061122893, avg_train_accuracy=0.3636, avg_val_loss=1.6611774490356446, avg_val_accuracy=0.4138\n",
            "Epoch 22: avg_train_loss=1.7912236402511597, avg_train_accuracy=0.362225, avg_val_loss=1.6604940803527832, avg_val_accuracy=0.4152\n",
            "Epoch 23: avg_train_loss=1.7924283740520477, avg_train_accuracy=0.361425, avg_val_loss=1.6701554079055787, avg_val_accuracy=0.4111\n",
            "Epoch 24: avg_train_loss=1.794502472114563, avg_train_accuracy=0.35975, avg_val_loss=1.666501943397522, avg_val_accuracy=0.4112\n",
            "Epoch 25: avg_train_loss=1.7929289432525635, avg_train_accuracy=0.363325, avg_val_loss=1.6593966621398926, avg_val_accuracy=0.4169\n",
            "Epoch 26: avg_train_loss=1.7925214038848878, avg_train_accuracy=0.361, avg_val_loss=1.6619526763916015, avg_val_accuracy=0.4146\n",
            "Epoch 27: avg_train_loss=1.7917903779029847, avg_train_accuracy=0.36215, avg_val_loss=1.6612163623809815, avg_val_accuracy=0.4132\n",
            "Epoch 28: avg_train_loss=1.7930435804843903, avg_train_accuracy=0.361075, avg_val_loss=1.6740757947921754, avg_val_accuracy=0.4074\n",
            "Epoch 29: avg_train_loss=1.7890077011108398, avg_train_accuracy=0.36145, avg_val_loss=1.668327045059204, avg_val_accuracy=0.4106\n"
          ]
        },
        {
          "output_type": "display_data",
          "data": {
            "text/plain": [
              "<IPython.core.display.HTML object>"
            ],
            "text/html": [
              "Waiting for W&B process to finish... <strong style=\"color:green\">(success).</strong>"
            ]
          },
          "metadata": {}
        },
        {
          "output_type": "display_data",
          "data": {
            "text/plain": [
              "VBox(children=(Label(value='0.001 MB of 0.014 MB uploaded (0.000 MB deduped)\\r'), FloatProgress(value=0.072568…"
            ],
            "application/vnd.jupyter.widget-view+json": {
              "version_major": 2,
              "version_minor": 0,
              "model_id": "c0ef5af32e7649c2a4523f21ee09a6ed"
            }
          },
          "metadata": {}
        },
        {
          "output_type": "display_data",
          "data": {
            "text/plain": [
              "<IPython.core.display.HTML object>"
            ],
            "text/html": [
              "<style>\n",
              "    table.wandb td:nth-child(1) { padding: 0 10px; text-align: left ; width: auto;} td:nth-child(2) {text-align: left ; width: 100%}\n",
              "    .wandb-row { display: flex; flex-direction: row; flex-wrap: wrap; justify-content: flex-start; width: 100% }\n",
              "    .wandb-col { display: flex; flex-direction: column; flex-basis: 100%; flex: 1; padding: 10px; }\n",
              "    </style>\n",
              "<div class=\"wandb-row\"><div class=\"wandb-col\"><h3>Run history:</h3><br/><table class=\"wandb\"><tr><td>batch_gradients_norm</td><td>▆▄▄▄▄▆▄▃▄▆▅▃▇▂▅▅▂▁▃▄▄▂▇▇▆▃▂▆▄▄▄▆▇▇▇▅█▇▄▄</td></tr><tr><td>batch_idx</td><td>▁▁▁▁▂▂▂▂▂▃▃▃▃▃▃▄▄▄▄▄▅▅▅▅▅▅▆▆▆▆▆▇▇▇▇▇▇███</td></tr><tr><td>batch_size</td><td>▁▁▁▁▁▁▁▁▁▁▁▁▁▁▁▁▁▁▁▁▁▁▁▁▁▁▁▁▁▁</td></tr><tr><td>batch_training_loss</td><td>▆▅▂▄▂█▅▃▃▆▄▄▅▁▅▂▁▁▂▂▂▂▃▆▄▂▂▅▃▃▃▄▅▅▅▂▅▄▂▁</td></tr><tr><td>epoch</td><td>▁▁▁▂▂▂▂▃▃▃▃▄▄▄▄▅▅▅▅▆▆▆▆▇▇▇▇███</td></tr><tr><td>epoch_training_accuracy</td><td>▁▄▅▅▆▆▇▇▇▇████████████████████</td></tr><tr><td>epoch_training_loss</td><td>█▅▄▄▃▃▂▂▂▂▁▁▁▁▁▁▁▁▁▁▁▁▁▁▁▁▁▁▁▁</td></tr><tr><td>epoch_validation_accuracy</td><td>▁▃▄▅▅▆▆▆▇▇▇▇▇▇▇█████████████▇▇</td></tr><tr><td>epoch_validation_loss</td><td>█▆▅▄▄▃▃▂▂▂▂▁▁▁▁▁▁▁▁▁▁▁▁▁▁▁▁▁▁▁</td></tr><tr><td>learning_rate</td><td>██████████▂▂▂▂▂▂▂▂▂▂▁▁▁▁▁▁▁▁▁▁</td></tr><tr><td>model_norm</td><td>█▇▇▆▅▄▄▃▂▂▂▂▂▁▁▁▁▁▁▁▁▁▁▁▁▁▁▁▁▁</td></tr></table><br/></div><div class=\"wandb-col\"><h3>Run summary:</h3><br/><table class=\"wandb\"><tr><td>batch_gradients_norm</td><td>10.48486</td></tr><tr><td>batch_idx</td><td>74999</td></tr><tr><td>batch_size</td><td>16</td></tr><tr><td>batch_training_loss</td><td>1.81315</td></tr><tr><td>epoch</td><td>29</td></tr><tr><td>epoch_training_accuracy</td><td>0.36145</td></tr><tr><td>epoch_training_loss</td><td>1.78901</td></tr><tr><td>epoch_validation_accuracy</td><td>0.4106</td></tr><tr><td>epoch_validation_loss</td><td>1.66833</td></tr><tr><td>learning_rate</td><td>0.0</td></tr><tr><td>model_norm</td><td>45.202</td></tr><tr><td>optimizer</td><td>SGD</td></tr></table><br/></div></div>"
            ]
          },
          "metadata": {}
        },
        {
          "output_type": "display_data",
          "data": {
            "text/plain": [
              "<IPython.core.display.HTML object>"
            ],
            "text/html": [
              " View run <strong style=\"color:#cdcd00\">solar-sweep-12</strong> at: <a href='https://wandb.ai/marius-workspace/wandb-final9/runs/vnb7kghp' target=\"_blank\">https://wandb.ai/marius-workspace/wandb-final9/runs/vnb7kghp</a><br/>Synced 5 W&B file(s), 0 media file(s), 0 artifact file(s) and 0 other file(s)"
            ]
          },
          "metadata": {}
        },
        {
          "output_type": "display_data",
          "data": {
            "text/plain": [
              "<IPython.core.display.HTML object>"
            ],
            "text/html": [
              "Find logs at: <code>./wandb/run-20231106_033010-vnb7kghp/logs</code>"
            ]
          },
          "metadata": {}
        },
        {
          "output_type": "stream",
          "name": "stderr",
          "text": [
            "\u001b[34m\u001b[1mwandb\u001b[0m: Agent Starting Run: 00lcb8hx with config:\n",
            "\u001b[34m\u001b[1mwandb\u001b[0m: \tbatch_size: 32\n",
            "\u001b[34m\u001b[1mwandb\u001b[0m: \tlearning_rate: 0.0001\n",
            "\u001b[34m\u001b[1mwandb\u001b[0m: \tmomentum: 0.9\n",
            "\u001b[34m\u001b[1mwandb\u001b[0m: \toptimizer: sgd\n",
            "\u001b[34m\u001b[1mwandb\u001b[0m: \tweight_decay: 0\n"
          ]
        },
        {
          "output_type": "display_data",
          "data": {
            "text/plain": [
              "<IPython.core.display.HTML object>"
            ],
            "text/html": [
              "Tracking run with wandb version 0.15.12"
            ]
          },
          "metadata": {}
        },
        {
          "output_type": "display_data",
          "data": {
            "text/plain": [
              "<IPython.core.display.HTML object>"
            ],
            "text/html": [
              "Run data is saved locally in <code>/content/wandb/run-20231106_041438-00lcb8hx</code>"
            ]
          },
          "metadata": {}
        },
        {
          "output_type": "display_data",
          "data": {
            "text/plain": [
              "<IPython.core.display.HTML object>"
            ],
            "text/html": [
              "Syncing run <strong><a href='https://wandb.ai/marius-workspace/wandb-final9/runs/00lcb8hx' target=\"_blank\">revived-sweep-13</a></strong> to <a href='https://wandb.ai/marius-workspace/wandb-final9' target=\"_blank\">Weights & Biases</a> (<a href='https://wandb.me/run' target=\"_blank\">docs</a>)<br/>Sweep page: <a href='https://wandb.ai/marius-workspace/wandb-final9/sweeps/bygi5msd' target=\"_blank\">https://wandb.ai/marius-workspace/wandb-final9/sweeps/bygi5msd</a>"
            ]
          },
          "metadata": {}
        },
        {
          "output_type": "display_data",
          "data": {
            "text/plain": [
              "<IPython.core.display.HTML object>"
            ],
            "text/html": [
              " View project at <a href='https://wandb.ai/marius-workspace/wandb-final9' target=\"_blank\">https://wandb.ai/marius-workspace/wandb-final9</a>"
            ]
          },
          "metadata": {}
        },
        {
          "output_type": "display_data",
          "data": {
            "text/plain": [
              "<IPython.core.display.HTML object>"
            ],
            "text/html": [
              " View sweep at <a href='https://wandb.ai/marius-workspace/wandb-final9/sweeps/bygi5msd' target=\"_blank\">https://wandb.ai/marius-workspace/wandb-final9/sweeps/bygi5msd</a>"
            ]
          },
          "metadata": {}
        },
        {
          "output_type": "display_data",
          "data": {
            "text/plain": [
              "<IPython.core.display.HTML object>"
            ],
            "text/html": [
              " View run at <a href='https://wandb.ai/marius-workspace/wandb-final9/runs/00lcb8hx' target=\"_blank\">https://wandb.ai/marius-workspace/wandb-final9/runs/00lcb8hx</a>"
            ]
          },
          "metadata": {}
        },
        {
          "output_type": "stream",
          "name": "stdout",
          "text": [
            "Epoch 0: avg_train_loss=2.1457447368621825, avg_train_accuracy=0.218475, avg_val_loss=1.9845556611070236, avg_val_accuracy=0.3036142172523962\n",
            "Epoch 1: avg_train_loss=2.0188039816856382, avg_train_accuracy=0.277975, avg_val_loss=1.9048102998885865, avg_val_accuracy=0.336361821086262\n",
            "Epoch 2: avg_train_loss=1.9704465908050537, avg_train_accuracy=0.295975, avg_val_loss=1.8669478203922796, avg_val_accuracy=0.3462460063897764\n",
            "Epoch 3: avg_train_loss=1.9371714337348938, avg_train_accuracy=0.309175, avg_val_loss=1.8299255767188514, avg_val_accuracy=0.35932507987220447\n",
            "Epoch 4: avg_train_loss=1.9116581741333007, avg_train_accuracy=0.316475, avg_val_loss=1.8133794233060112, avg_val_accuracy=0.365814696485623\n",
            "Epoch 5: avg_train_loss=1.890558503627777, avg_train_accuracy=0.3253, avg_val_loss=1.7897772282457198, avg_val_accuracy=0.3735023961661342\n",
            "Epoch 6: avg_train_loss=1.8763642684936523, avg_train_accuracy=0.3355, avg_val_loss=1.7758168206809046, avg_val_accuracy=0.3778953674121406\n",
            "Epoch 7: avg_train_loss=1.8628462092399598, avg_train_accuracy=0.3393, avg_val_loss=1.7578392360157098, avg_val_accuracy=0.3865814696485623\n",
            "Epoch 8: avg_train_loss=1.8471791473388672, avg_train_accuracy=0.3437, avg_val_loss=1.747064513520311, avg_val_accuracy=0.3852835463258786\n",
            "Epoch 9: avg_train_loss=1.8322808933258057, avg_train_accuracy=0.346325, avg_val_loss=1.7321724685998008, avg_val_accuracy=0.39307108626198084\n",
            "Epoch 10: avg_train_loss=1.8282834122657776, avg_train_accuracy=0.349475, avg_val_loss=1.7315604995233944, avg_val_accuracy=0.3948682108626198\n",
            "Epoch 11: avg_train_loss=1.8235398093223572, avg_train_accuracy=0.34965, avg_val_loss=1.7317353049025368, avg_val_accuracy=0.39257188498402557\n",
            "Epoch 12: avg_train_loss=1.8280705388069154, avg_train_accuracy=0.350125, avg_val_loss=1.728843968897201, avg_val_accuracy=0.39386980830670926\n",
            "Epoch 13: avg_train_loss=1.8242155591011047, avg_train_accuracy=0.349825, avg_val_loss=1.727884955299548, avg_val_accuracy=0.3922723642172524\n",
            "Epoch 14: avg_train_loss=1.8227852885246276, avg_train_accuracy=0.349925, avg_val_loss=1.7264829843569869, avg_val_accuracy=0.3935702875399361\n",
            "Epoch 15: avg_train_loss=1.8194419190406799, avg_train_accuracy=0.3543, avg_val_loss=1.7282048513333257, avg_val_accuracy=0.39426916932907347\n",
            "Epoch 16: avg_train_loss=1.8209624424934387, avg_train_accuracy=0.3523, avg_val_loss=1.7245173366686788, avg_val_accuracy=0.39516773162939295\n",
            "Epoch 17: avg_train_loss=1.8205709398269654, avg_train_accuracy=0.353575, avg_val_loss=1.7209124747937479, avg_val_accuracy=0.39806309904153353\n",
            "Epoch 18: avg_train_loss=1.817724520587921, avg_train_accuracy=0.3503, avg_val_loss=1.723054698861826, avg_val_accuracy=0.3932707667731629\n",
            "Epoch 19: avg_train_loss=1.8165197048187256, avg_train_accuracy=0.356725, avg_val_loss=1.718459584080754, avg_val_accuracy=0.3977635782747604\n",
            "Epoch 20: avg_train_loss=1.8152170797348022, avg_train_accuracy=0.3509, avg_val_loss=1.722466755979739, avg_val_accuracy=0.395267571884984\n",
            "Epoch 21: avg_train_loss=1.8178760045051574, avg_train_accuracy=0.35265, avg_val_loss=1.720529198265685, avg_val_accuracy=0.3959664536741214\n",
            "Epoch 22: avg_train_loss=1.8157853335380554, avg_train_accuracy=0.352525, avg_val_loss=1.7213168087097022, avg_val_accuracy=0.395267571884984\n",
            "Epoch 23: avg_train_loss=1.8157688489913941, avg_train_accuracy=0.35435, avg_val_loss=1.7246928508289325, avg_val_accuracy=0.39456869009584666\n",
            "No improvement in validation loss for 5 consecutive epochs. Stopping early.\n"
          ]
        },
        {
          "output_type": "display_data",
          "data": {
            "text/plain": [
              "<IPython.core.display.HTML object>"
            ],
            "text/html": [
              "Waiting for W&B process to finish... <strong style=\"color:green\">(success).</strong>"
            ]
          },
          "metadata": {}
        },
        {
          "output_type": "display_data",
          "data": {
            "text/plain": [
              "VBox(children=(Label(value='0.001 MB of 0.001 MB uploaded (0.000 MB deduped)\\r'), FloatProgress(value=1.0, max…"
            ],
            "application/vnd.jupyter.widget-view+json": {
              "version_major": 2,
              "version_minor": 0,
              "model_id": "059f44e91cd244489cd816981d054fe4"
            }
          },
          "metadata": {}
        },
        {
          "output_type": "display_data",
          "data": {
            "text/plain": [
              "<IPython.core.display.HTML object>"
            ],
            "text/html": [
              "<style>\n",
              "    table.wandb td:nth-child(1) { padding: 0 10px; text-align: left ; width: auto;} td:nth-child(2) {text-align: left ; width: 100%}\n",
              "    .wandb-row { display: flex; flex-direction: row; flex-wrap: wrap; justify-content: flex-start; width: 100% }\n",
              "    .wandb-col { display: flex; flex-direction: column; flex-basis: 100%; flex: 1; padding: 10px; }\n",
              "    </style>\n",
              "<div class=\"wandb-row\"><div class=\"wandb-col\"><h3>Run history:</h3><br/><table class=\"wandb\"><tr><td>batch_gradients_norm</td><td>▆▇▅▄▄▃▇▅▅▃▄▄▃▄▅▃▅▃█▄▄▄▇▂▂▆▅▁█▆▂▅▇▄▄▇▃▆▇▆</td></tr><tr><td>batch_idx</td><td>▁▁▁▂▂▂▂▂▂▃▃▃▃▃▃▄▄▄▄▄▅▅▅▅▅▅▆▆▆▆▆▇▇▇▇▇▇███</td></tr><tr><td>batch_size</td><td>▁▁▁▁▁▁▁▁▁▁▁▁▁▁▁▁▁▁▁▁▁▁▁▁▁</td></tr><tr><td>batch_training_loss</td><td>▇█▆▅▄▃▅▆▆▄▅▅▄▅▃▃▆▂▆▃▄▃▆▂▂▅▄▁▅▆▄▅▅▃▃▄▃▇▇▅</td></tr><tr><td>epoch</td><td>▁▁▂▂▂▂▃▃▃▄▄▄▅▅▅▅▆▆▆▇▇▇▇██</td></tr><tr><td>epoch_training_accuracy</td><td>▁▄▅▆▆▆▇▇▇▇███████████████</td></tr><tr><td>epoch_training_loss</td><td>█▅▄▄▃▃▂▂▂▁▁▁▁▁▁▁▁▁▁▁▁▁▁▁▁</td></tr><tr><td>epoch_validation_accuracy</td><td>▁▃▄▅▆▆▇▇▇████████████████</td></tr><tr><td>epoch_validation_loss</td><td>█▆▅▄▃▃▃▂▂▁▁▁▁▁▁▁▁▁▁▁▁▁▁▁▁</td></tr><tr><td>learning_rate</td><td>██████████▂▂▂▂▂▂▂▂▂▂▁▁▁▁▁</td></tr><tr><td>model_norm</td><td>▁▂▂▃▄▅▅▆▇▇▇██████████████</td></tr></table><br/></div><div class=\"wandb-col\"><h3>Run summary:</h3><br/><table class=\"wandb\"><tr><td>batch_gradients_norm</td><td>7.06122</td></tr><tr><td>batch_idx</td><td>31249</td></tr><tr><td>batch_size</td><td>32</td></tr><tr><td>batch_training_loss</td><td>1.81015</td></tr><tr><td>epoch</td><td>24</td></tr><tr><td>epoch_training_accuracy</td><td>0.35615</td></tr><tr><td>epoch_training_loss</td><td>1.817</td></tr><tr><td>epoch_validation_accuracy</td><td>0.39457</td></tr><tr><td>epoch_validation_loss</td><td>1.7231</td></tr><tr><td>learning_rate</td><td>0.0</td></tr><tr><td>model_norm</td><td>45.31353</td></tr><tr><td>optimizer</td><td>SGD</td></tr></table><br/></div></div>"
            ]
          },
          "metadata": {}
        },
        {
          "output_type": "display_data",
          "data": {
            "text/plain": [
              "<IPython.core.display.HTML object>"
            ],
            "text/html": [
              " View run <strong style=\"color:#cdcd00\">revived-sweep-13</strong> at: <a href='https://wandb.ai/marius-workspace/wandb-final9/runs/00lcb8hx' target=\"_blank\">https://wandb.ai/marius-workspace/wandb-final9/runs/00lcb8hx</a><br/>Synced 5 W&B file(s), 0 media file(s), 0 artifact file(s) and 0 other file(s)"
            ]
          },
          "metadata": {}
        },
        {
          "output_type": "display_data",
          "data": {
            "text/plain": [
              "<IPython.core.display.HTML object>"
            ],
            "text/html": [
              "Find logs at: <code>./wandb/run-20231106_041438-00lcb8hx/logs</code>"
            ]
          },
          "metadata": {}
        },
        {
          "output_type": "stream",
          "name": "stderr",
          "text": [
            "\u001b[34m\u001b[1mwandb\u001b[0m: Agent Starting Run: zkg1xluq with config:\n",
            "\u001b[34m\u001b[1mwandb\u001b[0m: \tbatch_size: 64\n",
            "\u001b[34m\u001b[1mwandb\u001b[0m: \tlearning_rate: 0.0001\n",
            "\u001b[34m\u001b[1mwandb\u001b[0m: \tmomentum: 0.9\n",
            "\u001b[34m\u001b[1mwandb\u001b[0m: \toptimizer: sgd\n",
            "\u001b[34m\u001b[1mwandb\u001b[0m: \tweight_decay: 0.01\n"
          ]
        },
        {
          "output_type": "display_data",
          "data": {
            "text/plain": [
              "<IPython.core.display.HTML object>"
            ],
            "text/html": [
              "Tracking run with wandb version 0.15.12"
            ]
          },
          "metadata": {}
        },
        {
          "output_type": "display_data",
          "data": {
            "text/plain": [
              "<IPython.core.display.HTML object>"
            ],
            "text/html": [
              "Run data is saved locally in <code>/content/wandb/run-20231106_044521-zkg1xluq</code>"
            ]
          },
          "metadata": {}
        },
        {
          "output_type": "display_data",
          "data": {
            "text/plain": [
              "<IPython.core.display.HTML object>"
            ],
            "text/html": [
              "Syncing run <strong><a href='https://wandb.ai/marius-workspace/wandb-final9/runs/zkg1xluq' target=\"_blank\">unique-sweep-14</a></strong> to <a href='https://wandb.ai/marius-workspace/wandb-final9' target=\"_blank\">Weights & Biases</a> (<a href='https://wandb.me/run' target=\"_blank\">docs</a>)<br/>Sweep page: <a href='https://wandb.ai/marius-workspace/wandb-final9/sweeps/bygi5msd' target=\"_blank\">https://wandb.ai/marius-workspace/wandb-final9/sweeps/bygi5msd</a>"
            ]
          },
          "metadata": {}
        },
        {
          "output_type": "display_data",
          "data": {
            "text/plain": [
              "<IPython.core.display.HTML object>"
            ],
            "text/html": [
              " View project at <a href='https://wandb.ai/marius-workspace/wandb-final9' target=\"_blank\">https://wandb.ai/marius-workspace/wandb-final9</a>"
            ]
          },
          "metadata": {}
        },
        {
          "output_type": "display_data",
          "data": {
            "text/plain": [
              "<IPython.core.display.HTML object>"
            ],
            "text/html": [
              " View sweep at <a href='https://wandb.ai/marius-workspace/wandb-final9/sweeps/bygi5msd' target=\"_blank\">https://wandb.ai/marius-workspace/wandb-final9/sweeps/bygi5msd</a>"
            ]
          },
          "metadata": {}
        },
        {
          "output_type": "display_data",
          "data": {
            "text/plain": [
              "<IPython.core.display.HTML object>"
            ],
            "text/html": [
              " View run at <a href='https://wandb.ai/marius-workspace/wandb-final9/runs/zkg1xluq' target=\"_blank\">https://wandb.ai/marius-workspace/wandb-final9/runs/zkg1xluq</a>"
            ]
          },
          "metadata": {}
        },
        {
          "output_type": "stream",
          "name": "stdout",
          "text": [
            "Epoch 0: avg_train_loss=2.204359808540344, avg_train_accuracy=0.1885, avg_val_loss=2.0442419150832354, avg_val_accuracy=0.28164808917197454\n",
            "Epoch 1: avg_train_loss=2.075755178642273, avg_train_accuracy=0.25275, avg_val_loss=1.9729314131341922, avg_val_accuracy=0.3088176751592357\n",
            "Epoch 2: avg_train_loss=2.0227744661331175, avg_train_accuracy=0.27685, avg_val_loss=1.9330365528726274, avg_val_accuracy=0.3271297770700637\n",
            "Epoch 3: avg_train_loss=1.9868614681243897, avg_train_accuracy=0.289025, avg_val_loss=1.9006171993389251, avg_val_accuracy=0.33638535031847133\n",
            "Epoch 4: avg_train_loss=1.95922592086792, avg_train_accuracy=0.300675, avg_val_loss=1.877625387185698, avg_val_accuracy=0.3453423566878981\n",
            "Epoch 5: avg_train_loss=1.9445637340545654, avg_train_accuracy=0.304525, avg_val_loss=1.8611131602791464, avg_val_accuracy=0.35071656050955413\n",
            "Epoch 6: avg_train_loss=1.9248072639465332, avg_train_accuracy=0.314325, avg_val_loss=1.8440970159639978, avg_val_accuracy=0.35529458598726116\n",
            "Epoch 7: avg_train_loss=1.9074163682937622, avg_train_accuracy=0.322675, avg_val_loss=1.8295663473712411, avg_val_accuracy=0.3632563694267516\n",
            "Epoch 8: avg_train_loss=1.8951069902420044, avg_train_accuracy=0.326925, avg_val_loss=1.8171186204169207, avg_val_accuracy=0.36604299363057324\n",
            "Epoch 9: avg_train_loss=1.8847962553024291, avg_train_accuracy=0.32815, avg_val_loss=1.8053772608945324, avg_val_accuracy=0.3716162420382166\n",
            "Epoch 10: avg_train_loss=1.877203105545044, avg_train_accuracy=0.334275, avg_val_loss=1.8034518539525901, avg_val_accuracy=0.37251194267515925\n",
            "Epoch 11: avg_train_loss=1.879348558616638, avg_train_accuracy=0.3305, avg_val_loss=1.802430983561619, avg_val_accuracy=0.3729100318471338\n",
            "Epoch 12: avg_train_loss=1.8746130010604858, avg_train_accuracy=0.33345, avg_val_loss=1.8036448325321173, avg_val_accuracy=0.37231289808917195\n",
            "Epoch 13: avg_train_loss=1.8768010763168335, avg_train_accuracy=0.332275, avg_val_loss=1.8009937872552568, avg_val_accuracy=0.37390525477707004\n",
            "Epoch 14: avg_train_loss=1.8710821378707885, avg_train_accuracy=0.3343, avg_val_loss=1.8006337463476096, avg_val_accuracy=0.37330812101910826\n",
            "Epoch 15: avg_train_loss=1.8716178663253784, avg_train_accuracy=0.335325, avg_val_loss=1.7999326749971718, avg_val_accuracy=0.3740047770700637\n",
            "Epoch 16: avg_train_loss=1.8724380996704102, avg_train_accuracy=0.335825, avg_val_loss=1.8008701854450688, avg_val_accuracy=0.3714171974522293\n",
            "Epoch 17: avg_train_loss=1.871108055114746, avg_train_accuracy=0.3355, avg_val_loss=1.7980289876840676, avg_val_accuracy=0.3747014331210191\n",
            "Epoch 18: avg_train_loss=1.8692843872070313, avg_train_accuracy=0.337525, avg_val_loss=1.7967973514726967, avg_val_accuracy=0.375\n",
            "Epoch 19: avg_train_loss=1.8670057218551637, avg_train_accuracy=0.337875, avg_val_loss=1.7962139412096352, avg_val_accuracy=0.3737062101910828\n",
            "Epoch 20: avg_train_loss=1.86655837059021, avg_train_accuracy=0.334425, avg_val_loss=1.7968390694089755, avg_val_accuracy=0.37450238853503187\n",
            "Epoch 21: avg_train_loss=1.8679509635925293, avg_train_accuracy=0.338325, avg_val_loss=1.7960227044524661, avg_val_accuracy=0.37519904458598724\n",
            "Epoch 22: avg_train_loss=1.8668616329193115, avg_train_accuracy=0.337575, avg_val_loss=1.7946653479983092, avg_val_accuracy=0.3747014331210191\n",
            "Epoch 23: avg_train_loss=1.8659761667251586, avg_train_accuracy=0.334625, avg_val_loss=1.7943486582701373, avg_val_accuracy=0.3747014331210191\n",
            "Epoch 24: avg_train_loss=1.8669979978561402, avg_train_accuracy=0.33715, avg_val_loss=1.7939057874072128, avg_val_accuracy=0.3762937898089172\n",
            "Epoch 25: avg_train_loss=1.8663793731689453, avg_train_accuracy=0.336625, avg_val_loss=1.7957201854438538, avg_val_accuracy=0.3752985668789809\n",
            "Epoch 26: avg_train_loss=1.8683680709838868, avg_train_accuracy=0.338725, avg_val_loss=1.7954935473241624, avg_val_accuracy=0.37539808917197454\n",
            "Epoch 27: avg_train_loss=1.8701186353683472, avg_train_accuracy=0.33595, avg_val_loss=1.7939581946962198, avg_val_accuracy=0.375\n",
            "Epoch 28: avg_train_loss=1.8660981954574585, avg_train_accuracy=0.33825, avg_val_loss=1.794378629915274, avg_val_accuracy=0.37509952229299365\n",
            "No improvement in validation loss for 5 consecutive epochs. Stopping early.\n"
          ]
        },
        {
          "output_type": "display_data",
          "data": {
            "text/plain": [
              "<IPython.core.display.HTML object>"
            ],
            "text/html": [
              "Waiting for W&B process to finish... <strong style=\"color:green\">(success).</strong>"
            ]
          },
          "metadata": {}
        },
        {
          "output_type": "display_data",
          "data": {
            "text/plain": [
              "VBox(children=(Label(value='0.001 MB of 0.001 MB uploaded (0.000 MB deduped)\\r'), FloatProgress(value=1.0, max…"
            ],
            "application/vnd.jupyter.widget-view+json": {
              "version_major": 2,
              "version_minor": 0,
              "model_id": "cf63e2bb71be463ea05a97a93ea2927d"
            }
          },
          "metadata": {}
        },
        {
          "output_type": "display_data",
          "data": {
            "text/plain": [
              "<IPython.core.display.HTML object>"
            ],
            "text/html": [
              "<style>\n",
              "    table.wandb td:nth-child(1) { padding: 0 10px; text-align: left ; width: auto;} td:nth-child(2) {text-align: left ; width: 100%}\n",
              "    .wandb-row { display: flex; flex-direction: row; flex-wrap: wrap; justify-content: flex-start; width: 100% }\n",
              "    .wandb-col { display: flex; flex-direction: column; flex-basis: 100%; flex: 1; padding: 10px; }\n",
              "    </style>\n",
              "<div class=\"wandb-row\"><div class=\"wandb-col\"><h3>Run history:</h3><br/><table class=\"wandb\"><tr><td>batch_gradients_norm</td><td>█▇▅▆▆▅▄▄▄▃▆▅▇▇▅▄▁▅▄▅▃▃▄▅▆▇▅▃▇▅▄▆▄▆▅▄▆▄▅▆</td></tr><tr><td>batch_idx</td><td>▁▁▁▁▂▂▂▂▂▃▃▃▃▃▃▄▄▄▄▄▅▅▅▅▅▅▆▆▆▆▆▇▇▇▇▇▇███</td></tr><tr><td>batch_size</td><td>▁▁▁▁▁▁▁▁▁▁▁▁▁▁▁▁▁▁▁▁▁▁▁▁▁▁▁▁▁▁</td></tr><tr><td>batch_training_loss</td><td>█▇▆▅▅▅▃▃▃▂█▅▅▅▃▃▃▃▃▃▂▂▅▅▄▆▄▁▅▆▄▄▃▄▂▂▆▃▃▂</td></tr><tr><td>epoch</td><td>▁▁▁▂▂▂▂▃▃▃▃▄▄▄▄▅▅▅▅▆▆▆▆▇▇▇▇███</td></tr><tr><td>epoch_training_accuracy</td><td>▁▄▅▆▆▆▇▇▇█████████████████████</td></tr><tr><td>epoch_training_loss</td><td>█▅▄▄▃▃▂▂▂▁▁▁▁▁▁▁▁▁▁▁▁▁▁▁▁▁▁▁▁▁</td></tr><tr><td>epoch_validation_accuracy</td><td>▁▃▄▅▆▆▆▇▇█████████████████████</td></tr><tr><td>epoch_validation_loss</td><td>█▆▅▄▃▃▂▂▂▁▁▁▁▁▁▁▁▁▁▁▁▁▁▁▁▁▁▁▁▁</td></tr><tr><td>learning_rate</td><td>██████████▂▂▂▂▂▂▂▂▂▂▁▁▁▁▁▁▁▁▁▁</td></tr><tr><td>model_norm</td><td>█▇▇▆▅▄▄▃▂▂▂▂▂▁▁▁▁▁▁▁▁▁▁▁▁▁▁▁▁▁</td></tr></table><br/></div><div class=\"wandb-col\"><h3>Run summary:</h3><br/><table class=\"wandb\"><tr><td>batch_gradients_norm</td><td>4.25645</td></tr><tr><td>batch_idx</td><td>18749</td></tr><tr><td>batch_size</td><td>64</td></tr><tr><td>batch_training_loss</td><td>1.68911</td></tr><tr><td>epoch</td><td>29</td></tr><tr><td>epoch_training_accuracy</td><td>0.33682</td></tr><tr><td>epoch_training_loss</td><td>1.86658</td></tr><tr><td>epoch_validation_accuracy</td><td>0.3758</td></tr><tr><td>epoch_validation_loss</td><td>1.79421</td></tr><tr><td>learning_rate</td><td>0.0</td></tr><tr><td>model_norm</td><td>42.26699</td></tr><tr><td>optimizer</td><td>SGD</td></tr></table><br/></div></div>"
            ]
          },
          "metadata": {}
        },
        {
          "output_type": "display_data",
          "data": {
            "text/plain": [
              "<IPython.core.display.HTML object>"
            ],
            "text/html": [
              " View run <strong style=\"color:#cdcd00\">unique-sweep-14</strong> at: <a href='https://wandb.ai/marius-workspace/wandb-final9/runs/zkg1xluq' target=\"_blank\">https://wandb.ai/marius-workspace/wandb-final9/runs/zkg1xluq</a><br/>Synced 5 W&B file(s), 0 media file(s), 0 artifact file(s) and 0 other file(s)"
            ]
          },
          "metadata": {}
        },
        {
          "output_type": "display_data",
          "data": {
            "text/plain": [
              "<IPython.core.display.HTML object>"
            ],
            "text/html": [
              "Find logs at: <code>./wandb/run-20231106_044521-zkg1xluq/logs</code>"
            ]
          },
          "metadata": {}
        },
        {
          "output_type": "stream",
          "name": "stderr",
          "text": [
            "\u001b[34m\u001b[1mwandb\u001b[0m: Agent Starting Run: xu4fual7 with config:\n",
            "\u001b[34m\u001b[1mwandb\u001b[0m: \tbatch_size: 64\n",
            "\u001b[34m\u001b[1mwandb\u001b[0m: \tlearning_rate: 0.001\n",
            "\u001b[34m\u001b[1mwandb\u001b[0m: \tmomentum: 0.9\n",
            "\u001b[34m\u001b[1mwandb\u001b[0m: \toptimizer: sgd\n",
            "\u001b[34m\u001b[1mwandb\u001b[0m: \tweight_decay: 0\n"
          ]
        },
        {
          "output_type": "display_data",
          "data": {
            "text/plain": [
              "<IPython.core.display.HTML object>"
            ],
            "text/html": [
              "Tracking run with wandb version 0.15.12"
            ]
          },
          "metadata": {}
        },
        {
          "output_type": "display_data",
          "data": {
            "text/plain": [
              "<IPython.core.display.HTML object>"
            ],
            "text/html": [
              "Run data is saved locally in <code>/content/wandb/run-20231106_051932-xu4fual7</code>"
            ]
          },
          "metadata": {}
        },
        {
          "output_type": "display_data",
          "data": {
            "text/plain": [
              "<IPython.core.display.HTML object>"
            ],
            "text/html": [
              "Syncing run <strong><a href='https://wandb.ai/marius-workspace/wandb-final9/runs/xu4fual7' target=\"_blank\">feasible-sweep-15</a></strong> to <a href='https://wandb.ai/marius-workspace/wandb-final9' target=\"_blank\">Weights & Biases</a> (<a href='https://wandb.me/run' target=\"_blank\">docs</a>)<br/>Sweep page: <a href='https://wandb.ai/marius-workspace/wandb-final9/sweeps/bygi5msd' target=\"_blank\">https://wandb.ai/marius-workspace/wandb-final9/sweeps/bygi5msd</a>"
            ]
          },
          "metadata": {}
        },
        {
          "output_type": "display_data",
          "data": {
            "text/plain": [
              "<IPython.core.display.HTML object>"
            ],
            "text/html": [
              " View project at <a href='https://wandb.ai/marius-workspace/wandb-final9' target=\"_blank\">https://wandb.ai/marius-workspace/wandb-final9</a>"
            ]
          },
          "metadata": {}
        },
        {
          "output_type": "display_data",
          "data": {
            "text/plain": [
              "<IPython.core.display.HTML object>"
            ],
            "text/html": [
              " View sweep at <a href='https://wandb.ai/marius-workspace/wandb-final9/sweeps/bygi5msd' target=\"_blank\">https://wandb.ai/marius-workspace/wandb-final9/sweeps/bygi5msd</a>"
            ]
          },
          "metadata": {}
        },
        {
          "output_type": "display_data",
          "data": {
            "text/plain": [
              "<IPython.core.display.HTML object>"
            ],
            "text/html": [
              " View run at <a href='https://wandb.ai/marius-workspace/wandb-final9/runs/xu4fual7' target=\"_blank\">https://wandb.ai/marius-workspace/wandb-final9/runs/xu4fual7</a>"
            ]
          },
          "metadata": {}
        },
        {
          "output_type": "stream",
          "name": "stdout",
          "text": [
            "Epoch 0: avg_train_loss=2.0084440118789675, avg_train_accuracy=0.28165, avg_val_loss=1.8189706194932294, avg_val_accuracy=0.3635549363057325\n",
            "Epoch 1: avg_train_loss=1.8722025884628295, avg_train_accuracy=0.33665, avg_val_loss=1.7549172609475008, avg_val_accuracy=0.3825636942675159\n",
            "Epoch 2: avg_train_loss=1.8173207098007202, avg_train_accuracy=0.3538, avg_val_loss=1.7097824773970682, avg_val_accuracy=0.39599920382165604\n",
            "Epoch 3: avg_train_loss=1.7826253116607667, avg_train_accuracy=0.36695, avg_val_loss=1.6756563847232018, avg_val_accuracy=0.40356289808917195\n",
            "Epoch 4: avg_train_loss=1.7565526208877564, avg_train_accuracy=0.374225, avg_val_loss=1.6481646071573732, avg_val_accuracy=0.41132563694267515\n",
            "Epoch 5: avg_train_loss=1.7360044303894042, avg_train_accuracy=0.38245, avg_val_loss=1.627909007345795, avg_val_accuracy=0.4215764331210191\n",
            "Epoch 6: avg_train_loss=1.7188143585205078, avg_train_accuracy=0.386875, avg_val_loss=1.610686918732467, avg_val_accuracy=0.431031050955414\n",
            "Epoch 7: avg_train_loss=1.6997692113876344, avg_train_accuracy=0.397325, avg_val_loss=1.595392552910337, avg_val_accuracy=0.4339171974522293\n",
            "Epoch 8: avg_train_loss=1.6910226640701294, avg_train_accuracy=0.396825, avg_val_loss=1.5820374177519683, avg_val_accuracy=0.43670382165605093\n",
            "Epoch 9: avg_train_loss=1.674924912071228, avg_train_accuracy=0.40425, avg_val_loss=1.5729114887820688, avg_val_accuracy=0.44317277070063693\n",
            "Epoch 10: avg_train_loss=1.6550627468109131, avg_train_accuracy=0.410075, avg_val_loss=1.560114228042068, avg_val_accuracy=0.4462579617834395\n",
            "Epoch 11: avg_train_loss=1.6466679235458375, avg_train_accuracy=0.41415, avg_val_loss=1.5581433370614508, avg_val_accuracy=0.4463574840764331\n",
            "Epoch 12: avg_train_loss=1.6467379024505615, avg_train_accuracy=0.4131, avg_val_loss=1.5553958499507539, avg_val_accuracy=0.4484474522292994\n",
            "Epoch 13: avg_train_loss=1.6397530939102172, avg_train_accuracy=0.416875, avg_val_loss=1.5514739349389532, avg_val_accuracy=0.448546974522293\n",
            "Epoch 14: avg_train_loss=1.6409361032485963, avg_train_accuracy=0.41535, avg_val_loss=1.5486519587267735, avg_val_accuracy=0.44834792993630573\n",
            "Epoch 15: avg_train_loss=1.6358726930618286, avg_train_accuracy=0.418625, avg_val_loss=1.5476726825070228, avg_val_accuracy=0.44675557324840764\n",
            "Epoch 16: avg_train_loss=1.6324284492492676, avg_train_accuracy=0.4194, avg_val_loss=1.5451800952291792, avg_val_accuracy=0.44884554140127386\n",
            "Epoch 17: avg_train_loss=1.6331153390884399, avg_train_accuracy=0.418775, avg_val_loss=1.5432410262952185, avg_val_accuracy=0.45222929936305734\n",
            "Epoch 18: avg_train_loss=1.63151422290802, avg_train_accuracy=0.422225, avg_val_loss=1.5425789523276554, avg_val_accuracy=0.4511345541401274\n",
            "Epoch 19: avg_train_loss=1.6302060779571532, avg_train_accuracy=0.4211, avg_val_loss=1.5388554752252663, avg_val_accuracy=0.4524283439490446\n",
            "Epoch 20: avg_train_loss=1.6288987852096557, avg_train_accuracy=0.4219, avg_val_loss=1.5385274105011277, avg_val_accuracy=0.4551154458598726\n",
            "Epoch 21: avg_train_loss=1.6272779947280884, avg_train_accuracy=0.42105, avg_val_loss=1.537514750365239, avg_val_accuracy=0.45332404458598724\n",
            "Epoch 22: avg_train_loss=1.6214308982849122, avg_train_accuracy=0.422225, avg_val_loss=1.5383964655505624, avg_val_accuracy=0.45322452229299365\n",
            "Epoch 23: avg_train_loss=1.623610782432556, avg_train_accuracy=0.423125, avg_val_loss=1.5410428252189783, avg_val_accuracy=0.4502388535031847\n",
            "Epoch 24: avg_train_loss=1.623009716796875, avg_train_accuracy=0.420175, avg_val_loss=1.5380075539752935, avg_val_accuracy=0.45302547770700635\n",
            "Epoch 25: avg_train_loss=1.6248326414108276, avg_train_accuracy=0.421375, avg_val_loss=1.5392416260045045, avg_val_accuracy=0.45362261146496813\n",
            "No improvement in validation loss for 5 consecutive epochs. Stopping early.\n"
          ]
        },
        {
          "output_type": "display_data",
          "data": {
            "text/plain": [
              "<IPython.core.display.HTML object>"
            ],
            "text/html": [
              "Waiting for W&B process to finish... <strong style=\"color:green\">(success).</strong>"
            ]
          },
          "metadata": {}
        },
        {
          "output_type": "display_data",
          "data": {
            "text/plain": [
              "<IPython.core.display.HTML object>"
            ],
            "text/html": [
              "<style>\n",
              "    table.wandb td:nth-child(1) { padding: 0 10px; text-align: left ; width: auto;} td:nth-child(2) {text-align: left ; width: 100%}\n",
              "    .wandb-row { display: flex; flex-direction: row; flex-wrap: wrap; justify-content: flex-start; width: 100% }\n",
              "    .wandb-col { display: flex; flex-direction: column; flex-basis: 100%; flex: 1; padding: 10px; }\n",
              "    </style>\n",
              "<div class=\"wandb-row\"><div class=\"wandb-col\"><h3>Run history:</h3><br/><table class=\"wandb\"><tr><td>batch_gradients_norm</td><td>▄▁▃▂▄▂▁▇▆▅▄▅▆▅▅▁▅▄▇▄▁▅▇▃▄▇▇▄▃▇▅▆▆▇▇▄▃▆▆█</td></tr><tr><td>batch_idx</td><td>▁▁▁▁▂▂▂▂▂▃▃▃▃▃▃▄▄▄▄▄▅▅▅▅▅▅▆▆▆▆▆▆▇▇▇▇▇███</td></tr><tr><td>batch_size</td><td>▁▁▁▁▁▁▁▁▁▁▁▁▁▁▁▁▁▁▁▁▁▁▁▁▁▁▁</td></tr><tr><td>batch_training_loss</td><td>▇▆▇▄▇▄▄▆▆▅▃▅▆▅▃▃▅▄▅▄▁▃▄▄▄█▆▄▃▂▆▆▆▇▆▄▃▅▃▅</td></tr><tr><td>epoch</td><td>▁▁▂▂▂▂▃▃▃▃▄▄▄▅▅▅▅▆▆▆▆▇▇▇▇██</td></tr><tr><td>epoch_training_accuracy</td><td>▁▄▅▅▆▆▆▇▇▇▇████████████████</td></tr><tr><td>epoch_training_loss</td><td>█▆▅▄▃▃▃▂▂▂▂▁▁▁▁▁▁▁▁▁▁▁▁▁▁▁▁</td></tr><tr><td>epoch_validation_accuracy</td><td>▁▂▃▄▅▅▆▆▇▇▇▇▇▇▇▇███████████</td></tr><tr><td>epoch_validation_loss</td><td>█▆▅▄▄▃▃▂▂▂▂▂▁▁▁▁▁▁▁▁▁▁▁▁▁▁▁</td></tr><tr><td>learning_rate</td><td>██████████▂▂▂▂▂▂▂▂▂▂▁▁▁▁▁▁▁</td></tr><tr><td>model_norm</td><td>▁▂▃▃▄▅▆▆▇██████████████████</td></tr></table><br/></div><div class=\"wandb-col\"><h3>Run summary:</h3><br/><table class=\"wandb\"><tr><td>batch_gradients_norm</td><td>4.34988</td></tr><tr><td>batch_idx</td><td>16874</td></tr><tr><td>batch_size</td><td>64</td></tr><tr><td>batch_training_loss</td><td>1.47861</td></tr><tr><td>epoch</td><td>26</td></tr><tr><td>epoch_training_accuracy</td><td>0.42092</td></tr><tr><td>epoch_training_loss</td><td>1.62888</td></tr><tr><td>epoch_validation_accuracy</td><td>0.45382</td></tr><tr><td>epoch_validation_loss</td><td>1.53829</td></tr><tr><td>learning_rate</td><td>1e-05</td></tr><tr><td>model_norm</td><td>45.4299</td></tr><tr><td>optimizer</td><td>SGD</td></tr></table><br/></div></div>"
            ]
          },
          "metadata": {}
        },
        {
          "output_type": "display_data",
          "data": {
            "text/plain": [
              "<IPython.core.display.HTML object>"
            ],
            "text/html": [
              " View run <strong style=\"color:#cdcd00\">feasible-sweep-15</strong> at: <a href='https://wandb.ai/marius-workspace/wandb-final9/runs/xu4fual7' target=\"_blank\">https://wandb.ai/marius-workspace/wandb-final9/runs/xu4fual7</a><br/>Synced 5 W&B file(s), 0 media file(s), 0 artifact file(s) and 0 other file(s)"
            ]
          },
          "metadata": {}
        },
        {
          "output_type": "display_data",
          "data": {
            "text/plain": [
              "<IPython.core.display.HTML object>"
            ],
            "text/html": [
              "Find logs at: <code>./wandb/run-20231106_051932-xu4fual7/logs</code>"
            ]
          },
          "metadata": {}
        },
        {
          "output_type": "stream",
          "name": "stderr",
          "text": [
            "\u001b[34m\u001b[1mwandb\u001b[0m: Agent Starting Run: qqbhh1dd with config:\n",
            "\u001b[34m\u001b[1mwandb\u001b[0m: \tbatch_size: 16\n",
            "\u001b[34m\u001b[1mwandb\u001b[0m: \tlearning_rate: 0.0001\n",
            "\u001b[34m\u001b[1mwandb\u001b[0m: \tmomentum: 0.9\n",
            "\u001b[34m\u001b[1mwandb\u001b[0m: \toptimizer: adagrad\n",
            "\u001b[34m\u001b[1mwandb\u001b[0m: \tweight_decay: 0.0001\n"
          ]
        },
        {
          "output_type": "display_data",
          "data": {
            "text/plain": [
              "<IPython.core.display.HTML object>"
            ],
            "text/html": [
              "Tracking run with wandb version 0.15.12"
            ]
          },
          "metadata": {}
        },
        {
          "output_type": "display_data",
          "data": {
            "text/plain": [
              "<IPython.core.display.HTML object>"
            ],
            "text/html": [
              "Run data is saved locally in <code>/content/wandb/run-20231106_055000-qqbhh1dd</code>"
            ]
          },
          "metadata": {}
        },
        {
          "output_type": "display_data",
          "data": {
            "text/plain": [
              "<IPython.core.display.HTML object>"
            ],
            "text/html": [
              "Syncing run <strong><a href='https://wandb.ai/marius-workspace/wandb-final9/runs/qqbhh1dd' target=\"_blank\">robust-sweep-16</a></strong> to <a href='https://wandb.ai/marius-workspace/wandb-final9' target=\"_blank\">Weights & Biases</a> (<a href='https://wandb.me/run' target=\"_blank\">docs</a>)<br/>Sweep page: <a href='https://wandb.ai/marius-workspace/wandb-final9/sweeps/bygi5msd' target=\"_blank\">https://wandb.ai/marius-workspace/wandb-final9/sweeps/bygi5msd</a>"
            ]
          },
          "metadata": {}
        },
        {
          "output_type": "display_data",
          "data": {
            "text/plain": [
              "<IPython.core.display.HTML object>"
            ],
            "text/html": [
              " View project at <a href='https://wandb.ai/marius-workspace/wandb-final9' target=\"_blank\">https://wandb.ai/marius-workspace/wandb-final9</a>"
            ]
          },
          "metadata": {}
        },
        {
          "output_type": "display_data",
          "data": {
            "text/plain": [
              "<IPython.core.display.HTML object>"
            ],
            "text/html": [
              " View sweep at <a href='https://wandb.ai/marius-workspace/wandb-final9/sweeps/bygi5msd' target=\"_blank\">https://wandb.ai/marius-workspace/wandb-final9/sweeps/bygi5msd</a>"
            ]
          },
          "metadata": {}
        },
        {
          "output_type": "display_data",
          "data": {
            "text/plain": [
              "<IPython.core.display.HTML object>"
            ],
            "text/html": [
              " View run at <a href='https://wandb.ai/marius-workspace/wandb-final9/runs/qqbhh1dd' target=\"_blank\">https://wandb.ai/marius-workspace/wandb-final9/runs/qqbhh1dd</a>"
            ]
          },
          "metadata": {}
        },
        {
          "output_type": "stream",
          "name": "stdout",
          "text": [
            "Epoch 0: avg_train_loss=2.1684671776771545, avg_train_accuracy=0.2109, avg_val_loss=2.0286991151809692, avg_val_accuracy=0.2937\n",
            "Epoch 1: avg_train_loss=2.090413843536377, avg_train_accuracy=0.246575, avg_val_loss=1.9855188802719117, avg_val_accuracy=0.3117\n",
            "Epoch 2: avg_train_loss=2.0632320981502534, avg_train_accuracy=0.25945, avg_val_loss=1.9624335815429688, avg_val_accuracy=0.3167\n",
            "Epoch 3: avg_train_loss=2.047587134742737, avg_train_accuracy=0.26505, avg_val_loss=1.9465469173431396, avg_val_accuracy=0.3266\n",
            "Epoch 4: avg_train_loss=2.034316085958481, avg_train_accuracy=0.272725, avg_val_loss=1.9391524225234986, avg_val_accuracy=0.3266\n",
            "Epoch 5: avg_train_loss=2.0254062935829165, avg_train_accuracy=0.27235, avg_val_loss=1.923827307510376, avg_val_accuracy=0.332\n",
            "Epoch 6: avg_train_loss=2.018606778240204, avg_train_accuracy=0.27735, avg_val_loss=1.9171840738296508, avg_val_accuracy=0.3339\n",
            "Epoch 7: avg_train_loss=2.009051835155487, avg_train_accuracy=0.283325, avg_val_loss=1.9100062915802003, avg_val_accuracy=0.3381\n",
            "Epoch 8: avg_train_loss=2.0055039093494416, avg_train_accuracy=0.286475, avg_val_loss=1.9040139268875123, avg_val_accuracy=0.3398\n",
            "Epoch 9: avg_train_loss=1.9989801025867462, avg_train_accuracy=0.28695, avg_val_loss=1.8965921306610107, avg_val_accuracy=0.3394\n",
            "Epoch 10: avg_train_loss=1.9978340537548065, avg_train_accuracy=0.28625, avg_val_loss=1.8950231664657593, avg_val_accuracy=0.3443\n",
            "Epoch 11: avg_train_loss=1.9938882561683655, avg_train_accuracy=0.2881, avg_val_loss=1.8957332113265992, avg_val_accuracy=0.3394\n",
            "Epoch 12: avg_train_loss=1.9961116392612457, avg_train_accuracy=0.287075, avg_val_loss=1.8966061853408813, avg_val_accuracy=0.3397\n",
            "Epoch 13: avg_train_loss=1.9948271750450135, avg_train_accuracy=0.285675, avg_val_loss=1.8902442001342774, avg_val_accuracy=0.345\n",
            "Epoch 14: avg_train_loss=1.9943165254116058, avg_train_accuracy=0.284875, avg_val_loss=1.8881636709213256, avg_val_accuracy=0.3413\n",
            "Epoch 15: avg_train_loss=1.9924899573326111, avg_train_accuracy=0.2886, avg_val_loss=1.8934201078414916, avg_val_accuracy=0.3405\n",
            "Epoch 16: avg_train_loss=1.9908975632190704, avg_train_accuracy=0.2912, avg_val_loss=1.8939490602493285, avg_val_accuracy=0.3403\n",
            "Epoch 17: avg_train_loss=1.9907734366893768, avg_train_accuracy=0.28965, avg_val_loss=1.8990188468933105, avg_val_accuracy=0.3419\n",
            "Epoch 18: avg_train_loss=1.9940797247886657, avg_train_accuracy=0.2887, avg_val_loss=1.8920668840408326, avg_val_accuracy=0.3438\n",
            "No improvement in validation loss for 5 consecutive epochs. Stopping early.\n"
          ]
        },
        {
          "output_type": "display_data",
          "data": {
            "text/plain": [
              "<IPython.core.display.HTML object>"
            ],
            "text/html": [
              "Waiting for W&B process to finish... <strong style=\"color:green\">(success).</strong>"
            ]
          },
          "metadata": {}
        },
        {
          "output_type": "display_data",
          "data": {
            "text/plain": [
              "VBox(children=(Label(value='0.001 MB of 0.001 MB uploaded (0.000 MB deduped)\\r'), FloatProgress(value=1.0, max…"
            ],
            "application/vnd.jupyter.widget-view+json": {
              "version_major": 2,
              "version_minor": 0,
              "model_id": "32f2a16f45a8461faef5d939cda05f3b"
            }
          },
          "metadata": {}
        },
        {
          "output_type": "display_data",
          "data": {
            "text/plain": [
              "<IPython.core.display.HTML object>"
            ],
            "text/html": [
              "<style>\n",
              "    table.wandb td:nth-child(1) { padding: 0 10px; text-align: left ; width: auto;} td:nth-child(2) {text-align: left ; width: 100%}\n",
              "    .wandb-row { display: flex; flex-direction: row; flex-wrap: wrap; justify-content: flex-start; width: 100% }\n",
              "    .wandb-col { display: flex; flex-direction: column; flex-basis: 100%; flex: 1; padding: 10px; }\n",
              "    </style>\n",
              "<div class=\"wandb-row\"><div class=\"wandb-col\"><h3>Run history:</h3><br/><table class=\"wandb\"><tr><td>batch_gradients_norm</td><td>▇▄▆█▃█▅▃▁▆▆▄▃▃▄▂▃▃▄▇▆▅▂▅▄▅▁▂▁▆▃▄▇▄▄▃▇▅▄▃</td></tr><tr><td>batch_idx</td><td>▁▁▁▂▂▂▂▂▂▃▃▃▃▃▃▄▄▄▄▄▅▅▅▅▅▅▆▆▆▆▆▇▇▇▇▇▇███</td></tr><tr><td>batch_size</td><td>▁▁▁▁▁▁▁▁▁▁▁▁▁▁▁▁▁▁▁▁</td></tr><tr><td>batch_training_loss</td><td>▅▅▇▇▄█▆▄▂▅▆▄▃▃▄▄▃▄▄▅▅▃▃▄▃▅▁▃▂▅▄▅▇▄▃▄█▅▅▄</td></tr><tr><td>epoch</td><td>▁▁▂▂▂▃▃▄▄▄▅▅▅▆▆▇▇▇██</td></tr><tr><td>epoch_training_accuracy</td><td>▁▄▅▆▆▆▇▇██████▇█████</td></tr><tr><td>epoch_training_loss</td><td>█▅▄▃▃▂▂▂▂▁▁▁▁▁▁▁▁▁▁▁</td></tr><tr><td>epoch_validation_accuracy</td><td>▁▃▄▅▅▆▆▇▇▇█▇▇█▇▇▇███</td></tr><tr><td>epoch_validation_loss</td><td>█▆▅▄▄▃▂▂▂▁▁▁▁▁▁▁▁▂▁▁</td></tr><tr><td>learning_rate</td><td>██████████▁▁▁▁▁▁▁▁▁▁</td></tr><tr><td>model_norm</td><td>█▇▆▅▄▃▃▂▂▁▁▁▁▁▁▁▁▁▁▁</td></tr></table><br/></div><div class=\"wandb-col\"><h3>Run summary:</h3><br/><table class=\"wandb\"><tr><td>batch_gradients_norm</td><td>9.33021</td></tr><tr><td>batch_idx</td><td>49999</td></tr><tr><td>batch_size</td><td>16</td></tr><tr><td>batch_training_loss</td><td>1.88334</td></tr><tr><td>epoch</td><td>19</td></tr><tr><td>epoch_training_accuracy</td><td>0.28875</td></tr><tr><td>epoch_training_loss</td><td>1.98912</td></tr><tr><td>epoch_validation_accuracy</td><td>0.3417</td></tr><tr><td>epoch_validation_loss</td><td>1.88953</td></tr><tr><td>learning_rate</td><td>1e-05</td></tr><tr><td>model_norm</td><td>45.25481</td></tr><tr><td>optimizer</td><td>Adagrad</td></tr></table><br/></div></div>"
            ]
          },
          "metadata": {}
        },
        {
          "output_type": "display_data",
          "data": {
            "text/plain": [
              "<IPython.core.display.HTML object>"
            ],
            "text/html": [
              " View run <strong style=\"color:#cdcd00\">robust-sweep-16</strong> at: <a href='https://wandb.ai/marius-workspace/wandb-final9/runs/qqbhh1dd' target=\"_blank\">https://wandb.ai/marius-workspace/wandb-final9/runs/qqbhh1dd</a><br/>Synced 5 W&B file(s), 0 media file(s), 0 artifact file(s) and 0 other file(s)"
            ]
          },
          "metadata": {}
        },
        {
          "output_type": "display_data",
          "data": {
            "text/plain": [
              "<IPython.core.display.HTML object>"
            ],
            "text/html": [
              "Find logs at: <code>./wandb/run-20231106_055000-qqbhh1dd/logs</code>"
            ]
          },
          "metadata": {}
        },
        {
          "output_type": "stream",
          "name": "stderr",
          "text": [
            "\u001b[34m\u001b[1mwandb\u001b[0m: Agent Starting Run: hx2trfk3 with config:\n",
            "\u001b[34m\u001b[1mwandb\u001b[0m: \tbatch_size: 64\n",
            "\u001b[34m\u001b[1mwandb\u001b[0m: \tlearning_rate: 0.001\n",
            "\u001b[34m\u001b[1mwandb\u001b[0m: \tmomentum: 0.99\n",
            "\u001b[34m\u001b[1mwandb\u001b[0m: \toptimizer: rmsprop\n",
            "\u001b[34m\u001b[1mwandb\u001b[0m: \tweight_decay: 0.0001\n"
          ]
        },
        {
          "output_type": "display_data",
          "data": {
            "text/plain": [
              "<IPython.core.display.HTML object>"
            ],
            "text/html": [
              "Tracking run with wandb version 0.15.12"
            ]
          },
          "metadata": {}
        },
        {
          "output_type": "display_data",
          "data": {
            "text/plain": [
              "<IPython.core.display.HTML object>"
            ],
            "text/html": [
              "Run data is saved locally in <code>/content/wandb/run-20231106_062059-hx2trfk3</code>"
            ]
          },
          "metadata": {}
        },
        {
          "output_type": "display_data",
          "data": {
            "text/plain": [
              "<IPython.core.display.HTML object>"
            ],
            "text/html": [
              "Syncing run <strong><a href='https://wandb.ai/marius-workspace/wandb-final9/runs/hx2trfk3' target=\"_blank\">lively-sweep-17</a></strong> to <a href='https://wandb.ai/marius-workspace/wandb-final9' target=\"_blank\">Weights & Biases</a> (<a href='https://wandb.me/run' target=\"_blank\">docs</a>)<br/>Sweep page: <a href='https://wandb.ai/marius-workspace/wandb-final9/sweeps/bygi5msd' target=\"_blank\">https://wandb.ai/marius-workspace/wandb-final9/sweeps/bygi5msd</a>"
            ]
          },
          "metadata": {}
        },
        {
          "output_type": "display_data",
          "data": {
            "text/plain": [
              "<IPython.core.display.HTML object>"
            ],
            "text/html": [
              " View project at <a href='https://wandb.ai/marius-workspace/wandb-final9' target=\"_blank\">https://wandb.ai/marius-workspace/wandb-final9</a>"
            ]
          },
          "metadata": {}
        },
        {
          "output_type": "display_data",
          "data": {
            "text/plain": [
              "<IPython.core.display.HTML object>"
            ],
            "text/html": [
              " View sweep at <a href='https://wandb.ai/marius-workspace/wandb-final9/sweeps/bygi5msd' target=\"_blank\">https://wandb.ai/marius-workspace/wandb-final9/sweeps/bygi5msd</a>"
            ]
          },
          "metadata": {}
        },
        {
          "output_type": "display_data",
          "data": {
            "text/plain": [
              "<IPython.core.display.HTML object>"
            ],
            "text/html": [
              " View run at <a href='https://wandb.ai/marius-workspace/wandb-final9/runs/hx2trfk3' target=\"_blank\">https://wandb.ai/marius-workspace/wandb-final9/runs/hx2trfk3</a>"
            ]
          },
          "metadata": {}
        },
        {
          "output_type": "stream",
          "name": "stdout",
          "text": [
            "Epoch 0: avg_train_loss=1.9332335603713988, avg_train_accuracy=0.30905, avg_val_loss=1.7693532591412782, avg_val_accuracy=0.3586783439490446\n",
            "Epoch 1: avg_train_loss=1.8021872406005859, avg_train_accuracy=0.355125, avg_val_loss=1.6808897917437706, avg_val_accuracy=0.4002786624203822\n",
            "Epoch 2: avg_train_loss=1.744268451690674, avg_train_accuracy=0.37615, avg_val_loss=1.6442828428973058, avg_val_accuracy=0.41033041401273884\n",
            "Epoch 3: avg_train_loss=1.7135756076812745, avg_train_accuracy=0.3888, avg_val_loss=1.6222052893061547, avg_val_accuracy=0.41580414012738853\n",
            "Epoch 4: avg_train_loss=1.6897655521392823, avg_train_accuracy=0.3984, avg_val_loss=1.6037163157371959, avg_val_accuracy=0.42744824840764334\n",
            "Epoch 5: avg_train_loss=1.672332616043091, avg_train_accuracy=0.402675, avg_val_loss=1.6001504424271311, avg_val_accuracy=0.4231687898089172\n",
            "Epoch 6: avg_train_loss=1.6590792999267578, avg_train_accuracy=0.410075, avg_val_loss=1.581830536483959, avg_val_accuracy=0.43670382165605093\n",
            "Epoch 7: avg_train_loss=1.6478500339508058, avg_train_accuracy=0.413425, avg_val_loss=1.561578729350096, avg_val_accuracy=0.4492436305732484\n",
            "Epoch 8: avg_train_loss=1.6306553800582886, avg_train_accuracy=0.4205, avg_val_loss=1.5569092665508295, avg_val_accuracy=0.44317277070063693\n",
            "Epoch 9: avg_train_loss=1.626755731010437, avg_train_accuracy=0.42275, avg_val_loss=1.5461556531821088, avg_val_accuracy=0.4502388535031847\n",
            "Epoch 10: avg_train_loss=1.565925940132141, avg_train_accuracy=0.444875, avg_val_loss=1.4883579850956132, avg_val_accuracy=0.4694466560509554\n",
            "Epoch 11: avg_train_loss=1.5363202722549438, avg_train_accuracy=0.455475, avg_val_loss=1.476735052029798, avg_val_accuracy=0.47302945859872614\n",
            "Epoch 12: avg_train_loss=1.5267871614456177, avg_train_accuracy=0.458875, avg_val_loss=1.4757812099092324, avg_val_accuracy=0.4768113057324841\n",
            "Epoch 13: avg_train_loss=1.5163048265457153, avg_train_accuracy=0.46345, avg_val_loss=1.4660906214622935, avg_val_accuracy=0.4782046178343949\n",
            "Epoch 14: avg_train_loss=1.5101714210510253, avg_train_accuracy=0.465775, avg_val_loss=1.458866019917142, avg_val_accuracy=0.48258359872611467\n",
            "Epoch 15: avg_train_loss=1.499452254486084, avg_train_accuracy=0.466975, avg_val_loss=1.4577996077810882, avg_val_accuracy=0.4817874203821656\n",
            "Epoch 16: avg_train_loss=1.4988247005462647, avg_train_accuracy=0.468825, avg_val_loss=1.452315082975254, avg_val_accuracy=0.4836783439490446\n",
            "Epoch 17: avg_train_loss=1.4929076889038086, avg_train_accuracy=0.46945, avg_val_loss=1.448557931146804, avg_val_accuracy=0.48556926751592355\n",
            "Epoch 18: avg_train_loss=1.4902733512878419, avg_train_accuracy=0.474975, avg_val_loss=1.446146409982329, avg_val_accuracy=0.4850716560509554\n",
            "Epoch 19: avg_train_loss=1.4852505062103272, avg_train_accuracy=0.47765, avg_val_loss=1.441193952681912, avg_val_accuracy=0.48785828025477707\n",
            "Epoch 20: avg_train_loss=1.4802815271377563, avg_train_accuracy=0.475025, avg_val_loss=1.4397787167008516, avg_val_accuracy=0.4875597133757962\n",
            "Epoch 21: avg_train_loss=1.4733604028701783, avg_train_accuracy=0.478725, avg_val_loss=1.4386182848814946, avg_val_accuracy=0.4896496815286624\n",
            "Epoch 22: avg_train_loss=1.475414552116394, avg_train_accuracy=0.478675, avg_val_loss=1.4375571376958471, avg_val_accuracy=0.4909434713375796\n",
            "Epoch 23: avg_train_loss=1.474189638900757, avg_train_accuracy=0.476875, avg_val_loss=1.4383828617205285, avg_val_accuracy=0.4880573248407643\n",
            "Epoch 24: avg_train_loss=1.4723439558029174, avg_train_accuracy=0.478575, avg_val_loss=1.4371569840012082, avg_val_accuracy=0.48915207006369427\n",
            "Epoch 25: avg_train_loss=1.4687370233535766, avg_train_accuracy=0.481175, avg_val_loss=1.4367565584790176, avg_val_accuracy=0.4882563694267516\n",
            "Epoch 26: avg_train_loss=1.4677896032333373, avg_train_accuracy=0.48085, avg_val_loss=1.4356454132468837, avg_val_accuracy=0.4882563694267516\n",
            "Epoch 27: avg_train_loss=1.4680872638702394, avg_train_accuracy=0.4809, avg_val_loss=1.4363792026118867, avg_val_accuracy=0.4890525477707006\n",
            "Epoch 28: avg_train_loss=1.4666895748138429, avg_train_accuracy=0.480875, avg_val_loss=1.4367310659141297, avg_val_accuracy=0.48815684713375795\n",
            "Epoch 29: avg_train_loss=1.4683739683151245, avg_train_accuracy=0.480525, avg_val_loss=1.4371240989417786, avg_val_accuracy=0.4911425159235669\n"
          ]
        },
        {
          "output_type": "display_data",
          "data": {
            "text/plain": [
              "<IPython.core.display.HTML object>"
            ],
            "text/html": [
              "Waiting for W&B process to finish... <strong style=\"color:green\">(success).</strong>"
            ]
          },
          "metadata": {}
        },
        {
          "output_type": "display_data",
          "data": {
            "text/plain": [
              "<IPython.core.display.HTML object>"
            ],
            "text/html": [
              "<style>\n",
              "    table.wandb td:nth-child(1) { padding: 0 10px; text-align: left ; width: auto;} td:nth-child(2) {text-align: left ; width: 100%}\n",
              "    .wandb-row { display: flex; flex-direction: row; flex-wrap: wrap; justify-content: flex-start; width: 100% }\n",
              "    .wandb-col { display: flex; flex-direction: column; flex-basis: 100%; flex: 1; padding: 10px; }\n",
              "    </style>\n",
              "<div class=\"wandb-row\"><div class=\"wandb-col\"><h3>Run history:</h3><br/><table class=\"wandb\"><tr><td>batch_gradients_norm</td><td>█▇▆▅▄▃▄▃▂▃▂▁▁▂▂▁▂▃▁▂▂▁▃▂▂▃▄▄▂▂▁▂▃▃▃▃▂▃▃▂</td></tr><tr><td>batch_idx</td><td>▁▁▁▁▂▂▂▂▂▃▃▃▃▃▃▄▄▄▄▄▅▅▅▅▅▅▆▆▆▆▆▇▇▇▇▇▇███</td></tr><tr><td>batch_size</td><td>▁▁▁▁▁▁▁▁▁▁▁▁▁▁▁▁▁▁▁▁▁▁▁▁▁▁▁▁▁▁</td></tr><tr><td>batch_training_loss</td><td>▆█▆▅▆▄▅▆▃▇█▂▅▄▆▅▃▅▃▄▁▂▆▃▄▄▅▆▄▄▁▃▂▅▅▃▃▇▃▃</td></tr><tr><td>epoch</td><td>▁▁▁▂▂▂▂▃▃▃▃▄▄▄▄▅▅▅▅▆▆▆▆▇▇▇▇███</td></tr><tr><td>epoch_training_accuracy</td><td>▁▃▄▄▅▅▅▅▆▆▇▇▇▇▇▇▇█████████████</td></tr><tr><td>epoch_training_loss</td><td>█▆▅▅▄▄▄▄▃▃▂▂▂▂▂▁▁▁▁▁▁▁▁▁▁▁▁▁▁▁</td></tr><tr><td>epoch_validation_accuracy</td><td>▁▃▄▄▅▄▅▆▅▆▇▇▇▇████████████████</td></tr><tr><td>epoch_validation_loss</td><td>█▆▅▅▅▄▄▄▄▃▂▂▂▂▁▁▁▁▁▁▁▁▁▁▁▁▁▁▁▁</td></tr><tr><td>learning_rate</td><td>██████████▂▂▂▂▂▂▂▂▂▂▁▁▁▁▁▁▁▁▁▁</td></tr><tr><td>model_norm</td><td>▁▃▄▅▆▇▇▇██▇▇▆▆▅▅▄▄▄▃▃▃▃▃▃▃▃▃▃▃</td></tr></table><br/></div><div class=\"wandb-col\"><h3>Run summary:</h3><br/><table class=\"wandb\"><tr><td>batch_gradients_norm</td><td>1.02802</td></tr><tr><td>batch_idx</td><td>18749</td></tr><tr><td>batch_size</td><td>64</td></tr><tr><td>batch_training_loss</td><td>1.04939</td></tr><tr><td>epoch</td><td>29</td></tr><tr><td>epoch_training_accuracy</td><td>0.48052</td></tr><tr><td>epoch_training_loss</td><td>1.46837</td></tr><tr><td>epoch_validation_accuracy</td><td>0.49114</td></tr><tr><td>epoch_validation_loss</td><td>1.43712</td></tr><tr><td>learning_rate</td><td>1e-05</td></tr><tr><td>model_norm</td><td>52.0481</td></tr><tr><td>optimizer</td><td>RMSprop</td></tr></table><br/></div></div>"
            ]
          },
          "metadata": {}
        },
        {
          "output_type": "display_data",
          "data": {
            "text/plain": [
              "<IPython.core.display.HTML object>"
            ],
            "text/html": [
              " View run <strong style=\"color:#cdcd00\">lively-sweep-17</strong> at: <a href='https://wandb.ai/marius-workspace/wandb-final9/runs/hx2trfk3' target=\"_blank\">https://wandb.ai/marius-workspace/wandb-final9/runs/hx2trfk3</a><br/>Synced 5 W&B file(s), 0 media file(s), 0 artifact file(s) and 0 other file(s)"
            ]
          },
          "metadata": {}
        },
        {
          "output_type": "display_data",
          "data": {
            "text/plain": [
              "<IPython.core.display.HTML object>"
            ],
            "text/html": [
              "Find logs at: <code>./wandb/run-20231106_062059-hx2trfk3/logs</code>"
            ]
          },
          "metadata": {}
        },
        {
          "output_type": "stream",
          "name": "stderr",
          "text": [
            "\u001b[34m\u001b[1mwandb\u001b[0m: Agent Starting Run: jtf3as10 with config:\n",
            "\u001b[34m\u001b[1mwandb\u001b[0m: \tbatch_size: 64\n",
            "\u001b[34m\u001b[1mwandb\u001b[0m: \tlearning_rate: 0.0001\n",
            "\u001b[34m\u001b[1mwandb\u001b[0m: \tmomentum: 0.9\n",
            "\u001b[34m\u001b[1mwandb\u001b[0m: \toptimizer: sgd_sam\n",
            "\u001b[34m\u001b[1mwandb\u001b[0m: \tweight_decay: 0.0001\n"
          ]
        },
        {
          "output_type": "display_data",
          "data": {
            "text/plain": [
              "<IPython.core.display.HTML object>"
            ],
            "text/html": [
              "Tracking run with wandb version 0.15.12"
            ]
          },
          "metadata": {}
        },
        {
          "output_type": "display_data",
          "data": {
            "text/plain": [
              "<IPython.core.display.HTML object>"
            ],
            "text/html": [
              "Run data is saved locally in <code>/content/wandb/run-20231106_065546-jtf3as10</code>"
            ]
          },
          "metadata": {}
        },
        {
          "output_type": "display_data",
          "data": {
            "text/plain": [
              "<IPython.core.display.HTML object>"
            ],
            "text/html": [
              "Syncing run <strong><a href='https://wandb.ai/marius-workspace/wandb-final9/runs/jtf3as10' target=\"_blank\">icy-sweep-18</a></strong> to <a href='https://wandb.ai/marius-workspace/wandb-final9' target=\"_blank\">Weights & Biases</a> (<a href='https://wandb.me/run' target=\"_blank\">docs</a>)<br/>Sweep page: <a href='https://wandb.ai/marius-workspace/wandb-final9/sweeps/bygi5msd' target=\"_blank\">https://wandb.ai/marius-workspace/wandb-final9/sweeps/bygi5msd</a>"
            ]
          },
          "metadata": {}
        },
        {
          "output_type": "display_data",
          "data": {
            "text/plain": [
              "<IPython.core.display.HTML object>"
            ],
            "text/html": [
              " View project at <a href='https://wandb.ai/marius-workspace/wandb-final9' target=\"_blank\">https://wandb.ai/marius-workspace/wandb-final9</a>"
            ]
          },
          "metadata": {}
        },
        {
          "output_type": "display_data",
          "data": {
            "text/plain": [
              "<IPython.core.display.HTML object>"
            ],
            "text/html": [
              " View sweep at <a href='https://wandb.ai/marius-workspace/wandb-final9/sweeps/bygi5msd' target=\"_blank\">https://wandb.ai/marius-workspace/wandb-final9/sweeps/bygi5msd</a>"
            ]
          },
          "metadata": {}
        },
        {
          "output_type": "display_data",
          "data": {
            "text/plain": [
              "<IPython.core.display.HTML object>"
            ],
            "text/html": [
              " View run at <a href='https://wandb.ai/marius-workspace/wandb-final9/runs/jtf3as10' target=\"_blank\">https://wandb.ai/marius-workspace/wandb-final9/runs/jtf3as10</a>"
            ]
          },
          "metadata": {}
        },
        {
          "output_type": "stream",
          "name": "stdout",
          "text": [
            "Epoch 0: avg_train_loss=2.0853281734466553, avg_train_accuracy=0.246425, avg_val_loss=1.9287664746023288, avg_val_accuracy=0.3301154458598726\n",
            "Epoch 1: avg_train_loss=1.9621783756256104, avg_train_accuracy=0.30075, avg_val_loss=1.8731529978430195, avg_val_accuracy=0.3484275477707006\n",
            "Epoch 2: avg_train_loss=1.9152925886154175, avg_train_accuracy=0.3188, avg_val_loss=1.848520743619105, avg_val_accuracy=0.3560907643312102\n",
            "Epoch 3: avg_train_loss=1.8908769289016725, avg_train_accuracy=0.33225, avg_val_loss=1.8285315553094172, avg_val_accuracy=0.3590764331210191\n",
            "Epoch 4: avg_train_loss=1.8762400741577148, avg_train_accuracy=0.3345, avg_val_loss=1.8147555635233594, avg_val_accuracy=0.36673964968152867\n",
            "Epoch 5: avg_train_loss=1.8599299215316774, avg_train_accuracy=0.3426, avg_val_loss=1.8087546514098052, avg_val_accuracy=0.3721138535031847\n",
            "Epoch 6: avg_train_loss=1.8514777139663696, avg_train_accuracy=0.344325, avg_val_loss=1.8026174451135526, avg_val_accuracy=0.37420382165605093\n",
            "Epoch 7: avg_train_loss=1.8442130556106568, avg_train_accuracy=0.348425, avg_val_loss=1.7970417145710842, avg_val_accuracy=0.37609474522292996\n",
            "Epoch 8: avg_train_loss=1.8398267522811889, avg_train_accuracy=0.3537, avg_val_loss=1.7928975562381138, avg_val_accuracy=0.375\n",
            "Epoch 9: avg_train_loss=1.834989102935791, avg_train_accuracy=0.354175, avg_val_loss=1.798417086054565, avg_val_accuracy=0.3752985668789809\n",
            "Epoch 10: avg_train_loss=1.8439216661453246, avg_train_accuracy=0.351125, avg_val_loss=1.8092953513382346, avg_val_accuracy=0.3740047770700637\n",
            "Epoch 11: avg_train_loss=1.8531974779129028, avg_train_accuracy=0.351425, avg_val_loss=1.8189523159318668, avg_val_accuracy=0.37062101910828027\n",
            "Epoch 12: avg_train_loss=1.860109182357788, avg_train_accuracy=0.34835, avg_val_loss=1.8331356526939733, avg_val_accuracy=0.36345541401273884\n",
            "No improvement in validation loss for 5 consecutive epochs. Stopping early.\n"
          ]
        },
        {
          "output_type": "display_data",
          "data": {
            "text/plain": [
              "<IPython.core.display.HTML object>"
            ],
            "text/html": [
              "Waiting for W&B process to finish... <strong style=\"color:green\">(success).</strong>"
            ]
          },
          "metadata": {}
        },
        {
          "output_type": "display_data",
          "data": {
            "text/plain": [
              "VBox(children=(Label(value='0.001 MB of 0.001 MB uploaded (0.000 MB deduped)\\r'), FloatProgress(value=1.0, max…"
            ],
            "application/vnd.jupyter.widget-view+json": {
              "version_major": 2,
              "version_minor": 0,
              "model_id": "3446bc9583984b7eb1c7c1e82acc881c"
            }
          },
          "metadata": {}
        },
        {
          "output_type": "display_data",
          "data": {
            "text/plain": [
              "<IPython.core.display.HTML object>"
            ],
            "text/html": [
              "<style>\n",
              "    table.wandb td:nth-child(1) { padding: 0 10px; text-align: left ; width: auto;} td:nth-child(2) {text-align: left ; width: 100%}\n",
              "    .wandb-row { display: flex; flex-direction: row; flex-wrap: wrap; justify-content: flex-start; width: 100% }\n",
              "    .wandb-col { display: flex; flex-direction: column; flex-basis: 100%; flex: 1; padding: 10px; }\n",
              "    </style>\n",
              "<div class=\"wandb-row\"><div class=\"wandb-col\"><h3>Run history:</h3><br/><table class=\"wandb\"><tr><td>batch_gradients_norm</td><td>█▇█▆▆▅▅▆▄▄▅▄▅▄▄▄▄▄▄▄▃▃▃▂▃▃▂▃▃▂▂▂▂▁▂▁▂▁▁▁</td></tr><tr><td>batch_idx</td><td>▁▁▁▂▂▂▂▂▂▃▃▃▃▃▄▄▄▄▄▄▅▅▅▅▅▅▆▆▆▆▆▇▇▇▇▇▇███</td></tr><tr><td>batch_size</td><td>▁▁▁▁▁▁▁▁▁▁▁▁▁▁</td></tr><tr><td>batch_training_loss</td><td>█▇█▃▃▄▃▆▄▄▅▄▅▅▄▄▄▃▅▃▃▃▃▂▂▂▁▃▃▂▂▄▅▂▃▄▄▄▄▃</td></tr><tr><td>epoch</td><td>▁▂▂▃▃▄▄▅▅▆▆▇▇█</td></tr><tr><td>epoch_training_accuracy</td><td>▁▅▆▇▇▇▇███████</td></tr><tr><td>epoch_training_loss</td><td>█▅▃▃▂▂▁▁▁▁▁▂▂▂</td></tr><tr><td>epoch_validation_accuracy</td><td>▁▄▅▅▇▇█████▇▆▇</td></tr><tr><td>epoch_validation_loss</td><td>█▅▄▃▂▂▂▁▁▁▂▂▃▃</td></tr><tr><td>learning_rate</td><td>██████████▁▁▁▁</td></tr><tr><td>model_norm</td><td>█▇▇▆▅▅▄▄▃▃▂▂▁▁</td></tr></table><br/></div><div class=\"wandb-col\"><h3>Run summary:</h3><br/><table class=\"wandb\"><tr><td>batch_gradients_norm</td><td>3.56556</td></tr><tr><td>batch_idx</td><td>8749</td></tr><tr><td>batch_size</td><td>64</td></tr><tr><td>batch_training_loss</td><td>2.07019</td></tr><tr><td>epoch</td><td>13</td></tr><tr><td>epoch_training_accuracy</td><td>0.34978</td></tr><tr><td>epoch_training_loss</td><td>1.86589</td></tr><tr><td>epoch_validation_accuracy</td><td>0.36793</td></tr><tr><td>epoch_validation_loss</td><td>1.83363</td></tr><tr><td>learning_rate</td><td>1e-05</td></tr><tr><td>model_norm</td><td>19.06988</td></tr><tr><td>optimizer</td><td>SGD_SAM</td></tr></table><br/></div></div>"
            ]
          },
          "metadata": {}
        },
        {
          "output_type": "display_data",
          "data": {
            "text/plain": [
              "<IPython.core.display.HTML object>"
            ],
            "text/html": [
              " View run <strong style=\"color:#cdcd00\">icy-sweep-18</strong> at: <a href='https://wandb.ai/marius-workspace/wandb-final9/runs/jtf3as10' target=\"_blank\">https://wandb.ai/marius-workspace/wandb-final9/runs/jtf3as10</a><br/>Synced 5 W&B file(s), 0 media file(s), 0 artifact file(s) and 0 other file(s)"
            ]
          },
          "metadata": {}
        },
        {
          "output_type": "display_data",
          "data": {
            "text/plain": [
              "<IPython.core.display.HTML object>"
            ],
            "text/html": [
              "Find logs at: <code>./wandb/run-20231106_065546-jtf3as10/logs</code>"
            ]
          },
          "metadata": {}
        },
        {
          "output_type": "stream",
          "name": "stderr",
          "text": [
            "\u001b[34m\u001b[1mwandb\u001b[0m: Sweep Agent: Waiting for job.\n",
            "\u001b[34m\u001b[1mwandb\u001b[0m: Job received.\n",
            "\u001b[34m\u001b[1mwandb\u001b[0m: Agent Starting Run: epke2rin with config:\n",
            "\u001b[34m\u001b[1mwandb\u001b[0m: \tbatch_size: 16\n",
            "\u001b[34m\u001b[1mwandb\u001b[0m: \tlearning_rate: 0.001\n",
            "\u001b[34m\u001b[1mwandb\u001b[0m: \tmomentum: 0.9\n",
            "\u001b[34m\u001b[1mwandb\u001b[0m: \toptimizer: adam\n",
            "\u001b[34m\u001b[1mwandb\u001b[0m: \tweight_decay: 0.01\n"
          ]
        },
        {
          "output_type": "display_data",
          "data": {
            "text/plain": [
              "<IPython.core.display.HTML object>"
            ],
            "text/html": [
              "Tracking run with wandb version 0.15.12"
            ]
          },
          "metadata": {}
        },
        {
          "output_type": "display_data",
          "data": {
            "text/plain": [
              "<IPython.core.display.HTML object>"
            ],
            "text/html": [
              "Run data is saved locally in <code>/content/wandb/run-20231106_071435-epke2rin</code>"
            ]
          },
          "metadata": {}
        },
        {
          "output_type": "display_data",
          "data": {
            "text/plain": [
              "<IPython.core.display.HTML object>"
            ],
            "text/html": [
              "Syncing run <strong><a href='https://wandb.ai/marius-workspace/wandb-final9/runs/epke2rin' target=\"_blank\">stellar-sweep-19</a></strong> to <a href='https://wandb.ai/marius-workspace/wandb-final9' target=\"_blank\">Weights & Biases</a> (<a href='https://wandb.me/run' target=\"_blank\">docs</a>)<br/>Sweep page: <a href='https://wandb.ai/marius-workspace/wandb-final9/sweeps/bygi5msd' target=\"_blank\">https://wandb.ai/marius-workspace/wandb-final9/sweeps/bygi5msd</a>"
            ]
          },
          "metadata": {}
        },
        {
          "output_type": "display_data",
          "data": {
            "text/plain": [
              "<IPython.core.display.HTML object>"
            ],
            "text/html": [
              " View project at <a href='https://wandb.ai/marius-workspace/wandb-final9' target=\"_blank\">https://wandb.ai/marius-workspace/wandb-final9</a>"
            ]
          },
          "metadata": {}
        },
        {
          "output_type": "display_data",
          "data": {
            "text/plain": [
              "<IPython.core.display.HTML object>"
            ],
            "text/html": [
              " View sweep at <a href='https://wandb.ai/marius-workspace/wandb-final9/sweeps/bygi5msd' target=\"_blank\">https://wandb.ai/marius-workspace/wandb-final9/sweeps/bygi5msd</a>"
            ]
          },
          "metadata": {}
        },
        {
          "output_type": "display_data",
          "data": {
            "text/plain": [
              "<IPython.core.display.HTML object>"
            ],
            "text/html": [
              " View run at <a href='https://wandb.ai/marius-workspace/wandb-final9/runs/epke2rin' target=\"_blank\">https://wandb.ai/marius-workspace/wandb-final9/runs/epke2rin</a>"
            ]
          },
          "metadata": {}
        },
        {
          "output_type": "stream",
          "name": "stdout",
          "text": [
            "Epoch 0: avg_train_loss=2.0906876187324523, avg_train_accuracy=0.2416, avg_val_loss=2.0440503578186036, avg_val_accuracy=0.267\n",
            "Epoch 1: avg_train_loss=2.0815526272773743, avg_train_accuracy=0.245275, avg_val_loss=2.0205244909286497, avg_val_accuracy=0.2731\n",
            "Epoch 2: avg_train_loss=2.0743685405731203, avg_train_accuracy=0.2481, avg_val_loss=2.0092275680541993, avg_val_accuracy=0.2876\n",
            "Epoch 3: avg_train_loss=2.068874038696289, avg_train_accuracy=0.245175, avg_val_loss=1.9913550842285157, avg_val_accuracy=0.2958\n",
            "Epoch 4: avg_train_loss=2.070186266040802, avg_train_accuracy=0.249025, avg_val_loss=1.9939391542434692, avg_val_accuracy=0.2932\n",
            "Epoch 5: avg_train_loss=2.0693383916378023, avg_train_accuracy=0.2501, avg_val_loss=1.9910883670806885, avg_val_accuracy=0.3\n",
            "Epoch 6: avg_train_loss=2.066299139070511, avg_train_accuracy=0.24755, avg_val_loss=1.9958801200866698, avg_val_accuracy=0.2919\n",
            "Epoch 7: avg_train_loss=2.0653687777996064, avg_train_accuracy=0.2525, avg_val_loss=1.9959843992233277, avg_val_accuracy=0.2917\n",
            "Epoch 8: avg_train_loss=2.0698518394470216, avg_train_accuracy=0.248275, avg_val_loss=2.014474988365173, avg_val_accuracy=0.2813\n",
            "Epoch 9: avg_train_loss=2.0726992564201354, avg_train_accuracy=0.247725, avg_val_loss=2.005754874229431, avg_val_accuracy=0.3019\n",
            "Epoch 10: avg_train_loss=2.027928538942337, avg_train_accuracy=0.268325, avg_val_loss=1.9385291801452638, avg_val_accuracy=0.3206\n"
          ]
        }
      ]
    }
  ]
}