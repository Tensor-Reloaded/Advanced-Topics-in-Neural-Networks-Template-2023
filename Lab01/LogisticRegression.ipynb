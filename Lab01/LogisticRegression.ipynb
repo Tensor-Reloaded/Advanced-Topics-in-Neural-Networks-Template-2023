{
  "nbformat": 4,
  "nbformat_minor": 0,
  "metadata": {
    "colab": {
      "provenance": [],
      "gpuType": "T4",
      "include_colab_link": true
    },
    "kernelspec": {
      "name": "python3",
      "display_name": "Python 3"
    },
    "language_info": {
      "name": "python"
    }
  },
  "cells": [
    {
      "cell_type": "markdown",
      "metadata": {
        "id": "view-in-github",
        "colab_type": "text"
      },
      "source": [
        "<a href=\"https://colab.research.google.com/github/Tensor-Reloaded/Advanced-Topics-in-Neural-Networks-Template-2023/blob/main/Lab1/LogisticRegression.ipynb\" target=\"_parent\"><img src=\"https://colab.research.google.com/assets/colab-badge.svg\" alt=\"Open In Colab\"/></a>"
      ]
    },
    {
      "cell_type": "markdown",
      "source": [
        "# Logistic Regression\n",
        "\n",
        "* A discriminative model that computes the conditional probability of class `y` given the input `x`: $P(y | x)$."
      ],
      "metadata": {
        "id": "ZXx7ZESPpasf"
      }
    },
    {
      "cell_type": "markdown",
      "source": [
        "## Binary Logistic Regression\n",
        "\n",
        "$x_i$ - a feature representation of the input $[x_1, x_2, \\dots, x_n]$.\n",
        "\n",
        "$w$ - a vector of weights used by Logistic Regression. Each weight is a real number associated with one of the input features $x_i$.\n",
        "\n",
        "$b$ - a bias term used by Logistic Regression.\n",
        "\n"
      ],
      "metadata": {
        "id": "1gpwEsB0pnIH"
      }
    },
    {
      "cell_type": "markdown",
      "source": [
        "### Logistic Regression decision\n",
        "\n",
        "$z = w \\cdot x + b$\n",
        "\n",
        "$y = \\sigma(z) = \\frac{1}{1 + exp(-z)}$\n",
        "\n",
        "$P(y = 1) = \\sigma(w \\cdot x + b)$\n",
        "\n",
        "$P(y = 0) = \\sigma(-(w \\cdot x + b))$\n",
        "\n",
        "![image.png](data:image/png;base64,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)\n",
        "***\n",
        "\n",
        "Exercise: prove $P(y = 0) = \\sigma(-(w \\cdot x + b))$."
      ],
      "metadata": {
        "id": "9XUYcK85sDs4"
      }
    },
    {
      "cell_type": "markdown",
      "source": [
        "### Logistic Regression training and update rule\n",
        "\n",
        "$L_{CE} (y\\_pred, y\\_true) = -[ y\\_true \\cdot \\log ( y\\_pred ) + (1 - y\\_true) \\log (1 - y\\_pred)]$\n",
        "\n",
        "$\\Delta_w = \\frac{\\delta L_{CE}  (y\\_pred, y\\_true)}{\\delta w}$\n",
        "\n",
        "$\\Delta_b = \\frac{\\delta L_{CE}  (y\\_pred, y\\_true)}{\\delta b}$\n",
        "\n",
        "$w' = w - \\eta \\cdot \\Delta_w$\n",
        "\n",
        "$b' = b = \\eta \\cdot \\Delta_b$"
      ],
      "metadata": {
        "id": "5jrBk-Ab-sNr"
      }
    },
    {
      "cell_type": "markdown",
      "source": [
        "### Example\n",
        "\n",
        "Input:\n",
        "x = [1, 3, 0]\n",
        "\n",
        "Real label:\n",
        "y_true = 1\n",
        "\n",
        "\n",
        "Weights:\n",
        "w = [-0.6, -0.5, 2]\n",
        "\n",
        "Bias:\n",
        "b = 0.1\n",
        "\n",
        "Learning rate:\n",
        "$\\eta = 0.2$\n",
        "\n",
        "***\n",
        "\n",
        "$L_{CE} (y\\_pred, y\\_true) = -[ y\\_true \\cdot \\log ( y\\_pred ) + (1 - y\\_true) \\log (1 - y\\_pred)]$\n",
        "\n",
        "$y\\_pred = \\sigma(w \\cdot x + b) = \\sigma(-0.6 \\cdot 1 -0.5 \\cdot 3 + 2 \\cdot 0) = \\sigma( -2) = 0.12$\n",
        "\n",
        "<!-- $L_{CE} (y\\_pred, y\\_true) = - 1 \\cdot \\log ( \\sigma( -2) ) = -2.1269$ -->\n",
        "\n",
        "1. Prove that\n",
        "$\\Delta_b = y\\_pred - y\\_true = -0.88$\n",
        "\n",
        "2. Prove that\n",
        "$\\Delta_w = [y\\_pred - y\\_true] \\cdot x^T = [-0.88, -2.64, 0]$\n",
        "\n",
        "$w' = w - \\eta \\cdot \\Delta_w = [-0.6, -0.5, 2] + 0.2 \\cdot [-0.88, -2.64, 0] = [-0.42, 0.028, 2]$\n",
        "\n",
        "$b' = b = \\eta \\cdot \\Delta_b = 0.1 + 0.2 \\cdot 0.88 = 0.26$\n",
        "\n",
        "\n",
        "<!-- $\\frac{\\delta L_{CE}  (y\\_pred, y\\_true)}{\\delta w_j} = [\\sigma(w \\cdot x + b) - y\\_true] \\cdot x_j$ -->"
      ],
      "metadata": {
        "id": "2yVDeWTX-of8"
      }
    },
    {
      "cell_type": "code",
      "source": [
        "from sklearn.metrics import accuracy_score\n",
        "from typing import Tuple"
      ],
      "metadata": {
        "id": "wHcojCRH3q7y"
      },
      "execution_count": null,
      "outputs": []
    },
    {
      "cell_type": "code",
      "source": [
        "from numpy import ndarray\n",
        "import numpy as np\n",
        "\n",
        "\n",
        "accuracies = []\n",
        "\n",
        "\n",
        "def sigmoid(x: ndarray) -> ndarray:\n",
        "    \"\"\"\n",
        "    :param x: The batched input; ndarray of size [B, N], where B is the batch dimension and N is the number of features.\n",
        "    \"\"\"\n",
        "    return 1 / (1 + np.exp(-x))\n",
        "\n",
        "\n",
        "def criterion(y_pred: ndarray, y_true: ndarray) -> ndarray:\n",
        "    \"\"\"\n",
        "    :param y_pred: The batched predicted labels; ndarray of size [B].\n",
        "    :param y_true: The batched true labels; ndarray of size [B].\n",
        "    \"\"\"\n",
        "    part_1 = y_true * np.clip(np.log(y_pred), 1e-12, None)\n",
        "    part_2 = (1 - y_true) * np.log(np.clip(1 - y_pred, 1e-12, None))  # The clipping is done because log(0) is -inf.\n",
        "    return -(part_1 + part_2).mean()\n",
        "\n",
        "def compute_gradients(x: ndarray, y_pred: ndarray, y_true: ndarray) -> Tuple[ndarray, ndarray]:\n",
        "    \"\"\"\n",
        "    :param x: The batched input; ndarray of size [B, N], where B is the batch dimension and N is the number of features.\n",
        "    :param y_pred: The batched predicted labels; ndarray of size [B].\n",
        "    :param y_true: The batched true labels; ndarray of size [B].\n",
        "    \"\"\"\n",
        "    differece = y_pred - y_true\n",
        "    gradient_b = differece.mean()\n",
        "    gradients_w = (x.T @ differece).mean(dim=1)\n",
        "    return gradients_w, gradient_b\n",
        "\n",
        "\n",
        "def train(x: ndarray, w: ndarray, b: float, true_labels: ndarray, learning_rate: float = 0.1):\n",
        "    \"\"\"\n",
        "    The training is applied on a whole batch at once, instead of training on each sample in the dataset separately.\n",
        "    Mini-batching and batched operations are widely used in machine learning and deep learning to improve the performance of algorithms.\n",
        "\n",
        "    :param x: The batched input; ndarray of size [B, N], where B is the batch dimension and N is the number of features.\n",
        "    :param w: The weights; ndarray of size [N], where N is the number of features.\n",
        "    :param b: The bias.\n",
        "    :param true_labels: The batched true labels; ndarray of size [B].\n",
        "    :learning_rate: The learning rate.\n",
        "    \"\"\"\n",
        "    z = w @ x.T + b\n",
        "    y = sigmoid(z)\n",
        "    loss = criterion(y, true_labels)\n",
        "    w_delta, b_delta = compute_gradients(x, y, true_labels)\n",
        "    w += learning_rate * w_delta\n",
        "    b += learning_rate * b_delta\n",
        "\n",
        "    real_class  = y.round().astype(int)\n",
        "    return accuracy_score(y, true_labels), loss"
      ],
      "metadata": {
        "id": "amo3S4323u0W"
      },
      "execution_count": null,
      "outputs": []
    },
    {
      "cell_type": "code",
      "source": [
        "from torch import Tensor\n",
        "import torch\n",
        "\n",
        "\n",
        "accuracies = []\n",
        "\n",
        "\n",
        "def sigmoid(x: Tensor) -> Tensor:\n",
        "    \"\"\"\n",
        "    :param x: The batched input; Tensor of size [B, N], where B is the batch dimension and N is the number of features.\n",
        "    \"\"\"\n",
        "    return 1 / (1 + torch.exp(-x))\n",
        "\n",
        "\n",
        "def criterion(y_pred: Tensor, y_true: Tensor) -> Tensor:\n",
        "    \"\"\"\n",
        "    :param y_pred: The batched predicted labels; Tensor of size [B].\n",
        "    :param y_true: The batched true labels; Tensor of size [B].\n",
        "    \"\"\"\n",
        "    part_1 = y_true * torch.clip(torch.log(y_pred), 1e-12, None)\n",
        "    part_2 = (1 - y_true) * torch.log(torch.clip(1 - y_pred, 1e-12, None))  # The clipping is done because log(0) is -inf.\n",
        "    return -(part_1 + part_2).mean()\n",
        "\n",
        "def compute_gradients(x: Tensor, y_pred: Tensor, y_true: Tensor) -> Tuple[Tensor, Tensor]:\n",
        "    \"\"\"\n",
        "    :param x: The batched input; Tensor of size [B, N], where B is the batch dimension and N is the number of features.\n",
        "    :param y_pred: The batched predicted labels; Tensor of size [B].\n",
        "    :param y_true: The batched true labels; Tensor of size [B].\n",
        "    \"\"\"\n",
        "    differece = y_pred - y_true\n",
        "    gradient_b = differece.mean()\n",
        "    gradients_w = (x.T @ differece).mean(axis=1)\n",
        "    return gradients_w, gradient_b\n",
        "\n",
        "\n",
        "def train(x: Tensor, w: Tensor, b: float, true_labels: Tensor, learning_rate: float = 0.1):\n",
        "    \"\"\"\n",
        "    The training is applied on a whole batch at once, instead of training on each sample in the dataset separately.\n",
        "    Mini-batching and batched operations are widely used in machine learning and deep learning to improve the performance of algorithms.\n",
        "\n",
        "    :param x: The batched input; Tensor of size [B, N], where B is the batch dimension and N is the number of features.\n",
        "    :param w: The weights; Tensor of size [N], where N is the number of features.\n",
        "    :param b: The bias.\n",
        "    :param true_labels: The batched true labels; Tensor of size [B].\n",
        "    :learning_rate: The learning rate.\n",
        "    \"\"\"\n",
        "    z = w @ x.T + b\n",
        "    y = sigmoid(z)\n",
        "    loss = criterion(y, true_labels)\n",
        "    w_delta, b_delta = compute_gradients(x, y, true_labels)\n",
        "    w -= learning_rate * w_delta\n",
        "    b -= learning_rate * b_delta\n",
        "\n",
        "    real_class  = y.round().int()\n",
        "    return accuracy_score(y, true_labels), loss"
      ],
      "metadata": {
        "id": "awR0xMunpmeX"
      },
      "execution_count": null,
      "outputs": []
    }
  ]
}